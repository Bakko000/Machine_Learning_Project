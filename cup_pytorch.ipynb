{
 "cells": [
  {
   "cell_type": "code",
   "execution_count": null,
   "metadata": {},
   "outputs": [],
   "source": [
    "import pandas as pd"
   ]
  },
  {
   "cell_type": "markdown",
   "metadata": {},
   "source": [
    "# Data Loading"
   ]
  },
  {
   "cell_type": "code",
   "execution_count": null,
   "metadata": {},
   "outputs": [],
   "source": [
    "from api.data_handler import DataHandler\n",
    "\n",
    "# Creation of a DataHandler Object\n",
    "data_handler = DataHandler(['id', 'col1', 'col2', 'col3', 'col4', 'col5', 'col6', 'col7', 'col8', 'col9', 'col10', 'target_x', 'target_y', 'target_z'])\n",
    "\n",
    "# Load the Training/Test sets into pandas DataFrames\n",
    "df_train : pd.DataFrame = data_handler.load_data(f'data/cup/ML-CUP23-TR.csv', delimiter=',')\n",
    "df_test  : pd.DataFrame = data_handler.load_data(f'data/cup/ML-CUP23-TS.csv', delimiter=',')\n",
    "\n",
    "# Print the head of the loaded data\n",
    "print(df_train.head())\n",
    "print(df_test.head())"
   ]
  },
  {
   "cell_type": "markdown",
   "metadata": {},
   "source": [
    "# Data Split"
   ]
  },
  {
   "cell_type": "code",
   "execution_count": null,
   "metadata": {},
   "outputs": [],
   "source": [
    "# Saving the ID columns\n",
    "df_id_train: pd.DataFrame = df_train['id']\n",
    "df_id_test: pd.DataFrame = df_test['id']\n",
    "\n",
    "# Drop the ID columns\n",
    "df_train = df_train.drop(columns=['id'],axis=1).copy(deep=True)\n",
    "df_test = df_test.drop(columns=['id'],axis=1).copy(deep=True)\n",
    "\n",
    "# Split of columns and rows (0.8/0.2) into: TR set and Internal TS set\n",
    "x_train, y_train, x_internal_test, y_internal_test = data_handler.split_data(\n",
    "    data=df_train,\n",
    "    cols_name_split=['target_x','target_y','target_z'],\n",
    "    rows_split_perc=0.8\n",
    ")\n",
    "\n",
    "# Split on columns\n",
    "x_test, y_test = data_handler.split_data(data=df_test, cols_name_split=['target_x','target_y','target_z'])\n",
    "\n",
    "# Print of the shapes\n",
    "print(f\"[IDs TR SET]: \" + str(df_id_train.shape))\n",
    "print(f\"[IDs TS SET]: \" + str(df_id_test.shape))\n",
    "print(f\"[TR SET - x]: \" + str(x_train.shape))\n",
    "print(f\"[TR SET - y]: \" + str(y_train.shape))\n",
    "print(f\"[Internal TS SET - x]: \" + str(x_internal_test.shape))\n",
    "print(f\"[Internal TS SET - y]: \" + str(y_internal_test.shape))\n",
    "print(f\"[TS SET - x]: \" + str(x_test.shape))\n",
    "print(f\"[TS SET - y]: \" + str(y_test.shape))"
   ]
  },
  {
   "cell_type": "markdown",
   "metadata": {},
   "source": [
    "# Grid Search parameters"
   ]
  },
  {
   "cell_type": "code",
   "execution_count": null,
   "metadata": {},
   "outputs": [],
   "source": [
    "# Parameters' space for Grid Search\n",
    "param_space = { # CUP 0.49\n",
    "    'input_size': [10],\n",
    "    'hidden_size': [100, 80],\n",
    "    'output_size': [3],\n",
    "    'hidden_layers': [4],\n",
    "    'hidden_activation': ['Tanh'],\n",
    "    'output_activation': [''],\n",
    "    'tolerance': [0.02],\n",
    "    'learning_rate': [0.00345, 0.0032],\n",
    "    'batch_size': [64],\n",
    "    'momentum': [0.8],\n",
    "    'weight_init': [\"glorot_normal\"],\n",
    "    'seed_init': [19],\n",
    "    'epochs': [700],\n",
    "    'weight_decay': [0.0001],\n",
    "    'optimizer': ['SGD'],\n",
    "    'nesterov': [True],\n",
    "    'metrics': ['MEE']\n",
    "}"
   ]
  },
  {
   "cell_type": "markdown",
   "metadata": {},
   "source": [
    "# Model Selection"
   ]
  },
  {
   "cell_type": "markdown",
   "metadata": {},
   "source": [
    "## Best Hyperparameters Research"
   ]
  },
  {
   "cell_type": "code",
   "execution_count": null,
   "metadata": {},
   "outputs": [],
   "source": [
    "from sklearn.model_selection import KFold\n",
    "from api.pytorch.nn import NN\n",
    "\n",
    "# Creation of a BinaryNN objct for each dataset\n",
    "nn: NN = None\n",
    "\n",
    "# Different values per dataset\n",
    "trials = 1\n",
    "k = 5\n",
    "\n",
    "# Search of the best Hyperparameters\n",
    "X = x_train.values.astype(dtype=float)\n",
    "y = y_train.values.astype(dtype=float)\n",
    "\n",
    "# K-fold Cross-validation\n",
    "kfold = KFold(n_splits=k, shuffle=True, random_state=42)\n",
    "\n",
    "# Sets all the combinations of the entire set of parameters\n",
    "data_handler.set_params_combinations(params=param_space)\n",
    "\n",
    "# Gets the list with the combinations of all the parameters\n",
    "params_combinations = data_handler.get_params_combinations()\n",
    "\n",
    "# For each iteration we choose the hyperparameters (randomly) and we use them with K-fold CV\n",
    "for trial, params in enumerate(params_combinations):\n",
    "#for trial in range(trials):\n",
    "\n",
    "    # Choose random hyperparameters\n",
    "    #params = data_handler.random_dictionary(params=param_space)\n",
    "\n",
    "    # Creation of the Neural Network object\n",
    "    #nn_i = NN(params=params, current_trial=trial+1, trials=trials)\n",
    "    nn_i = NN(params=params, current_trial=trial+1, trials=len(params_combinations))\n",
    "                    \n",
    "    # For each K-fold returns the indexes of the data splitted in: <X_train,y_train> and <X_val,y_val>\n",
    "    for train_index, val_index in kfold.split(X, y):\n",
    "        x_kfold_train, x_kfold_val = X[train_index], X[val_index]\n",
    "        y_kfold_train, y_kfold_val = y[train_index], y[val_index]\n",
    "\n",
    "        nn_i.fit(\n",
    "            x_train=x_kfold_train,\n",
    "            y_train=y_kfold_train,\n",
    "            x_val=x_kfold_val,\n",
    "            y_val=y_kfold_val\n",
    "        )\n",
    "\n",
    "    # Case of first assignment\n",
    "    if nn is None:\n",
    "        nn = nn_i\n",
    "    \n",
    "    # Print the results of this trial\n",
    "    print(\"\\n------------------ Current Hyperparameters ------------------\")\n",
    "    nn_i.print_training_info()\n",
    "    print(\"------------------ CUP Best Hyperparameters -----------------\")\n",
    "    nn.print_training_info()\n",
    "    print(\"\\n\\n\")\n",
    "\n",
    "    # Case of better model found\n",
    "    if nn_i.is_better_model_than(model=nn):\n",
    "        nn = nn_i\n",
    "\n",
    "# Print output\n",
    "print(\"### Best Hyperparameters for CUP ###\")\n",
    "nn.print_training_info()\n",
    "print(\"\\n\\n\")\n"
   ]
  },
  {
   "cell_type": "markdown",
   "metadata": {},
   "source": [
    "## Retraining Phase"
   ]
  },
  {
   "cell_type": "code",
   "execution_count": null,
   "metadata": {},
   "outputs": [],
   "source": [
    "import matplotlib.pyplot as plt\n",
    "\n",
    "def print_acc_plot(history):\n",
    "    '''\n",
    "        Prints the plot based on the accuracy of the trained model.\n",
    "    '''\n",
    "    plt.figure()\n",
    "    plt.plot(history['tr_metric'], label='Training MEE')\n",
    "    plt.plot(history['vl_metric'], label='Validation MEE', linestyle='--')\n",
    "    plt.title('Learning Curve')\n",
    "    plt.xlabel('Epoch')\n",
    "    plt.ylabel('MEE')\n",
    "    plt.legend()\n",
    "\n",
    "# Training the model\n",
    "nn.fit(\n",
    "    x_train=x_train.values,\n",
    "    y_train=y_train.values\n",
    ")\n",
    "\n",
    "# Print values\n",
    "print(f\"\\n### Retraining for CUP ###\")\n",
    "nn.print_training_info()\n",
    "nn.print_loss_plot()\n",
    "nn.print_acc_plot()"
   ]
  },
  {
   "cell_type": "markdown",
   "metadata": {},
   "source": [
    "# Internal Testing Phase"
   ]
  },
  {
   "cell_type": "code",
   "execution_count": null,
   "metadata": {},
   "outputs": [],
   "source": [
    "\n",
    "X = x_internal_test.values\n",
    "y = y_internal_test.values\n",
    "\n",
    "# Evaluate the Model on TS set\n",
    "nn.test(\n",
    "    x_test=X,\n",
    "    y_test=y\n",
    ")\n",
    "\n",
    "# Prints the results obtained\n",
    "print(nn)"
   ]
  },
  {
   "cell_type": "markdown",
   "metadata": {},
   "source": [
    "# Predictions' Phase"
   ]
  },
  {
   "cell_type": "code",
   "execution_count": null,
   "metadata": {},
   "outputs": [],
   "source": [
    "# Predictions\n",
    "predictions = nn.predict(x_test=x_test.values)\n",
    "\n",
    "# Write predictions into file .CSV\n",
    "data_handler.write_data(\n",
    "    filename='EmmElle_ML-CUP23-TS.csv',\n",
    "    id_list=df_id_test.values.tolist(),\n",
    "    data=predictions,\n",
    "    cols_name=['id', 'output_x', 'output_y', 'output_z']\n",
    ")\n",
    "\n",
    "predictions"
   ]
  }
 ],
 "metadata": {
  "kernelspec": {
   "display_name": "Python 3 (ipykernel)",
   "language": "python",
   "name": "python3"
  },
  "language_info": {
   "codemirror_mode": {
    "name": "ipython",
    "version": 3
   },
   "file_extension": ".py",
   "mimetype": "text/x-python",
   "name": "python",
   "nbconvert_exporter": "python",
   "pygments_lexer": "ipython3",
   "version": "3.10.13"
  },
  "orig_nbformat": 4
 },
 "nbformat": 4,
 "nbformat_minor": 2
}
