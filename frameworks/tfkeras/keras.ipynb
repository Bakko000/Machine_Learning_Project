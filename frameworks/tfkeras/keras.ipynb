{
 "cells": [
  {
   "cell_type": "code",
   "execution_count": 3,
   "metadata": {},
   "outputs": [],
   "source": [
    "import tensorflow as tf\n",
    "import numpy as np\n",
    "import keras\n",
    "import os"
   ]
  },
  {
   "cell_type": "code",
   "execution_count": 4,
   "metadata": {},
   "outputs": [
    {
     "ename": "NameError",
     "evalue": "name 'os' is not defined",
     "output_type": "error",
     "traceback": [
      "\u001b[0;31m---------------------------------------------------------------------------\u001b[0m",
      "\u001b[0;31mNameError\u001b[0m                                 Traceback (most recent call last)",
      "Cell \u001b[0;32mIn[4], line 1\u001b[0m\n\u001b[0;32m----> 1\u001b[0m monks1_train_path \u001b[39m=\u001b[39m os\u001b[39m.\u001b[39mgetcwd() \u001b[39m+\u001b[39m \u001b[39m'\u001b[39m\u001b[39m../../data/monks/monks-1.train\u001b[39m\u001b[39m'\u001b[39m\n\u001b[1;32m      2\u001b[0m data \u001b[39m=\u001b[39m np\u001b[39m.\u001b[39mloadtxt(monks1_train_path, usecols\u001b[39m=\u001b[39m\u001b[39mrange\u001b[39m(\u001b[39m8\u001b[39m))\n\u001b[1;32m      3\u001b[0m data\n",
      "\u001b[0;31mNameError\u001b[0m: name 'os' is not defined"
     ]
    }
   ],
   "source": [
    "monks1_train_path = os.getcwd() + '../../data/monks/monks-1.train'\n",
    "data = np.loadtxt(monks1_train_path, usecols=range(8))\n",
    "data"
   ]
  }
 ],
 "metadata": {
  "kernelspec": {
   "display_name": "Python 3 (ipykernel)",
   "language": "python",
   "name": "python3"
  },
  "language_info": {
   "codemirror_mode": {
    "name": "ipython",
    "version": 3
   },
   "file_extension": ".py",
   "mimetype": "text/x-python",
   "name": "python",
   "nbconvert_exporter": "python",
   "pygments_lexer": "ipython3",
   "version": "3.11.5"
  }
 },
 "nbformat": 4,
 "nbformat_minor": 2
}
