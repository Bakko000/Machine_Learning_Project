{
 "cells": [
  {
   "cell_type": "code",
   "execution_count": 48,
   "metadata": {},
   "outputs": [],
   "source": [
    "import pandas as pd"
   ]
  },
  {
   "cell_type": "markdown",
   "metadata": {},
   "source": [
    "# Data Loading"
   ]
  },
  {
   "cell_type": "code",
   "execution_count": 49,
   "metadata": {},
   "outputs": [
    {
     "name": "stdout",
     "output_type": "stream",
     "text": [
      "   id      col1      col2      col3      col4      col5      col6      col7  \\\n",
      "0   1 -0.917280 -0.712727 -0.989904  0.992819  0.993649  0.995543  0.711074   \n",
      "1   2 -0.858784  0.998755 -0.998396  0.999909  0.316503 -0.951897 -0.163139   \n",
      "2   3 -0.990441  0.958726 -0.998675  0.997216  0.987166  0.356483 -0.279689   \n",
      "3   4  0.937117  0.984474 -0.612420  0.999812  0.728623 -0.539962 -0.165939   \n",
      "4   5 -0.906628 -0.884567 -0.932487  0.941037  0.978134  0.998179  0.749606   \n",
      "\n",
      "       col8      col9     col10   target_x   target_y   target_z  \n",
      "0  0.407645 -0.688548  0.616890   7.897453 -35.936382  21.077147  \n",
      "1  0.980982  0.661759 -0.800155  -9.330632  19.901571   6.069154  \n",
      "2  0.599163 -0.684630  0.922901  14.849400   3.374090  19.667479  \n",
      "3  0.999352 -0.921444 -0.974766 -46.591854  13.734777  17.953600  \n",
      "4 -0.590599 -0.508268  0.691798   8.217500 -45.885254  14.894251  \n",
      "   id      col1      col2      col3      col4      col5      col6      col7  \\\n",
      "0   1 -0.983589  0.989514 -0.998539  0.999440  0.970297 -0.234119 -0.133332   \n",
      "1   2 -0.296891 -0.831832 -0.967981  0.986235  0.998669  0.997767 -0.340468   \n",
      "2   3 -0.986512  0.979557 -0.998547  0.999430  0.985407  0.166472  0.035096   \n",
      "3   4 -0.594083  0.986703 -0.992113  0.999881  0.982517  0.187048 -0.135851   \n",
      "4   5  0.940018  0.934761 -0.159506  0.999147  0.846696  0.413116 -0.628644   \n",
      "\n",
      "       col8      col9     col10  target_x  target_y  target_z  \n",
      "0  0.899576 -0.605156  0.656074       NaN       NaN       NaN  \n",
      "1  0.817937 -0.968516  0.699273       NaN       NaN       NaN  \n",
      "2  0.877812 -0.698500  0.667267       NaN       NaN       NaN  \n",
      "3  0.995478 -0.801041 -0.864406       NaN       NaN       NaN  \n",
      "4  0.998797 -0.967884 -0.949134       NaN       NaN       NaN  \n"
     ]
    }
   ],
   "source": [
    "from api.data_handler import DataHandler\n",
    "\n",
    "# Creation of a DataHandler Object\n",
    "data_handler = DataHandler(['id', 'col1', 'col2', 'col3', 'col4', 'col5', 'col6', 'col7', 'col8', 'col9', 'col10', 'target_x', 'target_y', 'target_z'])\n",
    "\n",
    "# Load the Training/Test sets into pandas DataFrames\n",
    "df_train : pd.DataFrame = data_handler.load_data(f'data/cup/ML-CUP23-TR.csv', delimiter=',')\n",
    "df_test  : pd.DataFrame = data_handler.load_data(f'data/cup/ML-CUP23-TS.csv', delimiter=',')\n",
    "\n",
    "# Print the head of the loaded data\n",
    "print(df_train.head())\n",
    "print(df_test.head())"
   ]
  },
  {
   "cell_type": "code",
   "execution_count": 50,
   "metadata": {},
   "outputs": [],
   "source": [
    "# Searching for NaN values\n",
    "for i, row in df_train.iterrows():\n",
    "    bool_list = row.isna()\n",
    "    if True in bool_list:\n",
    "        print(\"NaN found in row: {row}\")"
   ]
  },
  {
   "cell_type": "markdown",
   "metadata": {},
   "source": [
    "# Data Split"
   ]
  },
  {
   "cell_type": "code",
   "execution_count": 51,
   "metadata": {},
   "outputs": [
    {
     "name": "stdout",
     "output_type": "stream",
     "text": [
      "[IDs TR SET]: (1000,)\n",
      "[IDs TS SET]: (900,)\n",
      "[TR SET - x]: (800, 10)\n",
      "[TR SET - y]: (800, 3)\n",
      "[Internal TS SET - x]: (200, 10)\n",
      "[Internal TS SET - y]: (200, 3)\n",
      "[TS SET - x]: (900, 10)\n",
      "[TS SET - y]: (900, 3)\n"
     ]
    },
    {
     "name": "stderr",
     "output_type": "stream",
     "text": [
      "/Users/gianlucapanzani/anaconda3/envs/ML/lib/python3.10/site-packages/numpy/core/fromnumeric.py:59: FutureWarning: 'DataFrame.swapaxes' is deprecated and will be removed in a future version. Please use 'DataFrame.transpose' instead.\n",
      "  return bound(*args, **kwds)\n"
     ]
    }
   ],
   "source": [
    "# Saving the ID columns\n",
    "df_id_train: pd.DataFrame = df_train['id']\n",
    "df_id_test: pd.DataFrame = df_test['id']\n",
    "\n",
    "# Drop the ID columns\n",
    "df_train = df_train.drop(columns=['id'],axis=1).copy(deep=True)\n",
    "df_test = df_test.drop(columns=['id'],axis=1).copy(deep=True)\n",
    "\n",
    "# Split of columns and rows (0.8/0.2) into: TR set and Internal TS set\n",
    "x_train, y_train, x_internal_test, y_internal_test = data_handler.split_data(\n",
    "    data=df_train,\n",
    "    cols_name_split=['target_x','target_y','target_z'],\n",
    "    rows_split_perc=0.8\n",
    ")\n",
    "\n",
    "# Split on columns\n",
    "x_test, y_test = data_handler.split_data(data=df_test, cols_name_split=['target_x','target_y','target_z'])\n",
    "\n",
    "# Print of the shapes\n",
    "print(f\"[IDs TR SET]: \" + str(df_id_train.shape))\n",
    "print(f\"[IDs TS SET]: \" + str(df_id_test.shape))\n",
    "print(f\"[TR SET - x]: \" + str(x_train.shape))\n",
    "print(f\"[TR SET - y]: \" + str(y_train.shape))\n",
    "print(f\"[Internal TS SET - x]: \" + str(x_internal_test.shape))\n",
    "print(f\"[Internal TS SET - y]: \" + str(y_internal_test.shape))\n",
    "print(f\"[TS SET - x]: \" + str(x_test.shape))\n",
    "print(f\"[TS SET - y]: \" + str(y_test.shape))"
   ]
  },
  {
   "cell_type": "markdown",
   "metadata": {},
   "source": [
    "# Grid Search parameters"
   ]
  },
  {
   "cell_type": "code",
   "execution_count": 52,
   "metadata": {},
   "outputs": [
    {
     "data": {
      "text/plain": [
       "'param_space = {\\n    \\'input_size\\': [10],\\n    \\'hidden_size\\': [60, 80, 100],\\n    \\'output_size\\': [3],\\n    \\'hidden_layers\\': [2, 3],\\n    \\'input_activation\\': [\\'ReLU\\'],\\n    \\'hidden_activation\\': [\\'ReLU\\', \\'Tanh\\'],\\n    \\'output_activation\\': [\\'Linear\\'],\\n    \\'tolerance\\': [0.02],\\n    \\'learning_rate\\': [float(i/1000) for i in range(7,9)] + [0.01],\\n    \\'batch_size\\': [32, 64, 128],\\n    \\'momentum\\': [0.9, 0.8, 0.7],\\n    \\'weight_init\\': [\"glorot_normal\", \"he_normal\"], #[\"glorot_uniform\", \"glorot_normal\", \"he_uniform\", \"he_normal\"],\\n    \\'epochs\\': [600, 700, 800],\\n    \\'weight_decay\\': [float(i/10000) for i in range(1,5)] + [0.001],\\n    \\'optimizer\\': [\\'SGD\\'],\\n    \\'nesterov\\': [True, False],\\n    \\'metrics\\': [\\'MEE\\'],\\n    \\'decimal_cypher_degree\\': [1]\\n}'"
      ]
     },
     "execution_count": 52,
     "metadata": {},
     "output_type": "execute_result"
    }
   ],
   "source": [
    "# Parameters' space for Grid Search\n",
    "param_space = {\n",
    "    'input_size': [10],\n",
    "    'hidden_size': [80, 100],\n",
    "    'output_size': [3],\n",
    "    'hidden_layers': [3, 4],\n",
    "    'input_activation': [''],\n",
    "    'hidden_activation': ['Tanh'],\n",
    "    'output_activation': [''],\n",
    "    'tolerance': [0.02],\n",
    "    'learning_rate': [0.01, 0.005, 0.001], #[0.001, 0.0005, 0.0001],\n",
    "    'batch_size': [56, 64, 72],\n",
    "    'momentum': [0.8],\n",
    "    'weight_init': [\"glorot_normal\", \"he_normal\"], #[\"glorot_uniform\", \"glorot_normal\", \"he_uniform\", \"he_normal\"],\n",
    "    'epochs': [700],\n",
    "    'weight_decay': [0.0001],\n",
    "    'optimizer': ['SGD'],\n",
    "    'nesterov': [True],\n",
    "    'metrics': ['MEE'],\n",
    "    'decimal_cypher_degree': [1]\n",
    "}\n",
    "'''param_space = {\n",
    "    'input_size': [10],\n",
    "    'hidden_size': [60, 80, 100],\n",
    "    'output_size': [3],\n",
    "    'hidden_layers': [2, 3],\n",
    "    'input_activation': ['ReLU'],\n",
    "    'hidden_activation': ['ReLU', 'Tanh'],\n",
    "    'output_activation': ['Linear'],\n",
    "    'tolerance': [0.02],\n",
    "    'learning_rate': [float(i/1000) for i in range(7,9)] + [0.01],\n",
    "    'batch_size': [32, 64, 128],\n",
    "    'momentum': [0.9, 0.8, 0.7],\n",
    "    'weight_init': [\"glorot_normal\", \"he_normal\"], #[\"glorot_uniform\", \"glorot_normal\", \"he_uniform\", \"he_normal\"],\n",
    "    'epochs': [600, 700, 800],\n",
    "    'weight_decay': [float(i/10000) for i in range(1,5)] + [0.001],\n",
    "    'optimizer': ['SGD'],\n",
    "    'nesterov': [True, False],\n",
    "    'metrics': ['MEE'],\n",
    "    'decimal_cypher_degree': [1]\n",
    "}'''"
   ]
  },
  {
   "cell_type": "markdown",
   "metadata": {},
   "source": [
    "# Model Selection"
   ]
  },
  {
   "cell_type": "markdown",
   "metadata": {},
   "source": [
    "## Best Hyperparameters Research"
   ]
  },
  {
   "cell_type": "code",
   "execution_count": 53,
   "metadata": {},
   "outputs": [
    {
     "name": "stdout",
     "output_type": "stream",
     "text": [
      "\n",
      "------------------ Current Hyperparameters ------------------\n",
      " Trial:                    1/5\n",
      " Hyperparameters:          {'input_size': 10, 'hidden_size': 80, 'output_size': 3, 'hidden_layers': 2, 'input_activation': '', 'hidden_activation': 'Tanh', 'output_activation': '', 'tolerance': 0.02, 'learning_rate': 0.001, 'batch_size': 72, 'momentum': 0.8, 'weight_init': 'glorot_normal', 'epochs': 700, 'weight_decay': 0.0005, 'optimizer': 'SGD', 'nesterov': True, 'metrics': 'MEE', 'decimal_cypher_degree': 1}\n",
      " Mean Training Loss:       0.5917838494357847\n",
      " Mean Validation Loss:     0.7031970896013089\n",
      " Mean Training MEE:        0.47903270701142003\n",
      " Mean Validation MEE:      0.6340295869594504\n",
      "------------------ CUP Best Hyperparameters -----------------\n",
      " Trial:                    1/5\n",
      " Hyperparameters:          {'input_size': 10, 'hidden_size': 80, 'output_size': 3, 'hidden_layers': 2, 'input_activation': '', 'hidden_activation': 'Tanh', 'output_activation': '', 'tolerance': 0.02, 'learning_rate': 0.001, 'batch_size': 72, 'momentum': 0.8, 'weight_init': 'glorot_normal', 'epochs': 700, 'weight_decay': 0.0005, 'optimizer': 'SGD', 'nesterov': True, 'metrics': 'MEE', 'decimal_cypher_degree': 1}\n",
      " Mean Training Loss:       0.5917838494357847\n",
      " Mean Validation Loss:     0.7031970896013089\n",
      " Mean Training MEE:        0.47903270701142003\n",
      " Mean Validation MEE:      0.6340295869594504\n",
      "\n",
      "\n",
      "\n",
      "\n",
      "------------------ Current Hyperparameters ------------------\n",
      " Trial:                    2/5\n",
      " Hyperparameters:          {'input_size': 10, 'hidden_size': 80, 'output_size': 3, 'hidden_layers': 2, 'input_activation': '', 'hidden_activation': 'Tanh', 'output_activation': '', 'tolerance': 0.02, 'learning_rate': 0.005, 'batch_size': 56, 'momentum': 0.8, 'weight_init': 'glorot_normal', 'epochs': 700, 'weight_decay': 0.0001, 'optimizer': 'SGD', 'nesterov': True, 'metrics': 'MEE', 'decimal_cypher_degree': 1}\n",
      " Mean Training Loss:       0.16254849325122767\n",
      " Mean Validation Loss:     0.2227479144487356\n",
      " Mean Training MEE:        0.2633848478183843\n",
      " Mean Validation MEE:      0.44674153114074755\n",
      "------------------ CUP Best Hyperparameters -----------------\n",
      " Trial:                    1/5\n",
      " Hyperparameters:          {'input_size': 10, 'hidden_size': 80, 'output_size': 3, 'hidden_layers': 2, 'input_activation': '', 'hidden_activation': 'Tanh', 'output_activation': '', 'tolerance': 0.02, 'learning_rate': 0.001, 'batch_size': 72, 'momentum': 0.8, 'weight_init': 'glorot_normal', 'epochs': 700, 'weight_decay': 0.0005, 'optimizer': 'SGD', 'nesterov': True, 'metrics': 'MEE', 'decimal_cypher_degree': 1}\n",
      " Mean Training Loss:       0.5917838494357847\n",
      " Mean Validation Loss:     0.7031970896013089\n",
      " Mean Training MEE:        0.47903270701142003\n",
      " Mean Validation MEE:      0.6340295869594504\n",
      "\n",
      "\n",
      "\n"
     ]
    }
   ],
   "source": [
    "from sklearn.model_selection import KFold\n",
    "from api.pytorch.binary_nn import BinaryNN\n",
    "\n",
    "# Creation of a BinaryNN objct for each dataset\n",
    "nn: BinaryNN = None\n",
    "\n",
    "# Different values per dataset\n",
    "trials = 5\n",
    "k = 5\n",
    "\n",
    "# Search of the best Hyperparameters\n",
    "X = x_train.values.astype(dtype=float)\n",
    "y = y_train.values.astype(dtype=float)\n",
    "\n",
    "# K-fold Cross-validation\n",
    "kfold = KFold(n_splits=k, shuffle=True, random_state=42)\n",
    "\n",
    "# Sets all the combinations of the entire set of parameters\n",
    "#data_handler.set_params_combinations(params=param_space[dataset_i])\n",
    "\n",
    "# Gets the list with the combinations of all the parameters\n",
    "#params_combinations = data_handler.get_params_combinations()\n",
    "\n",
    "# For each iteration we choose the hyperparameters (randomly) and we use them with K-fold CV\n",
    "#for trial, params in enumerate(params_combinations):\n",
    "for trial in range(trials):\n",
    "\n",
    "    # Choose random hyperparameters\n",
    "    params = data_handler.random_dictionary(params=param_space)\n",
    "\n",
    "    # Creation of the Neural Network object\n",
    "    nn_i = BinaryNN(params=params, current_trial=trial+1, trials=trials)\n",
    "                    \n",
    "    # For each K-fold returns the indexes of the data splitted in: <X_train,y_train> and <X_val,y_val>\n",
    "    for train_index, val_index in kfold.split(X, y):\n",
    "        x_kfold_train, x_kfold_val = X[train_index], X[val_index]\n",
    "        y_kfold_train, y_kfold_val = y[train_index], y[val_index]\n",
    "\n",
    "        nn_i.fit(\n",
    "            x_train=x_kfold_train,\n",
    "            y_train=y_kfold_train,\n",
    "            x_val=x_kfold_val,\n",
    "            y_val=y_kfold_val\n",
    "        )\n",
    "\n",
    "    # Case of first assignment\n",
    "    if nn is None:\n",
    "        nn = nn_i\n",
    "    \n",
    "    # Print the results of this trial\n",
    "    print(\"\\n------------------ Current Hyperparameters ------------------\")\n",
    "    nn_i.print_training_info()\n",
    "    print(\"------------------ CUP Best Hyperparameters -----------------\")\n",
    "    nn.print_training_info()\n",
    "    #nn.print_regression_plot(X, y)\n",
    "    print(\"\\n\\n\")\n",
    "\n",
    "    # Case of better model found\n",
    "    if nn_i.is_better_model_than(model=nn):\n",
    "        nn = nn_i\n",
    "\n",
    "# Print output\n",
    "print(\"### Best Hyperparameters for CUP ###\")\n",
    "nn.print_training_info()\n",
    "nn.print_loss_plot()\n",
    "print(\"\\n\\n\")\n"
   ]
  },
  {
   "cell_type": "markdown",
   "metadata": {},
   "source": [
    "## Retraining Phase"
   ]
  },
  {
   "cell_type": "code",
   "execution_count": null,
   "metadata": {},
   "outputs": [
    {
     "name": "stdout",
     "output_type": "stream",
     "text": [
      "\n",
      "### Retraining for CUP ###\n",
      " Trial:                    4/5\n",
      " Hyperparameters:          {'input_size': 10, 'hidden_size': 120, 'output_size': 3, 'hidden_layers': 2, 'input_activation': '', 'hidden_activation': 'Tanh', 'output_activation': '', 'tolerance': 0.02, 'learning_rate': 0.001, 'batch_size': 56, 'momentum': 0.8, 'weight_init': 'he_normal', 'epochs': 900, 'weight_decay': 0.0001, 'optimizer': 'SGD', 'nesterov': True, 'metrics': 'MEE', 'decimal_cypher_degree': 1}\n",
      " Mean Training Loss:       0.18866228384302458\n",
      " Mean Validation Loss:     0.25408379187193486\n",
      " Mean Training MEE:        0.24227505380093342\n",
      " Mean Validation MEE:      0.42064490662239395\n"
     ]
    },
    {
     "data": {
      "image/png": "[encoded data removed]",
      "text/plain": [
       "<Figure size 640x480 with 1 Axes>"
      ]
     },
     "metadata": {},
     "output_type": "display_data"
    }
   ],
   "source": [
    "# Training the model\n",
    "nn.fit(\n",
    "    x_train=x_train.values,\n",
    "    y_train=y_train.values\n",
    ")\n",
    "\n",
    "# Print values\n",
    "print(f\"\\n### Retraining for CUP ###\")\n",
    "nn.print_training_info()\n",
    "nn.print_loss_plot()\n",
    "#nn.print_regression_plot(x=x_train.values, y=y_train.values)"
   ]
  },
  {
   "cell_type": "markdown",
   "metadata": {},
   "source": [
    "# Internal Testing Phase"
   ]
  },
  {
   "cell_type": "code",
   "execution_count": null,
   "metadata": {},
   "outputs": [
    {
     "name": "stdout",
     "output_type": "stream",
     "text": [
      " Trial:                    4\n",
      " Hyperparameters:          {'input_size': 10, 'hidden_size': 120, 'output_size': 3, 'hidden_layers': 2, 'input_activation': '', 'hidden_activation': 'Tanh', 'output_activation': '', 'tolerance': 0.02, 'learning_rate': 0.001, 'batch_size': 56, 'momentum': 0.8, 'weight_init': 'he_normal', 'epochs': 900, 'weight_decay': 0.0001, 'optimizer': 'SGD', 'nesterov': True, 'metrics': 'MEE', 'decimal_cypher_degree': 1}\n",
      " Mean Training Loss:       0.18866228384302458\n",
      " Mean Validation Loss:     0.25408379187193486\n",
      " Test Loss:                0.4118216559290886\n",
      " Mean Training MEE:        0.24227505380093342\n",
      " Mean Validation MEE:      0.42064490662239395\n",
      " Test MEE:                 0.6806261017918587\n",
      " f1 score:                 0\n",
      " f2 score:                 0\n",
      " Prediction score:         0\n",
      " Recall score:             0\n",
      "\n"
     ]
    }
   ],
   "source": [
    "\n",
    "X = x_internal_test.values\n",
    "y = y_internal_test.values\n",
    "\n",
    "# Evaluate the Model on TS set\n",
    "nn.test(\n",
    "    x_test=X,\n",
    "    y_test=y\n",
    ")\n",
    "\n",
    "# Prints the results obtained\n",
    "print(nn)\n",
    "\n"
   ]
  },
  {
   "cell_type": "markdown",
   "metadata": {},
   "source": [
    "# Predictions' Phase"
   ]
  },
  {
   "cell_type": "code",
   "execution_count": null,
   "metadata": {},
   "outputs": [
    {
     "name": "stdout",
     "output_type": "stream",
     "text": [
      "[tensor(32.2311, grad_fn=<SelectBackward0>), tensor(33.1019, grad_fn=<SelectBackward0>), tensor(32.2498, grad_fn=<SelectBackward0>), tensor(-1.2940, grad_fn=<SelectBackward0>), tensor(41.0679, grad_fn=<SelectBackward0>), tensor(-5.2129, grad_fn=<SelectBackward0>), tensor(21.4077, grad_fn=<SelectBackward0>), tensor(24.8179, grad_fn=<SelectBackward0>), tensor(31.4705, grad_fn=<SelectBackward0>), tensor(32.4951, grad_fn=<SelectBackward0>), tensor(18.2061, grad_fn=<SelectBackward0>), tensor(34.2094, grad_fn=<SelectBackward0>), tensor(4.1171, grad_fn=<SelectBackward0>), tensor(33.0397, grad_fn=<SelectBackward0>), tensor(26.9573, grad_fn=<SelectBackward0>), tensor(27.7315, grad_fn=<SelectBackward0>), tensor(-9.5071, grad_fn=<SelectBackward0>), tensor(31.5406, grad_fn=<SelectBackward0>), tensor(35.2219, grad_fn=<SelectBackward0>), tensor(30.8771, grad_fn=<SelectBackward0>), tensor(31.7500, grad_fn=<SelectBackward0>), tensor(31.3305, grad_fn=<SelectBackward0>), tensor(-24.0003, grad_fn=<SelectBackward0>), tensor(17.0638, grad_fn=<SelectBackward0>), tensor(26.6978, grad_fn=<SelectBackward0>), tensor(31.5584, grad_fn=<SelectBackward0>), tensor(1.6960, grad_fn=<SelectBackward0>), tensor(-23.9839, grad_fn=<SelectBackward0>), tensor(31.7897, grad_fn=<SelectBackward0>), tensor(24.7942, grad_fn=<SelectBackward0>), tensor(32.2913, grad_fn=<SelectBackward0>), tensor(-20.9550, grad_fn=<SelectBackward0>), tensor(-10.0139, grad_fn=<SelectBackward0>), tensor(6.5530, grad_fn=<SelectBackward0>), tensor(39.1407, grad_fn=<SelectBackward0>), tensor(38.7154, grad_fn=<SelectBackward0>), tensor(27.9670, grad_fn=<SelectBackward0>), tensor(20.0722, grad_fn=<SelectBackward0>), tensor(28.6455, grad_fn=<SelectBackward0>), tensor(22.0241, grad_fn=<SelectBackward0>), tensor(27.8203, grad_fn=<SelectBackward0>), tensor(31.6511, grad_fn=<SelectBackward0>), tensor(7.1911, grad_fn=<SelectBackward0>), tensor(23.6926, grad_fn=<SelectBackward0>), tensor(27.8398, grad_fn=<SelectBackward0>), tensor(8.1559, grad_fn=<SelectBackward0>), tensor(-4.9437, grad_fn=<SelectBackward0>), tensor(33.9752, grad_fn=<SelectBackward0>), tensor(30.9326, grad_fn=<SelectBackward0>), tensor(32.7136, grad_fn=<SelectBackward0>), tensor(5.1906, grad_fn=<SelectBackward0>), tensor(38.6214, grad_fn=<SelectBackward0>), tensor(-6.2125, grad_fn=<SelectBackward0>), tensor(29.0727, grad_fn=<SelectBackward0>), tensor(5.6121, grad_fn=<SelectBackward0>), tensor(29.4648, grad_fn=<SelectBackward0>), tensor(32.6083, grad_fn=<SelectBackward0>), tensor(36.3812, grad_fn=<SelectBackward0>), tensor(33.8324, grad_fn=<SelectBackward0>), tensor(37.4730, grad_fn=<SelectBackward0>), tensor(32.9117, grad_fn=<SelectBackward0>), tensor(8.4915, grad_fn=<SelectBackward0>), tensor(32.4015, grad_fn=<SelectBackward0>), tensor(-4.4472, grad_fn=<SelectBackward0>), tensor(8.7255, grad_fn=<SelectBackward0>), tensor(33.9232, grad_fn=<SelectBackward0>), tensor(31.7753, grad_fn=<SelectBackward0>), tensor(22.6488, grad_fn=<SelectBackward0>), tensor(38.2012, grad_fn=<SelectBackward0>), tensor(4.0449, grad_fn=<SelectBackward0>), tensor(27.7999, grad_fn=<SelectBackward0>), tensor(38.1250, grad_fn=<SelectBackward0>), tensor(-1.8572, grad_fn=<SelectBackward0>), tensor(12.7220, grad_fn=<SelectBackward0>), tensor(-3.5083, grad_fn=<SelectBackward0>), tensor(35.7787, grad_fn=<SelectBackward0>), tensor(40.1209, grad_fn=<SelectBackward0>), tensor(35.3421, grad_fn=<SelectBackward0>), tensor(33.8211, grad_fn=<SelectBackward0>), tensor(31.6800, grad_fn=<SelectBackward0>), tensor(-0.5530, grad_fn=<SelectBackward0>), tensor(30.4335, grad_fn=<SelectBackward0>), tensor(13.6511, grad_fn=<SelectBackward0>), tensor(31.9811, grad_fn=<SelectBackward0>), tensor(35.6562, grad_fn=<SelectBackward0>), tensor(-9.6125, grad_fn=<SelectBackward0>), tensor(30.4279, grad_fn=<SelectBackward0>), tensor(26.3584, grad_fn=<SelectBackward0>), tensor(32.9838, grad_fn=<SelectBackward0>), tensor(32.0379, grad_fn=<SelectBackward0>), tensor(30.2991, grad_fn=<SelectBackward0>), tensor(24.9581, grad_fn=<SelectBackward0>), tensor(9.2798, grad_fn=<SelectBackward0>), tensor(15.6598, grad_fn=<SelectBackward0>), tensor(23.2464, grad_fn=<SelectBackward0>), tensor(32.5340, grad_fn=<SelectBackward0>), tensor(33.6087, grad_fn=<SelectBackward0>), tensor(-11.1671, grad_fn=<SelectBackward0>), tensor(29.5849, grad_fn=<SelectBackward0>), tensor(39.2490, grad_fn=<SelectBackward0>), tensor(31.6977, grad_fn=<SelectBackward0>), tensor(32.0326, grad_fn=<SelectBackward0>), tensor(30.1740, grad_fn=<SelectBackward0>), tensor(16.8503, grad_fn=<SelectBackward0>), tensor(-23.5844, grad_fn=<SelectBackward0>), tensor(27.0731, grad_fn=<SelectBackward0>), tensor(-12.0883, grad_fn=<SelectBackward0>), tensor(33.7569, grad_fn=<SelectBackward0>), tensor(38.8404, grad_fn=<SelectBackward0>), tensor(28.4475, grad_fn=<SelectBackward0>), tensor(31.6432, grad_fn=<SelectBackward0>), tensor(21.9794, grad_fn=<SelectBackward0>), tensor(31.8422, grad_fn=<SelectBackward0>), tensor(23.3813, grad_fn=<SelectBackward0>), tensor(38.9774, grad_fn=<SelectBackward0>), tensor(41.4823, grad_fn=<SelectBackward0>), tensor(27.9259, grad_fn=<SelectBackward0>), tensor(-11.3070, grad_fn=<SelectBackward0>), tensor(-10.7659, grad_fn=<SelectBackward0>), tensor(-9.5854, grad_fn=<SelectBackward0>), tensor(28.6452, grad_fn=<SelectBackward0>), tensor(31.3638, grad_fn=<SelectBackward0>), tensor(29.9377, grad_fn=<SelectBackward0>), tensor(29.1659, grad_fn=<SelectBackward0>), tensor(31.1084, grad_fn=<SelectBackward0>), tensor(28.5656, grad_fn=<SelectBackward0>), tensor(32.0012, grad_fn=<SelectBackward0>), tensor(45.1445, grad_fn=<SelectBackward0>), tensor(14.1516, grad_fn=<SelectBackward0>), tensor(-11.3357, grad_fn=<SelectBackward0>), tensor(32.3380, grad_fn=<SelectBackward0>), tensor(31.0038, grad_fn=<SelectBackward0>), tensor(30.3775, grad_fn=<SelectBackward0>), tensor(31.2284, grad_fn=<SelectBackward0>), tensor(30.1709, grad_fn=<SelectBackward0>), tensor(-20.2814, grad_fn=<SelectBackward0>), tensor(27.8014, grad_fn=<SelectBackward0>), tensor(32.0877, grad_fn=<SelectBackward0>), tensor(17.1474, grad_fn=<SelectBackward0>), tensor(26.1596, grad_fn=<SelectBackward0>), tensor(-10.9558, grad_fn=<SelectBackward0>), tensor(-10.6628, grad_fn=<SelectBackward0>), tensor(-22.3998, grad_fn=<SelectBackward0>), tensor(-23.2824, grad_fn=<SelectBackward0>), tensor(27.8819, grad_fn=<SelectBackward0>), tensor(23.7523, grad_fn=<SelectBackward0>), tensor(40.7362, grad_fn=<SelectBackward0>), tensor(33.0459, grad_fn=<SelectBackward0>), tensor(33.9852, grad_fn=<SelectBackward0>), tensor(32.5433, grad_fn=<SelectBackward0>), tensor(-20.0897, grad_fn=<SelectBackward0>), tensor(34.4747, grad_fn=<SelectBackward0>), tensor(45.8383, grad_fn=<SelectBackward0>), tensor(40.0840, grad_fn=<SelectBackward0>), tensor(38.5695, grad_fn=<SelectBackward0>), tensor(28.1827, grad_fn=<SelectBackward0>), tensor(27.6617, grad_fn=<SelectBackward0>), tensor(37.6822, grad_fn=<SelectBackward0>), tensor(32.3243, grad_fn=<SelectBackward0>), tensor(41.2299, grad_fn=<SelectBackward0>), tensor(27.6438, grad_fn=<SelectBackward0>), tensor(-10.4068, grad_fn=<SelectBackward0>), tensor(32.1838, grad_fn=<SelectBackward0>), tensor(28.9269, grad_fn=<SelectBackward0>), tensor(41.4352, grad_fn=<SelectBackward0>), tensor(-4.0609, grad_fn=<SelectBackward0>), tensor(23.7441, grad_fn=<SelectBackward0>), tensor(40.1572, grad_fn=<SelectBackward0>), tensor(44.6695, grad_fn=<SelectBackward0>), tensor(32.6713, grad_fn=<SelectBackward0>), tensor(22.0668, grad_fn=<SelectBackward0>), tensor(10.7095, grad_fn=<SelectBackward0>), tensor(36.8436, grad_fn=<SelectBackward0>), tensor(34.4714, grad_fn=<SelectBackward0>), tensor(36.5103, grad_fn=<SelectBackward0>), tensor(33.5837, grad_fn=<SelectBackward0>), tensor(33.1442, grad_fn=<SelectBackward0>), tensor(7.2434, grad_fn=<SelectBackward0>), tensor(9.4226, grad_fn=<SelectBackward0>), tensor(33.9714, grad_fn=<SelectBackward0>), tensor(32.3327, grad_fn=<SelectBackward0>), tensor(28.0396, grad_fn=<SelectBackward0>), tensor(28.7781, grad_fn=<SelectBackward0>), tensor(26.2095, grad_fn=<SelectBackward0>), tensor(37.9475, grad_fn=<SelectBackward0>), tensor(32.4188, grad_fn=<SelectBackward0>), tensor(39.8740, grad_fn=<SelectBackward0>), tensor(-17.3917, grad_fn=<SelectBackward0>), tensor(8.4884, grad_fn=<SelectBackward0>), tensor(33.2968, grad_fn=<SelectBackward0>), tensor(35.3432, grad_fn=<SelectBackward0>), tensor(32.3113, grad_fn=<SelectBackward0>), tensor(36.0597, grad_fn=<SelectBackward0>), tensor(-3.3575, grad_fn=<SelectBackward0>), tensor(16.0120, grad_fn=<SelectBackward0>), tensor(24.5328, grad_fn=<SelectBackward0>), tensor(28.8853, grad_fn=<SelectBackward0>), tensor(40.3214, grad_fn=<SelectBackward0>), tensor(41.1918, grad_fn=<SelectBackward0>), tensor(31.5375, grad_fn=<SelectBackward0>), tensor(29.1929, grad_fn=<SelectBackward0>), tensor(26.8547, grad_fn=<SelectBackward0>), tensor(29.4971, grad_fn=<SelectBackward0>), tensor(26.8916, grad_fn=<SelectBackward0>), tensor(8.7432, grad_fn=<SelectBackward0>), tensor(30.4394, grad_fn=<SelectBackward0>), tensor(32.1955, grad_fn=<SelectBackward0>), tensor(36.1708, grad_fn=<SelectBackward0>), tensor(36.6039, grad_fn=<SelectBackward0>), tensor(32.0382, grad_fn=<SelectBackward0>), tensor(36.0260, grad_fn=<SelectBackward0>), tensor(32.3745, grad_fn=<SelectBackward0>), tensor(29.3369, grad_fn=<SelectBackward0>), tensor(32.5471, grad_fn=<SelectBackward0>), tensor(8.6175, grad_fn=<SelectBackward0>), tensor(34.0146, grad_fn=<SelectBackward0>), tensor(6.0947, grad_fn=<SelectBackward0>), tensor(29.1711, grad_fn=<SelectBackward0>), tensor(20.1535, grad_fn=<SelectBackward0>), tensor(-5.5925, grad_fn=<SelectBackward0>), tensor(32.8042, grad_fn=<SelectBackward0>), tensor(33.2695, grad_fn=<SelectBackward0>), tensor(31.6550, grad_fn=<SelectBackward0>), tensor(4.3502, grad_fn=<SelectBackward0>), tensor(-9.5074, grad_fn=<SelectBackward0>), tensor(33.6182, grad_fn=<SelectBackward0>), tensor(33.2464, grad_fn=<SelectBackward0>), tensor(37.1207, grad_fn=<SelectBackward0>), tensor(32.7715, grad_fn=<SelectBackward0>), tensor(42.0584, grad_fn=<SelectBackward0>), tensor(32.4369, grad_fn=<SelectBackward0>), tensor(35.2549, grad_fn=<SelectBackward0>), tensor(-6.7493, grad_fn=<SelectBackward0>), tensor(34.7813, grad_fn=<SelectBackward0>), tensor(37.3187, grad_fn=<SelectBackward0>), tensor(32.8414, grad_fn=<SelectBackward0>), tensor(-10.1474, grad_fn=<SelectBackward0>), tensor(18.2148, grad_fn=<SelectBackward0>), tensor(26.9170, grad_fn=<SelectBackward0>), tensor(29.3471, grad_fn=<SelectBackward0>), tensor(25.3909, grad_fn=<SelectBackward0>), tensor(33.3931, grad_fn=<SelectBackward0>), tensor(30.0773, grad_fn=<SelectBackward0>), tensor(35.1759, grad_fn=<SelectBackward0>), tensor(37.7946, grad_fn=<SelectBackward0>), tensor(34.7472, grad_fn=<SelectBackward0>), tensor(32.5913, grad_fn=<SelectBackward0>), tensor(18.8922, grad_fn=<SelectBackward0>), tensor(37.5047, grad_fn=<SelectBackward0>), tensor(-1.5550, grad_fn=<SelectBackward0>), tensor(25.8300, grad_fn=<SelectBackward0>), tensor(42.5115, grad_fn=<SelectBackward0>), tensor(31.1614, grad_fn=<SelectBackward0>), tensor(20.8824, grad_fn=<SelectBackward0>), tensor(-2.9002, grad_fn=<SelectBackward0>), tensor(33.7260, grad_fn=<SelectBackward0>), tensor(10.7996, grad_fn=<SelectBackward0>), tensor(-3.2769, grad_fn=<SelectBackward0>), tensor(34.5027, grad_fn=<SelectBackward0>), tensor(-20.5301, grad_fn=<SelectBackward0>), tensor(33.4775, grad_fn=<SelectBackward0>), tensor(17.2798, grad_fn=<SelectBackward0>), tensor(33.1316, grad_fn=<SelectBackward0>), tensor(34.6655, grad_fn=<SelectBackward0>), tensor(18.4696, grad_fn=<SelectBackward0>), tensor(33.0092, grad_fn=<SelectBackward0>), tensor(29.1944, grad_fn=<SelectBackward0>), tensor(45.0393, grad_fn=<SelectBackward0>), tensor(31.9113, grad_fn=<SelectBackward0>), tensor(21.5548, grad_fn=<SelectBackward0>), tensor(32.8258, grad_fn=<SelectBackward0>), tensor(42.3595, grad_fn=<SelectBackward0>), tensor(32.8833, grad_fn=<SelectBackward0>), tensor(-11.4851, grad_fn=<SelectBackward0>), tensor(33.0012, grad_fn=<SelectBackward0>), tensor(28.8267, grad_fn=<SelectBackward0>), tensor(28.2257, grad_fn=<SelectBackward0>), tensor(40.1008, grad_fn=<SelectBackward0>), tensor(40.5102, grad_fn=<SelectBackward0>), tensor(42.2404, grad_fn=<SelectBackward0>), tensor(30.6007, grad_fn=<SelectBackward0>), tensor(29.7445, grad_fn=<SelectBackward0>), tensor(38.0311, grad_fn=<SelectBackward0>), tensor(25.7849, grad_fn=<SelectBackward0>), tensor(38.1933, grad_fn=<SelectBackward0>), tensor(12.7004, grad_fn=<SelectBackward0>), tensor(33.8566, grad_fn=<SelectBackward0>), tensor(-5.7557, grad_fn=<SelectBackward0>), tensor(-1.1824, grad_fn=<SelectBackward0>), tensor(-17.8555, grad_fn=<SelectBackward0>), tensor(7.4125, grad_fn=<SelectBackward0>), tensor(17.4707, grad_fn=<SelectBackward0>), tensor(-33.1455, grad_fn=<SelectBackward0>), tensor(34.3627, grad_fn=<SelectBackward0>), tensor(38.2749, grad_fn=<SelectBackward0>), tensor(47.1205, grad_fn=<SelectBackward0>), tensor(-2.3191, grad_fn=<SelectBackward0>), tensor(33.7944, grad_fn=<SelectBackward0>), tensor(38.1827, grad_fn=<SelectBackward0>), tensor(-9.8609, grad_fn=<SelectBackward0>), tensor(38.4097, grad_fn=<SelectBackward0>), tensor(32.9732, grad_fn=<SelectBackward0>), tensor(30.7966, grad_fn=<SelectBackward0>), tensor(34.7084, grad_fn=<SelectBackward0>), tensor(41.4529, grad_fn=<SelectBackward0>), tensor(22.9929, grad_fn=<SelectBackward0>), tensor(21.0574, grad_fn=<SelectBackward0>), tensor(32.9906, grad_fn=<SelectBackward0>), tensor(-1.8788, grad_fn=<SelectBackward0>), tensor(33.0973, grad_fn=<SelectBackward0>), tensor(45.1730, grad_fn=<SelectBackward0>), tensor(46.4952, grad_fn=<SelectBackward0>), tensor(34.0270, grad_fn=<SelectBackward0>), tensor(36.0154, grad_fn=<SelectBackward0>), tensor(33.1616, grad_fn=<SelectBackward0>), tensor(30.0127, grad_fn=<SelectBackward0>), tensor(12.8586, grad_fn=<SelectBackward0>), tensor(41.1986, grad_fn=<SelectBackward0>), tensor(35.3035, grad_fn=<SelectBackward0>), tensor(34.0956, grad_fn=<SelectBackward0>), tensor(33.7947, grad_fn=<SelectBackward0>), tensor(30.3802, grad_fn=<SelectBackward0>), tensor(10.5101, grad_fn=<SelectBackward0>), tensor(27.3474, grad_fn=<SelectBackward0>), tensor(18.5991, grad_fn=<SelectBackward0>), tensor(6.0793, grad_fn=<SelectBackward0>), tensor(13.0516, grad_fn=<SelectBackward0>), tensor(34.1618, grad_fn=<SelectBackward0>), tensor(43.7288, grad_fn=<SelectBackward0>), tensor(33.2609, grad_fn=<SelectBackward0>), tensor(39.2495, grad_fn=<SelectBackward0>), tensor(21.6469, grad_fn=<SelectBackward0>), tensor(-9.7464, grad_fn=<SelectBackward0>), tensor(33.1126, grad_fn=<SelectBackward0>), tensor(44.0524, grad_fn=<SelectBackward0>), tensor(-20.0052, grad_fn=<SelectBackward0>), tensor(-8.3413, grad_fn=<SelectBackward0>), tensor(33.1710, grad_fn=<SelectBackward0>), tensor(-0.1005, grad_fn=<SelectBackward0>), tensor(42.8175, grad_fn=<SelectBackward0>), tensor(45.3608, grad_fn=<SelectBackward0>), tensor(34.1079, grad_fn=<SelectBackward0>), tensor(33.2735, grad_fn=<SelectBackward0>), tensor(46.7091, grad_fn=<SelectBackward0>), tensor(36.4287, grad_fn=<SelectBackward0>), tensor(33.2154, grad_fn=<SelectBackward0>), tensor(-20.4166, grad_fn=<SelectBackward0>), tensor(26.7972, grad_fn=<SelectBackward0>), tensor(34.4527, grad_fn=<SelectBackward0>), tensor(24.8358, grad_fn=<SelectBackward0>), tensor(1.2341, grad_fn=<SelectBackward0>), tensor(28.9338, grad_fn=<SelectBackward0>), tensor(28.2618, grad_fn=<SelectBackward0>), tensor(30.7193, grad_fn=<SelectBackward0>), tensor(21.4477, grad_fn=<SelectBackward0>), tensor(-20.1821, grad_fn=<SelectBackward0>), tensor(23.3575, grad_fn=<SelectBackward0>), tensor(6.2604, grad_fn=<SelectBackward0>), tensor(-18.9837, grad_fn=<SelectBackward0>), tensor(35.3364, grad_fn=<SelectBackward0>), tensor(41.0551, grad_fn=<SelectBackward0>), tensor(35.8457, grad_fn=<SelectBackward0>), tensor(29.5687, grad_fn=<SelectBackward0>), tensor(49.1611, grad_fn=<SelectBackward0>), tensor(33.3630, grad_fn=<SelectBackward0>), tensor(34.2606, grad_fn=<SelectBackward0>), tensor(6.5174, grad_fn=<SelectBackward0>), tensor(26.9492, grad_fn=<SelectBackward0>), tensor(35.0734, grad_fn=<SelectBackward0>), tensor(34.9012, grad_fn=<SelectBackward0>), tensor(17.5855, grad_fn=<SelectBackward0>), tensor(17.6103, grad_fn=<SelectBackward0>), tensor(43.0900, grad_fn=<SelectBackward0>), tensor(32.6058, grad_fn=<SelectBackward0>), tensor(40.0285, grad_fn=<SelectBackward0>), tensor(30.7856, grad_fn=<SelectBackward0>), tensor(19.3304, grad_fn=<SelectBackward0>), tensor(-8.8390, grad_fn=<SelectBackward0>), tensor(42.1537, grad_fn=<SelectBackward0>), tensor(6.4742, grad_fn=<SelectBackward0>), tensor(5.8989, grad_fn=<SelectBackward0>), tensor(19.5008, grad_fn=<SelectBackward0>), tensor(33.1667, grad_fn=<SelectBackward0>), tensor(8.0807, grad_fn=<SelectBackward0>), tensor(31.8653, grad_fn=<SelectBackward0>), tensor(-8.6722, grad_fn=<SelectBackward0>), tensor(30.3946, grad_fn=<SelectBackward0>), tensor(8.2917, grad_fn=<SelectBackward0>), tensor(26.1416, grad_fn=<SelectBackward0>), tensor(38.6718, grad_fn=<SelectBackward0>), tensor(-18.6067, grad_fn=<SelectBackward0>), tensor(41.1590, grad_fn=<SelectBackward0>), tensor(-2.1150, grad_fn=<SelectBackward0>), tensor(37.0020, grad_fn=<SelectBackward0>), tensor(42.5848, grad_fn=<SelectBackward0>), tensor(33.5254, grad_fn=<SelectBackward0>), tensor(47.9612, grad_fn=<SelectBackward0>), tensor(3.3130, grad_fn=<SelectBackward0>), tensor(32.3330, grad_fn=<SelectBackward0>), tensor(29.8776, grad_fn=<SelectBackward0>), tensor(32.8257, grad_fn=<SelectBackward0>), tensor(8.6702, grad_fn=<SelectBackward0>), tensor(16.9760, grad_fn=<SelectBackward0>), tensor(36.8923, grad_fn=<SelectBackward0>), tensor(30.5411, grad_fn=<SelectBackward0>), tensor(24.0270, grad_fn=<SelectBackward0>), tensor(38.4700, grad_fn=<SelectBackward0>), tensor(32.4822, grad_fn=<SelectBackward0>), tensor(37.8964, grad_fn=<SelectBackward0>), tensor(35.7679, grad_fn=<SelectBackward0>), tensor(44.3513, grad_fn=<SelectBackward0>), tensor(-17.6789, grad_fn=<SelectBackward0>), tensor(0.0956, grad_fn=<SelectBackward0>), tensor(32.4808, grad_fn=<SelectBackward0>), tensor(33.7179, grad_fn=<SelectBackward0>), tensor(35.4362, grad_fn=<SelectBackward0>), tensor(15.2322, grad_fn=<SelectBackward0>), tensor(34.2679, grad_fn=<SelectBackward0>), tensor(37.5085, grad_fn=<SelectBackward0>), tensor(42.8309, grad_fn=<SelectBackward0>), tensor(-8.3853, grad_fn=<SelectBackward0>), tensor(7.3058, grad_fn=<SelectBackward0>), tensor(-0.3641, grad_fn=<SelectBackward0>), tensor(27.8109, grad_fn=<SelectBackward0>), tensor(33.8344, grad_fn=<SelectBackward0>), tensor(44.0369, grad_fn=<SelectBackward0>), tensor(25.7181, grad_fn=<SelectBackward0>), tensor(32.0984, grad_fn=<SelectBackward0>), tensor(42.0816, grad_fn=<SelectBackward0>), tensor(33.6702, grad_fn=<SelectBackward0>), tensor(44.9550, grad_fn=<SelectBackward0>), tensor(30.1797, grad_fn=<SelectBackward0>), tensor(35.7030, grad_fn=<SelectBackward0>), tensor(39.6145, grad_fn=<SelectBackward0>), tensor(26.0257, grad_fn=<SelectBackward0>), tensor(29.4643, grad_fn=<SelectBackward0>), tensor(25.9601, grad_fn=<SelectBackward0>), tensor(37.8080, grad_fn=<SelectBackward0>), tensor(24.1990, grad_fn=<SelectBackward0>), tensor(32.0148, grad_fn=<SelectBackward0>), tensor(43.9770, grad_fn=<SelectBackward0>), tensor(7.8725, grad_fn=<SelectBackward0>), tensor(35.7561, grad_fn=<SelectBackward0>), tensor(44.0236, grad_fn=<SelectBackward0>), tensor(24.7956, grad_fn=<SelectBackward0>), tensor(18.8442, grad_fn=<SelectBackward0>), tensor(46.3565, grad_fn=<SelectBackward0>), tensor(35.2323, grad_fn=<SelectBackward0>), tensor(-0.2738, grad_fn=<SelectBackward0>), tensor(40.0592, grad_fn=<SelectBackward0>), tensor(39.7478, grad_fn=<SelectBackward0>), tensor(9.3225, grad_fn=<SelectBackward0>), tensor(40.8439, grad_fn=<SelectBackward0>), tensor(25.0425, grad_fn=<SelectBackward0>), tensor(33.9056, grad_fn=<SelectBackward0>), tensor(18.8131, grad_fn=<SelectBackward0>), tensor(12.8710, grad_fn=<SelectBackward0>), tensor(10.3174, grad_fn=<SelectBackward0>), tensor(34.5879, grad_fn=<SelectBackward0>), tensor(-8.4346, grad_fn=<SelectBackward0>), tensor(35.1827, grad_fn=<SelectBackward0>), tensor(9.0148, grad_fn=<SelectBackward0>), tensor(42.2541, grad_fn=<SelectBackward0>), tensor(13.3431, grad_fn=<SelectBackward0>), tensor(-17.4741, grad_fn=<SelectBackward0>), tensor(37.0912, grad_fn=<SelectBackward0>), tensor(45.2985, grad_fn=<SelectBackward0>), tensor(37.0947, grad_fn=<SelectBackward0>), tensor(34.7659, grad_fn=<SelectBackward0>), tensor(18.8870, grad_fn=<SelectBackward0>), tensor(34.2445, grad_fn=<SelectBackward0>), tensor(31.8378, grad_fn=<SelectBackward0>), tensor(33.8689, grad_fn=<SelectBackward0>), tensor(39.4676, grad_fn=<SelectBackward0>), tensor(8.5050, grad_fn=<SelectBackward0>), tensor(30.7418, grad_fn=<SelectBackward0>), tensor(47.1093, grad_fn=<SelectBackward0>), tensor(37.5283, grad_fn=<SelectBackward0>), tensor(39.8878, grad_fn=<SelectBackward0>), tensor(13.4622, grad_fn=<SelectBackward0>), tensor(33.5141, grad_fn=<SelectBackward0>), tensor(39.8188, grad_fn=<SelectBackward0>), tensor(34.0950, grad_fn=<SelectBackward0>), tensor(33.8781, grad_fn=<SelectBackward0>), tensor(30.8969, grad_fn=<SelectBackward0>), tensor(-10.6737, grad_fn=<SelectBackward0>), tensor(25.5151, grad_fn=<SelectBackward0>), tensor(35.7076, grad_fn=<SelectBackward0>), tensor(35.2499, grad_fn=<SelectBackward0>), tensor(13.5497, grad_fn=<SelectBackward0>), tensor(8.8636, grad_fn=<SelectBackward0>), tensor(44.1494, grad_fn=<SelectBackward0>), tensor(39.2022, grad_fn=<SelectBackward0>), tensor(-4.9645, grad_fn=<SelectBackward0>), tensor(42.5253, grad_fn=<SelectBackward0>), tensor(-16.1259, grad_fn=<SelectBackward0>), tensor(-7.3028, grad_fn=<SelectBackward0>), tensor(42.3211, grad_fn=<SelectBackward0>), tensor(30.9239, grad_fn=<SelectBackward0>), tensor(43.3091, grad_fn=<SelectBackward0>), tensor(33.7962, grad_fn=<SelectBackward0>), tensor(44.2664, grad_fn=<SelectBackward0>), tensor(45.5711, grad_fn=<SelectBackward0>), tensor(34.3734, grad_fn=<SelectBackward0>), tensor(33.2688, grad_fn=<SelectBackward0>), tensor(32.2358, grad_fn=<SelectBackward0>), tensor(-8.5467, grad_fn=<SelectBackward0>), tensor(11.5062, grad_fn=<SelectBackward0>), tensor(33.8801, grad_fn=<SelectBackward0>), tensor(44.7577, grad_fn=<SelectBackward0>), tensor(-7.9867, grad_fn=<SelectBackward0>), tensor(32.0335, grad_fn=<SelectBackward0>), tensor(-1.8685, grad_fn=<SelectBackward0>), tensor(26.7488, grad_fn=<SelectBackward0>), tensor(-0.8137, grad_fn=<SelectBackward0>), tensor(43.9228, grad_fn=<SelectBackward0>), tensor(39.7733, grad_fn=<SelectBackward0>), tensor(33.9704, grad_fn=<SelectBackward0>), tensor(8.1110, grad_fn=<SelectBackward0>), tensor(36.3025, grad_fn=<SelectBackward0>), tensor(36.0446, grad_fn=<SelectBackward0>), tensor(30.1716, grad_fn=<SelectBackward0>), tensor(38.4238, grad_fn=<SelectBackward0>), tensor(38.5745, grad_fn=<SelectBackward0>), tensor(31.1999, grad_fn=<SelectBackward0>), tensor(42.5551, grad_fn=<SelectBackward0>), tensor(32.0665, grad_fn=<SelectBackward0>), tensor(11.7096, grad_fn=<SelectBackward0>), tensor(-16.4836, grad_fn=<SelectBackward0>), tensor(36.5538, grad_fn=<SelectBackward0>), tensor(48.9456, grad_fn=<SelectBackward0>), tensor(31.4509, grad_fn=<SelectBackward0>), tensor(-16.5966, grad_fn=<SelectBackward0>), tensor(-17.2011, grad_fn=<SelectBackward0>), tensor(-7.7410, grad_fn=<SelectBackward0>), tensor(23.8435, grad_fn=<SelectBackward0>), tensor(1.4755, grad_fn=<SelectBackward0>), tensor(28.2661, grad_fn=<SelectBackward0>), tensor(32.0503, grad_fn=<SelectBackward0>), tensor(-16.3934, grad_fn=<SelectBackward0>), tensor(42.1058, grad_fn=<SelectBackward0>), tensor(47.7260, grad_fn=<SelectBackward0>), tensor(2.5496, grad_fn=<SelectBackward0>), tensor(45.0064, grad_fn=<SelectBackward0>), tensor(30.9582, grad_fn=<SelectBackward0>), tensor(32.7297, grad_fn=<SelectBackward0>), tensor(29.3047, grad_fn=<SelectBackward0>), tensor(31.6562, grad_fn=<SelectBackward0>), tensor(27.7078, grad_fn=<SelectBackward0>), tensor(35.7579, grad_fn=<SelectBackward0>), tensor(38.0094, grad_fn=<SelectBackward0>), tensor(38.0380, grad_fn=<SelectBackward0>), tensor(10.4281, grad_fn=<SelectBackward0>), tensor(39.8071, grad_fn=<SelectBackward0>), tensor(-7.6715, grad_fn=<SelectBackward0>), tensor(-7.4093, grad_fn=<SelectBackward0>), tensor(33.9437, grad_fn=<SelectBackward0>), tensor(-7.6571, grad_fn=<SelectBackward0>), tensor(39.3508, grad_fn=<SelectBackward0>), tensor(31.2869, grad_fn=<SelectBackward0>), tensor(24.4437, grad_fn=<SelectBackward0>), tensor(29.8291, grad_fn=<SelectBackward0>), tensor(34.3236, grad_fn=<SelectBackward0>), tensor(42.7220, grad_fn=<SelectBackward0>), tensor(42.8742, grad_fn=<SelectBackward0>), tensor(36.4808, grad_fn=<SelectBackward0>), tensor(24.9056, grad_fn=<SelectBackward0>), tensor(34.2255, grad_fn=<SelectBackward0>), tensor(-7.3641, grad_fn=<SelectBackward0>), tensor(5.2541, grad_fn=<SelectBackward0>), tensor(49.7545, grad_fn=<SelectBackward0>), tensor(-16.5859, grad_fn=<SelectBackward0>), tensor(38.3385, grad_fn=<SelectBackward0>), tensor(43.9076, grad_fn=<SelectBackward0>), tensor(31.2894, grad_fn=<SelectBackward0>), tensor(6.7294, grad_fn=<SelectBackward0>), tensor(-7.8008, grad_fn=<SelectBackward0>), tensor(51.0794, grad_fn=<SelectBackward0>), tensor(45.0889, grad_fn=<SelectBackward0>), tensor(1.5329, grad_fn=<SelectBackward0>), tensor(41.8752, grad_fn=<SelectBackward0>), tensor(37.5520, grad_fn=<SelectBackward0>), tensor(33.6964, grad_fn=<SelectBackward0>), tensor(38.1038, grad_fn=<SelectBackward0>), tensor(9.4678, grad_fn=<SelectBackward0>), tensor(-10.0860, grad_fn=<SelectBackward0>), tensor(-7.2138, grad_fn=<SelectBackward0>), tensor(3.0515, grad_fn=<SelectBackward0>), tensor(34.4676, grad_fn=<SelectBackward0>), tensor(33.2139, grad_fn=<SelectBackward0>), tensor(42.1720, grad_fn=<SelectBackward0>), tensor(46.3594, grad_fn=<SelectBackward0>), tensor(14.7972, grad_fn=<SelectBackward0>), tensor(-7.1471, grad_fn=<SelectBackward0>), tensor(35.9769, grad_fn=<SelectBackward0>), tensor(45.0427, grad_fn=<SelectBackward0>), tensor(2.7057, grad_fn=<SelectBackward0>), tensor(41.3891, grad_fn=<SelectBackward0>), tensor(17.7084, grad_fn=<SelectBackward0>), tensor(37.1638, grad_fn=<SelectBackward0>), tensor(34.3725, grad_fn=<SelectBackward0>), tensor(25.3187, grad_fn=<SelectBackward0>), tensor(42.7557, grad_fn=<SelectBackward0>), tensor(32.0074, grad_fn=<SelectBackward0>), tensor(48.0901, grad_fn=<SelectBackward0>), tensor(13.9797, grad_fn=<SelectBackward0>), tensor(33.1379, grad_fn=<SelectBackward0>), tensor(33.6201, grad_fn=<SelectBackward0>), tensor(14.4444, grad_fn=<SelectBackward0>), tensor(47.3776, grad_fn=<SelectBackward0>), tensor(32.0415, grad_fn=<SelectBackward0>), tensor(42.7388, grad_fn=<SelectBackward0>), tensor(37.2756, grad_fn=<SelectBackward0>), tensor(43.0529, grad_fn=<SelectBackward0>), tensor(32.4582, grad_fn=<SelectBackward0>), tensor(47.7285, grad_fn=<SelectBackward0>), tensor(42.3211, grad_fn=<SelectBackward0>), tensor(39.7487, grad_fn=<SelectBackward0>), tensor(39.7370, grad_fn=<SelectBackward0>), tensor(43.8949, grad_fn=<SelectBackward0>), tensor(42.7988, grad_fn=<SelectBackward0>), tensor(34.7273, grad_fn=<SelectBackward0>), tensor(-6.5763, grad_fn=<SelectBackward0>), tensor(26.5054, grad_fn=<SelectBackward0>), tensor(42.6579, grad_fn=<SelectBackward0>), tensor(46.6689, grad_fn=<SelectBackward0>), tensor(2.0938, grad_fn=<SelectBackward0>), tensor(32.0231, grad_fn=<SelectBackward0>), tensor(44.1205, grad_fn=<SelectBackward0>), tensor(34.4606, grad_fn=<SelectBackward0>), tensor(37.9135, grad_fn=<SelectBackward0>), tensor(21.7303, grad_fn=<SelectBackward0>), tensor(38.0893, grad_fn=<SelectBackward0>), tensor(33.3018, grad_fn=<SelectBackward0>), tensor(8.6006, grad_fn=<SelectBackward0>), tensor(28.2375, grad_fn=<SelectBackward0>), tensor(34.2739, grad_fn=<SelectBackward0>), tensor(-15.7547, grad_fn=<SelectBackward0>), tensor(36.7321, grad_fn=<SelectBackward0>), tensor(35.3134, grad_fn=<SelectBackward0>), tensor(37.0984, grad_fn=<SelectBackward0>), tensor(37.3717, grad_fn=<SelectBackward0>), tensor(27.2138, grad_fn=<SelectBackward0>), tensor(-14.8290, grad_fn=<SelectBackward0>), tensor(36.2136, grad_fn=<SelectBackward0>), tensor(-6.1921, grad_fn=<SelectBackward0>), tensor(20.8776, grad_fn=<SelectBackward0>), tensor(35.2325, grad_fn=<SelectBackward0>), tensor(6.9299, grad_fn=<SelectBackward0>), tensor(11.7088, grad_fn=<SelectBackward0>), tensor(38.6938, grad_fn=<SelectBackward0>), tensor(40.2121, grad_fn=<SelectBackward0>), tensor(39.4022, grad_fn=<SelectBackward0>), tensor(43.2980, grad_fn=<SelectBackward0>), tensor(35.2599, grad_fn=<SelectBackward0>), tensor(34.9763, grad_fn=<SelectBackward0>), tensor(35.8980, grad_fn=<SelectBackward0>), tensor(7.4141, grad_fn=<SelectBackward0>), tensor(26.2672, grad_fn=<SelectBackward0>), tensor(46.1527, grad_fn=<SelectBackward0>), tensor(13.2674, grad_fn=<SelectBackward0>), tensor(1.9869, grad_fn=<SelectBackward0>), tensor(30.4321, grad_fn=<SelectBackward0>), tensor(1.5494, grad_fn=<SelectBackward0>), tensor(39.7889, grad_fn=<SelectBackward0>), tensor(42.7420, grad_fn=<SelectBackward0>), tensor(41.1794, grad_fn=<SelectBackward0>), tensor(43.3275, grad_fn=<SelectBackward0>), tensor(36.5438, grad_fn=<SelectBackward0>), tensor(14.2286, grad_fn=<SelectBackward0>), tensor(16.0619, grad_fn=<SelectBackward0>), tensor(37.2453, grad_fn=<SelectBackward0>), tensor(50.6671, grad_fn=<SelectBackward0>), tensor(36.3226, grad_fn=<SelectBackward0>), tensor(44.0306, grad_fn=<SelectBackward0>), tensor(37.1692, grad_fn=<SelectBackward0>), tensor(35.2966, grad_fn=<SelectBackward0>), tensor(27.1299, grad_fn=<SelectBackward0>), tensor(35.5054, grad_fn=<SelectBackward0>), tensor(36.5199, grad_fn=<SelectBackward0>), tensor(17.7312, grad_fn=<SelectBackward0>), tensor(35.5711, grad_fn=<SelectBackward0>), tensor(34.7892, grad_fn=<SelectBackward0>), tensor(34.8021, grad_fn=<SelectBackward0>), tensor(-6.2140, grad_fn=<SelectBackward0>), tensor(31.7764, grad_fn=<SelectBackward0>), tensor(41.7136, grad_fn=<SelectBackward0>), tensor(34.3187, grad_fn=<SelectBackward0>), tensor(46.1166, grad_fn=<SelectBackward0>), tensor(29.7995, grad_fn=<SelectBackward0>), tensor(34.9106, grad_fn=<SelectBackward0>), tensor(43.6118, grad_fn=<SelectBackward0>), tensor(31.1598, grad_fn=<SelectBackward0>), tensor(35.7862, grad_fn=<SelectBackward0>), tensor(34.9863, grad_fn=<SelectBackward0>), tensor(14.9861, grad_fn=<SelectBackward0>), tensor(28.1376, grad_fn=<SelectBackward0>), tensor(44.0951, grad_fn=<SelectBackward0>), tensor(35.7898, grad_fn=<SelectBackward0>), tensor(46.3243, grad_fn=<SelectBackward0>), tensor(17.9778, grad_fn=<SelectBackward0>), tensor(38.1125, grad_fn=<SelectBackward0>), tensor(46.5179, grad_fn=<SelectBackward0>), tensor(36.1082, grad_fn=<SelectBackward0>), tensor(-5.1512, grad_fn=<SelectBackward0>), tensor(42.7227, grad_fn=<SelectBackward0>), tensor(-4.4284, grad_fn=<SelectBackward0>), tensor(43.3398, grad_fn=<SelectBackward0>), tensor(34.2101, grad_fn=<SelectBackward0>), tensor(34.7743, grad_fn=<SelectBackward0>), tensor(-4.6798, grad_fn=<SelectBackward0>), tensor(36.8068, grad_fn=<SelectBackward0>), tensor(34.1620, grad_fn=<SelectBackward0>), tensor(7.6728, grad_fn=<SelectBackward0>), tensor(-5.5410, grad_fn=<SelectBackward0>), tensor(32.0920, grad_fn=<SelectBackward0>), tensor(26.6895, grad_fn=<SelectBackward0>), tensor(-9.0773, grad_fn=<SelectBackward0>), tensor(33.3528, grad_fn=<SelectBackward0>), tensor(36.4060, grad_fn=<SelectBackward0>), tensor(34.1458, grad_fn=<SelectBackward0>), tensor(33.9840, grad_fn=<SelectBackward0>), tensor(34.3189, grad_fn=<SelectBackward0>), tensor(35.0009, grad_fn=<SelectBackward0>), tensor(31.4937, grad_fn=<SelectBackward0>), tensor(39.9935, grad_fn=<SelectBackward0>), tensor(38.2662, grad_fn=<SelectBackward0>), tensor(-13.0222, grad_fn=<SelectBackward0>), tensor(40.5766, grad_fn=<SelectBackward0>), tensor(31.4524, grad_fn=<SelectBackward0>), tensor(29.2785, grad_fn=<SelectBackward0>), tensor(34.3692, grad_fn=<SelectBackward0>), tensor(35.7705, grad_fn=<SelectBackward0>), tensor(16.8480, grad_fn=<SelectBackward0>), tensor(-2.3973, grad_fn=<SelectBackward0>), tensor(16.4620, grad_fn=<SelectBackward0>), tensor(-14.1171, grad_fn=<SelectBackward0>), tensor(35.0623, grad_fn=<SelectBackward0>), tensor(32.4933, grad_fn=<SelectBackward0>), tensor(42.2530, grad_fn=<SelectBackward0>), tensor(46.6596, grad_fn=<SelectBackward0>), tensor(32.9049, grad_fn=<SelectBackward0>), tensor(33.2876, grad_fn=<SelectBackward0>), tensor(-11.3430, grad_fn=<SelectBackward0>), tensor(41.7796, grad_fn=<SelectBackward0>), tensor(29.3781, grad_fn=<SelectBackward0>), tensor(33.4461, grad_fn=<SelectBackward0>), tensor(28.0244, grad_fn=<SelectBackward0>), tensor(36.6529, grad_fn=<SelectBackward0>), tensor(4.1800, grad_fn=<SelectBackward0>), tensor(38.0429, grad_fn=<SelectBackward0>), tensor(34.7564, grad_fn=<SelectBackward0>), tensor(8.4775, grad_fn=<SelectBackward0>), tensor(17.6480, grad_fn=<SelectBackward0>), tensor(36.0495, grad_fn=<SelectBackward0>), tensor(43.0081, grad_fn=<SelectBackward0>), tensor(36.6469, grad_fn=<SelectBackward0>), tensor(-3.7651, grad_fn=<SelectBackward0>), tensor(46.8794, grad_fn=<SelectBackward0>), tensor(37.0707, grad_fn=<SelectBackward0>), tensor(34.8475, grad_fn=<SelectBackward0>), tensor(35.3111, grad_fn=<SelectBackward0>), tensor(30.2532, grad_fn=<SelectBackward0>), tensor(-11.5562, grad_fn=<SelectBackward0>), tensor(-4.4831, grad_fn=<SelectBackward0>), tensor(40.6623, grad_fn=<SelectBackward0>), tensor(-3.0304, grad_fn=<SelectBackward0>), tensor(-2.4661, grad_fn=<SelectBackward0>), tensor(17.1765, grad_fn=<SelectBackward0>), tensor(35.6386, grad_fn=<SelectBackward0>), tensor(42.9207, grad_fn=<SelectBackward0>), tensor(37.6734, grad_fn=<SelectBackward0>), tensor(-4.5231, grad_fn=<SelectBackward0>), tensor(37.4803, grad_fn=<SelectBackward0>), tensor(46.9808, grad_fn=<SelectBackward0>), tensor(40.8537, grad_fn=<SelectBackward0>), tensor(18.3960, grad_fn=<SelectBackward0>), tensor(42.6052, grad_fn=<SelectBackward0>), tensor(-13.6379, grad_fn=<SelectBackward0>), tensor(-3.2585, grad_fn=<SelectBackward0>), tensor(40.8859, grad_fn=<SelectBackward0>), tensor(38.3885, grad_fn=<SelectBackward0>), tensor(34.2769, grad_fn=<SelectBackward0>), tensor(34.8261, grad_fn=<SelectBackward0>), tensor(37.5566, grad_fn=<SelectBackward0>), tensor(36.2561, grad_fn=<SelectBackward0>), tensor(34.2071, grad_fn=<SelectBackward0>), tensor(38.3683, grad_fn=<SelectBackward0>), tensor(29.7998, grad_fn=<SelectBackward0>), tensor(3.6641, grad_fn=<SelectBackward0>), tensor(-3.1275, grad_fn=<SelectBackward0>), tensor(36.2628, grad_fn=<SelectBackward0>), tensor(43.8427, grad_fn=<SelectBackward0>), tensor(35.6705, grad_fn=<SelectBackward0>), tensor(37.3256, grad_fn=<SelectBackward0>), tensor(9.9851, grad_fn=<SelectBackward0>), tensor(43.6448, grad_fn=<SelectBackward0>), tensor(15.3354, grad_fn=<SelectBackward0>), tensor(27.1870, grad_fn=<SelectBackward0>), tensor(34.8797, grad_fn=<SelectBackward0>), tensor(37.3522, grad_fn=<SelectBackward0>), tensor(42.5562, grad_fn=<SelectBackward0>), tensor(41.0499, grad_fn=<SelectBackward0>), tensor(33.5837, grad_fn=<SelectBackward0>), tensor(6.0353, grad_fn=<SelectBackward0>), tensor(41.3832, grad_fn=<SelectBackward0>), tensor(43.2047, grad_fn=<SelectBackward0>), tensor(-12.0796, grad_fn=<SelectBackward0>), tensor(42.0572, grad_fn=<SelectBackward0>), tensor(31.7722, grad_fn=<SelectBackward0>), tensor(36.3258, grad_fn=<SelectBackward0>), tensor(31.0373, grad_fn=<SelectBackward0>), tensor(18.9929, grad_fn=<SelectBackward0>), tensor(6.0609, grad_fn=<SelectBackward0>), tensor(28.6209, grad_fn=<SelectBackward0>), tensor(38.0255, grad_fn=<SelectBackward0>), tensor(-2.3974, grad_fn=<SelectBackward0>), tensor(36.0036, grad_fn=<SelectBackward0>), tensor(9.0893, grad_fn=<SelectBackward0>), tensor(37.9846, grad_fn=<SelectBackward0>), tensor(45.4618, grad_fn=<SelectBackward0>), tensor(15.9793, grad_fn=<SelectBackward0>), tensor(32.3191, grad_fn=<SelectBackward0>), tensor(37.5848, grad_fn=<SelectBackward0>), tensor(35.6975, grad_fn=<SelectBackward0>), tensor(34.4354, grad_fn=<SelectBackward0>), tensor(37.6526, grad_fn=<SelectBackward0>), tensor(-12.4520, grad_fn=<SelectBackward0>), tensor(44.9967, grad_fn=<SelectBackward0>), tensor(37.1996, grad_fn=<SelectBackward0>), tensor(48.8291, grad_fn=<SelectBackward0>), tensor(6.8626, grad_fn=<SelectBackward0>), tensor(19.3384, grad_fn=<SelectBackward0>), tensor(44.9052, grad_fn=<SelectBackward0>), tensor(36.1204, grad_fn=<SelectBackward0>), tensor(33.9512, grad_fn=<SelectBackward0>), tensor(48.8012, grad_fn=<SelectBackward0>), tensor(38.5398, grad_fn=<SelectBackward0>), tensor(36.4734, grad_fn=<SelectBackward0>), tensor(35.9428, grad_fn=<SelectBackward0>), tensor(10.4774, grad_fn=<SelectBackward0>), tensor(45.9256, grad_fn=<SelectBackward0>), tensor(37.7988, grad_fn=<SelectBackward0>), tensor(19.3573, grad_fn=<SelectBackward0>), tensor(44.6323, grad_fn=<SelectBackward0>), tensor(47.9387, grad_fn=<SelectBackward0>), tensor(36.3477, grad_fn=<SelectBackward0>), tensor(34.8074, grad_fn=<SelectBackward0>), tensor(37.3346, grad_fn=<SelectBackward0>), tensor(-7.4959, grad_fn=<SelectBackward0>), tensor(47.7127, grad_fn=<SelectBackward0>), tensor(-0.6023, grad_fn=<SelectBackward0>), tensor(38.0418, grad_fn=<SelectBackward0>), tensor(34.6950, grad_fn=<SelectBackward0>), tensor(-6.5047, grad_fn=<SelectBackward0>), tensor(0.0966, grad_fn=<SelectBackward0>), tensor(-11.2374, grad_fn=<SelectBackward0>), tensor(32.0122, grad_fn=<SelectBackward0>), tensor(-1.2244, grad_fn=<SelectBackward0>), tensor(34.7698, grad_fn=<SelectBackward0>), tensor(40.9205, grad_fn=<SelectBackward0>), tensor(31.5515, grad_fn=<SelectBackward0>), tensor(44.2003, grad_fn=<SelectBackward0>), tensor(30.6323, grad_fn=<SelectBackward0>), tensor(35.7191, grad_fn=<SelectBackward0>), tensor(35.1935, grad_fn=<SelectBackward0>), tensor(31.1216, grad_fn=<SelectBackward0>), tensor(43.6709, grad_fn=<SelectBackward0>), tensor(31.2035, grad_fn=<SelectBackward0>), tensor(16.0641, grad_fn=<SelectBackward0>), tensor(13.5478, grad_fn=<SelectBackward0>), tensor(31.0401, grad_fn=<SelectBackward0>), tensor(33.6096, grad_fn=<SelectBackward0>), tensor(36.7608, grad_fn=<SelectBackward0>), tensor(37.0648, grad_fn=<SelectBackward0>), tensor(28.5701, grad_fn=<SelectBackward0>), tensor(8.1482, grad_fn=<SelectBackward0>), tensor(8.6968, grad_fn=<SelectBackward0>), tensor(43.2763, grad_fn=<SelectBackward0>), tensor(45.9698, grad_fn=<SelectBackward0>), tensor(18.6937, grad_fn=<SelectBackward0>), tensor(-2.3337, grad_fn=<SelectBackward0>), tensor(-5.7641, grad_fn=<SelectBackward0>), tensor(39.7267, grad_fn=<SelectBackward0>), tensor(48.1034, grad_fn=<SelectBackward0>), tensor(43.5600, grad_fn=<SelectBackward0>), tensor(22.1565, grad_fn=<SelectBackward0>), tensor(43.0683, grad_fn=<SelectBackward0>), tensor(-10.9939, grad_fn=<SelectBackward0>), tensor(45.4036, grad_fn=<SelectBackward0>), tensor(39.9984, grad_fn=<SelectBackward0>), tensor(34.8186, grad_fn=<SelectBackward0>), tensor(5.9168, grad_fn=<SelectBackward0>), tensor(38.4399, grad_fn=<SelectBackward0>), tensor(-0.3623, grad_fn=<SelectBackward0>), tensor(46.5338, grad_fn=<SelectBackward0>), tensor(40.7229, grad_fn=<SelectBackward0>), tensor(36.4373, grad_fn=<SelectBackward0>), tensor(-10.5539, grad_fn=<SelectBackward0>), tensor(12.9734, grad_fn=<SelectBackward0>)]\n"
     ]
    },
    {
     "ename": "TypeError",
     "evalue": "iteration over a 0-d tensor",
     "output_type": "error",
     "traceback": [
      "\u001b[0;31m---------------------------------------------------------------------------\u001b[0m",
      "\u001b[0;31mTypeError\u001b[0m                                 Traceback (most recent call last)",
      "Cell \u001b[0;32mIn[47], line 6\u001b[0m\n\u001b[1;32m      3\u001b[0m \u001b[39mprint\u001b[39m(predictions)\n\u001b[1;32m      5\u001b[0m \u001b[39m# Write predictions into file .CSV\u001b[39;00m\n\u001b[0;32m----> 6\u001b[0m data_handler\u001b[39m.\u001b[39;49mwrite_data(\n\u001b[1;32m      7\u001b[0m     filename\u001b[39m=\u001b[39;49m\u001b[39m'\u001b[39;49m\u001b[39mteam-name_ML-CUP23-TS.csv\u001b[39;49m\u001b[39m'\u001b[39;49m,\n\u001b[1;32m      8\u001b[0m     id_list\u001b[39m=\u001b[39;49mdf_id_test\u001b[39m.\u001b[39;49mvalues\u001b[39m.\u001b[39;49mtolist(),\n\u001b[1;32m      9\u001b[0m     data\u001b[39m=\u001b[39;49mpredictions,\n\u001b[1;32m     10\u001b[0m     cols_name\u001b[39m=\u001b[39;49m[\u001b[39m'\u001b[39;49m\u001b[39mid\u001b[39;49m\u001b[39m'\u001b[39;49m, \u001b[39m'\u001b[39;49m\u001b[39mtarget_x\u001b[39;49m\u001b[39m'\u001b[39;49m, \u001b[39m'\u001b[39;49m\u001b[39mtarget_y\u001b[39;49m\u001b[39m'\u001b[39;49m, \u001b[39m'\u001b[39;49m\u001b[39mtarget_z\u001b[39;49m\u001b[39m'\u001b[39;49m]\n\u001b[1;32m     11\u001b[0m )\n\u001b[1;32m     13\u001b[0m predictions\n",
      "File \u001b[0;32m~/Documents/GitHub/Machine_Learning_Project/api/data_handler.py:88\u001b[0m, in \u001b[0;36mDataHandler.write_data\u001b[0;34m(self, filename, id_list, data, cols_name, delimiter)\u001b[0m\n\u001b[1;32m     86\u001b[0m \u001b[39mfor\u001b[39;00m \u001b[39mid\u001b[39m, row \u001b[39min\u001b[39;00m \u001b[39mzip\u001b[39m(id_list,data):\n\u001b[1;32m     87\u001b[0m     f\u001b[39m.\u001b[39mwrite(\u001b[39mf\u001b[39m\u001b[39m'\u001b[39m\u001b[39m{\u001b[39;00m\u001b[39mid\u001b[39m\u001b[39m}\u001b[39;00m\u001b[39m,\u001b[39m\u001b[39m'\u001b[39m)\n\u001b[0;32m---> 88\u001b[0m     \u001b[39mfor\u001b[39;00m i, elem \u001b[39min\u001b[39;00m \u001b[39menumerate\u001b[39m(row):\n\u001b[1;32m     89\u001b[0m         \u001b[39mif\u001b[39;00m i \u001b[39m<\u001b[39m \u001b[39mlen\u001b[39m(row)\u001b[39m-\u001b[39m\u001b[39m1\u001b[39m:\n\u001b[1;32m     90\u001b[0m             f\u001b[39m.\u001b[39mwrite(\u001b[39mf\u001b[39m\u001b[39m'\u001b[39m\u001b[39m{\u001b[39;00melem\u001b[39m}\u001b[39;00m\u001b[39m,\u001b[39m\u001b[39m'\u001b[39m)\n",
      "File \u001b[0;32m~/anaconda3/envs/ML/lib/python3.10/site-packages/torch/_tensor.py:990\u001b[0m, in \u001b[0;36mTensor.__iter__\u001b[0;34m(self)\u001b[0m\n\u001b[1;32m    980\u001b[0m \u001b[39mdef\u001b[39;00m \u001b[39m__iter__\u001b[39m(\u001b[39mself\u001b[39m):\n\u001b[1;32m    981\u001b[0m     \u001b[39m# NB: we use 'imap' and not 'map' here, so that in Python 2 we get a\u001b[39;00m\n\u001b[1;32m    982\u001b[0m     \u001b[39m# generator and don't eagerly perform all the indexes.  This could\u001b[39;00m\n\u001b[0;32m   (...)\u001b[0m\n\u001b[1;32m    987\u001b[0m     \u001b[39m# NB: We have intentionally skipped __torch_function__ dispatch here.\u001b[39;00m\n\u001b[1;32m    988\u001b[0m     \u001b[39m# See gh-54457\u001b[39;00m\n\u001b[1;32m    989\u001b[0m     \u001b[39mif\u001b[39;00m \u001b[39mself\u001b[39m\u001b[39m.\u001b[39mdim() \u001b[39m==\u001b[39m \u001b[39m0\u001b[39m:\n\u001b[0;32m--> 990\u001b[0m         \u001b[39mraise\u001b[39;00m \u001b[39mTypeError\u001b[39;00m(\u001b[39m\"\u001b[39m\u001b[39miteration over a 0-d tensor\u001b[39m\u001b[39m\"\u001b[39m)\n\u001b[1;32m    991\u001b[0m     \u001b[39mif\u001b[39;00m torch\u001b[39m.\u001b[39m_C\u001b[39m.\u001b[39m_get_tracing_state():\n\u001b[1;32m    992\u001b[0m         warnings\u001b[39m.\u001b[39mwarn(\n\u001b[1;32m    993\u001b[0m             \u001b[39m\"\u001b[39m\u001b[39mIterating over a tensor might cause the trace to be incorrect. \u001b[39m\u001b[39m\"\u001b[39m\n\u001b[1;32m    994\u001b[0m             \u001b[39m\"\u001b[39m\u001b[39mPassing a tensor of different shape won\u001b[39m\u001b[39m'\u001b[39m\u001b[39mt change the number of \u001b[39m\u001b[39m\"\u001b[39m\n\u001b[0;32m   (...)\u001b[0m\n\u001b[1;32m    998\u001b[0m             stacklevel\u001b[39m=\u001b[39m\u001b[39m2\u001b[39m,\n\u001b[1;32m    999\u001b[0m         )\n",
      "\u001b[0;31mTypeError\u001b[0m: iteration over a 0-d tensor"
     ]
    }
   ],
   "source": [
    "# Predictions\n",
    "predictions = nn.predict(x_test=x_test.values)\n",
    "print(predictions)\n",
    "\n",
    "# Write predictions into file .CSV\n",
    "data_handler.write_data(\n",
    "    filename='team-name_ML-CUP23-TS.csv',\n",
    "    id_list=df_id_test.values.tolist(),\n",
    "    data=predictions,\n",
    "    cols_name=['id', 'target_x', 'target_y', 'target_z']\n",
    ")\n",
    "\n",
    "predictions"
   ]
  }
 ],
 "metadata": {
  "kernelspec": {
   "display_name": "Python 3 (ipykernel)",
   "language": "python",
   "name": "python3"
  },
  "language_info": {
   "codemirror_mode": {
    "name": "ipython",
    "version": 3
   },
   "file_extension": ".py",
   "mimetype": "text/x-python",
   "name": "python",
   "nbconvert_exporter": "python",
   "pygments_lexer": "ipython3",
   "version": "3.10.13"
  },
  "orig_nbformat": 4
 },
 "nbformat": 4,
 "nbformat_minor": 2
}
