{
 "cells": [
  {
   "cell_type": "code",
   "execution_count": 29,
   "metadata": {},
   "outputs": [],
   "source": [
    "import pandas as pd"
   ]
  },
  {
   "cell_type": "markdown",
   "metadata": {},
   "source": [
    "# Data Loading"
   ]
  },
  {
   "cell_type": "code",
   "execution_count": 30,
   "metadata": {},
   "outputs": [
    {
     "name": "stdout",
     "output_type": "stream",
     "text": [
      "     target  col1  col2  col3  col4  col5  col6       id\n",
      "NaN       1     1     1     1     1     3     1   data_5\n",
      "NaN       1     1     1     1     1     3     2   data_6\n",
      "NaN       1     1     1     1     3     2     1  data_19\n",
      "NaN       1     1     1     1     3     3     2  data_22\n",
      "NaN       1     1     1     2     1     2     1  data_27\n",
      "     target  col1  col2  col3  col4  col5  col6      id\n",
      "NaN       1     1     1     1     1     1     1  data_1\n",
      "NaN       1     1     1     1     1     1     2  data_2\n",
      "NaN       1     1     1     1     1     2     1  data_3\n",
      "NaN       1     1     1     1     1     2     2  data_4\n",
      "NaN       1     1     1     1     1     3     1  data_5\n",
      "     target  col1  col2  col3  col4  col5  col6       id\n",
      "NaN       0     1     1     1     1     2     2   data_4\n",
      "NaN       0     1     1     1     1     4     1   data_7\n",
      "NaN       0     1     1     1     2     1     1   data_9\n",
      "NaN       0     1     1     1     2     1     2  data_10\n",
      "NaN       0     1     1     1     2     2     1  data_11\n",
      "     target  col1  col2  col3  col4  col5  col6      id\n",
      "NaN       0     1     1     1     1     1     1  data_1\n",
      "NaN       0     1     1     1     1     1     2  data_2\n",
      "NaN       0     1     1     1     1     2     1  data_3\n",
      "NaN       0     1     1     1     1     2     2  data_4\n",
      "NaN       0     1     1     1     1     3     1  data_5\n",
      "     target  col1  col2  col3  col4  col5  col6      id\n",
      "NaN       1     1     1     1     1     1     2  data_2\n",
      "NaN       1     1     1     1     1     2     1  data_3\n",
      "NaN       1     1     1     1     1     2     2  data_4\n",
      "NaN       0     1     1     1     1     3     1  data_5\n",
      "NaN       0     1     1     1     1     4     1  data_7\n",
      "     target  col1  col2  col3  col4  col5  col6      id\n",
      "NaN       1     1     1     1     1     1     1  data_1\n",
      "NaN       1     1     1     1     1     1     2  data_2\n",
      "NaN       1     1     1     1     1     2     1  data_3\n",
      "NaN       1     1     1     1     1     2     2  data_4\n",
      "NaN       1     1     1     1     1     3     1  data_5\n"
     ]
    }
   ],
   "source": [
    "from api.data_handler import DataHandler\n",
    "\n",
    "# Creation of a DataHandler Object\n",
    "data_handler = DataHandler(['target', 'col1', 'col2', 'col3', 'col4', 'col5', 'col6', 'id'])\n",
    "\n",
    "# Number of different Datasets\n",
    "datasets_number = 3\n",
    "\n",
    "# Lists of DataFrames\n",
    "df_train : list[pd.DataFrame] = []\n",
    "df_test  : list[pd.DataFrame] = []\n",
    "\n",
    "# Load the Training/Test sets into pandas DataFrames\n",
    "for i in range(datasets_number):\n",
    "    df_train.append(data_handler.load_data(f'data/monks/monks-{i+1}.train'))\n",
    "    df_test.append(data_handler.load_data(f'data/monks/monks-{i+1}.test'))\n",
    "\n",
    "    # Print the head of the loaded data\n",
    "    print(df_train[i].head())\n",
    "    print(df_test[i].head())"
   ]
  },
  {
   "cell_type": "markdown",
   "metadata": {},
   "source": [
    "# Data Split"
   ]
  },
  {
   "cell_type": "code",
   "execution_count": 31,
   "metadata": {},
   "outputs": [],
   "source": [
    "# Lists of data\n",
    "x_train : list[pd.DataFrame] = []\n",
    "y_train : list[pd.DataFrame] = []\n",
    "x_test  : list[pd.DataFrame] = []\n",
    "y_test  : list[pd.DataFrame] = []\n",
    "\n",
    "# Split data into TR set and TS set\n",
    "for i in range(datasets_number):\n",
    "\n",
    "    # Saving the splitted TR set data into the lists\n",
    "    x, y = data_handler.split_data(data=df_train[i], target_col='target', drop_cols=['target', 'id'])\n",
    "    x_train.append(x)\n",
    "    y_train.append(y)\n",
    "\n",
    "    # Saving the splitted TS set data into the lists\n",
    "    x, y = data_handler.split_data(df_test[i], target_col='target', drop_cols=['target', 'id'])\n",
    "    x_test.append(x)\n",
    "    y_test.append(y)\n"
   ]
  },
  {
   "cell_type": "markdown",
   "metadata": {},
   "source": [
    "# 1-Hot Encoding"
   ]
  },
  {
   "cell_type": "code",
   "execution_count": 32,
   "metadata": {},
   "outputs": [
    {
     "name": "stdout",
     "output_type": "stream",
     "text": [
      "Monk 1 [TRAIN]: (124, 17)\n",
      "Monk 1 [TEST]: (432, 17)\n",
      "Monk 2 [TRAIN]: (169, 17)\n",
      "Monk 2 [TEST]: (432, 17)\n",
      "Monk 3 [TRAIN]: (122, 17)\n",
      "Monk 3 [TEST]: (432, 17)\n"
     ]
    }
   ],
   "source": [
    "# Applies the 1-Hot Encoding to the \"x\" data\n",
    "for i in range(datasets_number):\n",
    "    x_train[i] = data_handler.one_hot_encoding(x_train[i])\n",
    "    x_test[i]  = data_handler.one_hot_encoding(x_test[i])\n",
    "\n",
    "    # Print of the data modified\n",
    "    print(f\"Monk {i+1} [TRAIN]: \" + str(x_train[i].shape))\n",
    "    print(f\"Monk {i+1} [TEST]: \" + str(x_test[i].shape))"
   ]
  },
  {
   "cell_type": "markdown",
   "metadata": {},
   "source": [
    "# Grid Search parameters"
   ]
  },
  {
   "cell_type": "code",
   "execution_count": 33,
   "metadata": {},
   "outputs": [],
   "source": [
    "# Parameters' space for Grid Search (1 for each Dataset)\n",
    "param_space = {\n",
    "       0: {\n",
    "        'input_units': [17],\n",
    "        'hidden_units': [3, 4],\n",
    "        'patience': [15, 30],\n",
    "        'learning_rate': [0.3, 0.4],\n",
    "        'batch_size': [2, 4, 6],\n",
    "        'nesterov': [\"T\", \"F\"],\n",
    "        'epochs': [340, 440, 450],\n",
    "        'momentum': [0.6, 0.7, 0.8],\n",
    "        'activation': ['tanh'],\n",
    "        'output_activation': ['sigmoid'],\n",
    "        'metrics': ['accuracy'],\n",
    "    },\n",
    "    1: {\n",
    "        'input_units': [17],\n",
    "        'hidden_units': [3, 4, 5],\n",
    "        'patience': [10,100,200],\n",
    "        'factor_lr_dec': [0.5, 1],\n",
    "        'step_decay': [500, 1000, 1500],\n",
    "        'learning_rate': [float(i/100) for i in range(1,101,5)] + [0.999, 0.9999],\n",
    "        'batch_size': [10, 15, 30, 60], # 169 ROWS\n",
    "        'epochs': [int(250+epochs) for epochs in range(0,200,20)],\n",
    "        'momentum': [float(i/100) for i in range(50,90,5)],\n",
    "        'nesterov': [\"T\", \"F\"],\n",
    "        'activation': ['tanh'],\n",
    "        'output_activation': ['sigmoid'],\n",
    "        'metrics': ['accuracy'],\n",
    "    },\n",
    "    2: {\n",
    "        'input_units': [17],\n",
    "        'hidden_units': [2, 3],\n",
    "        'patience': [10,15,30],\n",
    "        'factor_lr_dec': [0.5, 1],\n",
    "        'step_decay': [500, 1000, 1500],\n",
    "        'learning_rate': [float(i/100) for i in range(1,10)],\n",
    "        'batch_size': [7, 8, 9, 32, 64],\n",
    "        'epochs': [int(350+epochs) for epochs in range(0,50,10)],\n",
    "        'weight_decay': [float(i/1000) for i in range(1,10)],\n",
    "        'momentum': [float(i/1000) for i in range(10,90,5)] + [float(i/100) for i in range(10,90,5)],\n",
    "        'nesterov': [\"T\", \"F\"],\n",
    "        'activation': ['tanh'],\n",
    "        'output_activation': ['sigmoid'],\n",
    "        'metrics': ['accuracy'],\n",
    "    }\n",
    "}"
   ]
  },
  {
   "cell_type": "markdown",
   "metadata": {},
   "source": [
    "# Model Selection"
   ]
  },
  {
   "cell_type": "markdown",
   "metadata": {},
   "source": [
    "## Best Hyperparameters Research"
   ]
  },
  {
   "cell_type": "code",
   "execution_count": 34,
   "metadata": {},
   "outputs": [
    {
     "name": "stdout",
     "output_type": "stream",
     "text": [
      "------------------ Current Hyperparameters ------------------\n",
      " Monk:                     1\n",
      " Trial:                    1\n",
      " Hyperparameters:          {'input_units': 17, 'hidden_units': 4, 'patience': 30, 'learning_rate': 0.3, 'batch_size': 4, 'nesterov': 'T', 'epochs': 340, 'momentum': 0.6, 'activation': 'tanh', 'output_activation': 'sigmoid', 'metrics': 'accuracy'}\n",
      " Mean Training Loss:       0.006073667560485774\n",
      " Mean Validation Loss:     0.03419451429508626\n",
      " Mean Training Accuracy:   0.991919195652008\n",
      " Mean Validation Accuracy: 0.9599999904632568\n",
      "-------------------- Best Hyperparameters -------------------\n",
      " Monk:                     1\n",
      " Trial:                    1\n",
      " Hyperparameters:          {'input_units': 17, 'hidden_units': 4, 'patience': 30, 'learning_rate': 0.3, 'batch_size': 4, 'nesterov': 'T', 'epochs': 340, 'momentum': 0.6, 'activation': 'tanh', 'output_activation': 'sigmoid', 'metrics': 'accuracy'}\n",
      " Mean Training Loss:       0.006073667560485774\n",
      " Mean Validation Loss:     0.03419451429508626\n",
      " Mean Training Accuracy:   0.991919195652008\n",
      " Mean Validation Accuracy: 0.9599999904632568\n",
      "\n",
      "\n",
      "\n",
      "------------------ Current Hyperparameters ------------------\n",
      " Monk:                     1\n",
      " Trial:                    2\n",
      " Hyperparameters:          {'input_units': 17, 'hidden_units': 4, 'patience': 15, 'learning_rate': 0.4, 'batch_size': 2, 'nesterov': 'F', 'epochs': 440, 'momentum': 0.6, 'activation': 'tanh', 'output_activation': 'sigmoid', 'metrics': 'accuracy'}\n",
      " Mean Training Loss:       0.0004233086303429445\n",
      " Mean Validation Loss:     0.03002344977176108\n",
      " Mean Training Accuracy:   1.0\n",
      " Mean Validation Accuracy: 0.9600000023841858\n",
      "-------------------- Best Hyperparameters -------------------\n",
      " Monk:                     1\n",
      " Trial:                    1\n",
      " Hyperparameters:          {'input_units': 17, 'hidden_units': 4, 'patience': 30, 'learning_rate': 0.3, 'batch_size': 4, 'nesterov': 'T', 'epochs': 340, 'momentum': 0.6, 'activation': 'tanh', 'output_activation': 'sigmoid', 'metrics': 'accuracy'}\n",
      " Mean Training Loss:       0.006073667560485774\n",
      " Mean Validation Loss:     0.03419451429508626\n",
      " Mean Training Accuracy:   0.991919195652008\n",
      " Mean Validation Accuracy: 0.9599999904632568\n",
      "\n",
      "\n",
      "\n",
      "------------------ Current Hyperparameters ------------------\n",
      " Monk:                     1\n",
      " Trial:                    3\n",
      " Hyperparameters:          {'input_units': 17, 'hidden_units': 3, 'patience': 15, 'learning_rate': 0.3, 'batch_size': 4, 'nesterov': 'T', 'epochs': 340, 'momentum': 0.6, 'activation': 'tanh', 'output_activation': 'sigmoid', 'metrics': 'accuracy'}\n",
      " Mean Training Loss:       0.031692247476894406\n",
      " Mean Validation Loss:     0.032067629782250154\n",
      " Mean Training Accuracy:   0.9636363625526428\n",
      " Mean Validation Accuracy: 0.9679999947547913\n",
      "-------------------- Best Hyperparameters -------------------\n",
      " Monk:                     1\n",
      " Trial:                    2\n",
      " Hyperparameters:          {'input_units': 17, 'hidden_units': 4, 'patience': 15, 'learning_rate': 0.4, 'batch_size': 2, 'nesterov': 'F', 'epochs': 440, 'momentum': 0.6, 'activation': 'tanh', 'output_activation': 'sigmoid', 'metrics': 'accuracy'}\n",
      " Mean Training Loss:       0.0004233086303429445\n",
      " Mean Validation Loss:     0.03002344977176108\n",
      " Mean Training Accuracy:   1.0\n",
      " Mean Validation Accuracy: 0.9600000023841858\n",
      "\n",
      "\n",
      "\n",
      "------------------ Current Hyperparameters ------------------\n",
      " Monk:                     1\n",
      " Trial:                    4\n",
      " Hyperparameters:          {'input_units': 17, 'hidden_units': 3, 'patience': 30, 'learning_rate': 0.3, 'batch_size': 6, 'nesterov': 'T', 'epochs': 340, 'momentum': 0.7, 'activation': 'tanh', 'output_activation': 'sigmoid', 'metrics': 'accuracy'}\n",
      " Mean Training Loss:       0.00012820637275581248\n",
      " Mean Validation Loss:     0.01047321421210654\n",
      " Mean Training Accuracy:   1.0\n",
      " Mean Validation Accuracy: 0.9919999957084655\n",
      "-------------------- Best Hyperparameters -------------------\n",
      " Monk:                     1\n",
      " Trial:                    3\n",
      " Hyperparameters:          {'input_units': 17, 'hidden_units': 3, 'patience': 15, 'learning_rate': 0.3, 'batch_size': 4, 'nesterov': 'T', 'epochs': 340, 'momentum': 0.6, 'activation': 'tanh', 'output_activation': 'sigmoid', 'metrics': 'accuracy'}\n",
      " Mean Training Loss:       0.031692247476894406\n",
      " Mean Validation Loss:     0.032067629782250154\n",
      " Mean Training Accuracy:   0.9636363625526428\n",
      " Mean Validation Accuracy: 0.9679999947547913\n",
      "\n",
      "\n",
      "\n",
      "------------------ Current Hyperparameters ------------------\n",
      " Monk:                     1\n",
      " Trial:                    5\n",
      " Hyperparameters:          {'input_units': 17, 'hidden_units': 3, 'patience': 15, 'learning_rate': 0.4, 'batch_size': 2, 'nesterov': 'T', 'epochs': 440, 'momentum': 0.8, 'activation': 'tanh', 'output_activation': 'sigmoid', 'metrics': 'accuracy'}\n",
      " Mean Training Loss:       0.14152624756097792\n",
      " Mean Validation Loss:     0.13865661025047302\n",
      " Mean Training Accuracy:   0.8124040484428405\n",
      " Mean Validation Accuracy: 0.7980000019073487\n",
      "-------------------- Best Hyperparameters -------------------\n",
      " Monk:                     1\n",
      " Trial:                    4\n",
      " Hyperparameters:          {'input_units': 17, 'hidden_units': 3, 'patience': 30, 'learning_rate': 0.3, 'batch_size': 6, 'nesterov': 'T', 'epochs': 340, 'momentum': 0.7, 'activation': 'tanh', 'output_activation': 'sigmoid', 'metrics': 'accuracy'}\n",
      " Mean Training Loss:       0.00012820637275581248\n",
      " Mean Validation Loss:     0.01047321421210654\n",
      " Mean Training Accuracy:   1.0\n",
      " Mean Validation Accuracy: 0.9919999957084655\n",
      "\n",
      "\n",
      "\n",
      "------------------ Current Hyperparameters ------------------\n",
      " Monk:                     1\n",
      " Trial:                    6\n",
      " Hyperparameters:          {'input_units': 17, 'hidden_units': 3, 'patience': 15, 'learning_rate': 0.4, 'batch_size': 4, 'nesterov': 'T', 'epochs': 340, 'momentum': 0.6, 'activation': 'tanh', 'output_activation': 'sigmoid', 'metrics': 'accuracy'}\n",
      " Mean Training Loss:       0.011392495924519607\n",
      " Mean Validation Loss:     0.020350804133340717\n",
      " Mean Training Accuracy:   0.9858585834503174\n",
      " Mean Validation Accuracy: 0.9759999990463257\n",
      "-------------------- Best Hyperparameters -------------------\n",
      " Monk:                     1\n",
      " Trial:                    4\n",
      " Hyperparameters:          {'input_units': 17, 'hidden_units': 3, 'patience': 30, 'learning_rate': 0.3, 'batch_size': 6, 'nesterov': 'T', 'epochs': 340, 'momentum': 0.7, 'activation': 'tanh', 'output_activation': 'sigmoid', 'metrics': 'accuracy'}\n",
      " Mean Training Loss:       0.00012820637275581248\n",
      " Mean Validation Loss:     0.01047321421210654\n",
      " Mean Training Accuracy:   1.0\n",
      " Mean Validation Accuracy: 0.9919999957084655\n",
      "\n",
      "\n",
      "\n",
      "------------------ Current Hyperparameters ------------------\n",
      " Monk:                     1\n",
      " Trial:                    7\n",
      " Hyperparameters:          {'input_units': 17, 'hidden_units': 4, 'patience': 15, 'learning_rate': 0.3, 'batch_size': 4, 'nesterov': 'F', 'epochs': 440, 'momentum': 0.7, 'activation': 'tanh', 'output_activation': 'sigmoid', 'metrics': 'accuracy'}\n",
      " Mean Training Loss:       0.014226599005996831\n",
      " Mean Validation Loss:     0.005746641242876649\n",
      " Mean Training Accuracy:   0.9838383793830872\n",
      " Mean Validation Accuracy: 1.0\n",
      "-------------------- Best Hyperparameters -------------------\n",
      " Monk:                     1\n",
      " Trial:                    4\n",
      " Hyperparameters:          {'input_units': 17, 'hidden_units': 3, 'patience': 30, 'learning_rate': 0.3, 'batch_size': 6, 'nesterov': 'T', 'epochs': 340, 'momentum': 0.7, 'activation': 'tanh', 'output_activation': 'sigmoid', 'metrics': 'accuracy'}\n",
      " Mean Training Loss:       0.00012820637275581248\n",
      " Mean Validation Loss:     0.01047321421210654\n",
      " Mean Training Accuracy:   1.0\n",
      " Mean Validation Accuracy: 0.9919999957084655\n",
      "\n",
      "\n",
      "\n",
      "------------------ Current Hyperparameters ------------------\n",
      " Monk:                     1\n",
      " Trial:                    8\n",
      " Hyperparameters:          {'input_units': 17, 'hidden_units': 3, 'patience': 30, 'learning_rate': 0.4, 'batch_size': 2, 'nesterov': 'T', 'epochs': 340, 'momentum': 0.6, 'activation': 'tanh', 'output_activation': 'sigmoid', 'metrics': 'accuracy'}\n",
      " Mean Training Loss:       0.01901281469545211\n",
      " Mean Validation Loss:     0.04545415350876283\n",
      " Mean Training Accuracy:   0.9777777791023254\n",
      " Mean Validation Accuracy: 0.9276666641235352\n",
      "-------------------- Best Hyperparameters -------------------\n",
      " Monk:                     1\n",
      " Trial:                    7\n",
      " Hyperparameters:          {'input_units': 17, 'hidden_units': 4, 'patience': 15, 'learning_rate': 0.3, 'batch_size': 4, 'nesterov': 'F', 'epochs': 440, 'momentum': 0.7, 'activation': 'tanh', 'output_activation': 'sigmoid', 'metrics': 'accuracy'}\n",
      " Mean Training Loss:       0.014226599005996831\n",
      " Mean Validation Loss:     0.005746641242876649\n",
      " Mean Training Accuracy:   0.9838383793830872\n",
      " Mean Validation Accuracy: 1.0\n",
      "\n",
      "\n",
      "\n",
      "------------------ Current Hyperparameters ------------------\n",
      " Monk:                     1\n",
      " Trial:                    9\n",
      " Hyperparameters:          {'input_units': 17, 'hidden_units': 4, 'patience': 15, 'learning_rate': 0.4, 'batch_size': 6, 'nesterov': 'T', 'epochs': 340, 'momentum': 0.7, 'activation': 'tanh', 'output_activation': 'sigmoid', 'metrics': 'accuracy'}\n",
      " Mean Training Loss:       7.426714182656724e-05\n",
      " Mean Validation Loss:     0.009888020785001572\n",
      " Mean Training Accuracy:   1.0\n",
      " Mean Validation Accuracy: 0.9916666626930237\n",
      "-------------------- Best Hyperparameters -------------------\n",
      " Monk:                     1\n",
      " Trial:                    7\n",
      " Hyperparameters:          {'input_units': 17, 'hidden_units': 4, 'patience': 15, 'learning_rate': 0.3, 'batch_size': 4, 'nesterov': 'F', 'epochs': 440, 'momentum': 0.7, 'activation': 'tanh', 'output_activation': 'sigmoid', 'metrics': 'accuracy'}\n",
      " Mean Training Loss:       0.014226599005996831\n",
      " Mean Validation Loss:     0.005746641242876649\n",
      " Mean Training Accuracy:   0.9838383793830872\n",
      " Mean Validation Accuracy: 1.0\n",
      "\n",
      "\n",
      "\n"
     ]
    },
    {
     "ename": "KeyboardInterrupt",
     "evalue": "",
     "output_type": "error",
     "traceback": [
      "\u001b[1;31m---------------------------------------------------------------------------\u001b[0m",
      "\u001b[1;31mKeyboardInterrupt\u001b[0m                         Traceback (most recent call last)",
      "Input \u001b[1;32mIn [34]\u001b[0m, in \u001b[0;36m<cell line: 13>\u001b[1;34m()\u001b[0m\n\u001b[0;32m     38\u001b[0m nn_i\u001b[38;5;241m.\u001b[39mcreate_model(n_hidden_layers\u001b[38;5;241m=\u001b[39mn_hidden_layers_list[dataset_i])\n\u001b[0;32m     40\u001b[0m \u001b[38;5;66;03m# Training the model\u001b[39;00m\n\u001b[1;32m---> 41\u001b[0m \u001b[43mnn_i\u001b[49m\u001b[38;5;241;43m.\u001b[39;49m\u001b[43mfit\u001b[49m\u001b[43m(\u001b[49m\n\u001b[0;32m     42\u001b[0m \u001b[43m    \u001b[49m\u001b[43mx_train\u001b[49m\u001b[38;5;241;43m=\u001b[39;49m\u001b[43mx_kfold_train\u001b[49m\u001b[43m,\u001b[49m\n\u001b[0;32m     43\u001b[0m \u001b[43m    \u001b[49m\u001b[43my_train\u001b[49m\u001b[38;5;241;43m=\u001b[39;49m\u001b[43my_kfold_train\u001b[49m\u001b[43m,\u001b[49m\n\u001b[0;32m     44\u001b[0m \u001b[43m    \u001b[49m\u001b[43mx_val\u001b[49m\u001b[38;5;241;43m=\u001b[39;49m\u001b[43mx_kfold_val\u001b[49m\u001b[43m,\u001b[49m\n\u001b[0;32m     45\u001b[0m \u001b[43m    \u001b[49m\u001b[43my_val\u001b[49m\u001b[38;5;241;43m=\u001b[39;49m\u001b[43my_kfold_val\u001b[49m\n\u001b[0;32m     46\u001b[0m \u001b[43m\u001b[49m\u001b[43m)\u001b[49m\n\u001b[0;32m     48\u001b[0m \u001b[38;5;66;03m# Evaluating the model\u001b[39;00m\n\u001b[0;32m     49\u001b[0m nn_i\u001b[38;5;241m.\u001b[39mevaluate(\n\u001b[0;32m     50\u001b[0m     x_train\u001b[38;5;241m=\u001b[39mx_kfold_train,\n\u001b[0;32m     51\u001b[0m     y_train\u001b[38;5;241m=\u001b[39my_kfold_train,\n\u001b[0;32m     52\u001b[0m     x_val\u001b[38;5;241m=\u001b[39mx_kfold_val,\n\u001b[0;32m     53\u001b[0m     y_val\u001b[38;5;241m=\u001b[39my_kfold_val\n\u001b[0;32m     54\u001b[0m )\n",
      "File \u001b[1;32mc:\\Users\\corra\\Documents\\GitHub\\Machine_Learning_Project\\api\\binary_nn.py:242\u001b[0m, in \u001b[0;36mBinaryNN.fit\u001b[1;34m(self, x_train, y_train, x_val, y_val)\u001b[0m\n\u001b[0;32m    240\u001b[0m \u001b[38;5;66;03m# Training of the model with TR set and VL set (already splitted)\u001b[39;00m\n\u001b[0;32m    241\u001b[0m \u001b[38;5;28;01melif\u001b[39;00m x_val \u001b[38;5;129;01mis\u001b[39;00m \u001b[38;5;129;01mnot\u001b[39;00m \u001b[38;5;28;01mNone\u001b[39;00m \u001b[38;5;129;01mand\u001b[39;00m y_val \u001b[38;5;129;01mis\u001b[39;00m \u001b[38;5;129;01mnot\u001b[39;00m \u001b[38;5;28;01mNone\u001b[39;00m:\n\u001b[1;32m--> 242\u001b[0m     \u001b[38;5;28mself\u001b[39m\u001b[38;5;241m.\u001b[39mhistory \u001b[38;5;241m=\u001b[39m \u001b[38;5;28;43mself\u001b[39;49m\u001b[38;5;241;43m.\u001b[39;49m\u001b[43mmodel\u001b[49m\u001b[38;5;241;43m.\u001b[39;49m\u001b[43mfit\u001b[49m\u001b[43m(\u001b[49m\n\u001b[0;32m    243\u001b[0m \u001b[43m        \u001b[49m\u001b[43mx\u001b[49m\u001b[38;5;241;43m=\u001b[39;49m\u001b[43mx_train\u001b[49m\u001b[43m,\u001b[49m\n\u001b[0;32m    244\u001b[0m \u001b[43m        \u001b[49m\u001b[43my\u001b[49m\u001b[38;5;241;43m=\u001b[39;49m\u001b[43my_train\u001b[49m\u001b[43m,\u001b[49m\n\u001b[0;32m    245\u001b[0m \u001b[43m        \u001b[49m\u001b[43mepochs\u001b[49m\u001b[38;5;241;43m=\u001b[39;49m\u001b[38;5;28;43mself\u001b[39;49m\u001b[38;5;241;43m.\u001b[39;49m\u001b[43mparams\u001b[49m\u001b[43m[\u001b[49m\u001b[38;5;124;43m'\u001b[39;49m\u001b[38;5;124;43mepochs\u001b[39;49m\u001b[38;5;124;43m'\u001b[39;49m\u001b[43m]\u001b[49m\u001b[43m,\u001b[49m\n\u001b[0;32m    246\u001b[0m \u001b[43m        \u001b[49m\u001b[43mbatch_size\u001b[49m\u001b[38;5;241;43m=\u001b[39;49m\u001b[38;5;28;43mself\u001b[39;49m\u001b[38;5;241;43m.\u001b[39;49m\u001b[43mparams\u001b[49m\u001b[43m[\u001b[49m\u001b[38;5;124;43m'\u001b[39;49m\u001b[38;5;124;43mbatch_size\u001b[39;49m\u001b[38;5;124;43m'\u001b[39;49m\u001b[43m]\u001b[49m\u001b[43m,\u001b[49m\n\u001b[0;32m    247\u001b[0m \u001b[43m        \u001b[49m\u001b[43mvalidation_data\u001b[49m\u001b[38;5;241;43m=\u001b[39;49m\u001b[43m(\u001b[49m\u001b[43mx_val\u001b[49m\u001b[43m,\u001b[49m\u001b[43m \u001b[49m\u001b[43my_val\u001b[49m\u001b[43m)\u001b[49m\u001b[43m,\u001b[49m\n\u001b[0;32m    248\u001b[0m \u001b[43m        \u001b[49m\u001b[43mcallbacks\u001b[49m\u001b[38;5;241;43m=\u001b[39;49m\u001b[43m[\u001b[49m\u001b[43mEarlyStopping\u001b[49m\u001b[43m(\u001b[49m\u001b[43mmonitor\u001b[49m\u001b[38;5;241;43m=\u001b[39;49m\u001b[38;5;124;43m'\u001b[39;49m\u001b[38;5;124;43mval_loss\u001b[39;49m\u001b[38;5;124;43m'\u001b[39;49m\u001b[43m,\u001b[49m\u001b[43m \u001b[49m\u001b[43mpatience\u001b[49m\u001b[38;5;241;43m=\u001b[39;49m\u001b[38;5;28;43mself\u001b[39;49m\u001b[38;5;241;43m.\u001b[39;49m\u001b[43mparams\u001b[49m\u001b[43m[\u001b[49m\u001b[38;5;124;43m\"\u001b[39;49m\u001b[38;5;124;43mpatience\u001b[39;49m\u001b[38;5;124;43m\"\u001b[39;49m\u001b[43m]\u001b[49m\u001b[43m,\u001b[49m\u001b[43m \u001b[49m\u001b[43mrestore_best_weights\u001b[49m\u001b[38;5;241;43m=\u001b[39;49m\u001b[38;5;28;43;01mTrue\u001b[39;49;00m\u001b[43m)\u001b[49m\u001b[43m]\u001b[49m\u001b[43m,\u001b[49m\n\u001b[0;32m    249\u001b[0m \u001b[43m        \u001b[49m\u001b[43mverbose\u001b[49m\u001b[38;5;241;43m=\u001b[39;49m\u001b[38;5;241;43m0\u001b[39;49m\u001b[43m,\u001b[49m\n\u001b[0;32m    250\u001b[0m \u001b[43m        \u001b[49m\u001b[43mshuffle\u001b[49m\u001b[38;5;241;43m=\u001b[39;49m\u001b[38;5;28;43;01mTrue\u001b[39;49;00m\n\u001b[0;32m    251\u001b[0m \u001b[43m    \u001b[49m\u001b[43m)\u001b[49m\n\u001b[0;32m    253\u001b[0m \u001b[38;5;66;03m# Error case\u001b[39;00m\n\u001b[0;32m    254\u001b[0m \u001b[38;5;28;01melse\u001b[39;00m:\n\u001b[0;32m    255\u001b[0m     \u001b[38;5;28;01mraise\u001b[39;00m \u001b[38;5;167;01mValueError\u001b[39;00m\n",
      "File \u001b[1;32mc:\\Users\\corra\\anaconda3\\lib\\site-packages\\keras\\src\\utils\\traceback_utils.py:65\u001b[0m, in \u001b[0;36mfilter_traceback.<locals>.error_handler\u001b[1;34m(*args, **kwargs)\u001b[0m\n\u001b[0;32m     63\u001b[0m filtered_tb \u001b[38;5;241m=\u001b[39m \u001b[38;5;28;01mNone\u001b[39;00m\n\u001b[0;32m     64\u001b[0m \u001b[38;5;28;01mtry\u001b[39;00m:\n\u001b[1;32m---> 65\u001b[0m     \u001b[38;5;28;01mreturn\u001b[39;00m fn(\u001b[38;5;241m*\u001b[39margs, \u001b[38;5;241m*\u001b[39m\u001b[38;5;241m*\u001b[39mkwargs)\n\u001b[0;32m     66\u001b[0m \u001b[38;5;28;01mexcept\u001b[39;00m \u001b[38;5;167;01mException\u001b[39;00m \u001b[38;5;28;01mas\u001b[39;00m e:\n\u001b[0;32m     67\u001b[0m     filtered_tb \u001b[38;5;241m=\u001b[39m _process_traceback_frames(e\u001b[38;5;241m.\u001b[39m__traceback__)\n",
      "File \u001b[1;32mc:\\Users\\corra\\anaconda3\\lib\\site-packages\\keras\\src\\engine\\training.py:1856\u001b[0m, in \u001b[0;36mModel.fit\u001b[1;34m(self, x, y, batch_size, epochs, verbose, callbacks, validation_split, validation_data, shuffle, class_weight, sample_weight, initial_epoch, steps_per_epoch, validation_steps, validation_batch_size, validation_freq, max_queue_size, workers, use_multiprocessing)\u001b[0m\n\u001b[0;32m   1840\u001b[0m \u001b[38;5;28;01mif\u001b[39;00m \u001b[38;5;28mgetattr\u001b[39m(\u001b[38;5;28mself\u001b[39m, \u001b[38;5;124m\"\u001b[39m\u001b[38;5;124m_eval_data_handler\u001b[39m\u001b[38;5;124m\"\u001b[39m, \u001b[38;5;28;01mNone\u001b[39;00m) \u001b[38;5;129;01mis\u001b[39;00m \u001b[38;5;28;01mNone\u001b[39;00m:\n\u001b[0;32m   1841\u001b[0m     \u001b[38;5;28mself\u001b[39m\u001b[38;5;241m.\u001b[39m_eval_data_handler \u001b[38;5;241m=\u001b[39m data_adapter\u001b[38;5;241m.\u001b[39mget_data_handler(\n\u001b[0;32m   1842\u001b[0m         x\u001b[38;5;241m=\u001b[39mval_x,\n\u001b[0;32m   1843\u001b[0m         y\u001b[38;5;241m=\u001b[39mval_y,\n\u001b[1;32m   (...)\u001b[0m\n\u001b[0;32m   1854\u001b[0m         pss_evaluation_shards\u001b[38;5;241m=\u001b[39m\u001b[38;5;28mself\u001b[39m\u001b[38;5;241m.\u001b[39m_pss_evaluation_shards,\n\u001b[0;32m   1855\u001b[0m     )\n\u001b[1;32m-> 1856\u001b[0m val_logs \u001b[38;5;241m=\u001b[39m \u001b[38;5;28;43mself\u001b[39;49m\u001b[38;5;241;43m.\u001b[39;49m\u001b[43mevaluate\u001b[49m\u001b[43m(\u001b[49m\n\u001b[0;32m   1857\u001b[0m \u001b[43m    \u001b[49m\u001b[43mx\u001b[49m\u001b[38;5;241;43m=\u001b[39;49m\u001b[43mval_x\u001b[49m\u001b[43m,\u001b[49m\n\u001b[0;32m   1858\u001b[0m \u001b[43m    \u001b[49m\u001b[43my\u001b[49m\u001b[38;5;241;43m=\u001b[39;49m\u001b[43mval_y\u001b[49m\u001b[43m,\u001b[49m\n\u001b[0;32m   1859\u001b[0m \u001b[43m    \u001b[49m\u001b[43msample_weight\u001b[49m\u001b[38;5;241;43m=\u001b[39;49m\u001b[43mval_sample_weight\u001b[49m\u001b[43m,\u001b[49m\n\u001b[0;32m   1860\u001b[0m \u001b[43m    \u001b[49m\u001b[43mbatch_size\u001b[49m\u001b[38;5;241;43m=\u001b[39;49m\u001b[43mvalidation_batch_size\u001b[49m\u001b[43m \u001b[49m\u001b[38;5;129;43;01mor\u001b[39;49;00m\u001b[43m \u001b[49m\u001b[43mbatch_size\u001b[49m\u001b[43m,\u001b[49m\n\u001b[0;32m   1861\u001b[0m \u001b[43m    \u001b[49m\u001b[43msteps\u001b[49m\u001b[38;5;241;43m=\u001b[39;49m\u001b[43mvalidation_steps\u001b[49m\u001b[43m,\u001b[49m\n\u001b[0;32m   1862\u001b[0m \u001b[43m    \u001b[49m\u001b[43mcallbacks\u001b[49m\u001b[38;5;241;43m=\u001b[39;49m\u001b[43mcallbacks\u001b[49m\u001b[43m,\u001b[49m\n\u001b[0;32m   1863\u001b[0m \u001b[43m    \u001b[49m\u001b[43mmax_queue_size\u001b[49m\u001b[38;5;241;43m=\u001b[39;49m\u001b[43mmax_queue_size\u001b[49m\u001b[43m,\u001b[49m\n\u001b[0;32m   1864\u001b[0m \u001b[43m    \u001b[49m\u001b[43mworkers\u001b[49m\u001b[38;5;241;43m=\u001b[39;49m\u001b[43mworkers\u001b[49m\u001b[43m,\u001b[49m\n\u001b[0;32m   1865\u001b[0m \u001b[43m    \u001b[49m\u001b[43muse_multiprocessing\u001b[49m\u001b[38;5;241;43m=\u001b[39;49m\u001b[43muse_multiprocessing\u001b[49m\u001b[43m,\u001b[49m\n\u001b[0;32m   1866\u001b[0m \u001b[43m    \u001b[49m\u001b[43mreturn_dict\u001b[49m\u001b[38;5;241;43m=\u001b[39;49m\u001b[38;5;28;43;01mTrue\u001b[39;49;00m\u001b[43m,\u001b[49m\n\u001b[0;32m   1867\u001b[0m \u001b[43m    \u001b[49m\u001b[43m_use_cached_eval_dataset\u001b[49m\u001b[38;5;241;43m=\u001b[39;49m\u001b[38;5;28;43;01mTrue\u001b[39;49;00m\u001b[43m,\u001b[49m\n\u001b[0;32m   1868\u001b[0m \u001b[43m\u001b[49m\u001b[43m)\u001b[49m\n\u001b[0;32m   1869\u001b[0m val_logs \u001b[38;5;241m=\u001b[39m {\n\u001b[0;32m   1870\u001b[0m     \u001b[38;5;124m\"\u001b[39m\u001b[38;5;124mval_\u001b[39m\u001b[38;5;124m\"\u001b[39m \u001b[38;5;241m+\u001b[39m name: val \u001b[38;5;28;01mfor\u001b[39;00m name, val \u001b[38;5;129;01min\u001b[39;00m val_logs\u001b[38;5;241m.\u001b[39mitems()\n\u001b[0;32m   1871\u001b[0m }\n\u001b[0;32m   1872\u001b[0m epoch_logs\u001b[38;5;241m.\u001b[39mupdate(val_logs)\n",
      "File \u001b[1;32mc:\\Users\\corra\\anaconda3\\lib\\site-packages\\keras\\src\\utils\\traceback_utils.py:65\u001b[0m, in \u001b[0;36mfilter_traceback.<locals>.error_handler\u001b[1;34m(*args, **kwargs)\u001b[0m\n\u001b[0;32m     63\u001b[0m filtered_tb \u001b[38;5;241m=\u001b[39m \u001b[38;5;28;01mNone\u001b[39;00m\n\u001b[0;32m     64\u001b[0m \u001b[38;5;28;01mtry\u001b[39;00m:\n\u001b[1;32m---> 65\u001b[0m     \u001b[38;5;28;01mreturn\u001b[39;00m fn(\u001b[38;5;241m*\u001b[39margs, \u001b[38;5;241m*\u001b[39m\u001b[38;5;241m*\u001b[39mkwargs)\n\u001b[0;32m     66\u001b[0m \u001b[38;5;28;01mexcept\u001b[39;00m \u001b[38;5;167;01mException\u001b[39;00m \u001b[38;5;28;01mas\u001b[39;00m e:\n\u001b[0;32m     67\u001b[0m     filtered_tb \u001b[38;5;241m=\u001b[39m _process_traceback_frames(e\u001b[38;5;241m.\u001b[39m__traceback__)\n",
      "\u001b[1;31mKeyboardInterrupt\u001b[0m: "
     ]
    }
   ],
   "source": [
    "from sklearn.model_selection import StratifiedKFold\n",
    "from api.binary_nn import BinaryNN\n",
    "\n",
    "# Creation of a BinaryNN objct for each dataset\n",
    "nn: list[BinaryNN] = []\n",
    "\n",
    "# Different values per dataset\n",
    "trials_list = [5, 5, 5] #40, 30\n",
    "k_values = [5, 5, 5]\n",
    "n_hidden_layers_list = [1, 1, 1]\n",
    "\n",
    "# Search of the best Hyperparameters to each Training set\n",
    "for dataset_i in range(datasets_number):\n",
    "    X = x_train[dataset_i].values\n",
    "    y = y_train[dataset_i].values\n",
    "    k = k_values[dataset_i]\n",
    "\n",
    "    # K-fold Cross-validation\n",
    "    kfold = StratifiedKFold(n_splits=k, shuffle=True, random_state=42)\n",
    "\n",
    "    # For each iteration we choose the hyperparameters (randomly) and we use them with K-fold CV\n",
    "    for i in range(trials_list[dataset_i]):\n",
    "        #if i != 2:\n",
    "        #    continue\n",
    "        \n",
    "        # All parameters\n",
    "        params = data_handler.complete_dictionary(param_space[dataset_i])\n",
    "\n",
    "        # Creation of the Neural Network object\n",
    "        nn_i = BinaryNN(params=params, monk_i=dataset_i+1, trial=i+1)\n",
    "\n",
    "        # For each K-fold returns the indexes of the data splitted in: <X_train,y_train> and <X_val,y_val>\n",
    "        for train_index, val_index in kfold.split(X, y):\n",
    "            x_kfold_train, x_kfold_val = X[train_index], X[val_index]\n",
    "            y_kfold_train, y_kfold_val = y[train_index], y[val_index]\n",
    "\n",
    "            # Building the model\n",
    "            nn_i.create_model(n_hidden_layers=n_hidden_layers_list[dataset_i])\n",
    "\n",
    "            # Training the model\n",
    "            nn_i.fit(\n",
    "                x_train=x_kfold_train,\n",
    "                y_train=y_kfold_train,\n",
    "                x_val=x_kfold_val,\n",
    "                y_val=y_kfold_val\n",
    "            )\n",
    "\n",
    "            # Evaluating the model\n",
    "            nn_i.evaluate(\n",
    "                x_train=x_kfold_train,\n",
    "                y_train=y_kfold_train,\n",
    "                x_val=x_kfold_val,\n",
    "                y_val=y_kfold_val\n",
    "            )\n",
    "\n",
    "        # Case of first append\n",
    "        if len(nn) == dataset_i:\n",
    "            nn.append(nn_i)\n",
    "        \n",
    "        # Print the results of this trial\n",
    "        print(\"------------------ Current Hyperparameters ------------------\")\n",
    "        nn_i.print_training_info()\n",
    "        print(\"-------------------- Best Hyperparameters -------------------\")\n",
    "        nn[dataset_i].print_training_info()\n",
    "        print(\"\\n\\n\")\n",
    "\n",
    "        # Update best hyperparameters if: no high overfitting AND (higher mean VL accuracy OR (equal mean AND\n",
    "        if nn_i.mean_tr_accuracy-0.1 <= nn_i.mean_vl_accuracy \\\n",
    "            and (\n",
    "                    nn[dataset_i].mean_vl_accuracy < nn_i.mean_vl_accuracy \\\n",
    "                or (\n",
    "                    nn[dataset_i].mean_vl_accuracy == nn_i.mean_vl_accuracy and nn[dataset_i].mean_tr_accuracy < nn_i.mean_tr_accuracy\n",
    "                    )\n",
    "            ):\n",
    "            nn[dataset_i] = nn_i\n",
    "        \n",
    "        # Case of TR/VL accuracy = 1.0 AND TR/VL loss minor\n",
    "        if nn_i.mean_tr_accuracy == 1 and nn_i.mean_vl_accuracy >= 1 \\\n",
    "            and nn_i.mean_tr_accuracy == nn[dataset_i].mean_tr_accuracy \\\n",
    "            and nn_i.mean_vl_accuracy == nn[dataset_i].mean_vl_accuracy \\\n",
    "            and abs(nn_i.mean_tr_accuracy - nn_i.mean_vl_accuracy) < 0.02 \\\n",
    "            and nn_i.mean_vl_loss < nn[dataset_i].mean_vl_loss \\\n",
    "            and nn_i.mean_tr_loss < nn[dataset_i].mean_tr_loss:\n",
    "            nn[dataset_i] = nn_i\n",
    "        \n",
    "        # Exit case\n",
    "        if nn_i.mean_tr_accuracy == 1 and nn_i.mean_vl_accuracy == 1 \\\n",
    "            and nn_i.mean_vl_loss < 0.1 and nn_i.mean_tr_loss < 0.1 \\\n",
    "            and abs(nn_i.mean_vl_loss - nn_i.mean_tr_loss) < 0.01:\n",
    "            nn[dataset_i] = nn_i\n",
    "            break\n",
    "\n",
    "    # Print output\n",
    "    print(f\"### Best Hyperparameters of Monk {dataset_i+1} ###\")\n",
    "    nn[dataset_i].print_training_info()\n",
    "    print(\"\\n\\n\")\n"
   ]
  },
  {
   "cell_type": "markdown",
   "metadata": {},
   "source": [
    "## Print of best Hyperparameters and Plots"
   ]
  },
  {
   "cell_type": "code",
   "execution_count": 35,
   "metadata": {},
   "outputs": [
    {
     "name": "stdout",
     "output_type": "stream",
     "text": [
      "\n",
      "### Best Hyperparameters for Monk 1 ###\n",
      " Monk:                     1\n",
      " Trial:                    7\n",
      " Hyperparameters:          {'input_units': 17, 'hidden_units': 4, 'patience': 15, 'learning_rate': 0.3, 'batch_size': 4, 'nesterov': 'F', 'epochs': 440, 'momentum': 0.7, 'activation': 'tanh', 'output_activation': 'sigmoid', 'metrics': 'accuracy'}\n",
      " Mean Training Loss:       0.014226599005996831\n",
      " Mean Validation Loss:     0.005746641242876649\n",
      " Mean Training Accuracy:   0.9838383793830872\n",
      " Mean Validation Accuracy: 1.0\n",
      "\n",
      "### Best Hyperparameters for Monk 2 ###\n"
     ]
    },
    {
     "ename": "IndexError",
     "evalue": "list index out of range",
     "output_type": "error",
     "traceback": [
      "\u001b[1;31m---------------------------------------------------------------------------\u001b[0m",
      "\u001b[1;31mIndexError\u001b[0m                                Traceback (most recent call last)",
      "Input \u001b[1;32mIn [35]\u001b[0m, in \u001b[0;36m<cell line: 2>\u001b[1;34m()\u001b[0m\n\u001b[0;32m      2\u001b[0m \u001b[38;5;28;01mfor\u001b[39;00m dataset_i \u001b[38;5;129;01min\u001b[39;00m \u001b[38;5;28mrange\u001b[39m(datasets_number):\n\u001b[0;32m      3\u001b[0m \n\u001b[0;32m      4\u001b[0m     \u001b[38;5;66;03m# Print best hyperparameters\u001b[39;00m\n\u001b[0;32m      5\u001b[0m     \u001b[38;5;28mprint\u001b[39m(\u001b[38;5;124mf\u001b[39m\u001b[38;5;124m\"\u001b[39m\u001b[38;5;130;01m\\n\u001b[39;00m\u001b[38;5;124m### Best Hyperparameters for Monk \u001b[39m\u001b[38;5;132;01m{\u001b[39;00mdataset_i\u001b[38;5;241m+\u001b[39m\u001b[38;5;241m1\u001b[39m\u001b[38;5;132;01m}\u001b[39;00m\u001b[38;5;124m ###\u001b[39m\u001b[38;5;124m\"\u001b[39m)\n\u001b[1;32m----> 6\u001b[0m     \u001b[43mnn\u001b[49m\u001b[43m[\u001b[49m\u001b[43mdataset_i\u001b[49m\u001b[43m]\u001b[49m\u001b[38;5;241m.\u001b[39mprint_training_info()\n\u001b[0;32m      8\u001b[0m     \u001b[38;5;66;03m# Plot the learning curve\u001b[39;00m\n\u001b[0;32m      9\u001b[0m     nn[dataset_i]\u001b[38;5;241m.\u001b[39mprint_plot()   \n",
      "\u001b[1;31mIndexError\u001b[0m: list index out of range"
     ]
    },
    {
     "data": {
      "image/png": "[encoded data removed]",
      "text/plain": [
       "<Figure size 432x288 with 1 Axes>"
      ]
     },
     "metadata": {
      "needs_background": "light"
     },
     "output_type": "display_data"
    },
    {
     "data": {
      "image/png": "[encoded data removed]",
      "text/plain": [
       "<Figure size 432x288 with 1 Axes>"
      ]
     },
     "metadata": {
      "needs_background": "light"
     },
     "output_type": "display_data"
    }
   ],
   "source": [
    "# Iteration on all the Datasets\n",
    "for dataset_i in range(datasets_number):\n",
    "\n",
    "    # Print best hyperparameters\n",
    "    print(f\"\\n### Best Hyperparameters for Monk {dataset_i+1} ###\")\n",
    "    nn[dataset_i].print_training_info()\n",
    "\n",
    "    # Plot the learning curve\n",
    "    nn[dataset_i].print_plot()   \n",
    "\n",
    "   \n",
    " \n",
    "    # BEST L CURVE M1: >(semismoothed)\n",
    "    # Hyperparameters:          {'input_units': 17, 'hidden_units': 5, 'patience': 100, 'factor_lr_dec': 0.5, 'step_decay': 1500, 'learning_rate': 0.999, 'batch_size': 17, 'epochs': 350, 'weight_init': 'glorot_normal', 'momentum': 0.4, 'activation': 'tanh', 'output_activation': 'sigmoid', 'metrics': 'accuracy'}\n",
    "    #  Hyperparameters:          {'input_units': 17, 'hidden_units': 5, 'patience': 100, 'factor_lr_dec': 0.5, 'step_decay': 1000, 'learning_rate': 0.5, 'batch_size': 32, 'epochs': 370, 'weight_init': 'lecun_normal', 'momentum': 0.8, 'activation': 'tanh', 'output_activation': 'sigmoid', 'metrics': 'accuracy'}\n",
    "    # Hyp:  {'input_units': 17, 'hidden_units': 5, 'patience': 200, 'factor_lr_dec': 0.5, 'step_decay': 500, 'learning_rate': 0.99, 'batch_size': 16, 'epochs': 530, 'weight_init': 'lecun_normal', 'momentum': 0.5, 'activation': 'tanh', 'output_activation': 'sigmoid', 'metrics': 'accuracy'}\n",
    "    \n",
    "    # BEST SMOOTHED CURVE MONK1:   HyperparameterS: {'hidden_units': 4, 'patience': 30, 'learning_rate': 0.3, 'batch_size': 4, 'nesterov': 'T', 'epochs': 440, 'momentum': 0.6}\n",
    "   # BEST SMOOTHER PT2 MONK2:  {'hidden_units': 4, 'patience': 10, 'learning_rate': 0.4, 'batch_size': 6, 'nesterov': 'T', 'epochs': 450, 'momentum': 0.3, 'activation': 'tanh', 'output_activation': 'sigmoid', 'metrics': 'accuracy'}\n",
    "\n",
    "    \n",
    "\n",
    "'''\n",
    "Best Hyperparameters for Monk 2\n",
    " Monk:                     2\n",
    " Trial:                    3\n",
    " Hyperparameters:          {'input_units': 17, 'hidden_units': 5, 'patience': 200, 'factor_lr_dec': 1.0, 'step_decay': 500, 'learning_rate': 0.999, 'batch_size': 60, 'epochs': 290, 'momentum': 0.75, 'nesterov': 'T', 'activation': 'tanh', 'output_activation': 'sigmoid', 'metrics': 'accuracy'}\n",
    " Mean Training Loss:       0.0006283932307269424\n",
    " Mean Validation Loss:     0.004200904699973762\n",
    " Mean Training Accuracy:   1.0\n",
    " Mean Validation Accuracy: 1.0\n",
    "\n",
    "### Best Hyperparameters for Monk 3 ###\n",
    " Monk:                     3\n",
    " Trial:                    14\n",
    " Hyperparameters:          {'input_units': 17, 'hidden_units': 2, 'patience': 30, 'factor_lr_dec': 1.0, 'step_decay': 1500, 'learning_rate': 0.07, 'batch_size': 7, 'epochs': 370, 'weight_decay': 0.002, 'momentum': 0.08, 'nesterov': 'T', 'activation': 'tanh', 'output_activation': 'sigmoid', 'metrics': 'accuracy'}\n",
    " Mean Training Loss:       0.059438984096050265\n",
    " Mean Validation Loss:     0.07536792308092118\n",
    " Mean Training Accuracy:   0.9508310675621032\n",
    " Mean Validation Accuracy: 0.934333324432373\n",
    "\n",
    " '''"
   ]
  },
  {
   "cell_type": "markdown",
   "metadata": {},
   "source": [
    "## Retraining Phase"
   ]
  },
  {
   "cell_type": "code",
   "execution_count": 39,
   "metadata": {},
   "outputs": [
    {
     "name": "stdout",
     "output_type": "stream",
     "text": [
      "\n",
      "### Retraining of Monk 1 ###\n",
      " Monk:                     1\n",
      " Trial:                    7\n",
      " Hyperparameters:          {'input_units': 17, 'hidden_units': 4, 'patience': 15, 'learning_rate': 0.3, 'batch_size': 4, 'nesterov': 'F', 'epochs': 440, 'momentum': 0.7, 'activation': 'tanh', 'output_activation': 'sigmoid', 'metrics': 'accuracy'}\n",
      " Mean Training Loss:       0.014226599005996831\n",
      " Mean Validation Loss:     0.005746641242876649\n",
      " Mean Training Accuracy:   0.9838383793830872\n",
      " Mean Validation Accuracy: 1.0\n"
     ]
    },
    {
     "ename": "IndexError",
     "evalue": "list index out of range",
     "output_type": "error",
     "traceback": [
      "\u001b[1;31m---------------------------------------------------------------------------\u001b[0m",
      "\u001b[1;31mIndexError\u001b[0m                                Traceback (most recent call last)",
      "Input \u001b[1;32mIn [39]\u001b[0m, in \u001b[0;36m<cell line: 2>\u001b[1;34m()\u001b[0m\n\u001b[0;32m      1\u001b[0m \u001b[38;5;66;03m# Iterations on each Dataset\u001b[39;00m\n\u001b[0;32m      2\u001b[0m \u001b[38;5;28;01mfor\u001b[39;00m dataset_i \u001b[38;5;129;01min\u001b[39;00m \u001b[38;5;28mrange\u001b[39m(datasets_number):\n\u001b[0;32m      3\u001b[0m \n\u001b[0;32m      4\u001b[0m     \u001b[38;5;66;03m# Training the model\u001b[39;00m\n\u001b[1;32m----> 5\u001b[0m     \u001b[43mnn\u001b[49m\u001b[43m[\u001b[49m\u001b[43mdataset_i\u001b[49m\u001b[43m]\u001b[49m\u001b[38;5;241m.\u001b[39mfit(\n\u001b[0;32m      6\u001b[0m         x_train\u001b[38;5;241m=\u001b[39mx_train[dataset_i]\u001b[38;5;241m.\u001b[39mvalues,\n\u001b[0;32m      7\u001b[0m         y_train\u001b[38;5;241m=\u001b[39my_train[dataset_i]\u001b[38;5;241m.\u001b[39mvalues\n\u001b[0;32m      8\u001b[0m     )\n\u001b[0;32m     10\u001b[0m     \u001b[38;5;66;03m# Print values\u001b[39;00m\n\u001b[0;32m     11\u001b[0m     \u001b[38;5;28mprint\u001b[39m(\u001b[38;5;124mf\u001b[39m\u001b[38;5;124m\"\u001b[39m\u001b[38;5;130;01m\\n\u001b[39;00m\u001b[38;5;124m### Retraining of Monk \u001b[39m\u001b[38;5;132;01m{\u001b[39;00mdataset_i\u001b[38;5;241m+\u001b[39m\u001b[38;5;241m1\u001b[39m\u001b[38;5;132;01m}\u001b[39;00m\u001b[38;5;124m ###\u001b[39m\u001b[38;5;124m\"\u001b[39m)\n",
      "\u001b[1;31mIndexError\u001b[0m: list index out of range"
     ]
    }
   ],
   "source": [
    "# Iterations on each Dataset\n",
    "for dataset_i in range(datasets_number):\n",
    "\n",
    "    # Training the model\n",
    "    nn[dataset_i].fit(\n",
    "        x_train=x_train[dataset_i].values,\n",
    "        y_train=y_train[dataset_i].values\n",
    "    )\n",
    "\n",
    "    # Print values\n",
    "    print(f\"\\n### Retraining of Monk {dataset_i+1} ###\")\n",
    "    nn[dataset_i].print_training_info()"
   ]
  },
  {
   "cell_type": "markdown",
   "metadata": {},
   "source": [
    "# Testing Phase"
   ]
  },
  {
   "cell_type": "code",
   "execution_count": 38,
   "metadata": {},
   "outputs": [
    {
     "name": "stdout",
     "output_type": "stream",
     "text": [
      " Monk:                     1\n",
      " Trial:                    7\n",
      " Hyperparameters:          {'input_units': 17, 'hidden_units': 4, 'patience': 15, 'learning_rate': 0.3, 'batch_size': 4, 'nesterov': 'F', 'epochs': 440, 'momentum': 0.7, 'activation': 'tanh', 'output_activation': 'sigmoid', 'metrics': 'accuracy'}\n",
      " Mean Training Loss:       0.014226599005996831\n",
      " Mean Validation Loss:     0.005746641242876649\n",
      " Test Loss:                0.05819651857018471\n",
      " Mean Training Accuracy:   0.9838383793830872\n",
      " Mean Validation Accuracy: 1.0\n",
      " Test Accuracy:            0.9421296119689941\n",
      " f1 score:                 0.9385749385749386\n",
      " f2 score:                 0.9052132701421801\n",
      " Precision score:         1.0\n",
      " Recall score:             0.8842592592592593\n",
      "\n",
      "              Predicted_Class_0  Predicted_Class_1\n",
      "Real_Class_0                216                  0\n",
      "Real_Class_1                 25                191\n"
     ]
    },
    {
     "data": {
      "image/png": "[encoded data removed]",
      "text/plain": [
       "<Figure size 576x432 with 1 Axes>"
      ]
     },
     "metadata": {
      "needs_background": "light"
     },
     "output_type": "display_data"
    },
    {
     "ename": "IndexError",
     "evalue": "list index out of range",
     "output_type": "error",
     "traceback": [
      "\u001b[1;31m---------------------------------------------------------------------------\u001b[0m",
      "\u001b[1;31mIndexError\u001b[0m                                Traceback (most recent call last)",
      "Input \u001b[1;32mIn [38]\u001b[0m, in \u001b[0;36m<cell line: 2>\u001b[1;34m()\u001b[0m\n\u001b[0;32m      4\u001b[0m y \u001b[38;5;241m=\u001b[39m y_test[dataset_i]\u001b[38;5;241m.\u001b[39mvalues\n\u001b[0;32m      6\u001b[0m \u001b[38;5;66;03m# Evaluate the Model on TS set\u001b[39;00m\n\u001b[1;32m----> 7\u001b[0m \u001b[43mnn\u001b[49m\u001b[43m[\u001b[49m\u001b[43mdataset_i\u001b[49m\u001b[43m]\u001b[49m\u001b[38;5;241m.\u001b[39mtest(\n\u001b[0;32m      8\u001b[0m     x_test\u001b[38;5;241m=\u001b[39mX,\n\u001b[0;32m      9\u001b[0m     y_test\u001b[38;5;241m=\u001b[39my\n\u001b[0;32m     10\u001b[0m )\n\u001b[0;32m     12\u001b[0m \u001b[38;5;66;03m# Computes the score of the Model\u001b[39;00m\n\u001b[0;32m     13\u001b[0m nn[dataset_i]\u001b[38;5;241m.\u001b[39mscore(x_test\u001b[38;5;241m=\u001b[39mX, y_test\u001b[38;5;241m=\u001b[39my)\n",
      "\u001b[1;31mIndexError\u001b[0m: list index out of range"
     ]
    }
   ],
   "source": [
    "\n",
    "# Evaluation of the Models for each Test set\n",
    "for dataset_i in range(datasets_number):\n",
    "    X = x_test[dataset_i].values\n",
    "    y = y_test[dataset_i].values\n",
    "\n",
    "    # Evaluate the Model on TS set\n",
    "    nn[dataset_i].test(\n",
    "        x_test=X,\n",
    "        y_test=y\n",
    "    )\n",
    "\n",
    "    # Computes the score of the Model\n",
    "    nn[dataset_i].score(x_test=X, y_test=y)\n",
    "\n",
    "    # Prints the results obtained\n",
    "    print(nn[dataset_i])\n",
    "    nn[dataset_i].print_confusion_matrix(y_test=y)\n",
    "    nn[dataset_i].print_roc_curve(y_test=y)\n",
    "\n",
    "\n"
   ]
  }
 ],
 "metadata": {
  "kernelspec": {
   "display_name": "Python 3 (ipykernel)",
   "language": "python",
   "name": "python3"
  },
  "language_info": {
   "codemirror_mode": {
    "name": "ipython",
    "version": 3
   },
   "file_extension": ".py",
   "mimetype": "text/x-python",
   "name": "python",
   "nbconvert_exporter": "python",
   "pygments_lexer": "ipython3",
   "version": "3.9.17"
  },
  "orig_nbformat": 4
 },
 "nbformat": 4,
 "nbformat_minor": 2
}
