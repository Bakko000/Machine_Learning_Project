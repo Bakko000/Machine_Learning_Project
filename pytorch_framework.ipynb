{
 "cells": [
  {
   "cell_type": "code",
   "execution_count": null,
   "metadata": {},
   "outputs": [],
   "source": [
    "import pandas as pd"
   ]
  },
  {
   "cell_type": "markdown",
   "metadata": {},
   "source": [
    "# Data Loading"
   ]
  },
  {
   "cell_type": "code",
   "execution_count": null,
   "metadata": {},
   "outputs": [],
   "source": [
    "from api.data_handler import DataHandler\n",
    "\n",
    "# Creation of a DataHandler Object\n",
    "data_handler = DataHandler(['target', 'col1', 'col2', 'col3', 'col4', 'col5', 'col6', 'id'])\n",
    "\n",
    "# Number of different Datasets\n",
    "datasets_number = 3\n",
    "\n",
    "# Lists of DataFrames\n",
    "df_train : list[pd.DataFrame] = []\n",
    "df_test  : list[pd.DataFrame] = []\n",
    "\n",
    "# Load the Training/Test sets into pandas DataFrames\n",
    "for i in range(datasets_number):\n",
    "    df_train.append(data_handler.load_data(f'data/monks/monks-{i+1}.train'))\n",
    "    df_test.append(data_handler.load_data(f'data/monks/monks-{i+1}.test'))\n",
    "\n",
    "    # Print the head of the loaded data\n",
    "    print(df_train[i].head())\n",
    "    print(df_test[i].head())"
   ]
  },
  {
   "cell_type": "markdown",
   "metadata": {},
   "source": [
    "# Data Split"
   ]
  },
  {
   "cell_type": "code",
   "execution_count": null,
   "metadata": {},
   "outputs": [],
   "source": [
    "# Lists of data\n",
    "x_train : list[pd.DataFrame] = []\n",
    "y_train : list[pd.DataFrame] = []\n",
    "x_test  : list[pd.DataFrame] = []\n",
    "y_test  : list[pd.DataFrame] = []\n",
    "\n",
    "# Split data into TR set and TS set\n",
    "for i in range(datasets_number):\n",
    "\n",
    "    # Saving the splitted TR set data into the lists\n",
    "    df_train[i] = df_train[i].drop(columns=['id'], axis=1).copy(deep=True)\n",
    "    x, y = data_handler.split_data(data=df_train[i], cols_name_split=['target'])\n",
    "    x_train.append(x)\n",
    "    y_train.append(y)\n",
    "\n",
    "    # Saving the splitted TS set data into the lists\n",
    "    df_test[i] = df_test[i].drop(columns=['id'], axis=1).copy(deep=True)\n",
    "    x, y = data_handler.split_data(data=df_test[i], cols_name_split=['target'])\n",
    "    x_test.append(x)\n",
    "    y_test.append(y)\n"
   ]
  },
  {
   "cell_type": "markdown",
   "metadata": {},
   "source": [
    "# 1-Hot Encoding"
   ]
  },
  {
   "cell_type": "code",
   "execution_count": null,
   "metadata": {},
   "outputs": [],
   "source": [
    "# Applies the 1-Hot Encoding to the \"x\" data\n",
    "for i in range(datasets_number):\n",
    "    x_train[i] = data_handler.one_hot_encoding(x_train[i])\n",
    "    x_test[i]  = data_handler.one_hot_encoding(x_test[i])\n",
    "\n",
    "    # Print of the data modified\n",
    "    print(f\"Monk {i+1} [TR]: \" + str(x_train[i].shape))\n",
    "    print(f\"Monk {i+1} [TS]: \" + str(x_test[i].shape))"
   ]
  },
  {
   "cell_type": "markdown",
   "metadata": {},
   "source": [
    "# Grid Search parameters"
   ]
  },
  {
   "cell_type": "code",
   "execution_count": null,
   "metadata": {},
   "outputs": [],
   "source": [
    "# Parameters' space for Grid Search (1 for each Dataset)\n",
    "param_space = {\n",
    "    0: {\n",
    "        'input_size': [17],\n",
    "        'hidden_size': [3],\n",
    "        'output_size': [1],\n",
    "        'hidden_layers': [1],\n",
    "        'hidden_activation': ['Tanh'],\n",
    "        'output_activation': ['Sigmoid'],\n",
    "        'tolerance': [0.01],\n",
    "        'learning_rate': [0.96, 0.95],\n",
    "        'batch_size': [7, 8],\n",
    "        'momentum': [0.8, 0.9],\n",
    "        'weight_init': [\"glorot_normal\"],\n",
    "        'seed_init': [7],\n",
    "        'epochs': [350, 400],\n",
    "        'weight_decay': [0],\n",
    "        'nesterov': [False],\n",
    "        'metrics': ['Accuracy']\n",
    "    },\n",
    "    1: {\n",
    "        'input_size': [17],\n",
    "        'hidden_size': [4],\n",
    "        'output_size': [1],\n",
    "        'hidden_layers': [1],\n",
    "        'hidden_activation': ['Tanh'],\n",
    "        'output_activation': ['Sigmoid'],\n",
    "        'tolerance': [0.01],\n",
    "        'learning_rate': [0.7, 0.8],\n",
    "        'batch_size': [2, 3],\n",
    "        'momentum': [0.7, 0.9],\n",
    "        'weight_init': [\"glorot_uniform\"],\n",
    "        'seed_init': [62],\n",
    "        'epochs': [350, 400],\n",
    "        'weight_decay': [0],\n",
    "        'optimizer': ['SGD'],\n",
    "        'nesterov': [False],\n",
    "        'metrics': ['Accuracy'],\n",
    "        'decimal_cypher_degree': [0]\n",
    "    },\n",
    "    2: {\n",
    "        'input_size': [17],\n",
    "        'hidden_size': [3],\n",
    "        'output_size': [1],\n",
    "        'hidden_layers': [1],\n",
    "        'hidden_activation': ['Tanh'],\n",
    "        'output_activation': ['Sigmoid'],\n",
    "        'tolerance': [0.025],\n",
    "        'learning_rate': [0.05, 0.03],\n",
    "        'batch_size': [2, 3],\n",
    "        'momentum': [0],\n",
    "        'weight_init': [\"glorot_uniform\"], #[\"glorot_uniform\", \"glorot_normal\", \"he_uniform\", \"he_normal\"],\n",
    "        'seed_init': [62],\n",
    "        'epochs': [350, 400],\n",
    "        'weight_decay': [0.001],\n",
    "        'nesterov': [False],\n",
    "        'metrics': ['Accuracy']\n",
    "    }\n",
    "}\n"
   ]
  },
  {
   "cell_type": "markdown",
   "metadata": {},
   "source": [
    "# Model Selection"
   ]
  },
  {
   "cell_type": "markdown",
   "metadata": {},
   "source": [
    "## Best Hyperparameters Research"
   ]
  },
  {
   "cell_type": "code",
   "execution_count": null,
   "metadata": {},
   "outputs": [],
   "source": [
    "from sklearn.model_selection import StratifiedKFold\n",
    "from api.pytorch.nn import NN\n",
    "\n",
    "# Creation of a BinaryNN objct for each dataset\n",
    "nn: list[NN] = []\n",
    "\n",
    "# Different values per dataset\n",
    "#trials_list = [5, 5, 5]   # 30, 30, 50\n",
    "k_values = [5, 5, 5]\n",
    "\n",
    "# Search of the best Hyperparameters to each Training set\n",
    "for dataset_i in range(datasets_number):\n",
    "    X = x_train[dataset_i].values.astype(dtype=float)\n",
    "    y = y_train[dataset_i].values.astype(dtype=float)\n",
    "    k = k_values[dataset_i]\n",
    "\n",
    "    # K-fold Cross-validation\n",
    "    kfold = StratifiedKFold(n_splits=k, shuffle=True, random_state=42)\n",
    "\n",
    "    # Sets all the combinations of the entire set of parameters\n",
    "    data_handler.set_params_combinations(params=param_space[dataset_i])\n",
    "\n",
    "    # Gets the list with the combinations of all the parameters\n",
    "    params_combinations = data_handler.get_params_combinations()\n",
    "\n",
    "    # For each iteration we choose the hyperparameters (randomly) and we use them with K-fold CV\n",
    "    for trial, params in enumerate(params_combinations):\n",
    "    #for trial in range(trials_list[dataset_i]):\n",
    "\n",
    "        # Choose random hyperparameters\n",
    "        #params = data_handler.random_dictionary(params=param_space[dataset_i])\n",
    "\n",
    "        # Creation of the Neural Network object\n",
    "        #nn_i = NN(params=params, current_trial=trial+1, trials=trials_list[dataset_i], monk_i=dataset_i+1)\n",
    "        nn_i = NN(params=params, current_trial=trial+1, trials=len(params_combinations), monk_i=dataset_i+1)\n",
    "                        \n",
    "        # For each K-fold returns the indexes of the data splitted in: <X_train,y_train> and <X_val,y_val>\n",
    "        for train_index, val_index in kfold.split(X, y):\n",
    "            x_kfold_train, x_kfold_val = X[train_index], X[val_index]\n",
    "            y_kfold_train, y_kfold_val = y[train_index], y[val_index]\n",
    "\n",
    "            nn_i.fit(\n",
    "                x_train=x_kfold_train,\n",
    "                y_train=y_kfold_train,\n",
    "                x_val=x_kfold_val,\n",
    "                y_val=y_kfold_val\n",
    "            )\n",
    "\n",
    "        # Case of first append\n",
    "        if len(nn) == dataset_i:\n",
    "            nn.append(nn_i)\n",
    "        \n",
    "        # Print the results of this trial\n",
    "        print(\"\\n------------------ Current Hyperparameters ------------------\")\n",
    "        nn_i.print_training_info()\n",
    "        print(\"-------------------- Best Hyperparameters -------------------\")\n",
    "        nn[dataset_i].print_training_info()\n",
    "        print(\"\\n\\n\")\n",
    "\n",
    "        # Case of update with best hyperparameters\n",
    "        if nn_i.is_better_model_than(nn[dataset_i]):\n",
    "            nn[dataset_i] = nn_i\n",
    "        \n",
    "        # Particular exit case\n",
    "        if nn_i.mean_tr_metric == 1 and nn_i.mean_vl_metric == 1 \\\n",
    "            and nn_i.mean_vl_loss < 0.1 and nn_i.mean_tr_loss < 0.1 \\\n",
    "            and abs(nn_i.mean_vl_loss - nn_i.mean_tr_loss) < 0.01:\n",
    "            nn[dataset_i] = nn_i\n",
    "            break\n",
    "\n",
    "    # Print output\n",
    "    print(f\"### Best Hyperparameters of Monk {dataset_i+1} ###\")\n",
    "    nn[dataset_i].print_training_info()\n",
    "    print(\"\\n\\n\")\n"
   ]
  },
  {
   "cell_type": "markdown",
   "metadata": {},
   "source": [
    "## Print of best Hyperparameters"
   ]
  },
  {
   "cell_type": "code",
   "execution_count": null,
   "metadata": {},
   "outputs": [],
   "source": [
    "# Iteration on all the Datasets\n",
    "for dataset_i in range(datasets_number):\n",
    "\n",
    "    # Print best hyperparameters\n",
    "    print(f\"\\n### Best Hyperparameters for Monk {dataset_i+1} ###\")\n",
    "    nn[dataset_i].print_training_info()\n"
   ]
  },
  {
   "cell_type": "markdown",
   "metadata": {},
   "source": [
    "## Retraining Phase"
   ]
  },
  {
   "cell_type": "code",
   "execution_count": null,
   "metadata": {},
   "outputs": [],
   "source": [
    "import matplotlib.pyplot as plt\n",
    "\n",
    "def print_acc_plot(history):\n",
    "    '''\n",
    "        Prints the plot based on the accuracy of the trained model.\n",
    "    '''\n",
    "    plt.figure()\n",
    "    plt.plot(history['tr_metric'], label='Training Accuracy')\n",
    "    plt.plot(history['vl_metric'], label='Validation Accuracy', linestyle='--')\n",
    "    plt.title('Learning Curve')\n",
    "    plt.xlabel('Epoch')\n",
    "    plt.ylabel('Accuracy')\n",
    "    plt.legend()\n",
    "\n",
    "# Iterations on each Dataset\n",
    "for dataset_i in range(datasets_number):\n",
    "\n",
    "    # Training the model\n",
    "    nn[dataset_i].fit(\n",
    "        x_train=x_train[dataset_i].values,\n",
    "        y_train=y_train[dataset_i].values\n",
    "    )\n",
    "\n",
    "    # Print values\n",
    "    print(f\"\\n### Retraining of Monk {dataset_i+1} ###\")\n",
    "    nn[dataset_i].print_training_info()\n",
    "    nn[dataset_i].print_loss_plot()\n",
    "    nn[dataset_i].print_acc_plot()"
   ]
  },
  {
   "cell_type": "markdown",
   "metadata": {},
   "source": [
    "# Testing Phase"
   ]
  },
  {
   "cell_type": "code",
   "execution_count": null,
   "metadata": {},
   "outputs": [],
   "source": [
    "\n",
    "# Evaluation of the Models for each Test set\n",
    "for dataset_i in range(datasets_number):\n",
    "    \n",
    "    X = x_test[dataset_i].values\n",
    "    y = y_test[dataset_i].values\n",
    "\n",
    "    # Evaluate the Model on TS set\n",
    "    nn[dataset_i].test(\n",
    "        x_test=X,\n",
    "        y_test=y\n",
    "    )\n",
    "\n",
    "    # Computes the score of the Model\n",
    "    nn[dataset_i].score()\n",
    "\n",
    "    # Prints the results obtained\n",
    "    print(nn[dataset_i])\n",
    "    nn[dataset_i].print_confusion_matrix()\n",
    "    nn[dataset_i].print_roc_curve()\n",
    "\n",
    "\n"
   ]
  }
 ],
 "metadata": {
  "kernelspec": {
   "display_name": "Python 3 (ipykernel)",
   "language": "python",
   "name": "python3"
  },
  "language_info": {
   "codemirror_mode": {
    "name": "ipython",
    "version": 3
   },
   "file_extension": ".py",
   "mimetype": "text/x-python",
   "name": "python",
   "nbconvert_exporter": "python",
   "pygments_lexer": "ipython3",
   "version": "3.9.17"
  },
  "orig_nbformat": 4
 },
 "nbformat": 4,
 "nbformat_minor": 2
}
