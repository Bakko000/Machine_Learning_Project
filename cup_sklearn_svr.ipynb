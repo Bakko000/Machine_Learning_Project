{
  "cells": [
    {
      "cell_type": "code",
      "execution_count": 2,
      "metadata": {
        "id": "_7WueLBwxqeH"
      },
      "outputs": [],
      "source": [
        "import numpy as np\n",
        "import pandas as pd\n",
        "import seaborn as sns\n",
        "import matplotlib.pyplot as plt\n",
        "from sklearn.preprocessing import StandardScaler\n",
        "from sklearn.metrics import r2_score, mean_squared_error, mean_absolute_error, make_scorer\n",
        "from sklearn.linear_model import LinearRegression, Ridge, Lasso\n",
        "from sklearn.multioutput import MultiOutputRegressor\n",
        "from sklearn.neighbors import KNeighborsRegressor\n",
        "from sklearn.model_selection import train_test_split, cross_val_score, KFold, learning_curve, GridSearchCV, RandomizedSearchCV"
      ]
    },
    {
      "cell_type": "code",
      "execution_count": 3,
      "metadata": {
        "colab": {
          "base_uri": "https://localhost:8080/",
          "height": 73
        },
        "id": "x9HkDqqRxxNR",
        "outputId": "c55108a7-1c9e-4a6e-e08f-04394a4aa277"
      },
      "outputs": [
        {
          "data": {
            "text/html": [
              "\n",
              "     <input type=\"file\" id=\"files-28413538-185f-402a-b304-e926129f8837\" name=\"files[]\" multiple disabled\n",
              "        style=\"border:none\" />\n",
              "     <output id=\"result-28413538-185f-402a-b304-e926129f8837\">\n",
              "      Upload widget is only available when the cell has been executed in the\n",
              "      current browser session. Please rerun this cell to enable.\n",
              "      </output>\n",
              "      <script>// Copyright 2017 Google LLC\n",
              "//\n",
              "// Licensed under the Apache License, Version 2.0 (the \"License\");\n",
              "// you may not use this file except in compliance with the License.\n",
              "// You may obtain a copy of the License at\n",
              "//\n",
              "//      http://www.apache.org/licenses/LICENSE-2.0\n",
              "//\n",
              "// Unless required by applicable law or agreed to in writing, software\n",
              "// distributed under the License is distributed on an \"AS IS\" BASIS,\n",
              "// WITHOUT WARRANTIES OR CONDITIONS OF ANY KIND, either express or implied.\n",
              "// See the License for the specific language governing permissions and\n",
              "// limitations under the License.\n",
              "\n",
              "/**\n",
              " * @fileoverview Helpers for google.colab Python module.\n",
              " */\n",
              "(function(scope) {\n",
              "function span(text, styleAttributes = {}) {\n",
              "  const element = document.createElement('span');\n",
              "  element.textContent = text;\n",
              "  for (const key of Object.keys(styleAttributes)) {\n",
              "    element.style[key] = styleAttributes[key];\n",
              "  }\n",
              "  return element;\n",
              "}\n",
              "\n",
              "// Max number of bytes which will be uploaded at a time.\n",
              "const MAX_PAYLOAD_SIZE = 100 * 1024;\n",
              "\n",
              "function _uploadFiles(inputId, outputId) {\n",
              "  const steps = uploadFilesStep(inputId, outputId);\n",
              "  const outputElement = document.getElementById(outputId);\n",
              "  // Cache steps on the outputElement to make it available for the next call\n",
              "  // to uploadFilesContinue from Python.\n",
              "  outputElement.steps = steps;\n",
              "\n",
              "  return _uploadFilesContinue(outputId);\n",
              "}\n",
              "\n",
              "// This is roughly an async generator (not supported in the browser yet),\n",
              "// where there are multiple asynchronous steps and the Python side is going\n",
              "// to poll for completion of each step.\n",
              "// This uses a Promise to block the python side on completion of each step,\n",
              "// then passes the result of the previous step as the input to the next step.\n",
              "function _uploadFilesContinue(outputId) {\n",
              "  const outputElement = document.getElementById(outputId);\n",
              "  const steps = outputElement.steps;\n",
              "\n",
              "  const next = steps.next(outputElement.lastPromiseValue);\n",
              "  return Promise.resolve(next.value.promise).then((value) => {\n",
              "    // Cache the last promise value to make it available to the next\n",
              "    // step of the generator.\n",
              "    outputElement.lastPromiseValue = value;\n",
              "    return next.value.response;\n",
              "  });\n",
              "}\n",
              "\n",
              "/**\n",
              " * Generator function which is called between each async step of the upload\n",
              " * process.\n",
              " * @param {string} inputId Element ID of the input file picker element.\n",
              " * @param {string} outputId Element ID of the output display.\n",
              " * @return {!Iterable<!Object>} Iterable of next steps.\n",
              " */\n",
              "function* uploadFilesStep(inputId, outputId) {\n",
              "  const inputElement = document.getElementById(inputId);\n",
              "  inputElement.disabled = false;\n",
              "\n",
              "  const outputElement = document.getElementById(outputId);\n",
              "  outputElement.innerHTML = '';\n",
              "\n",
              "  const pickedPromise = new Promise((resolve) => {\n",
              "    inputElement.addEventListener('change', (e) => {\n",
              "      resolve(e.target.files);\n",
              "    });\n",
              "  });\n",
              "\n",
              "  const cancel = document.createElement('button');\n",
              "  inputElement.parentElement.appendChild(cancel);\n",
              "  cancel.textContent = 'Cancel upload';\n",
              "  const cancelPromise = new Promise((resolve) => {\n",
              "    cancel.onclick = () => {\n",
              "      resolve(null);\n",
              "    };\n",
              "  });\n",
              "\n",
              "  // Wait for the user to pick the files.\n",
              "  const files = yield {\n",
              "    promise: Promise.race([pickedPromise, cancelPromise]),\n",
              "    response: {\n",
              "      action: 'starting',\n",
              "    }\n",
              "  };\n",
              "\n",
              "  cancel.remove();\n",
              "\n",
              "  // Disable the input element since further picks are not allowed.\n",
              "  inputElement.disabled = true;\n",
              "\n",
              "  if (!files) {\n",
              "    return {\n",
              "      response: {\n",
              "        action: 'complete',\n",
              "      }\n",
              "    };\n",
              "  }\n",
              "\n",
              "  for (const file of files) {\n",
              "    const li = document.createElement('li');\n",
              "    li.append(span(file.name, {fontWeight: 'bold'}));\n",
              "    li.append(span(\n",
              "        `(${file.type || 'n/a'}) - ${file.size} bytes, ` +\n",
              "        `last modified: ${\n",
              "            file.lastModifiedDate ? file.lastModifiedDate.toLocaleDateString() :\n",
              "                                    'n/a'} - `));\n",
              "    const percent = span('0% done');\n",
              "    li.appendChild(percent);\n",
              "\n",
              "    outputElement.appendChild(li);\n",
              "\n",
              "    const fileDataPromise = new Promise((resolve) => {\n",
              "      const reader = new FileReader();\n",
              "      reader.onload = (e) => {\n",
              "        resolve(e.target.result);\n",
              "      };\n",
              "      reader.readAsArrayBuffer(file);\n",
              "    });\n",
              "    // Wait for the data to be ready.\n",
              "    let fileData = yield {\n",
              "      promise: fileDataPromise,\n",
              "      response: {\n",
              "        action: 'continue',\n",
              "      }\n",
              "    };\n",
              "\n",
              "    // Use a chunked sending to avoid message size limits. See b/62115660.\n",
              "    let position = 0;\n",
              "    do {\n",
              "      const length = Math.min(fileData.byteLength - position, MAX_PAYLOAD_SIZE);\n",
              "      const chunk = new Uint8Array(fileData, position, length);\n",
              "      position += length;\n",
              "\n",
              "      const base64 = btoa(String.fromCharCode.apply(null, chunk));\n",
              "      yield {\n",
              "        response: {\n",
              "          action: 'append',\n",
              "          file: file.name,\n",
              "          data: base64,\n",
              "        },\n",
              "      };\n",
              "\n",
              "      let percentDone = fileData.byteLength === 0 ?\n",
              "          100 :\n",
              "          Math.round((position / fileData.byteLength) * 100);\n",
              "      percent.textContent = `${percentDone}% done`;\n",
              "\n",
              "    } while (position < fileData.byteLength);\n",
              "  }\n",
              "\n",
              "  // All done.\n",
              "  yield {\n",
              "    response: {\n",
              "      action: 'complete',\n",
              "    }\n",
              "  };\n",
              "}\n",
              "\n",
              "scope.google = scope.google || {};\n",
              "scope.google.colab = scope.google.colab || {};\n",
              "scope.google.colab._files = {\n",
              "  _uploadFiles,\n",
              "  _uploadFilesContinue,\n",
              "};\n",
              "})(self);\n",
              "</script> "
            ],
            "text/plain": [
              "<IPython.core.display.HTML object>"
            ]
          },
          "metadata": {},
          "output_type": "display_data"
        },
        {
          "name": "stdout",
          "output_type": "stream",
          "text": [
            "Saving ML-CUP23-TR.csv to ML-CUP23-TR.csv\n"
          ]
        }
      ],
      "source": [
        "# importing dataset\n",
        "from google.colab import files\n",
        "uploaded = files.upload()"
      ]
    },
    {
      "cell_type": "code",
      "execution_count": 4,
      "metadata": {
        "colab": {
          "base_uri": "https://localhost:8080/",
          "height": 73
        },
        "id": "fTv62CWRt2Rd",
        "outputId": "1d8124ba-cd91-4d3a-ced7-fc62b0b47156"
      },
      "outputs": [
        {
          "data": {
            "text/html": [
              "\n",
              "     <input type=\"file\" id=\"files-bf33614d-2cb9-4c41-b555-6e2e8c62c6c0\" name=\"files[]\" multiple disabled\n",
              "        style=\"border:none\" />\n",
              "     <output id=\"result-bf33614d-2cb9-4c41-b555-6e2e8c62c6c0\">\n",
              "      Upload widget is only available when the cell has been executed in the\n",
              "      current browser session. Please rerun this cell to enable.\n",
              "      </output>\n",
              "      <script>// Copyright 2017 Google LLC\n",
              "//\n",
              "// Licensed under the Apache License, Version 2.0 (the \"License\");\n",
              "// you may not use this file except in compliance with the License.\n",
              "// You may obtain a copy of the License at\n",
              "//\n",
              "//      http://www.apache.org/licenses/LICENSE-2.0\n",
              "//\n",
              "// Unless required by applicable law or agreed to in writing, software\n",
              "// distributed under the License is distributed on an \"AS IS\" BASIS,\n",
              "// WITHOUT WARRANTIES OR CONDITIONS OF ANY KIND, either express or implied.\n",
              "// See the License for the specific language governing permissions and\n",
              "// limitations under the License.\n",
              "\n",
              "/**\n",
              " * @fileoverview Helpers for google.colab Python module.\n",
              " */\n",
              "(function(scope) {\n",
              "function span(text, styleAttributes = {}) {\n",
              "  const element = document.createElement('span');\n",
              "  element.textContent = text;\n",
              "  for (const key of Object.keys(styleAttributes)) {\n",
              "    element.style[key] = styleAttributes[key];\n",
              "  }\n",
              "  return element;\n",
              "}\n",
              "\n",
              "// Max number of bytes which will be uploaded at a time.\n",
              "const MAX_PAYLOAD_SIZE = 100 * 1024;\n",
              "\n",
              "function _uploadFiles(inputId, outputId) {\n",
              "  const steps = uploadFilesStep(inputId, outputId);\n",
              "  const outputElement = document.getElementById(outputId);\n",
              "  // Cache steps on the outputElement to make it available for the next call\n",
              "  // to uploadFilesContinue from Python.\n",
              "  outputElement.steps = steps;\n",
              "\n",
              "  return _uploadFilesContinue(outputId);\n",
              "}\n",
              "\n",
              "// This is roughly an async generator (not supported in the browser yet),\n",
              "// where there are multiple asynchronous steps and the Python side is going\n",
              "// to poll for completion of each step.\n",
              "// This uses a Promise to block the python side on completion of each step,\n",
              "// then passes the result of the previous step as the input to the next step.\n",
              "function _uploadFilesContinue(outputId) {\n",
              "  const outputElement = document.getElementById(outputId);\n",
              "  const steps = outputElement.steps;\n",
              "\n",
              "  const next = steps.next(outputElement.lastPromiseValue);\n",
              "  return Promise.resolve(next.value.promise).then((value) => {\n",
              "    // Cache the last promise value to make it available to the next\n",
              "    // step of the generator.\n",
              "    outputElement.lastPromiseValue = value;\n",
              "    return next.value.response;\n",
              "  });\n",
              "}\n",
              "\n",
              "/**\n",
              " * Generator function which is called between each async step of the upload\n",
              " * process.\n",
              " * @param {string} inputId Element ID of the input file picker element.\n",
              " * @param {string} outputId Element ID of the output display.\n",
              " * @return {!Iterable<!Object>} Iterable of next steps.\n",
              " */\n",
              "function* uploadFilesStep(inputId, outputId) {\n",
              "  const inputElement = document.getElementById(inputId);\n",
              "  inputElement.disabled = false;\n",
              "\n",
              "  const outputElement = document.getElementById(outputId);\n",
              "  outputElement.innerHTML = '';\n",
              "\n",
              "  const pickedPromise = new Promise((resolve) => {\n",
              "    inputElement.addEventListener('change', (e) => {\n",
              "      resolve(e.target.files);\n",
              "    });\n",
              "  });\n",
              "\n",
              "  const cancel = document.createElement('button');\n",
              "  inputElement.parentElement.appendChild(cancel);\n",
              "  cancel.textContent = 'Cancel upload';\n",
              "  const cancelPromise = new Promise((resolve) => {\n",
              "    cancel.onclick = () => {\n",
              "      resolve(null);\n",
              "    };\n",
              "  });\n",
              "\n",
              "  // Wait for the user to pick the files.\n",
              "  const files = yield {\n",
              "    promise: Promise.race([pickedPromise, cancelPromise]),\n",
              "    response: {\n",
              "      action: 'starting',\n",
              "    }\n",
              "  };\n",
              "\n",
              "  cancel.remove();\n",
              "\n",
              "  // Disable the input element since further picks are not allowed.\n",
              "  inputElement.disabled = true;\n",
              "\n",
              "  if (!files) {\n",
              "    return {\n",
              "      response: {\n",
              "        action: 'complete',\n",
              "      }\n",
              "    };\n",
              "  }\n",
              "\n",
              "  for (const file of files) {\n",
              "    const li = document.createElement('li');\n",
              "    li.append(span(file.name, {fontWeight: 'bold'}));\n",
              "    li.append(span(\n",
              "        `(${file.type || 'n/a'}) - ${file.size} bytes, ` +\n",
              "        `last modified: ${\n",
              "            file.lastModifiedDate ? file.lastModifiedDate.toLocaleDateString() :\n",
              "                                    'n/a'} - `));\n",
              "    const percent = span('0% done');\n",
              "    li.appendChild(percent);\n",
              "\n",
              "    outputElement.appendChild(li);\n",
              "\n",
              "    const fileDataPromise = new Promise((resolve) => {\n",
              "      const reader = new FileReader();\n",
              "      reader.onload = (e) => {\n",
              "        resolve(e.target.result);\n",
              "      };\n",
              "      reader.readAsArrayBuffer(file);\n",
              "    });\n",
              "    // Wait for the data to be ready.\n",
              "    let fileData = yield {\n",
              "      promise: fileDataPromise,\n",
              "      response: {\n",
              "        action: 'continue',\n",
              "      }\n",
              "    };\n",
              "\n",
              "    // Use a chunked sending to avoid message size limits. See b/62115660.\n",
              "    let position = 0;\n",
              "    do {\n",
              "      const length = Math.min(fileData.byteLength - position, MAX_PAYLOAD_SIZE);\n",
              "      const chunk = new Uint8Array(fileData, position, length);\n",
              "      position += length;\n",
              "\n",
              "      const base64 = btoa(String.fromCharCode.apply(null, chunk));\n",
              "      yield {\n",
              "        response: {\n",
              "          action: 'append',\n",
              "          file: file.name,\n",
              "          data: base64,\n",
              "        },\n",
              "      };\n",
              "\n",
              "      let percentDone = fileData.byteLength === 0 ?\n",
              "          100 :\n",
              "          Math.round((position / fileData.byteLength) * 100);\n",
              "      percent.textContent = `${percentDone}% done`;\n",
              "\n",
              "    } while (position < fileData.byteLength);\n",
              "  }\n",
              "\n",
              "  // All done.\n",
              "  yield {\n",
              "    response: {\n",
              "      action: 'complete',\n",
              "    }\n",
              "  };\n",
              "}\n",
              "\n",
              "scope.google = scope.google || {};\n",
              "scope.google.colab = scope.google.colab || {};\n",
              "scope.google.colab._files = {\n",
              "  _uploadFiles,\n",
              "  _uploadFilesContinue,\n",
              "};\n",
              "})(self);\n",
              "</script> "
            ],
            "text/plain": [
              "<IPython.core.display.HTML object>"
            ]
          },
          "metadata": {},
          "output_type": "display_data"
        },
        {
          "name": "stdout",
          "output_type": "stream",
          "text": [
            "Saving ML-CUP23-TS.csv to ML-CUP23-TS.csv\n"
          ]
        }
      ],
      "source": [
        "# importing dataset\n",
        "from google.colab import files\n",
        "uploaded1 = files.upload()"
      ]
    },
    {
      "cell_type": "code",
      "execution_count": 5,
      "metadata": {
        "id": "rdudRWTcuVht"
      },
      "outputs": [],
      "source": [
        "import io\n",
        "df_traincup = pd.read_csv(io.BytesIO(uploaded['ML-CUP23-TR.csv']), names=['id', 'col1', 'col2', 'col3', 'col4', 'col5', 'col6', 'col7', 'col8', 'col9', 'col10', 'target_x', 'target_y', 'target_z'], delimiter=',')"
      ]
    },
    {
      "cell_type": "code",
      "execution_count": 6,
      "metadata": {
        "id": "5iPMt7FduV7_"
      },
      "outputs": [],
      "source": [
        "import io\n",
        "df_testcup = pd.read_csv(io.BytesIO(uploaded1['ML-CUP23-TS.csv']), names=['id', 'col1', 'col2', 'col3', 'col4', 'col5', 'col6', 'col7', 'col8', 'col9', 'col10', 'target_x', 'target_y', 'target_z'], delimiter=',')"
      ]
    },
    {
      "cell_type": "code",
      "execution_count": null,
      "metadata": {
        "colab": {
          "base_uri": "https://localhost:8080/",
          "height": 424
        },
        "id": "zKk8VtmEuoNc",
        "outputId": "80cda74f-1679-4b57-8d84-525c27a60c06"
      },
      "outputs": [],
      "source": [
        "df_traincup"
      ]
    },
    {
      "cell_type": "code",
      "execution_count": 8,
      "metadata": {
        "id": "oKCWP0Ih1XqJ"
      },
      "outputs": [],
      "source": [
        "def split_data(data: pd.DataFrame, cols_name_split: list, rows_split_perc=1):\n",
        "  '''\n",
        "      It makes the split of the columns passed in \\\"cols_name_split\\\" and the split of the rows based on the \\\n",
        "      percentage \\\"rows_split_perc\\\".\\n\n",
        "      If \\\"cols_name_split\\\" = [] -> the method returns: (data, None).\\n\n",
        "      else -> (data_splitted_x, data_splitted_y) with rows_split_perc=1 \\\n",
        "          or (data_splitted_x_train, data_splitted_y_train, data_splitted_x_val, data_splitted_y_val) with rows_split_perc!=1.\\n\n",
        "      So this method makes split on columns or on rows (or both).\\n\\n\n",
        "      Returns a tuple of two new DataFrames: (x,y).\\n\n",
        "      - x: is like \\\"df\\\" without the columns specified in the list \\\"cols_name_split\\\".\\n\n",
        "      - y: are the columns indentified by the list \\\"cols_name_split\\\".\\n\n",
        "      or a tuple of this format (x_train, y_train, x_val, y_val) with:\n",
        "      - x_train: is like \\\"df\\\" without the columns specified in the list \\\"cols_name_split\\\".\\n\n",
        "      - y_train: are the columns indentified by the list \\\"cols_name_split\\\" used for Training.\\n\n",
        "      - x_val: is like \\\"df\\\" without the columns specified in the list \\\"cols_name_split\\\".\\n\n",
        "      - y_val: are the columns indentified by the list \\\"cols_name_split\\\" used for Validation.\\n\\n\n",
        "      The parameters are:\\n\n",
        "      - df: the input DataFrame.\\n\n",
        "      - cols_name_split: list of names of target columns.\\n\n",
        "      - rows_split_perc: percentage of the data to split for Training, and so the 1-rows_split_perc percentage for Validation.\n",
        "  '''\n",
        "  # Case of no columns split\n",
        "  if cols_name_split == []:\n",
        "      # Case of rows split\n",
        "      if rows_split_perc != 1:\n",
        "          return np.split(data, [int(data.shape[0] * rows_split_perc)], axis=0)\n",
        "      # Case of no rows and no columns split\n",
        "      else:\n",
        "          raise ValueError\n",
        "\n",
        "  # Columns split\n",
        "  y = data[cols_name_split].copy(deep=True)\n",
        "  x = data.drop(columns=cols_name_split,axis=1).copy(deep=True)\n",
        "\n",
        "  # Case of only columns split\n",
        "  if rows_split_perc == 1:\n",
        "      return x, y\n",
        "\n",
        "  # Case of both splits (rows split and columns split)\n",
        "  else:\n",
        "      #x_train = x[:int(x.shape[0] * rows_split_perc), :]\n",
        "      #x_val = x[int(x.shape[0] * rows_split_perc):, :]\n",
        "      x_train, x_val = np.split(x, [int(x.shape[0] * rows_split_perc)], axis=0)\n",
        "      #y_train = y[:int(x.shape[0] * rows_split_perc), :]\n",
        "      #y_val = y[int(x.shape[0] * rows_split_perc):, :]\n",
        "      y_train, y_val = np.split(y, [int(y.shape[0] * rows_split_perc)], axis=0)\n",
        "      return x_train, y_train, x_val, y_val"
      ]
    },
    {
      "cell_type": "markdown",
      "metadata": {
        "id": "R_qhnN2c0hgh"
      },
      "source": [
        "## DATA SPLIT"
      ]
    },
    {
      "cell_type": "code",
      "execution_count": 9,
      "metadata": {
        "colab": {
          "base_uri": "https://localhost:8080/"
        },
        "id": "38KZ3EFc0IYj",
        "outputId": "df9594ed-2788-40e6-8a56-ba114c4d60d4"
      },
      "outputs": [
        {
          "name": "stdout",
          "output_type": "stream",
          "text": [
            "[IDs TR SET]: (1000,)\n",
            "[IDs TS SET]: (900,)\n",
            "[TR SET - x]: (800, 10)\n",
            "[TR SET - y]: (800, 3)\n",
            "[Internal TS SET - x]: (200, 10)\n",
            "[Internal TS SET - y]: (200, 3)\n",
            "[TS SET - x]: (900, 10)\n",
            "[TS SET - y]: (900, 3)\n"
          ]
        }
      ],
      "source": [
        "# Saving the ID columns\n",
        "df_id_train: pd.DataFrame = df_traincup['id']\n",
        "df_id_test: pd.DataFrame = df_testcup['id']\n",
        "\n",
        "# Drop the ID columns\n",
        "df_train = df_traincup.drop(columns=['id'],axis=1).copy(deep=True)\n",
        "df_test = df_testcup.drop(columns=['id'],axis=1).copy(deep=True)\n",
        "\n",
        "# Split of columns and rows (0.8/0.2) into: TR set and Internal TS set\n",
        "x_train, y_train, x_internal_test, y_internal_test = split_data(\n",
        "    data=df_train,\n",
        "    cols_name_split=['target_x','target_y','target_z'],\n",
        "    rows_split_perc=0.8\n",
        ")\n",
        "\n",
        "# Split on columns\n",
        "x_test, y_test = split_data(data=df_test, cols_name_split=['target_x','target_y','target_z'])\n",
        "\n",
        "# Print of the shapes\n",
        "print(f\"[IDs TR SET]: \" + str(df_id_train.shape))\n",
        "print(f\"[IDs TS SET]: \" + str(df_id_test.shape))\n",
        "print(f\"[TR SET - x]: \" + str(x_train.shape))\n",
        "print(f\"[TR SET - y]: \" + str(y_train.shape))\n",
        "print(f\"[Internal TS SET - x]: \" + str(x_internal_test.shape))\n",
        "print(f\"[Internal TS SET - y]: \" + str(y_internal_test.shape))\n",
        "print(f\"[TS SET - x]: \" + str(x_test.shape))\n",
        "print(f\"[TS SET - y]: \" + str(y_test.shape))"
      ]
    },
    {
      "cell_type": "code",
      "execution_count": 10,
      "metadata": {
        "id": "ebXiDQ0WQqjy"
      },
      "outputs": [],
      "source": [
        "# Define custom loss function\n",
        "def euclidean_distance_loss(y_true, y_pred):\n",
        "    return np.sqrt(np.sum(np.square(y_pred - y_true)))\n",
        "\n",
        "# Define a custom scorer based on the custom loss function\n",
        "def MEE(y_true, y_pred):\n",
        "    return np.mean(euclidean_distance_loss(y_true, y_pred))\n",
        "\n",
        "# Use make_scorer to create a scorer suitable for RandomizedSearchCV\n",
        "scorer = make_scorer(MEE, greater_is_better=False)"
      ]
    },
    {
      "cell_type": "markdown",
      "metadata": {
        "id": "M1YWuSGDpcR0"
      },
      "source": [
        "### STANDARDIZATION\n"
      ]
    },
    {
      "cell_type": "markdown",
      "metadata": {
        "id": "gsYFHSQOfH6N"
      },
      "source": [
        "In regression problems and for distance based alg. it is customary to normalize the output too, because the scale of output and input features may differ.\n",
        "\n",
        "If you normalize your data, you will have a cost function which is well behaved. means that you can find local parts more easily. The reason is that you have to construct the output using the input features in regression problems. It is difficult to make large values with small normalized features. Instead with small numbers, making a normalized output, is easier and can be learned faster.\n",
        "\n"
      ]
    },
    {
      "cell_type": "code",
      "execution_count": 11,
      "metadata": {
        "id": "-7Rmo58L5qeh"
      },
      "outputs": [],
      "source": [
        "scaler = StandardScaler()\n",
        "\n",
        "scaler.fit(x_train)\n",
        "x_train_std = scaler.transform(x_train)\n",
        "x_train=pd.DataFrame(x_train_std)"
      ]
    },
    {
      "cell_type": "code",
      "execution_count": 12,
      "metadata": {
        "id": "kAA1lLklkmUE"
      },
      "outputs": [],
      "source": [
        "scaler.fit(x_internal_test)\n",
        "x_internal_test_std = scaler.transform(x_internal_test)\n",
        "x_internal_test = pd.DataFrame(x_internal_test_std)"
      ]
    },
    {
      "cell_type": "code",
      "execution_count": 13,
      "metadata": {
        "id": "0ZSbMbbAksr4"
      },
      "outputs": [],
      "source": [
        "scaler.fit(y_train)\n",
        "y_train_std = scaler.transform(y_train)\n",
        "y_train = pd.DataFrame(y_train_std)"
      ]
    },
    {
      "cell_type": "code",
      "execution_count": 14,
      "metadata": {
        "id": "GpjvdFZPkxz4"
      },
      "outputs": [],
      "source": [
        "scaler.fit(y_internal_test)\n",
        "y_internal_test_std = scaler.transform(y_internal_test)\n",
        "y_internal_test = pd.DataFrame(y_internal_test_std)"
      ]
    },
    {
      "cell_type": "markdown",
      "metadata": {
        "id": "0rcUBlq2phyK"
      },
      "source": [
        "## TRAINING OF 3 UNIVARIATE SVR"
      ]
    },
    {
      "cell_type": "code",
      "execution_count": 16,
      "metadata": {
        "id": "m2Q_tBil5r__"
      },
      "outputs": [],
      "source": [
        "from sklearn.svm import SVR"
      ]
    },
    {
      "cell_type": "code",
      "execution_count": 17,
      "metadata": {
        "id": "2gopN8O08Vpi"
      },
      "outputs": [],
      "source": [
        "# Parameter grid for the Grid Search\n",
        "param_grid = {'C': [10], 'epsilon': [0.1, 0.01, 0.001, 0.0001], 'kernel': ['rbf'], 'degree':[2], 'gamma': ['scale', 'auto'], 'max_iter': [340]} #no precomputed kernel perché ha bisogno di una matrice quadrata (n,n)"
      ]
    },
    {
      "cell_type": "markdown",
      "metadata": {
        "id": "QPPlpbXTpBet"
      },
      "source": [
        "### label x"
      ]
    },
    {
      "cell_type": "code",
      "execution_count": 18,
      "metadata": {
        "id": "EuLftPyXpkgu"
      },
      "outputs": [],
      "source": [
        "y_train_x = y_train[0]\n",
        "y_test_x = y_internal_test[0]"
      ]
    },
    {
      "cell_type": "code",
      "execution_count": null,
      "metadata": {
        "colab": {
          "base_uri": "https://localhost:8080/"
        },
        "id": "N25PXndkl0LJ",
        "outputId": "7c51c78e-5cc1-43a7-fcf5-ffe2b7dd3af4"
      },
      "outputs": [],
      "source": [
        "y_train_x"
      ]
    },
    {
      "cell_type": "code",
      "execution_count": 20,
      "metadata": {
        "id": "cmYGUQN2FSzf"
      },
      "outputs": [],
      "source": [
        "grid_SVR_x = GridSearchCV(SVR(),param_grid, verbose=0, cv=5, scoring=make_scorer(mean_squared_error, greater_is_better=False))"
      ]
    },
    {
      "cell_type": "code",
      "execution_count": null,
      "metadata": {
        "colab": {
          "base_uri": "https://localhost:8080/",
          "height": 1000
        },
        "id": "u4RaMirrJKfS",
        "outputId": "8307923f-61a3-4ca1-f617-d254b3b3be45"
      },
      "outputs": [],
      "source": [
        "grid_SVR_x.fit(x_train,y_train_x)"
      ]
    },
    {
      "cell_type": "code",
      "execution_count": null,
      "metadata": {
        "colab": {
          "base_uri": "https://localhost:8080/"
        },
        "id": "lwDKVXloGCU1",
        "outputId": "c77d0d6f-c6ab-4098-8317-b6edca29b161"
      },
      "outputs": [],
      "source": [
        "print(\"Best parameters obtained by Random Search - label x:\", grid_SVR_x.best_params_)"
      ]
    },
    {
      "cell_type": "code",
      "execution_count": 23,
      "metadata": {
        "id": "izsF05V0o8nl"
      },
      "outputs": [],
      "source": [
        "best_regressor_x = grid_SVR_x.best_estimator_"
      ]
    },
    {
      "cell_type": "code",
      "execution_count": 24,
      "metadata": {
        "id": "7SKon3L4pc-b"
      },
      "outputs": [],
      "source": [
        "y_train_pred_x = best_regressor_x.predict(x_train)"
      ]
    },
    {
      "cell_type": "code",
      "execution_count": null,
      "metadata": {
        "colab": {
          "base_uri": "https://localhost:8080/"
        },
        "id": "a8KZ7BK3w7TX",
        "outputId": "6aaeb72f-193f-4afe-bc86-6f487f486c2d"
      },
      "outputs": [],
      "source": [
        "train_loss = MEE(y_train_x, y_train_pred_x)\n",
        "print(\"MEE - label x: \", train_loss)"
      ]
    },
    {
      "cell_type": "code",
      "execution_count": null,
      "metadata": {
        "colab": {
          "base_uri": "https://localhost:8080/"
        },
        "id": "MSANkdbj3zxm",
        "outputId": "5838bd2b-d49b-4ada-f8a2-bcb422f7caaa"
      },
      "outputs": [],
      "source": [
        "# Assuming x_val and y_val are your validation data\n",
        "y_val_pred_x = best_regressor_x.predict(x_internal_test)\n",
        "val_loss_x = MEE(y_test_x, y_val_pred_x)\n",
        "print(\"val loss - label x: \", val_loss_x)"
      ]
    },
    {
      "cell_type": "markdown",
      "metadata": {
        "id": "r8cBYHY-o9_n"
      },
      "source": [
        "### label y"
      ]
    },
    {
      "cell_type": "code",
      "execution_count": null,
      "metadata": {
        "colab": {
          "base_uri": "https://localhost:8080/",
          "height": 1000
        },
        "id": "IUqmK5VCfokZ",
        "outputId": "9dc05efc-f0e4-4978-c33f-4e4634d14606"
      },
      "outputs": [],
      "source": [
        "y_train_y = y_train[1]\n",
        "y_test_y = y_internal_test[1]\n",
        "\n",
        "#training\n",
        "grid_SVR_y = GridSearchCV(SVR(),param_grid,refit=True,verbose=0,cv=5)\n",
        "grid_SVR_y.fit(x_train,y_train_y)\n"
      ]
    },
    {
      "cell_type": "code",
      "execution_count": null,
      "metadata": {
        "colab": {
          "base_uri": "https://localhost:8080/"
        },
        "id": "BmHn_SEl6pMB",
        "outputId": "b39a8c93-8298-450c-e9a0-59ff2f013761"
      },
      "outputs": [],
      "source": [
        "print(\"Best parameters obtained by Random Search - label y:\", grid_SVR_y.best_params_)\n",
        "best_regressor_y = grid_SVR_y.best_estimator_\n",
        "y_train_pred_y = best_regressor_y.predict(x_train)\n",
        "\n",
        "#training validation\n",
        "train_loss_y = MEE(y_train_y, y_train_pred_y)\n",
        "print(\"MEE - label y: \", train_loss_y)"
      ]
    },
    {
      "cell_type": "code",
      "execution_count": null,
      "metadata": {
        "colab": {
          "base_uri": "https://localhost:8080/"
        },
        "id": "jBJbrVH15rVx",
        "outputId": "6950d4c4-5149-4a39-b649-95a568f7f6c0"
      },
      "outputs": [],
      "source": [
        "#internal validation\n",
        "y_val_pred_y = best_regressor_y.predict(x_internal_test)\n",
        "val_loss_y = MEE(y_test_y, y_val_pred_y)\n",
        "print(\"val loss - label y: \", val_loss_y)"
      ]
    },
    {
      "cell_type": "markdown",
      "metadata": {
        "id": "fhaVZVxu5wcT"
      },
      "source": [
        "### label z"
      ]
    },
    {
      "cell_type": "code",
      "execution_count": null,
      "metadata": {
        "colab": {
          "base_uri": "https://localhost:8080/",
          "height": 1000
        },
        "id": "bYBJQlvsgJ0_",
        "outputId": "4db0661f-c30b-4927-82aa-c1cc5e42a606"
      },
      "outputs": [],
      "source": [
        "y_train_z = y_train[2]\n",
        "y_test_z = y_internal_test[2]\n",
        "\n",
        "#training\n",
        "grid_SVR_z = GridSearchCV(SVR(),param_grid,refit=True,verbose=0,cv=5)\n",
        "grid_SVR_z.fit(x_train,y_train_z)"
      ]
    },
    {
      "cell_type": "code",
      "execution_count": null,
      "metadata": {
        "colab": {
          "base_uri": "https://localhost:8080/"
        },
        "id": "f_ihy-T36yH2",
        "outputId": "ba70f637-d2ef-47e5-f2b3-355e89eea410"
      },
      "outputs": [],
      "source": [
        "print(\"Best parameters obtained by Random Search - label z:\", grid_SVR_z.best_params_)\n",
        "best_regressor_z = grid_SVR_z.best_estimator_\n",
        "y_train_pred_z = best_regressor_z.predict(x_train)\n",
        "\n",
        "#training validation\n",
        "train_loss_z = MEE(y_train_z, y_train_pred_z)\n",
        "print(\"MEE - label z: \", train_loss_z)"
      ]
    },
    {
      "cell_type": "code",
      "execution_count": null,
      "metadata": {
        "colab": {
          "base_uri": "https://localhost:8080/"
        },
        "id": "p8oPS5vzo2ex",
        "outputId": "fdd96fce-eb9a-4bba-f0a6-b67d8becd0c1"
      },
      "outputs": [],
      "source": [
        "#internal validation\n",
        "y_val_pred_z = best_regressor_z.predict(x_internal_test)\n",
        "val_loss_z = MEE(y_test_z, y_val_pred_z)\n",
        "print(\"val loss - label z: \", val_loss_z)"
      ]
    },
    {
      "cell_type": "markdown",
      "metadata": {
        "id": "YoiZMoLjp_V5"
      },
      "source": [
        "### MEE COMBINED"
      ]
    },
    {
      "cell_type": "code",
      "execution_count": null,
      "metadata": {
        "colab": {
          "base_uri": "https://localhost:8080/"
        },
        "id": "flCo2YlfN5Xk",
        "outputId": "cc0d5776-325f-4250-e186-4e4e9957f2ea"
      },
      "outputs": [],
      "source": [
        "# Calcolo del Mean Euclidean Error combinato\n",
        "combined_error = np.mean([val_loss_x, val_loss_y, val_loss_z], axis=0)\n",
        "mean_euclidean_error = np.mean(combined_error)\n",
        "combined_error1 = np.mean([train_loss, train_loss_y, train_loss_z], axis=0)\n",
        "\n",
        "mean_euclidean_error = np.mean(combined_error)\n",
        "print(\"Mean Euclidean Error combinato:\", mean_euclidean_error)\n",
        "print(\"mean euclidean error training combinato:\", np.mean(combined_error1))"
      ]
    }
  ],
  "metadata": {
    "colab": {
      "collapsed_sections": [
        "0rcUBlq2phyK",
        "QPPlpbXTpBet"
      ],
      "provenance": []
    },
    "kernelspec": {
      "display_name": "Python 3",
      "name": "python3"
    },
    "language_info": {
      "name": "python"
    }
  },
  "nbformat": 4,
  "nbformat_minor": 0
}
