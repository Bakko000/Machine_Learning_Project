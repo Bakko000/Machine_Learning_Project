{
 "cells": [
  {
   "cell_type": "code",
   "execution_count": null,
   "metadata": {},
   "outputs": [],
   "source": [
    "import pandas as pd\n",
    "import math"
   ]
  },
  {
   "cell_type": "markdown",
   "metadata": {},
   "source": [
    "# Data loading"
   ]
  },
  {
   "cell_type": "code",
   "execution_count": null,
   "metadata": {},
   "outputs": [],
   "source": [
    "from api.data_handler import DataHandler\n",
    "\n",
    "# Creation of a DataHandler Object\n",
    "data_handler = DataHandler(['id', 'col1', 'col2', 'col3', 'col4', 'col5', 'col6', 'col7', 'col8', 'col9', 'col10', 'target_x', 'target_y', 'target_z'])\n",
    "\n",
    "# Load the Training/Test sets into pandas DataFrames\n",
    "df_train : pd.DataFrame = data_handler.load_data(f'data/cup/ML-CUP23-TR.csv', delimiter=',')\n",
    "df_test  : pd.DataFrame = data_handler.load_data(f'data/cup/ML-CUP23-TS.csv', delimiter=',')\n",
    "\n",
    "# Print the head of the loaded data\n",
    "print(df_train.head())\n",
    "print(df_test.head())"
   ]
  },
  {
   "cell_type": "code",
   "execution_count": null,
   "metadata": {},
   "outputs": [],
   "source": [
    "# Parameters' space for Grid Search (1 for each Dataset)\n",
    "\n",
    "param_space = {\n",
    "\n",
    "        'hidden_units': [65, 80], \n",
    "        'patience': [15, 30],\n",
    "        'batch_size': [64, 128], \n",
    "        'learning_rate': [0.03, 0.02], \n",
    "        'epochs': [650, 700],\n",
    "        'weight_decay': [0.0002, 0.0001] ,\n",
    "        'momentum': [0.7, 0.8],\n",
    "        'activation': ['tanh'],\n",
    "        'nesterov': [False],\n",
    "        'output_activation': ['linear']    \n",
    "}   \n",
    "\n"
   ]
  },
  {
   "cell_type": "markdown",
   "metadata": {},
   "source": [
    "# Data Split"
   ]
  },
  {
   "cell_type": "code",
   "execution_count": null,
   "metadata": {},
   "outputs": [],
   "source": [
    "# Saving the ID columns\n",
    "df_id_train: pd.DataFrame = df_train['id']\n",
    "df_id_test: pd.DataFrame = df_test['id']\n",
    "\n",
    "# Drop the ID columns\n",
    "df_train = df_train.drop(columns=['id'],axis=1).copy(deep=True)\n",
    "df_test = df_test.drop(columns=['id'],axis=1).copy(deep=True)\n",
    "\n",
    "# Split of columns and rows (0.8/0.2) into: TR set and Internal TS set\n",
    "x_train, y_train, x_internal_test, y_internal_test = data_handler.split_data(\n",
    "    data=df_train,\n",
    "    cols_name_split=['target_x','target_y','target_z'],\n",
    "    rows_split_perc=0.8\n",
    ")\n",
    "\n",
    "# Split on columns\n",
    "x_test, y_test = data_handler.split_data(data=df_test, cols_name_split=['target_x','target_y','target_z'])\n",
    "\n",
    "# Print of the shapes\n",
    "print(f\"[IDs TR SET]: \" + str(df_id_train.shape))\n",
    "print(f\"[IDs TS SET]: \" + str(df_id_test.shape))\n",
    "print(f\"[TR SET - x]: \" + str(x_train.shape))\n",
    "print(f\"[TR SET - y]: \" + str(y_train.shape))\n",
    "print(f\"[Internal TS SET - x]: \" + str(x_internal_test.shape))\n",
    "print(f\"[Internal TS SET - y]: \" + str(y_internal_test.shape))\n",
    "print(f\"[TS SET - x]: \" + str(x_test.shape))\n",
    "print(f\"[TS SET - y]: \" + str(y_test.shape))"
   ]
  },
  {
   "cell_type": "markdown",
   "metadata": {},
   "source": [
    "# Model selection"
   ]
  },
  {
   "cell_type": "markdown",
   "metadata": {},
   "source": [
    "## Best hyperparameters research"
   ]
  },
  {
   "cell_type": "code",
   "execution_count": null,
   "metadata": {},
   "outputs": [],
   "source": [
    "from sklearn.model_selection import KFold\n",
    "from api.keras.cup_nn import BinaryNN\n",
    "\n",
    "# Creation of a BinaryNN objct for each dataset\n",
    "nn: BinaryNN = None\n",
    "\n",
    "# Different values per dataset\n",
    "trials = 100\n",
    "k = 5\n",
    "\n",
    "# Search of the best Hyperparameters\n",
    "X = x_train.values.astype(dtype=float)\n",
    "y = y_train.values.astype(dtype=float)\n",
    "\n",
    "# K-fold Cross-validation\n",
    "kfold = KFold(n_splits=k, shuffle=True, random_state=42)\n",
    "\n",
    "# Sets all the combinations of the entire set of parameters\n",
    "data_handler.set_params_combinations(params=param_space)\n",
    "\n",
    "# Gets the list with the combinations of all the parameters\n",
    "params_combinations = data_handler.get_params_combinations()\n",
    "\n",
    "# For each iteration we choose the hyperparameters and we use them with K-fold CV\n",
    "for trial, params in enumerate(params_combinations):\n",
    "#for trial in range(trials):\n",
    "\n",
    "    # Choose random hyperparameters\n",
    "    #params = data_handler.random_dictionary(params=param_space[0])\n",
    "\n",
    "    # Creation of the Neural Network object\n",
    "    nn_i = BinaryNN(params=params, monk_i=trial+1, trial=+1)\n",
    "\n",
    "    nn_i.create_model(n_hidden_layers=2)\n",
    "                    \n",
    "    # For each K-fold returns the indexes of the data splitted in: <X_train,y_train> and <X_val,y_val>\n",
    "    for train_index, val_index in kfold.split(X, y):\n",
    "        x_kfold_train, x_kfold_val = X[train_index], X[val_index]\n",
    "        y_kfold_train, y_kfold_val = y[train_index], y[val_index]\n",
    "\n",
    "        nn_i.fit(\n",
    "            x_train=x_kfold_train,\n",
    "            y_train=y_kfold_train,\n",
    "            x_val=x_kfold_val,\n",
    "            y_val=y_kfold_val\n",
    "        )\n",
    "\n",
    "        nn_i.evaluate(\n",
    "            x_train=x_kfold_train,\n",
    "            y_train=y_kfold_train,\n",
    "            x_val=x_kfold_val,\n",
    "            y_val=y_kfold_val\n",
    "        )\n",
    "\n",
    "    # Case of first assignment\n",
    "    if nn is None:\n",
    "        nn = nn_i\n",
    "    \n",
    "    # Print the results of this trial\n",
    "    print(\"\\n------------------ Current Hyperparameters ------------------\")\n",
    "    nn_i.print_training_info()\n",
    "    print(\"------------------ CUP Best Hyperparameters -----------------\")\n",
    "    nn.print_training_info()\n",
    "    print(\"\\n\\n\")\n",
    "\n",
    "    # Update best hyperparameters if: no overfitting AND (higher mean VL accuracy OR (equal mean AND\n",
    "    #if nn_i.mean_tr_accuracy-0.1 <= nn_i.mean_vl_accuracy: #\\\n",
    "    #    and (\n",
    "    #        nn.mean_vl_accuracy < nn_i.mean_vl_accuracy \\\n",
    "    #        or (\n",
    "    #            nn.mean_vl_accuracy == nn_i.mean_vl_accuracy \\\n",
    "    #            and nn.mean_tr_accuracy < nn_i.mean_tr_accuracy\n",
    "    #        )\n",
    "    #    ):\n",
    "        #nn = nn_i\n",
    "    \n",
    "    # Case of higher mean VL accuracy AND NO Overfitting\n",
    "    if nn_i.mean_vl_accuracy < nn.mean_vl_accuracy and not math.isnan(nn_i.mean_vl_accuracy): \n",
    "        #\\\n",
    "        #and (\n",
    "        #    abs(nn_i.mean_tr_accuracy - nn_i.mean_vl_accuracy) < abs(nn.mean_tr_accuracy - nn.mean_vl_accuracy) \\\n",
    "        #    or abs(nn_i.mean_tr_accuracy - nn_i.mean_vl_accuracy) < 0.02\n",
    "        #):\n",
    "        nn = nn_i\n",
    "    \n",
    "    # Exit case\n",
    "    if nn_i.mean_tr_accuracy == 1 and nn_i.mean_vl_accuracy == 1 \\\n",
    "        and nn_i.mean_vl_loss < 0.1 and nn_i.mean_tr_loss < 0.1 \\\n",
    "        and abs(nn_i.mean_vl_loss - nn_i.mean_tr_loss) < 0.01:\n",
    "        nn = nn_i\n",
    "        break\n",
    "\n",
    "# Print output\n",
    "print(f\"### Best Hyperparameters for CUP ###\")\n",
    "nn.print_training_info()\n",
    "print(\"\\n\\n\")\n"
   ]
  },
  {
   "cell_type": "code",
   "execution_count": null,
   "metadata": {},
   "outputs": [],
   "source": [
    "# Print best hyperparameters\n",
    "print(f\"\\n### Best Hyperparameters for CUP ###\")\n",
    "nn.print_training_info()\n",
    "nn.print_plot()"
   ]
  },
  {
   "cell_type": "markdown",
   "metadata": {},
   "source": [
    "# Retraining best model"
   ]
  },
  {
   "cell_type": "code",
   "execution_count": null,
   "metadata": {},
   "outputs": [],
   "source": [
    "# Training the model\n",
    "nn.fit(\n",
    "    x_train=x_train.values,\n",
    "    y_train=y_train.values\n",
    ")\n",
    "\n",
    "# Print values\n",
    "print(f\"\\n### Retraining for CUP ###\")\n",
    "nn.print_training_info()"
   ]
  },
  {
   "cell_type": "markdown",
   "metadata": {},
   "source": [
    "# Model assessment & Evaluation"
   ]
  },
  {
   "cell_type": "code",
   "execution_count": null,
   "metadata": {},
   "outputs": [],
   "source": [
    "import keras.backend as K\n",
    "\n",
    "X_test = x_internal_test.values\n",
    "y_test = y_internal_test.values\n",
    "\n",
    "score, y_pred = nn.predict(x_its=X_test, y_its=y_test)\n",
    "\n",
    "# Final score\n",
    "print(\"Mean Euclidean Error (Internal) test set:\", K.eval(score))\n",
    "\n",
    "r2_scores, average_r2 = nn.calculate_r2(y_test, y_pred)\n",
    "\n",
    "print(\"R-squared for each variable:\", r2_scores)\n",
    "print(\"Average R-squared:\", average_r2)"
   ]
  }
 ],
 "metadata": {
  "kernelspec": {
   "display_name": "base",
   "language": "python",
   "name": "python3"
  },
  "language_info": {
   "codemirror_mode": {
    "name": "ipython",
    "version": 3
   },
   "file_extension": ".py",
   "mimetype": "text/x-python",
   "name": "python",
   "nbconvert_exporter": "python",
   "pygments_lexer": "ipython3",
   "version": "3.9.17"
  }
 },
 "nbformat": 4,
 "nbformat_minor": 2
}
