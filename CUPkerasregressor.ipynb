{
 "cells": [
  {
   "cell_type": "code",
   "execution_count": 1,
   "metadata": {},
   "outputs": [],
   "source": [
    "import pandas as pd"
   ]
  },
  {
   "cell_type": "code",
   "execution_count": 2,
   "metadata": {},
   "outputs": [
    {
     "name": "stdout",
     "output_type": "stream",
     "text": [
      "   id      col1      col2      col3      col4      col5      col6      col7  \\\n",
      "0   1 -0.917280 -0.712727 -0.989904  0.992819  0.993649  0.995543  0.711074   \n",
      "1   2 -0.858784  0.998755 -0.998396  0.999909  0.316503 -0.951897 -0.163139   \n",
      "2   3 -0.990441  0.958726 -0.998675  0.997216  0.987166  0.356483 -0.279689   \n",
      "3   4  0.937117  0.984474 -0.612420  0.999812  0.728623 -0.539962 -0.165939   \n",
      "4   5 -0.906628 -0.884567 -0.932487  0.941037  0.978134  0.998179  0.749606   \n",
      "\n",
      "       col8      col9     col10   target_x   target_y   target_z  \n",
      "0  0.407645 -0.688548  0.616890   7.897453 -35.936382  21.077147  \n",
      "1  0.980982  0.661759 -0.800155  -9.330632  19.901571   6.069154  \n",
      "2  0.599163 -0.684630  0.922901  14.849400   3.374090  19.667479  \n",
      "3  0.999352 -0.921444 -0.974766 -46.591854  13.734777  17.953600  \n",
      "4 -0.590599 -0.508268  0.691798   8.217500 -45.885254  14.894251  \n",
      "   id      col1      col2      col3      col4      col5      col6      col7  \\\n",
      "0   1 -0.983589  0.989514 -0.998539  0.999440  0.970297 -0.234119 -0.133332   \n",
      "1   2 -0.296891 -0.831832 -0.967981  0.986235  0.998669  0.997767 -0.340468   \n",
      "2   3 -0.986512  0.979557 -0.998547  0.999430  0.985407  0.166472  0.035096   \n",
      "3   4 -0.594083  0.986703 -0.992113  0.999881  0.982517  0.187048 -0.135851   \n",
      "4   5  0.940018  0.934761 -0.159506  0.999147  0.846696  0.413116 -0.628644   \n",
      "\n",
      "       col8      col9     col10  target_x  target_y  target_z  \n",
      "0  0.899576 -0.605156  0.656074       NaN       NaN       NaN  \n",
      "1  0.817937 -0.968516  0.699273       NaN       NaN       NaN  \n",
      "2  0.877812 -0.698500  0.667267       NaN       NaN       NaN  \n",
      "3  0.995478 -0.801041 -0.864406       NaN       NaN       NaN  \n",
      "4  0.998797 -0.967884 -0.949134       NaN       NaN       NaN  \n"
     ]
    }
   ],
   "source": [
    "from api.data_handler import DataHandler\n",
    "\n",
    "# Creation of a DataHandler Object\n",
    "data_handler = DataHandler(['id', 'col1', 'col2', 'col3', 'col4', 'col5', 'col6', 'col7', 'col8', 'col9', 'col10', 'target_x', 'target_y', 'target_z'])\n",
    "\n",
    "# Load the Training/Test sets into pandas DataFrames\n",
    "df_train : pd.DataFrame = data_handler.load_data(f'data/cup/ML-CUP23-TR.csv', delimiter=',')\n",
    "df_test  : pd.DataFrame = data_handler.load_data(f'data/cup/ML-CUP23-TS.csv', delimiter=',')\n",
    "\n",
    "# Print the head of the loaded data\n",
    "print(df_train.head())\n",
    "print(df_test.head())"
   ]
  },
  {
   "cell_type": "code",
   "execution_count": 3,
   "metadata": {},
   "outputs": [],
   "source": [
    "# Parameters' space for Grid Search (1 for each Dataset)\n",
    "param_space = {\n",
    "    0: {\n",
    "        'hidden_units': [30, 40, 50],\n",
    "        'patience': [10,15,30],\n",
    "        'learning_rate': [float(i/100) for i in range(1,10)]+[float(i/1000) for i in range(1,9)],\n",
    "        'batch_size': [7, 8, 9, 15, 16, 17, 31, 32, 33, 62, 63, 64, 65],\n",
    "        'epochs': [int(350+epochs) for epochs in range(0,100,50)],\n",
    "        'weight_decay': [float(i/10) for i in range(1,10)] + [0.01, 0.001, 0.0001],\n",
    "        'weight_init': ['glorot_normal', 'lecun_normal', 'he_normal', 'he_uniform'],\n",
    "        'momentum': [float(i/100) for i in range(1,9)] + [float(i/10) for i in range(1,9)],\n",
    "        'activation': ['tanh', 'linear'],\n",
    "        'output_activation': ['linear']    \n",
    "        }\n",
    "}"
   ]
  },
  {
   "cell_type": "code",
   "execution_count": 4,
   "metadata": {},
   "outputs": [
    {
     "name": "stdout",
     "output_type": "stream",
     "text": [
      "[IDs TR SET]: (1000,)\n",
      "[IDs TS SET]: (900,)\n",
      "[TR SET - x]: (800, 10)\n",
      "[TR SET - y]: (800, 3)\n",
      "[Internal TS SET - x]: (200, 10)\n",
      "[Internal TS SET - y]: (200, 3)\n",
      "[TS SET - x]: (900, 10)\n",
      "[TS SET - y]: (900, 3)\n"
     ]
    }
   ],
   "source": [
    "# Saving the ID columns\n",
    "df_id_train: pd.DataFrame = df_train['id']\n",
    "df_id_test: pd.DataFrame = df_test['id']\n",
    "\n",
    "# Drop the ID columns\n",
    "df_train = df_train.drop(columns=['id'],axis=1).copy(deep=True)\n",
    "df_test = df_test.drop(columns=['id'],axis=1).copy(deep=True)\n",
    "\n",
    "# Split of columns and rows (0.8/0.2) into: TR set and Internal TS set\n",
    "x_train, y_train, x_internal_test, y_internal_test = data_handler.split_data(\n",
    "    data=df_train,\n",
    "    cols_name_split=['target_x','target_y','target_z'],\n",
    "    rows_split_perc=0.8\n",
    ")\n",
    "\n",
    "# Split on columns\n",
    "x_test, y_test = data_handler.split_data(data=df_test, cols_name_split=['target_x','target_y','target_z'])\n",
    "\n",
    "# Print of the shapes\n",
    "print(f\"[IDs TR SET]: \" + str(df_id_train.shape))\n",
    "print(f\"[IDs TS SET]: \" + str(df_id_test.shape))\n",
    "print(f\"[TR SET - x]: \" + str(x_train.shape))\n",
    "print(f\"[TR SET - y]: \" + str(y_train.shape))\n",
    "print(f\"[Internal TS SET - x]: \" + str(x_internal_test.shape))\n",
    "print(f\"[Internal TS SET - y]: \" + str(y_internal_test.shape))\n",
    "print(f\"[TS SET - x]: \" + str(x_test.shape))\n",
    "print(f\"[TS SET - y]: \" + str(y_test.shape))"
   ]
  },
  {
   "cell_type": "code",
   "execution_count": 5,
   "metadata": {},
   "outputs": [],
   "source": [
    "from sklearn.model_selection import KFold\n",
    "from api.keras.binary_nn import BinaryNN\n",
    "\n",
    "# Creation of a BinaryNN objct for each dataset\n",
    "nn: BinaryNN = None\n",
    "\n",
    "# Different values per dataset\n",
    "trials = 3\n",
    "k = 5\n",
    "\n",
    "# Search of the best Hyperparameters\n",
    "X = x_train.values.astype(dtype=float)\n",
    "y = y_train.values.astype(dtype=float)\n",
    "\n",
    "# K-fold Cross-validation\n",
    "kfold = KFold(n_splits=k, shuffle=True, random_state=42)\n",
    "\n",
    "# Sets all the combinations of the entire set of parameters\n",
    "#data_handler.set_params_combinations(params=param_space[dataset_i])\n",
    "\n",
    "# Gets the list with the combinations of all the parameters\n",
    "#params_combinations = data_handler.get_params_combinations()\n",
    "\n",
    "# For each iteration we choose the hyperparameters (randomly) and we use them with K-fold CV\n",
    "#for trial, params in enumerate(params_combinations):\n",
    "for trial in range(trials):\n",
    "\n",
    "    # Choose random hyperparameters\n",
    "    params = data_handler.random_dictionary(params=param_space[0])\n",
    "\n",
    "    # Creation of the Neural Network object\n",
    "    nn_i = BinaryNN(params=params, monk_i=trial+1, trial=+1)\n",
    "                    \n",
    "    # For each K-fold returns the indexes of the data splitted in: <X_train,y_train> and <X_val,y_val>\n",
    "    for train_index, val_index in kfold.split(X, y):\n",
    "        x_kfold_train, x_kfold_val = X[train_index], X[val_index]\n",
    "        y_kfold_train, y_kfold_val = y[train_index], y[val_index]\n",
    "\n",
    "        nn_i.create_model(n_hidden_layers=1)\n",
    "\n",
    "        nn_i.fit(\n",
    "            x_train=x_kfold_train,\n",
    "            y_train=y_kfold_train,\n",
    "            x_val=x_kfold_val,\n",
    "            y_val=y_kfold_val\n",
    "        )\n",
    "\n",
    "        nn_i.evaluate(\n",
    "            x_train=x_kfold_train,\n",
    "            y_train=y_kfold_train,\n",
    "            x_val=x_kfold_val,\n",
    "            y_val=y_kfold_val\n",
    "        )\n",
    "\n",
    "    # Case of first assignment\n",
    "    if nn is None:\n",
    "        nn = nn_i\n",
    "    \n",
    "    # Print the results of this trial\n",
    "    print(\"\\n------------------ Current Hyperparameters ------------------\")\n",
    "    nn_i.print_training_info()\n",
    "    print(\"------------------ CUP Best Hyperparameters -----------------\")\n",
    "    nn.print_training_info()\n",
    "    print(\"\\n\\n\")\n",
    "\n",
    "    # Update best hyperparameters if: no overfitting AND (higher mean VL accuracy OR (equal mean AND\n",
    "    if nn_i.mean_tr_accuracy-0.1 <= nn_i.mean_vl_accuracy \\\n",
    "        and (\n",
    "            nn.mean_vl_accuracy < nn_i.mean_vl_accuracy \\\n",
    "            or (\n",
    "                nn.mean_vl_accuracy == nn_i.mean_vl_accuracy \\\n",
    "                and nn.mean_tr_accuracy < nn_i.mean_tr_accuracy\n",
    "            )\n",
    "        ):\n",
    "        nn = nn_i\n",
    "    \n",
    "    # Case of higher mean VL accuracy AND NO Overfitting\n",
    "    if nn_i.mean_vl_accuracy > nn.mean_vl_accuracy \\\n",
    "        and (\n",
    "            abs(nn_i.mean_tr_accuracy - nn_i.mean_vl_accuracy) < abs(nn.mean_tr_accuracy - nn.mean_vl_accuracy) \\\n",
    "            or abs(nn_i.mean_tr_accuracy - nn_i.mean_vl_accuracy) < 0.02\n",
    "        ):\n",
    "        nn = nn_i\n",
    "    \n",
    "    # Exit case\n",
    "    if nn_i.mean_tr_accuracy == 1 and nn_i.mean_vl_accuracy == 1 \\\n",
    "        and nn_i.mean_vl_loss < 0.1 and nn_i.mean_tr_loss < 0.1 \\\n",
    "        and abs(nn_i.mean_vl_loss - nn_i.mean_tr_loss) < 0.01:\n",
    "        nn = nn_i\n",
    "        break\n",
    "\n",
    "# Print output\n",
    "print(f\"### Best Hyperparameters for CUP ###\")\n",
    "nn.print_training_info()\n",
    "print(\"\\n\\n\")\n"
   ]
  },
  {
   "cell_type": "code",
   "execution_count": null,
   "metadata": {},
   "outputs": [
    {
     "name": "stdout",
     "output_type": "stream",
     "text": [
      "\n",
      "### Best Hyperparameters for CUP ###\n",
      " Monk:                     4\n",
      " Trial:                    1\n",
      " Hyperparameters:          {'hidden_units': 30, 'patience': 30, 'factor_lr_dec': 1.0, 'step_decay': 1500, 'learning_rate': 0.09, 'batch_size': 9, 'epochs': 390, 'weight_decay': 0.9, 'weight_init': 'he_uniform', 'momentum': 0.8, 'activation': 'tanh', 'output_activation': 'linear'}\n",
      " Mean Training Loss:       3.412722295360895e+29\n",
      " Mean Validation Loss:     3.412722595821463e+29\n",
      " Mean Training Accuracy:   558376170605772.8\n",
      " Mean Validation Accuracy: 558376215904256.0\n"
     ]
    },
    {
     "ename": "KeyError",
     "evalue": "'accuracy'",
     "output_type": "error",
     "traceback": [
      "\u001b[1;31m---------------------------------------------------------------------------\u001b[0m",
      "\u001b[1;31mKeyError\u001b[0m                                  Traceback (most recent call last)",
      "Input \u001b[1;32mIn [7]\u001b[0m, in \u001b[0;36m<cell line: 4>\u001b[1;34m()\u001b[0m\n\u001b[0;32m      2\u001b[0m \u001b[38;5;28mprint\u001b[39m(\u001b[38;5;124mf\u001b[39m\u001b[38;5;124m\"\u001b[39m\u001b[38;5;130;01m\\n\u001b[39;00m\u001b[38;5;124m### Best Hyperparameters for CUP ###\u001b[39m\u001b[38;5;124m\"\u001b[39m)\n\u001b[0;32m      3\u001b[0m nn\u001b[38;5;241m.\u001b[39mprint_training_info()\n\u001b[1;32m----> 4\u001b[0m \u001b[43mnn\u001b[49m\u001b[38;5;241;43m.\u001b[39;49m\u001b[43mprint_plot\u001b[49m\u001b[43m(\u001b[49m\u001b[43m)\u001b[49m\n",
      "File \u001b[1;32mc:\\Users\\corra\\Documents\\GitHub\\Machine_Learning_Project\\api\\keras\\binary_nn.py:89\u001b[0m, in \u001b[0;36mBinaryNN.print_plot\u001b[1;34m(self)\u001b[0m\n\u001b[0;32m     87\u001b[0m plt\u001b[38;5;241m.\u001b[39mplot(\u001b[38;5;28mself\u001b[39m\u001b[38;5;241m.\u001b[39mhistory\u001b[38;5;241m.\u001b[39mhistory[\u001b[38;5;124m'\u001b[39m\u001b[38;5;124mloss\u001b[39m\u001b[38;5;124m'\u001b[39m], label\u001b[38;5;241m=\u001b[39m\u001b[38;5;124m'\u001b[39m\u001b[38;5;124mTraining Loss\u001b[39m\u001b[38;5;124m'\u001b[39m)\n\u001b[0;32m     88\u001b[0m plt\u001b[38;5;241m.\u001b[39mplot(\u001b[38;5;28mself\u001b[39m\u001b[38;5;241m.\u001b[39mhistory\u001b[38;5;241m.\u001b[39mhistory[\u001b[38;5;124m'\u001b[39m\u001b[38;5;124mval_loss\u001b[39m\u001b[38;5;124m'\u001b[39m], label\u001b[38;5;241m=\u001b[39m\u001b[38;5;124m'\u001b[39m\u001b[38;5;124mValidation Loss\u001b[39m\u001b[38;5;124m'\u001b[39m)\n\u001b[1;32m---> 89\u001b[0m plt\u001b[38;5;241m.\u001b[39mplot(\u001b[38;5;28;43mself\u001b[39;49m\u001b[38;5;241;43m.\u001b[39;49m\u001b[43mhistory\u001b[49m\u001b[38;5;241;43m.\u001b[39;49m\u001b[43mhistory\u001b[49m\u001b[43m[\u001b[49m\u001b[38;5;124;43m'\u001b[39;49m\u001b[38;5;124;43maccuracy\u001b[39;49m\u001b[38;5;124;43m'\u001b[39;49m\u001b[43m]\u001b[49m, label\u001b[38;5;241m=\u001b[39m\u001b[38;5;124m'\u001b[39m\u001b[38;5;124mTraining Accuracy\u001b[39m\u001b[38;5;124m'\u001b[39m)\n\u001b[0;32m     90\u001b[0m plt\u001b[38;5;241m.\u001b[39mplot(\u001b[38;5;28mself\u001b[39m\u001b[38;5;241m.\u001b[39mhistory\u001b[38;5;241m.\u001b[39mhistory[\u001b[38;5;124m'\u001b[39m\u001b[38;5;124mval_accuracy\u001b[39m\u001b[38;5;124m'\u001b[39m], label\u001b[38;5;241m=\u001b[39m\u001b[38;5;124m'\u001b[39m\u001b[38;5;124mValidation Accuracy\u001b[39m\u001b[38;5;124m'\u001b[39m)\n\u001b[0;32m     91\u001b[0m plt\u001b[38;5;241m.\u001b[39mtitle(\u001b[38;5;124m'\u001b[39m\u001b[38;5;124mLearning Curve\u001b[39m\u001b[38;5;124m'\u001b[39m)\n",
      "\u001b[1;31mKeyError\u001b[0m: 'accuracy'"
     ]
    },
    {
     "data": {
      "image/png": "[encoded data removed]",
      "text/plain": [
       "<Figure size 432x288 with 1 Axes>"
      ]
     },
     "metadata": {
      "needs_background": "light"
     },
     "output_type": "display_data"
    }
   ],
   "source": [
    "# Print best hyperparameters\n",
    "print(f\"\\n### Best Hyperparameters for CUP ###\")\n",
    "nn.print_training_info()\n",
    "nn.print_plot()"
   ]
  },
  {
   "cell_type": "code",
   "execution_count": null,
   "metadata": {},
   "outputs": [
    {
     "data": {
      "text/plain": [
       "{'loss': [3.1575120645183635e+27,\n",
       "  nan,\n",
       "  nan,\n",
       "  nan,\n",
       "  nan,\n",
       "  nan,\n",
       "  nan,\n",
       "  nan,\n",
       "  nan,\n",
       "  nan,\n",
       "  nan],\n",
       " 'mean_euclidean_distance': [34224268640256.0,\n",
       "  nan,\n",
       "  nan,\n",
       "  nan,\n",
       "  nan,\n",
       "  nan,\n",
       "  nan,\n",
       "  nan,\n",
       "  nan,\n",
       "  nan,\n",
       "  nan],\n",
       " 'val_loss': [1.670537974451638e+30,\n",
       "  nan,\n",
       "  nan,\n",
       "  nan,\n",
       "  nan,\n",
       "  nan,\n",
       "  nan,\n",
       "  nan,\n",
       "  nan,\n",
       "  nan,\n",
       "  nan],\n",
       " 'val_mean_euclidean_distance': [2238663387774976.0,\n",
       "  nan,\n",
       "  nan,\n",
       "  nan,\n",
       "  nan,\n",
       "  nan,\n",
       "  nan,\n",
       "  nan,\n",
       "  nan,\n",
       "  nan,\n",
       "  nan]}"
      ]
     },
     "execution_count": 8,
     "metadata": {},
     "output_type": "execute_result"
    }
   ],
   "source": []
  },
  {
   "cell_type": "code",
   "execution_count": null,
   "metadata": {},
   "outputs": [],
   "source": []
  }
 ],
 "metadata": {
  "kernelspec": {
   "display_name": "base",
   "language": "python",
   "name": "python3"
  },
  "language_info": {
   "codemirror_mode": {
    "name": "ipython",
    "version": 3
   },
   "file_extension": ".py",
   "mimetype": "text/x-python",
   "name": "python",
   "nbconvert_exporter": "python",
   "pygments_lexer": "ipython3",
   "version": "3.9.17"
  }
 },
 "nbformat": 4,
 "nbformat_minor": 2
}
