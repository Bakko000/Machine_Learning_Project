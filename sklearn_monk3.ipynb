{
  "cells": [
    {
      "cell_type": "code",
      "execution_count": 21,
      "metadata": {
        "id": "2WDQ9RlAVPQV"
      },
      "outputs": [],
      "source": [
        "import numpy as np\n",
        "import pandas as pd\n",
        "import matplotlib.pyplot as plt\n",
        "from sklearn import model_selection\n",
        "from sklearn.neural_network import MLPClassifier\n",
        "from sklearn.metrics import accuracy_score, f1_score, classification_report, mean_squared_error, roc_curve, auc, roc_auc_score, log_loss, r2_score, mean_squared_error, mean_absolute_error, make_scorer\n",
        "from sklearn.model_selection import train_test_split, cross_val_score, KFold, learning_curve, GridSearchCV, RandomizedSearchCV"
      ]
    },
    {
      "cell_type": "code",
      "execution_count": 4,
      "metadata": {
        "colab": {
          "base_uri": "https://localhost:8080/",
          "height": 73
        },
        "id": "rVVe--kkfCeQ",
        "outputId": "7b037489-7287-49f7-e0bd-fe1d79ef5af4"
      },
      "outputs": [
        {
          "output_type": "display_data",
          "data": {
            "text/plain": [
              "<IPython.core.display.HTML object>"
            ],
            "text/html": [
              "\n",
              "     <input type=\"file\" id=\"files-4002458e-1e59-467d-8872-2d95dcc86262\" name=\"files[]\" multiple disabled\n",
              "        style=\"border:none\" />\n",
              "     <output id=\"result-4002458e-1e59-467d-8872-2d95dcc86262\">\n",
              "      Upload widget is only available when the cell has been executed in the\n",
              "      current browser session. Please rerun this cell to enable.\n",
              "      </output>\n",
              "      <script>// Copyright 2017 Google LLC\n",
              "//\n",
              "// Licensed under the Apache License, Version 2.0 (the \"License\");\n",
              "// you may not use this file except in compliance with the License.\n",
              "// You may obtain a copy of the License at\n",
              "//\n",
              "//      http://www.apache.org/licenses/LICENSE-2.0\n",
              "//\n",
              "// Unless required by applicable law or agreed to in writing, software\n",
              "// distributed under the License is distributed on an \"AS IS\" BASIS,\n",
              "// WITHOUT WARRANTIES OR CONDITIONS OF ANY KIND, either express or implied.\n",
              "// See the License for the specific language governing permissions and\n",
              "// limitations under the License.\n",
              "\n",
              "/**\n",
              " * @fileoverview Helpers for google.colab Python module.\n",
              " */\n",
              "(function(scope) {\n",
              "function span(text, styleAttributes = {}) {\n",
              "  const element = document.createElement('span');\n",
              "  element.textContent = text;\n",
              "  for (const key of Object.keys(styleAttributes)) {\n",
              "    element.style[key] = styleAttributes[key];\n",
              "  }\n",
              "  return element;\n",
              "}\n",
              "\n",
              "// Max number of bytes which will be uploaded at a time.\n",
              "const MAX_PAYLOAD_SIZE = 100 * 1024;\n",
              "\n",
              "function _uploadFiles(inputId, outputId) {\n",
              "  const steps = uploadFilesStep(inputId, outputId);\n",
              "  const outputElement = document.getElementById(outputId);\n",
              "  // Cache steps on the outputElement to make it available for the next call\n",
              "  // to uploadFilesContinue from Python.\n",
              "  outputElement.steps = steps;\n",
              "\n",
              "  return _uploadFilesContinue(outputId);\n",
              "}\n",
              "\n",
              "// This is roughly an async generator (not supported in the browser yet),\n",
              "// where there are multiple asynchronous steps and the Python side is going\n",
              "// to poll for completion of each step.\n",
              "// This uses a Promise to block the python side on completion of each step,\n",
              "// then passes the result of the previous step as the input to the next step.\n",
              "function _uploadFilesContinue(outputId) {\n",
              "  const outputElement = document.getElementById(outputId);\n",
              "  const steps = outputElement.steps;\n",
              "\n",
              "  const next = steps.next(outputElement.lastPromiseValue);\n",
              "  return Promise.resolve(next.value.promise).then((value) => {\n",
              "    // Cache the last promise value to make it available to the next\n",
              "    // step of the generator.\n",
              "    outputElement.lastPromiseValue = value;\n",
              "    return next.value.response;\n",
              "  });\n",
              "}\n",
              "\n",
              "/**\n",
              " * Generator function which is called between each async step of the upload\n",
              " * process.\n",
              " * @param {string} inputId Element ID of the input file picker element.\n",
              " * @param {string} outputId Element ID of the output display.\n",
              " * @return {!Iterable<!Object>} Iterable of next steps.\n",
              " */\n",
              "function* uploadFilesStep(inputId, outputId) {\n",
              "  const inputElement = document.getElementById(inputId);\n",
              "  inputElement.disabled = false;\n",
              "\n",
              "  const outputElement = document.getElementById(outputId);\n",
              "  outputElement.innerHTML = '';\n",
              "\n",
              "  const pickedPromise = new Promise((resolve) => {\n",
              "    inputElement.addEventListener('change', (e) => {\n",
              "      resolve(e.target.files);\n",
              "    });\n",
              "  });\n",
              "\n",
              "  const cancel = document.createElement('button');\n",
              "  inputElement.parentElement.appendChild(cancel);\n",
              "  cancel.textContent = 'Cancel upload';\n",
              "  const cancelPromise = new Promise((resolve) => {\n",
              "    cancel.onclick = () => {\n",
              "      resolve(null);\n",
              "    };\n",
              "  });\n",
              "\n",
              "  // Wait for the user to pick the files.\n",
              "  const files = yield {\n",
              "    promise: Promise.race([pickedPromise, cancelPromise]),\n",
              "    response: {\n",
              "      action: 'starting',\n",
              "    }\n",
              "  };\n",
              "\n",
              "  cancel.remove();\n",
              "\n",
              "  // Disable the input element since further picks are not allowed.\n",
              "  inputElement.disabled = true;\n",
              "\n",
              "  if (!files) {\n",
              "    return {\n",
              "      response: {\n",
              "        action: 'complete',\n",
              "      }\n",
              "    };\n",
              "  }\n",
              "\n",
              "  for (const file of files) {\n",
              "    const li = document.createElement('li');\n",
              "    li.append(span(file.name, {fontWeight: 'bold'}));\n",
              "    li.append(span(\n",
              "        `(${file.type || 'n/a'}) - ${file.size} bytes, ` +\n",
              "        `last modified: ${\n",
              "            file.lastModifiedDate ? file.lastModifiedDate.toLocaleDateString() :\n",
              "                                    'n/a'} - `));\n",
              "    const percent = span('0% done');\n",
              "    li.appendChild(percent);\n",
              "\n",
              "    outputElement.appendChild(li);\n",
              "\n",
              "    const fileDataPromise = new Promise((resolve) => {\n",
              "      const reader = new FileReader();\n",
              "      reader.onload = (e) => {\n",
              "        resolve(e.target.result);\n",
              "      };\n",
              "      reader.readAsArrayBuffer(file);\n",
              "    });\n",
              "    // Wait for the data to be ready.\n",
              "    let fileData = yield {\n",
              "      promise: fileDataPromise,\n",
              "      response: {\n",
              "        action: 'continue',\n",
              "      }\n",
              "    };\n",
              "\n",
              "    // Use a chunked sending to avoid message size limits. See b/62115660.\n",
              "    let position = 0;\n",
              "    do {\n",
              "      const length = Math.min(fileData.byteLength - position, MAX_PAYLOAD_SIZE);\n",
              "      const chunk = new Uint8Array(fileData, position, length);\n",
              "      position += length;\n",
              "\n",
              "      const base64 = btoa(String.fromCharCode.apply(null, chunk));\n",
              "      yield {\n",
              "        response: {\n",
              "          action: 'append',\n",
              "          file: file.name,\n",
              "          data: base64,\n",
              "        },\n",
              "      };\n",
              "\n",
              "      let percentDone = fileData.byteLength === 0 ?\n",
              "          100 :\n",
              "          Math.round((position / fileData.byteLength) * 100);\n",
              "      percent.textContent = `${percentDone}% done`;\n",
              "\n",
              "    } while (position < fileData.byteLength);\n",
              "  }\n",
              "\n",
              "  // All done.\n",
              "  yield {\n",
              "    response: {\n",
              "      action: 'complete',\n",
              "    }\n",
              "  };\n",
              "}\n",
              "\n",
              "scope.google = scope.google || {};\n",
              "scope.google.colab = scope.google.colab || {};\n",
              "scope.google.colab._files = {\n",
              "  _uploadFiles,\n",
              "  _uploadFilesContinue,\n",
              "};\n",
              "})(self);\n",
              "</script> "
            ]
          },
          "metadata": {}
        },
        {
          "output_type": "stream",
          "name": "stdout",
          "text": [
            "Saving monks-3.train to monks-3.train\n"
          ]
        }
      ],
      "source": [
        "# importing dataset\n",
        "from google.colab import files\n",
        "uploaded = files.upload()"
      ]
    },
    {
      "cell_type": "code",
      "execution_count": 5,
      "metadata": {
        "colab": {
          "base_uri": "https://localhost:8080/",
          "height": 73
        },
        "id": "oX83f0RyVKIO",
        "outputId": "9b3089e7-44de-4acb-a175-b8e8caf7f914"
      },
      "outputs": [
        {
          "output_type": "display_data",
          "data": {
            "text/plain": [
              "<IPython.core.display.HTML object>"
            ],
            "text/html": [
              "\n",
              "     <input type=\"file\" id=\"files-54cc718a-30b0-40a3-9a54-36d7674e35af\" name=\"files[]\" multiple disabled\n",
              "        style=\"border:none\" />\n",
              "     <output id=\"result-54cc718a-30b0-40a3-9a54-36d7674e35af\">\n",
              "      Upload widget is only available when the cell has been executed in the\n",
              "      current browser session. Please rerun this cell to enable.\n",
              "      </output>\n",
              "      <script>// Copyright 2017 Google LLC\n",
              "//\n",
              "// Licensed under the Apache License, Version 2.0 (the \"License\");\n",
              "// you may not use this file except in compliance with the License.\n",
              "// You may obtain a copy of the License at\n",
              "//\n",
              "//      http://www.apache.org/licenses/LICENSE-2.0\n",
              "//\n",
              "// Unless required by applicable law or agreed to in writing, software\n",
              "// distributed under the License is distributed on an \"AS IS\" BASIS,\n",
              "// WITHOUT WARRANTIES OR CONDITIONS OF ANY KIND, either express or implied.\n",
              "// See the License for the specific language governing permissions and\n",
              "// limitations under the License.\n",
              "\n",
              "/**\n",
              " * @fileoverview Helpers for google.colab Python module.\n",
              " */\n",
              "(function(scope) {\n",
              "function span(text, styleAttributes = {}) {\n",
              "  const element = document.createElement('span');\n",
              "  element.textContent = text;\n",
              "  for (const key of Object.keys(styleAttributes)) {\n",
              "    element.style[key] = styleAttributes[key];\n",
              "  }\n",
              "  return element;\n",
              "}\n",
              "\n",
              "// Max number of bytes which will be uploaded at a time.\n",
              "const MAX_PAYLOAD_SIZE = 100 * 1024;\n",
              "\n",
              "function _uploadFiles(inputId, outputId) {\n",
              "  const steps = uploadFilesStep(inputId, outputId);\n",
              "  const outputElement = document.getElementById(outputId);\n",
              "  // Cache steps on the outputElement to make it available for the next call\n",
              "  // to uploadFilesContinue from Python.\n",
              "  outputElement.steps = steps;\n",
              "\n",
              "  return _uploadFilesContinue(outputId);\n",
              "}\n",
              "\n",
              "// This is roughly an async generator (not supported in the browser yet),\n",
              "// where there are multiple asynchronous steps and the Python side is going\n",
              "// to poll for completion of each step.\n",
              "// This uses a Promise to block the python side on completion of each step,\n",
              "// then passes the result of the previous step as the input to the next step.\n",
              "function _uploadFilesContinue(outputId) {\n",
              "  const outputElement = document.getElementById(outputId);\n",
              "  const steps = outputElement.steps;\n",
              "\n",
              "  const next = steps.next(outputElement.lastPromiseValue);\n",
              "  return Promise.resolve(next.value.promise).then((value) => {\n",
              "    // Cache the last promise value to make it available to the next\n",
              "    // step of the generator.\n",
              "    outputElement.lastPromiseValue = value;\n",
              "    return next.value.response;\n",
              "  });\n",
              "}\n",
              "\n",
              "/**\n",
              " * Generator function which is called between each async step of the upload\n",
              " * process.\n",
              " * @param {string} inputId Element ID of the input file picker element.\n",
              " * @param {string} outputId Element ID of the output display.\n",
              " * @return {!Iterable<!Object>} Iterable of next steps.\n",
              " */\n",
              "function* uploadFilesStep(inputId, outputId) {\n",
              "  const inputElement = document.getElementById(inputId);\n",
              "  inputElement.disabled = false;\n",
              "\n",
              "  const outputElement = document.getElementById(outputId);\n",
              "  outputElement.innerHTML = '';\n",
              "\n",
              "  const pickedPromise = new Promise((resolve) => {\n",
              "    inputElement.addEventListener('change', (e) => {\n",
              "      resolve(e.target.files);\n",
              "    });\n",
              "  });\n",
              "\n",
              "  const cancel = document.createElement('button');\n",
              "  inputElement.parentElement.appendChild(cancel);\n",
              "  cancel.textContent = 'Cancel upload';\n",
              "  const cancelPromise = new Promise((resolve) => {\n",
              "    cancel.onclick = () => {\n",
              "      resolve(null);\n",
              "    };\n",
              "  });\n",
              "\n",
              "  // Wait for the user to pick the files.\n",
              "  const files = yield {\n",
              "    promise: Promise.race([pickedPromise, cancelPromise]),\n",
              "    response: {\n",
              "      action: 'starting',\n",
              "    }\n",
              "  };\n",
              "\n",
              "  cancel.remove();\n",
              "\n",
              "  // Disable the input element since further picks are not allowed.\n",
              "  inputElement.disabled = true;\n",
              "\n",
              "  if (!files) {\n",
              "    return {\n",
              "      response: {\n",
              "        action: 'complete',\n",
              "      }\n",
              "    };\n",
              "  }\n",
              "\n",
              "  for (const file of files) {\n",
              "    const li = document.createElement('li');\n",
              "    li.append(span(file.name, {fontWeight: 'bold'}));\n",
              "    li.append(span(\n",
              "        `(${file.type || 'n/a'}) - ${file.size} bytes, ` +\n",
              "        `last modified: ${\n",
              "            file.lastModifiedDate ? file.lastModifiedDate.toLocaleDateString() :\n",
              "                                    'n/a'} - `));\n",
              "    const percent = span('0% done');\n",
              "    li.appendChild(percent);\n",
              "\n",
              "    outputElement.appendChild(li);\n",
              "\n",
              "    const fileDataPromise = new Promise((resolve) => {\n",
              "      const reader = new FileReader();\n",
              "      reader.onload = (e) => {\n",
              "        resolve(e.target.result);\n",
              "      };\n",
              "      reader.readAsArrayBuffer(file);\n",
              "    });\n",
              "    // Wait for the data to be ready.\n",
              "    let fileData = yield {\n",
              "      promise: fileDataPromise,\n",
              "      response: {\n",
              "        action: 'continue',\n",
              "      }\n",
              "    };\n",
              "\n",
              "    // Use a chunked sending to avoid message size limits. See b/62115660.\n",
              "    let position = 0;\n",
              "    do {\n",
              "      const length = Math.min(fileData.byteLength - position, MAX_PAYLOAD_SIZE);\n",
              "      const chunk = new Uint8Array(fileData, position, length);\n",
              "      position += length;\n",
              "\n",
              "      const base64 = btoa(String.fromCharCode.apply(null, chunk));\n",
              "      yield {\n",
              "        response: {\n",
              "          action: 'append',\n",
              "          file: file.name,\n",
              "          data: base64,\n",
              "        },\n",
              "      };\n",
              "\n",
              "      let percentDone = fileData.byteLength === 0 ?\n",
              "          100 :\n",
              "          Math.round((position / fileData.byteLength) * 100);\n",
              "      percent.textContent = `${percentDone}% done`;\n",
              "\n",
              "    } while (position < fileData.byteLength);\n",
              "  }\n",
              "\n",
              "  // All done.\n",
              "  yield {\n",
              "    response: {\n",
              "      action: 'complete',\n",
              "    }\n",
              "  };\n",
              "}\n",
              "\n",
              "scope.google = scope.google || {};\n",
              "scope.google.colab = scope.google.colab || {};\n",
              "scope.google.colab._files = {\n",
              "  _uploadFiles,\n",
              "  _uploadFilesContinue,\n",
              "};\n",
              "})(self);\n",
              "</script> "
            ]
          },
          "metadata": {}
        },
        {
          "output_type": "stream",
          "name": "stdout",
          "text": [
            "Saving monks-3.test to monks-3.test\n"
          ]
        }
      ],
      "source": [
        "from google.colab import files\n",
        "uploaded1 = files.upload()"
      ]
    },
    {
      "cell_type": "code",
      "execution_count": 6,
      "metadata": {
        "id": "prqmD7m8VLD1"
      },
      "outputs": [],
      "source": [
        "import io\n",
        "df_train3 = pd.read_csv(io.BytesIO(uploaded['monks-3.train']), names=['target', 'col1', 'col2', 'col3', 'col4', 'col5', 'col6', 'id'], delimiter=' ')"
      ]
    },
    {
      "cell_type": "code",
      "execution_count": 7,
      "metadata": {
        "id": "q0eKej-jVVxM"
      },
      "outputs": [],
      "source": [
        "import io\n",
        "df_test3 = pd.read_csv(io.BytesIO(uploaded1['monks-3.test']), names=['target', 'col1', 'col2', 'col3', 'col4', 'col5', 'col6', 'id'], delimiter=' ')"
      ]
    },
    {
      "cell_type": "markdown",
      "metadata": {
        "id": "LYAXzZs0cECW"
      },
      "source": [
        "## DATA SPLIT"
      ]
    },
    {
      "cell_type": "code",
      "execution_count": 9,
      "metadata": {
        "id": "K59glKTUYn2o"
      },
      "outputs": [],
      "source": [
        "\n",
        "class DataHandler():\n",
        "    '''\n",
        "        Class which offers methods to handle DataFrames oriented to ML problems.\n",
        "    '''\n",
        "\n",
        "    def __init__(self, columns_name=[]):\n",
        "        self.columns_name = columns_name\n",
        "\n",
        "\n",
        "    def random_dictionary(self, param_space: dict) -> dict:\n",
        "        '''\n",
        "            Returns a dictionary with the same keywords of the passed one, associated with a \\\n",
        "            random value choosen by the list associated to any keyword.\\n\n",
        "            - param_space: dictionary of associations with the following format:\\n\n",
        "                \\t'keyword': [value1, ... ,valueN]\n",
        "        '''\n",
        "        params = {}\n",
        "\n",
        "        # Inserts of the keywords with the random values into the dictionary\n",
        "        for key in param_space.keys():\n",
        "            params[key] = np.random.choice(param_space[key])\n",
        "\n",
        "        return params\n",
        "\n",
        "\n",
        "    def load_data(self, path: str) -> pd.DataFrame:\n",
        "        '''\n",
        "            Returns the DataFrame associated to the Data set found at path \\\"path\\\".\\n\n",
        "            - path: path to the CSV file with data.\n",
        "        '''\n",
        "        return pd.read_csv(filepath_or_buffer=path, names=self.columns_name, delimiter=' ')\n",
        "\n",
        "\n",
        "    def split_data(self, data: pd.DataFrame, target_col: str, drop_cols: list):\n",
        "        '''\n",
        "            Returns a tuple of two new DataFrames: (x,y).\\n\n",
        "            - x: is like \\\"df\\\" without the columns specified in the list \\\"drop_cols\\\".\\n\n",
        "            - y: is the column indentified by the key \\\"target_col\\\".\\n\n",
        "            The parameters are:\\n\n",
        "            - df: the input DataFrame.\\n\n",
        "            - target_col: name of the target column.\\n\n",
        "            - drop_cols: list of columns' name to drop.\n",
        "        '''\n",
        "        y = data[target_col].copy(deep=True)\n",
        "        x = data.drop(columns=drop_cols, axis=1).copy(deep=True)\n",
        "        return x, y\n",
        "\n",
        "\n",
        "    def one_hot_encoding(self, data: pd.DataFrame):\n",
        "        '''\n",
        "            Returns the DataFrame got by appling the 1-Hot Encoding to the DataFrame \\\n",
        "            passed as parameter.\\n\n",
        "            - df: the DataFrame to whom is applied the 1-Hot Encoding.\n",
        "        '''\n",
        "\n",
        "        # Creation of a Deep Copy of the original DataFrame\n",
        "        df = data.copy(deep=True)\n",
        "\n",
        "        # For each column we apply the dummies method\n",
        "        for column in data.columns:\n",
        "\n",
        "            # Applies one-hot encoding to current column and renames them\n",
        "            one_hot_cols = pd.get_dummies(df[column], dtype=float)\n",
        "            one_hot_cols = one_hot_cols.set_axis([column+'_'+str(col) for col in one_hot_cols.columns], axis=1)\n",
        "\n",
        "            # Drops of the original column and adds the new columns\n",
        "            df = df.drop(column, axis=1)\n",
        "            df = pd.concat([df,one_hot_cols], axis=1)\n",
        "\n",
        "        return df\n"
      ]
    },
    {
      "cell_type": "code",
      "execution_count": 10,
      "metadata": {
        "colab": {
          "base_uri": "https://localhost:8080/",
          "height": 0
        },
        "id": "dQCmE35rfFHf",
        "outputId": "0dd92053-3808-4ddd-b3ca-55f0b0aae479"
      },
      "outputs": [
        {
          "output_type": "execute_result",
          "data": {
            "text/plain": [
              "'# Lists of DataFrames\\ndf_train1 : list[pd.DataFrame] = []\\ndf_test1  : list[pd.DataFrame] = []'"
            ],
            "application/vnd.google.colaboratory.intrinsic+json": {
              "type": "string"
            }
          },
          "metadata": {},
          "execution_count": 10
        }
      ],
      "source": [
        "data_handler = DataHandler(['target', 'col1', 'col2', 'col3', 'col4', 'col5', 'col6', 'id'])\n",
        "\n",
        "# Number of different Datasets\n",
        "datasets_number = 1\n",
        "\n",
        "'''# Lists of DataFrames\n",
        "df_train1 : list[pd.DataFrame] = []\n",
        "df_test1  : list[pd.DataFrame] = []'''\n",
        "\n"
      ]
    },
    {
      "cell_type": "code",
      "execution_count": 11,
      "metadata": {
        "id": "PEDwfhFfeEVj"
      },
      "outputs": [],
      "source": [
        "\n",
        "# Function to split data into features and labels\n",
        "def split_data(data, target_col, drop_cols):\n",
        "    # Assuming 'target_col' is the target column name\n",
        "    y = data[target_col]\n",
        "\n",
        "    # Assuming 'drop_cols' is a list of columns to drop\n",
        "    x = data.drop(columns=drop_cols)\n",
        "\n",
        "    return x, y\n",
        "\n",
        "# Lists to store training and testing data\n",
        "x_train_list = []\n",
        "y_train_list = []\n",
        "x_test_list = []\n",
        "y_test_list = []\n",
        "\n",
        "# Split each dataset into features and labels\n",
        "# Split training data\n",
        "x_train, y_train = split_data(df_train3, target_col='target', drop_cols=['target', 'id'])\n",
        "x_train_list.append(x_train)\n",
        "y_train_list.append(y_train)\n",
        "\n",
        "# Split testing data\n",
        "x_test, y_test = split_data(df_test3, target_col='target', drop_cols=['target', 'id'])\n",
        "x_test_list.append(x_test)\n",
        "y_test_list.append(y_test)\n"
      ]
    },
    {
      "cell_type": "markdown",
      "metadata": {
        "id": "t4-Bp8H5ZzkE"
      },
      "source": [
        "## 1-HOT ENCODING"
      ]
    },
    {
      "cell_type": "code",
      "execution_count": 12,
      "metadata": {
        "colab": {
          "base_uri": "https://localhost:8080/"
        },
        "id": "Pzs5IyMjZw4K",
        "outputId": "16868445-2803-4423-ef42-89dda7eb64d6"
      },
      "outputs": [
        {
          "output_type": "stream",
          "name": "stdout",
          "text": [
            "Monk 1 [TRAIN]: (122, 17)\n",
            "Monk 1 [TEST]: (432, 17)\n"
          ]
        }
      ],
      "source": [
        "# Applies the 1-Hot Encoding to the \"x\" data\n",
        "for i in range(datasets_number):\n",
        "    x_train = data_handler.one_hot_encoding(x_train)\n",
        "    x_test  = data_handler.one_hot_encoding(x_test)\n",
        "\n",
        "    # Print of the data modified\n",
        "    print(f\"Monk 1 [TRAIN]: \" + str(x_train.shape))\n",
        "    print(f\"Monk 1 [TEST]: \" + str(x_test.shape))"
      ]
    },
    {
      "cell_type": "markdown",
      "metadata": {
        "id": "akzE1pgymolM"
      },
      "source": [
        "Basta fare grid search di sklearn che ha già il metodo, copi gli altri iperparametri delle altre grid e avvi cross val score\n",
        "###### IMPORTANTE LEGGERE #####\n",
        "\n",
        "Usare solo TANH, niente relu\n",
        "Usare solo SGD, tanto Adam lo odia e comunque SGD è quello che performa meglio\n",
        "I learning rate vanno un po' abbassati\n",
        "I weight decay per monk1 e monk2 NON servono, monk3 SI e per monk3 serve grafico con e grafico senza come chiede il report\n",
        "sklearn implementa MLPclassifier e anche una sua random grid search (tu li dai i parametri tuoi)\n",
        "e anche un suo cross validatio cioè cross val score0:\n",
        "per monk1 partite da questi iperparametri\n",
        " {\n",
        "        'input_units': [17],\n",
        "        'hidden_units': [3, 4, 5],\n",
        "        'patience': [10,100,200],\n",
        "        'factor_lr_dec': [0.5, 1],\n",
        "        'step_decay': [500, 1000, 1500],\n",
        "        'learning_rate': [float(i/10) for i in range(1,10)] + [float(i/100) for i in range(1,10)] + [0.99, 0.999],\n",
        "        'batch_size': [15, 16, 17, 31, 32, 62, 63, 64, 65],\n",
        "        'epochs': [int(350+epochs) for epochs in range(0,200,10)],\n",
        "        'weight_init': ['glorot_normal', 'lecun_normal', 'he_normal', 'he_uniform'],\n",
        "        'momentum': [float(i/10) for i in range(3,9)],\n",
        "        'activation': ['tanh'],\n",
        "        'output_activation': ['sigmoid'],\n",
        "        'metrics': ['accuracy'],\n",
        "    },\n",
        "\n",
        "Mi dicono c'è da diminuire i batch\n",
        "Quindi tipo usare 1,2,3,4,5,6,7 nella grid\n"
      ]
    },
    {
      "cell_type": "markdown",
      "metadata": {
        "id": "Nl9z30ZD2CxM"
      },
      "source": [
        "## TRAINING"
      ]
    },
    {
      "cell_type": "code",
      "source": [
        "from sklearn.model_selection import KFold, GridSearchCV\n",
        "from sklearn.neural_network import MLPClassifier\n",
        "from sklearn.metrics import accuracy_score, mean_squared_error\n",
        "import numpy as np\n",
        "import matplotlib.pyplot as plt\n",
        "\n",
        "seed = 15\n",
        "np.random.seed(seed)\n",
        "\n",
        "# Initialize lists to store performance metrics\n",
        "train_accuracies = []\n",
        "val_accuracies = []\n",
        "train_losses = []\n",
        "val_losses = []\n",
        "\n",
        "# Define parameter grid for GridSearchCV\n",
        "'''param_grid = {\n",
        "    'hidden_layer_sizes': [(3,), (4,), (5,)],\n",
        "    'learning_rate': ['constant'],\n",
        "    'learning_rate_init': [0.1, 0.2, 0.3],\n",
        "    'momentum': [0.1, 0.2, 0.3], #float(i/10) for i in range(1,6)\n",
        "    'nesterovs_momentum': [True, False],\n",
        "    'activation': ['tanh'],\n",
        "    'solver': ['adam'],\n",
        "    'alpha': [float(i/10) for i in range(3,8)],\n",
        "    'batch_size': [31, 32, 33, 62, 63, 64, 65],\n",
        "    'shuffle': [True],\n",
        "    'max_iter': [340],\n",
        "}'''\n",
        "param_grid = {\n",
        "  'activation': ['tanh'],\n",
        "  'alpha': [float(i/10) for i in range(3,6)],\n",
        "  'hidden_layer_sizes': [(3,), (4,)],\n",
        "  'learning_rate_init': [0.2],\n",
        "  'momentum': [0.3],\n",
        "  'n_iter_no_change': [200],\n",
        "  'nesterovs_momentum': [False],\n",
        "  'solver': ['sgd'],\n",
        "  'tol': [0],\n",
        "  'max_iter': [500],\n",
        "  'shuffle': [True],\n",
        "}\n",
        "\n",
        "# Create a KFold instance\n",
        "kfold = KFold(n_splits=5, shuffle=True, random_state=seed)\n",
        "\n",
        "# Use make_scorer to create a scorer suitable for RandomizedSearchCV\n",
        "#scorer = make_scorer(mean_squared_error, greater_is_better=False)\n",
        "\n",
        "# Iterate through each fold in the KFold cross-validation\n",
        "for train_index, val_index in kfold.split(x_train, y_train):\n",
        "    x_tr, x_val = x_train.iloc[train_index], x_train.iloc[val_index]\n",
        "    y_tr, y_val = y_train.iloc[train_index], y_train.iloc[val_index]\n",
        "\n",
        "    # Create MLPClassifier instance\n",
        "    mlp = MLPClassifier(random_state=seed)\n",
        "\n",
        "    # Create GridSearchCV instance\n",
        "    grid_search = RandomizedSearchCV(estimator=mlp, param_distributions=param_grid, cv=5, verbose=2, scoring='accuracy')\n",
        "\n",
        "    # Fit the MLPClassifier using the current training fold and hyperparameters\n",
        "    grid_search.fit(x_tr, y_tr)\n",
        "\n",
        "    # Get best hyperparameters and initialize MLPClassifier with them\n",
        "    best_params = grid_search.best_params_\n",
        "    mlp_best = MLPClassifier(**best_params, random_state=seed)\n",
        "\n",
        "    # Lists to store accuracies and losses for each epoch in this fold\n",
        "    fold_train_accuracies = []\n",
        "    fold_val_accuracies = []\n",
        "    fold_train_losses = []\n",
        "    fold_val_losses = []\n",
        "\n",
        "    # Train the model for a fixed number of epochs\n",
        "    epochs = 340\n",
        "    for epoch in range(1, epochs + 1):\n",
        "        # Fit the model for one epoch\n",
        "        mlp_best.partial_fit(x_tr, y_tr, classes=np.unique(y_tr))\n",
        "\n",
        "        # Predictions on training and validation sets\n",
        "        y_train_pred = mlp_best.predict(x_tr)\n",
        "        y_val_pred = mlp_best.predict(x_val)\n",
        "\n",
        "        # Compute training and validation accuracy\n",
        "        train_accuracy = accuracy_score(y_tr, y_train_pred)\n",
        "        val_accuracy = accuracy_score(y_val, y_val_pred)\n",
        "\n",
        "        # Compute Mean Squared Error (MSE) for training and validation sets\n",
        "        train_error = mean_squared_error(y_tr, y_train_pred)\n",
        "        val_error = mean_squared_error(y_val, y_val_pred)\n",
        "\n",
        "        # Store accuracies and errors for each epoch\n",
        "        fold_train_accuracies.append(train_accuracy)\n",
        "        fold_val_accuracies.append(val_accuracy)\n",
        "        fold_train_losses.append(train_error)\n",
        "        fold_val_losses.append(val_error)\n",
        "\n",
        "    # Store fold-wise accuracies and losses\n",
        "    train_accuracies.append(fold_train_accuracies)\n",
        "    val_accuracies.append(fold_val_accuracies)\n",
        "    train_losses.append(fold_train_losses)\n",
        "    val_losses.append(fold_val_losses)\n",
        "\n",
        "# Calculate mean and standard deviation for training and validation accuracies and losses\n",
        "mean_train_accuracies = np.mean(train_accuracies, axis=0)\n",
        "std_train_accuracies = np.std(train_accuracies, axis=0)\n",
        "mean_val_accuracies = np.mean(val_accuracies, axis=0)\n",
        "std_val_accuracies = np.std(val_accuracies, axis=0)\n",
        "\n",
        "mean_train_losses = np.mean(train_losses, axis=0)\n",
        "std_train_losses = np.std(train_losses, axis=0)\n",
        "mean_val_losses = np.mean(val_losses, axis=0)\n",
        "std_val_losses = np.std(val_losses, axis=0)\n",
        "\n",
        "# Print final retraining metrics\n",
        "print(\"\\nFinal Retraining Metrics:\")\n",
        "print(\"Mean Training Accuracy: \", np.mean(mean_train_accuracies))\n",
        "print(\"Mean Validation Accuracy: \", np.mean(mean_val_accuracies))\n",
        "print(\"Mean Training Loss: \", np.mean(mean_train_losses))\n",
        "print(\"Mean Validation Loss: \", np.mean(mean_val_losses))\n",
        "print(\"Standard deviation training accuracies: \", np.std(std_train_accuracies))\n",
        "print(\"Standard deviation Training losses: \", np.std(std_train_losses))\n",
        "print(\"Standard deviation Validation accuracies: \", np.std(std_val_accuracies))\n",
        "print(\"Standard deviation Validation losses: \", np.std(std_val_losses))\n",
        "print(\"Best parameters: \", best_params)\n",
        "\n",
        "# Plot learning curves\n",
        "plt.figure(figsize=(12, 6))\n",
        "\n",
        "# Plotting accuracies\n",
        "plt.subplot(1, 2, 1)\n",
        "plt.plot(range(1, epochs + 1), mean_train_accuracies, label='Training Accuracy')\n",
        "plt.fill_between(range(1, epochs + 1), mean_train_accuracies - std_train_accuracies,\n",
        "                 mean_train_accuracies + std_train_accuracies, alpha=0.1)\n",
        "plt.plot(range(1, epochs + 1), mean_val_accuracies, label='Validation Accuracy')\n",
        "plt.fill_between(range(1, epochs + 1), mean_val_accuracies - std_val_accuracies,\n",
        "                 mean_val_accuracies + std_val_accuracies, alpha=0.1)\n",
        "plt.title('Training and Validation Accuracies')\n",
        "plt.xlabel('Epochs')\n",
        "plt.ylabel('Accuracy')\n",
        "plt.legend()\n",
        "\n",
        "# Plotting losses\n",
        "plt.subplot(1, 2, 2)\n",
        "plt.plot(range(1, epochs + 1), mean_train_losses, label='Training Loss')\n",
        "plt.fill_between(range(1, epochs + 1), mean_train_losses - std_train_losses,\n",
        "                 mean_train_losses + std_train_losses, alpha=0.1)\n",
        "plt.plot(range(1, epochs + 1), mean_val_losses, label='Validation Loss')\n",
        "plt.fill_between(range(1, epochs + 1), mean_val_losses - std_val_losses,\n",
        "                 mean_val_losses + std_val_losses, alpha=0.1)\n",
        "plt.title('Training and Validation Losses')\n",
        "plt.xlabel('Epochs')\n",
        "plt.ylabel('Loss')\n",
        "plt.legend()\n",
        "plt.plot\n"
      ],
      "metadata": {
        "colab": {
          "base_uri": "https://localhost:8080/",
          "height": 1000
        },
        "id": "1rYXkOUeBuw5",
        "outputId": "3c07a018-36c4-4ed5-bfb9-ba822aacd90f"
      },
      "execution_count": 106,
      "outputs": [
        {
          "output_type": "stream",
          "name": "stderr",
          "text": [
            "/usr/local/lib/python3.10/dist-packages/sklearn/model_selection/_search.py:305: UserWarning: The total space of parameters 3 is smaller than n_iter=10. Running 3 iterations. For exhaustive searches, use GridSearchCV.\n",
            "  warnings.warn(\n",
            "/usr/local/lib/python3.10/dist-packages/sklearn/neural_network/_multilayer_perceptron.py:686: ConvergenceWarning: Stochastic Optimizer: Maximum iterations (500) reached and the optimization hasn't converged yet.\n",
            "  warnings.warn(\n"
          ]
        },
        {
          "output_type": "stream",
          "name": "stdout",
          "text": [
            "Fitting 5 folds for each of 3 candidates, totalling 15 fits\n",
            "[CV] END activation=tanh, alpha=0.3, hidden_layer_sizes=(2, 2), learning_rate_init=0.2, max_iter=500, momentum=0.3, n_iter_no_change=200, nesterovs_momentum=False, shuffle=True, solver=sgd, tol=0; total time=   0.2s\n"
          ]
        },
        {
          "output_type": "stream",
          "name": "stderr",
          "text": [
            "/usr/local/lib/python3.10/dist-packages/sklearn/neural_network/_multilayer_perceptron.py:686: ConvergenceWarning: Stochastic Optimizer: Maximum iterations (500) reached and the optimization hasn't converged yet.\n",
            "  warnings.warn(\n",
            "/usr/local/lib/python3.10/dist-packages/sklearn/neural_network/_multilayer_perceptron.py:686: ConvergenceWarning: Stochastic Optimizer: Maximum iterations (500) reached and the optimization hasn't converged yet.\n",
            "  warnings.warn(\n"
          ]
        },
        {
          "output_type": "stream",
          "name": "stdout",
          "text": [
            "[CV] END activation=tanh, alpha=0.3, hidden_layer_sizes=(2, 2), learning_rate_init=0.2, max_iter=500, momentum=0.3, n_iter_no_change=200, nesterovs_momentum=False, shuffle=True, solver=sgd, tol=0; total time=   0.2s\n",
            "[CV] END activation=tanh, alpha=0.3, hidden_layer_sizes=(2, 2), learning_rate_init=0.2, max_iter=500, momentum=0.3, n_iter_no_change=200, nesterovs_momentum=False, shuffle=True, solver=sgd, tol=0; total time=   0.2s\n"
          ]
        },
        {
          "output_type": "stream",
          "name": "stderr",
          "text": [
            "/usr/local/lib/python3.10/dist-packages/sklearn/neural_network/_multilayer_perceptron.py:686: ConvergenceWarning: Stochastic Optimizer: Maximum iterations (500) reached and the optimization hasn't converged yet.\n",
            "  warnings.warn(\n",
            "/usr/local/lib/python3.10/dist-packages/sklearn/neural_network/_multilayer_perceptron.py:686: ConvergenceWarning: Stochastic Optimizer: Maximum iterations (500) reached and the optimization hasn't converged yet.\n",
            "  warnings.warn(\n"
          ]
        },
        {
          "output_type": "stream",
          "name": "stdout",
          "text": [
            "[CV] END activation=tanh, alpha=0.3, hidden_layer_sizes=(2, 2), learning_rate_init=0.2, max_iter=500, momentum=0.3, n_iter_no_change=200, nesterovs_momentum=False, shuffle=True, solver=sgd, tol=0; total time=   0.2s\n",
            "[CV] END activation=tanh, alpha=0.3, hidden_layer_sizes=(2, 2), learning_rate_init=0.2, max_iter=500, momentum=0.3, n_iter_no_change=200, nesterovs_momentum=False, shuffle=True, solver=sgd, tol=0; total time=   0.2s\n"
          ]
        },
        {
          "output_type": "stream",
          "name": "stderr",
          "text": [
            "/usr/local/lib/python3.10/dist-packages/sklearn/neural_network/_multilayer_perceptron.py:686: ConvergenceWarning: Stochastic Optimizer: Maximum iterations (500) reached and the optimization hasn't converged yet.\n",
            "  warnings.warn(\n"
          ]
        },
        {
          "output_type": "stream",
          "name": "stdout",
          "text": [
            "[CV] END activation=tanh, alpha=0.4, hidden_layer_sizes=(2, 2), learning_rate_init=0.2, max_iter=500, momentum=0.3, n_iter_no_change=200, nesterovs_momentum=False, shuffle=True, solver=sgd, tol=0; total time=   0.2s\n"
          ]
        },
        {
          "output_type": "stream",
          "name": "stderr",
          "text": [
            "/usr/local/lib/python3.10/dist-packages/sklearn/neural_network/_multilayer_perceptron.py:686: ConvergenceWarning: Stochastic Optimizer: Maximum iterations (500) reached and the optimization hasn't converged yet.\n",
            "  warnings.warn(\n",
            "/usr/local/lib/python3.10/dist-packages/sklearn/neural_network/_multilayer_perceptron.py:686: ConvergenceWarning: Stochastic Optimizer: Maximum iterations (500) reached and the optimization hasn't converged yet.\n",
            "  warnings.warn(\n"
          ]
        },
        {
          "output_type": "stream",
          "name": "stdout",
          "text": [
            "[CV] END activation=tanh, alpha=0.4, hidden_layer_sizes=(2, 2), learning_rate_init=0.2, max_iter=500, momentum=0.3, n_iter_no_change=200, nesterovs_momentum=False, shuffle=True, solver=sgd, tol=0; total time=   0.2s\n",
            "[CV] END activation=tanh, alpha=0.4, hidden_layer_sizes=(2, 2), learning_rate_init=0.2, max_iter=500, momentum=0.3, n_iter_no_change=200, nesterovs_momentum=False, shuffle=True, solver=sgd, tol=0; total time=   0.2s\n"
          ]
        },
        {
          "output_type": "stream",
          "name": "stderr",
          "text": [
            "/usr/local/lib/python3.10/dist-packages/sklearn/neural_network/_multilayer_perceptron.py:686: ConvergenceWarning: Stochastic Optimizer: Maximum iterations (500) reached and the optimization hasn't converged yet.\n",
            "  warnings.warn(\n",
            "/usr/local/lib/python3.10/dist-packages/sklearn/neural_network/_multilayer_perceptron.py:686: ConvergenceWarning: Stochastic Optimizer: Maximum iterations (500) reached and the optimization hasn't converged yet.\n",
            "  warnings.warn(\n"
          ]
        },
        {
          "output_type": "stream",
          "name": "stdout",
          "text": [
            "[CV] END activation=tanh, alpha=0.4, hidden_layer_sizes=(2, 2), learning_rate_init=0.2, max_iter=500, momentum=0.3, n_iter_no_change=200, nesterovs_momentum=False, shuffle=True, solver=sgd, tol=0; total time=   0.2s\n",
            "[CV] END activation=tanh, alpha=0.4, hidden_layer_sizes=(2, 2), learning_rate_init=0.2, max_iter=500, momentum=0.3, n_iter_no_change=200, nesterovs_momentum=False, shuffle=True, solver=sgd, tol=0; total time=   0.2s\n"
          ]
        },
        {
          "output_type": "stream",
          "name": "stderr",
          "text": [
            "/usr/local/lib/python3.10/dist-packages/sklearn/neural_network/_multilayer_perceptron.py:686: ConvergenceWarning: Stochastic Optimizer: Maximum iterations (500) reached and the optimization hasn't converged yet.\n",
            "  warnings.warn(\n",
            "/usr/local/lib/python3.10/dist-packages/sklearn/neural_network/_multilayer_perceptron.py:686: ConvergenceWarning: Stochastic Optimizer: Maximum iterations (500) reached and the optimization hasn't converged yet.\n",
            "  warnings.warn(\n"
          ]
        },
        {
          "output_type": "stream",
          "name": "stdout",
          "text": [
            "[CV] END activation=tanh, alpha=0.5, hidden_layer_sizes=(2, 2), learning_rate_init=0.2, max_iter=500, momentum=0.3, n_iter_no_change=200, nesterovs_momentum=False, shuffle=True, solver=sgd, tol=0; total time=   0.2s\n",
            "[CV] END activation=tanh, alpha=0.5, hidden_layer_sizes=(2, 2), learning_rate_init=0.2, max_iter=500, momentum=0.3, n_iter_no_change=200, nesterovs_momentum=False, shuffle=True, solver=sgd, tol=0; total time=   0.2s\n"
          ]
        },
        {
          "output_type": "stream",
          "name": "stderr",
          "text": [
            "/usr/local/lib/python3.10/dist-packages/sklearn/neural_network/_multilayer_perceptron.py:686: ConvergenceWarning: Stochastic Optimizer: Maximum iterations (500) reached and the optimization hasn't converged yet.\n",
            "  warnings.warn(\n",
            "/usr/local/lib/python3.10/dist-packages/sklearn/neural_network/_multilayer_perceptron.py:686: ConvergenceWarning: Stochastic Optimizer: Maximum iterations (500) reached and the optimization hasn't converged yet.\n",
            "  warnings.warn(\n"
          ]
        },
        {
          "output_type": "stream",
          "name": "stdout",
          "text": [
            "[CV] END activation=tanh, alpha=0.5, hidden_layer_sizes=(2, 2), learning_rate_init=0.2, max_iter=500, momentum=0.3, n_iter_no_change=200, nesterovs_momentum=False, shuffle=True, solver=sgd, tol=0; total time=   0.2s\n",
            "[CV] END activation=tanh, alpha=0.5, hidden_layer_sizes=(2, 2), learning_rate_init=0.2, max_iter=500, momentum=0.3, n_iter_no_change=200, nesterovs_momentum=False, shuffle=True, solver=sgd, tol=0; total time=   0.2s\n"
          ]
        },
        {
          "output_type": "stream",
          "name": "stderr",
          "text": [
            "/usr/local/lib/python3.10/dist-packages/sklearn/neural_network/_multilayer_perceptron.py:686: ConvergenceWarning: Stochastic Optimizer: Maximum iterations (500) reached and the optimization hasn't converged yet.\n",
            "  warnings.warn(\n",
            "/usr/local/lib/python3.10/dist-packages/sklearn/neural_network/_multilayer_perceptron.py:686: ConvergenceWarning: Stochastic Optimizer: Maximum iterations (500) reached and the optimization hasn't converged yet.\n",
            "  warnings.warn(\n"
          ]
        },
        {
          "output_type": "stream",
          "name": "stdout",
          "text": [
            "[CV] END activation=tanh, alpha=0.5, hidden_layer_sizes=(2, 2), learning_rate_init=0.2, max_iter=500, momentum=0.3, n_iter_no_change=200, nesterovs_momentum=False, shuffle=True, solver=sgd, tol=0; total time=   0.2s\n"
          ]
        },
        {
          "output_type": "stream",
          "name": "stderr",
          "text": [
            "/usr/local/lib/python3.10/dist-packages/sklearn/model_selection/_search.py:305: UserWarning: The total space of parameters 3 is smaller than n_iter=10. Running 3 iterations. For exhaustive searches, use GridSearchCV.\n",
            "  warnings.warn(\n",
            "/usr/local/lib/python3.10/dist-packages/sklearn/neural_network/_multilayer_perceptron.py:686: ConvergenceWarning: Stochastic Optimizer: Maximum iterations (500) reached and the optimization hasn't converged yet.\n",
            "  warnings.warn(\n"
          ]
        },
        {
          "output_type": "stream",
          "name": "stdout",
          "text": [
            "Fitting 5 folds for each of 3 candidates, totalling 15 fits\n",
            "[CV] END activation=tanh, alpha=0.3, hidden_layer_sizes=(2, 2), learning_rate_init=0.2, max_iter=500, momentum=0.3, n_iter_no_change=200, nesterovs_momentum=False, shuffle=True, solver=sgd, tol=0; total time=   0.2s\n"
          ]
        },
        {
          "output_type": "stream",
          "name": "stderr",
          "text": [
            "/usr/local/lib/python3.10/dist-packages/sklearn/neural_network/_multilayer_perceptron.py:686: ConvergenceWarning: Stochastic Optimizer: Maximum iterations (500) reached and the optimization hasn't converged yet.\n",
            "  warnings.warn(\n",
            "/usr/local/lib/python3.10/dist-packages/sklearn/neural_network/_multilayer_perceptron.py:686: ConvergenceWarning: Stochastic Optimizer: Maximum iterations (500) reached and the optimization hasn't converged yet.\n",
            "  warnings.warn(\n"
          ]
        },
        {
          "output_type": "stream",
          "name": "stdout",
          "text": [
            "[CV] END activation=tanh, alpha=0.3, hidden_layer_sizes=(2, 2), learning_rate_init=0.2, max_iter=500, momentum=0.3, n_iter_no_change=200, nesterovs_momentum=False, shuffle=True, solver=sgd, tol=0; total time=   0.2s\n",
            "[CV] END activation=tanh, alpha=0.3, hidden_layer_sizes=(2, 2), learning_rate_init=0.2, max_iter=500, momentum=0.3, n_iter_no_change=200, nesterovs_momentum=False, shuffle=True, solver=sgd, tol=0; total time=   0.2s\n"
          ]
        },
        {
          "output_type": "stream",
          "name": "stderr",
          "text": [
            "/usr/local/lib/python3.10/dist-packages/sklearn/neural_network/_multilayer_perceptron.py:686: ConvergenceWarning: Stochastic Optimizer: Maximum iterations (500) reached and the optimization hasn't converged yet.\n",
            "  warnings.warn(\n",
            "/usr/local/lib/python3.10/dist-packages/sklearn/neural_network/_multilayer_perceptron.py:686: ConvergenceWarning: Stochastic Optimizer: Maximum iterations (500) reached and the optimization hasn't converged yet.\n",
            "  warnings.warn(\n"
          ]
        },
        {
          "output_type": "stream",
          "name": "stdout",
          "text": [
            "[CV] END activation=tanh, alpha=0.3, hidden_layer_sizes=(2, 2), learning_rate_init=0.2, max_iter=500, momentum=0.3, n_iter_no_change=200, nesterovs_momentum=False, shuffle=True, solver=sgd, tol=0; total time=   0.2s\n",
            "[CV] END activation=tanh, alpha=0.3, hidden_layer_sizes=(2, 2), learning_rate_init=0.2, max_iter=500, momentum=0.3, n_iter_no_change=200, nesterovs_momentum=False, shuffle=True, solver=sgd, tol=0; total time=   0.2s\n"
          ]
        },
        {
          "output_type": "stream",
          "name": "stderr",
          "text": [
            "/usr/local/lib/python3.10/dist-packages/sklearn/neural_network/_multilayer_perceptron.py:686: ConvergenceWarning: Stochastic Optimizer: Maximum iterations (500) reached and the optimization hasn't converged yet.\n",
            "  warnings.warn(\n",
            "/usr/local/lib/python3.10/dist-packages/sklearn/neural_network/_multilayer_perceptron.py:686: ConvergenceWarning: Stochastic Optimizer: Maximum iterations (500) reached and the optimization hasn't converged yet.\n",
            "  warnings.warn(\n"
          ]
        },
        {
          "output_type": "stream",
          "name": "stdout",
          "text": [
            "[CV] END activation=tanh, alpha=0.4, hidden_layer_sizes=(2, 2), learning_rate_init=0.2, max_iter=500, momentum=0.3, n_iter_no_change=200, nesterovs_momentum=False, shuffle=True, solver=sgd, tol=0; total time=   0.2s\n",
            "[CV] END activation=tanh, alpha=0.4, hidden_layer_sizes=(2, 2), learning_rate_init=0.2, max_iter=500, momentum=0.3, n_iter_no_change=200, nesterovs_momentum=False, shuffle=True, solver=sgd, tol=0; total time=   0.2s\n"
          ]
        },
        {
          "output_type": "stream",
          "name": "stderr",
          "text": [
            "/usr/local/lib/python3.10/dist-packages/sklearn/neural_network/_multilayer_perceptron.py:686: ConvergenceWarning: Stochastic Optimizer: Maximum iterations (500) reached and the optimization hasn't converged yet.\n",
            "  warnings.warn(\n",
            "/usr/local/lib/python3.10/dist-packages/sklearn/neural_network/_multilayer_perceptron.py:686: ConvergenceWarning: Stochastic Optimizer: Maximum iterations (500) reached and the optimization hasn't converged yet.\n",
            "  warnings.warn(\n"
          ]
        },
        {
          "output_type": "stream",
          "name": "stdout",
          "text": [
            "[CV] END activation=tanh, alpha=0.4, hidden_layer_sizes=(2, 2), learning_rate_init=0.2, max_iter=500, momentum=0.3, n_iter_no_change=200, nesterovs_momentum=False, shuffle=True, solver=sgd, tol=0; total time=   0.2s\n",
            "[CV] END activation=tanh, alpha=0.4, hidden_layer_sizes=(2, 2), learning_rate_init=0.2, max_iter=500, momentum=0.3, n_iter_no_change=200, nesterovs_momentum=False, shuffle=True, solver=sgd, tol=0; total time=   0.2s\n"
          ]
        },
        {
          "output_type": "stream",
          "name": "stderr",
          "text": [
            "/usr/local/lib/python3.10/dist-packages/sklearn/neural_network/_multilayer_perceptron.py:686: ConvergenceWarning: Stochastic Optimizer: Maximum iterations (500) reached and the optimization hasn't converged yet.\n",
            "  warnings.warn(\n",
            "/usr/local/lib/python3.10/dist-packages/sklearn/neural_network/_multilayer_perceptron.py:686: ConvergenceWarning: Stochastic Optimizer: Maximum iterations (500) reached and the optimization hasn't converged yet.\n",
            "  warnings.warn(\n"
          ]
        },
        {
          "output_type": "stream",
          "name": "stdout",
          "text": [
            "[CV] END activation=tanh, alpha=0.4, hidden_layer_sizes=(2, 2), learning_rate_init=0.2, max_iter=500, momentum=0.3, n_iter_no_change=200, nesterovs_momentum=False, shuffle=True, solver=sgd, tol=0; total time=   0.2s\n",
            "[CV] END activation=tanh, alpha=0.5, hidden_layer_sizes=(2, 2), learning_rate_init=0.2, max_iter=500, momentum=0.3, n_iter_no_change=200, nesterovs_momentum=False, shuffle=True, solver=sgd, tol=0; total time=   0.2s\n"
          ]
        },
        {
          "output_type": "stream",
          "name": "stderr",
          "text": [
            "/usr/local/lib/python3.10/dist-packages/sklearn/neural_network/_multilayer_perceptron.py:686: ConvergenceWarning: Stochastic Optimizer: Maximum iterations (500) reached and the optimization hasn't converged yet.\n",
            "  warnings.warn(\n",
            "/usr/local/lib/python3.10/dist-packages/sklearn/neural_network/_multilayer_perceptron.py:686: ConvergenceWarning: Stochastic Optimizer: Maximum iterations (500) reached and the optimization hasn't converged yet.\n",
            "  warnings.warn(\n"
          ]
        },
        {
          "output_type": "stream",
          "name": "stdout",
          "text": [
            "[CV] END activation=tanh, alpha=0.5, hidden_layer_sizes=(2, 2), learning_rate_init=0.2, max_iter=500, momentum=0.3, n_iter_no_change=200, nesterovs_momentum=False, shuffle=True, solver=sgd, tol=0; total time=   0.2s\n",
            "[CV] END activation=tanh, alpha=0.5, hidden_layer_sizes=(2, 2), learning_rate_init=0.2, max_iter=500, momentum=0.3, n_iter_no_change=200, nesterovs_momentum=False, shuffle=True, solver=sgd, tol=0; total time=   0.2s\n"
          ]
        },
        {
          "output_type": "stream",
          "name": "stderr",
          "text": [
            "/usr/local/lib/python3.10/dist-packages/sklearn/neural_network/_multilayer_perceptron.py:686: ConvergenceWarning: Stochastic Optimizer: Maximum iterations (500) reached and the optimization hasn't converged yet.\n",
            "  warnings.warn(\n",
            "/usr/local/lib/python3.10/dist-packages/sklearn/neural_network/_multilayer_perceptron.py:686: ConvergenceWarning: Stochastic Optimizer: Maximum iterations (500) reached and the optimization hasn't converged yet.\n",
            "  warnings.warn(\n"
          ]
        },
        {
          "output_type": "stream",
          "name": "stdout",
          "text": [
            "[CV] END activation=tanh, alpha=0.5, hidden_layer_sizes=(2, 2), learning_rate_init=0.2, max_iter=500, momentum=0.3, n_iter_no_change=200, nesterovs_momentum=False, shuffle=True, solver=sgd, tol=0; total time=   0.2s\n",
            "[CV] END activation=tanh, alpha=0.5, hidden_layer_sizes=(2, 2), learning_rate_init=0.2, max_iter=500, momentum=0.3, n_iter_no_change=200, nesterovs_momentum=False, shuffle=True, solver=sgd, tol=0; total time=   0.2s\n"
          ]
        },
        {
          "output_type": "stream",
          "name": "stderr",
          "text": [
            "/usr/local/lib/python3.10/dist-packages/sklearn/neural_network/_multilayer_perceptron.py:686: ConvergenceWarning: Stochastic Optimizer: Maximum iterations (500) reached and the optimization hasn't converged yet.\n",
            "  warnings.warn(\n",
            "/usr/local/lib/python3.10/dist-packages/sklearn/model_selection/_search.py:305: UserWarning: The total space of parameters 3 is smaller than n_iter=10. Running 3 iterations. For exhaustive searches, use GridSearchCV.\n",
            "  warnings.warn(\n",
            "/usr/local/lib/python3.10/dist-packages/sklearn/neural_network/_multilayer_perceptron.py:686: ConvergenceWarning: Stochastic Optimizer: Maximum iterations (500) reached and the optimization hasn't converged yet.\n",
            "  warnings.warn(\n"
          ]
        },
        {
          "output_type": "stream",
          "name": "stdout",
          "text": [
            "Fitting 5 folds for each of 3 candidates, totalling 15 fits\n",
            "[CV] END activation=tanh, alpha=0.3, hidden_layer_sizes=(2, 2), learning_rate_init=0.2, max_iter=500, momentum=0.3, n_iter_no_change=200, nesterovs_momentum=False, shuffle=True, solver=sgd, tol=0; total time=   0.2s\n"
          ]
        },
        {
          "output_type": "stream",
          "name": "stderr",
          "text": [
            "/usr/local/lib/python3.10/dist-packages/sklearn/neural_network/_multilayer_perceptron.py:686: ConvergenceWarning: Stochastic Optimizer: Maximum iterations (500) reached and the optimization hasn't converged yet.\n",
            "  warnings.warn(\n",
            "/usr/local/lib/python3.10/dist-packages/sklearn/neural_network/_multilayer_perceptron.py:686: ConvergenceWarning: Stochastic Optimizer: Maximum iterations (500) reached and the optimization hasn't converged yet.\n",
            "  warnings.warn(\n"
          ]
        },
        {
          "output_type": "stream",
          "name": "stdout",
          "text": [
            "[CV] END activation=tanh, alpha=0.3, hidden_layer_sizes=(2, 2), learning_rate_init=0.2, max_iter=500, momentum=0.3, n_iter_no_change=200, nesterovs_momentum=False, shuffle=True, solver=sgd, tol=0; total time=   0.2s\n",
            "[CV] END activation=tanh, alpha=0.3, hidden_layer_sizes=(2, 2), learning_rate_init=0.2, max_iter=500, momentum=0.3, n_iter_no_change=200, nesterovs_momentum=False, shuffle=True, solver=sgd, tol=0; total time=   0.2s\n"
          ]
        },
        {
          "output_type": "stream",
          "name": "stderr",
          "text": [
            "/usr/local/lib/python3.10/dist-packages/sklearn/neural_network/_multilayer_perceptron.py:686: ConvergenceWarning: Stochastic Optimizer: Maximum iterations (500) reached and the optimization hasn't converged yet.\n",
            "  warnings.warn(\n"
          ]
        },
        {
          "output_type": "stream",
          "name": "stdout",
          "text": [
            "[CV] END activation=tanh, alpha=0.3, hidden_layer_sizes=(2, 2), learning_rate_init=0.2, max_iter=500, momentum=0.3, n_iter_no_change=200, nesterovs_momentum=False, shuffle=True, solver=sgd, tol=0; total time=   0.2s\n",
            "[CV] END activation=tanh, alpha=0.3, hidden_layer_sizes=(2, 2), learning_rate_init=0.2, max_iter=500, momentum=0.3, n_iter_no_change=200, nesterovs_momentum=False, shuffle=True, solver=sgd, tol=0; total time=   0.2s\n"
          ]
        },
        {
          "output_type": "stream",
          "name": "stderr",
          "text": [
            "/usr/local/lib/python3.10/dist-packages/sklearn/neural_network/_multilayer_perceptron.py:686: ConvergenceWarning: Stochastic Optimizer: Maximum iterations (500) reached and the optimization hasn't converged yet.\n",
            "  warnings.warn(\n",
            "/usr/local/lib/python3.10/dist-packages/sklearn/neural_network/_multilayer_perceptron.py:686: ConvergenceWarning: Stochastic Optimizer: Maximum iterations (500) reached and the optimization hasn't converged yet.\n",
            "  warnings.warn(\n"
          ]
        },
        {
          "output_type": "stream",
          "name": "stdout",
          "text": [
            "[CV] END activation=tanh, alpha=0.4, hidden_layer_sizes=(2, 2), learning_rate_init=0.2, max_iter=500, momentum=0.3, n_iter_no_change=200, nesterovs_momentum=False, shuffle=True, solver=sgd, tol=0; total time=   0.2s\n",
            "[CV] END activation=tanh, alpha=0.4, hidden_layer_sizes=(2, 2), learning_rate_init=0.2, max_iter=500, momentum=0.3, n_iter_no_change=200, nesterovs_momentum=False, shuffle=True, solver=sgd, tol=0; total time=   0.2s\n"
          ]
        },
        {
          "output_type": "stream",
          "name": "stderr",
          "text": [
            "/usr/local/lib/python3.10/dist-packages/sklearn/neural_network/_multilayer_perceptron.py:686: ConvergenceWarning: Stochastic Optimizer: Maximum iterations (500) reached and the optimization hasn't converged yet.\n",
            "  warnings.warn(\n",
            "/usr/local/lib/python3.10/dist-packages/sklearn/neural_network/_multilayer_perceptron.py:686: ConvergenceWarning: Stochastic Optimizer: Maximum iterations (500) reached and the optimization hasn't converged yet.\n",
            "  warnings.warn(\n"
          ]
        },
        {
          "output_type": "stream",
          "name": "stdout",
          "text": [
            "[CV] END activation=tanh, alpha=0.4, hidden_layer_sizes=(2, 2), learning_rate_init=0.2, max_iter=500, momentum=0.3, n_iter_no_change=200, nesterovs_momentum=False, shuffle=True, solver=sgd, tol=0; total time=   0.2s\n",
            "[CV] END activation=tanh, alpha=0.4, hidden_layer_sizes=(2, 2), learning_rate_init=0.2, max_iter=500, momentum=0.3, n_iter_no_change=200, nesterovs_momentum=False, shuffle=True, solver=sgd, tol=0; total time=   0.2s\n"
          ]
        },
        {
          "output_type": "stream",
          "name": "stderr",
          "text": [
            "/usr/local/lib/python3.10/dist-packages/sklearn/neural_network/_multilayer_perceptron.py:686: ConvergenceWarning: Stochastic Optimizer: Maximum iterations (500) reached and the optimization hasn't converged yet.\n",
            "  warnings.warn(\n",
            "/usr/local/lib/python3.10/dist-packages/sklearn/neural_network/_multilayer_perceptron.py:686: ConvergenceWarning: Stochastic Optimizer: Maximum iterations (500) reached and the optimization hasn't converged yet.\n",
            "  warnings.warn(\n"
          ]
        },
        {
          "output_type": "stream",
          "name": "stdout",
          "text": [
            "[CV] END activation=tanh, alpha=0.4, hidden_layer_sizes=(2, 2), learning_rate_init=0.2, max_iter=500, momentum=0.3, n_iter_no_change=200, nesterovs_momentum=False, shuffle=True, solver=sgd, tol=0; total time=   0.2s\n",
            "[CV] END activation=tanh, alpha=0.5, hidden_layer_sizes=(2, 2), learning_rate_init=0.2, max_iter=500, momentum=0.3, n_iter_no_change=200, nesterovs_momentum=False, shuffle=True, solver=sgd, tol=0; total time=   0.2s\n"
          ]
        },
        {
          "output_type": "stream",
          "name": "stderr",
          "text": [
            "/usr/local/lib/python3.10/dist-packages/sklearn/neural_network/_multilayer_perceptron.py:686: ConvergenceWarning: Stochastic Optimizer: Maximum iterations (500) reached and the optimization hasn't converged yet.\n",
            "  warnings.warn(\n",
            "/usr/local/lib/python3.10/dist-packages/sklearn/neural_network/_multilayer_perceptron.py:686: ConvergenceWarning: Stochastic Optimizer: Maximum iterations (500) reached and the optimization hasn't converged yet.\n",
            "  warnings.warn(\n"
          ]
        },
        {
          "output_type": "stream",
          "name": "stdout",
          "text": [
            "[CV] END activation=tanh, alpha=0.5, hidden_layer_sizes=(2, 2), learning_rate_init=0.2, max_iter=500, momentum=0.3, n_iter_no_change=200, nesterovs_momentum=False, shuffle=True, solver=sgd, tol=0; total time=   0.2s\n",
            "[CV] END activation=tanh, alpha=0.5, hidden_layer_sizes=(2, 2), learning_rate_init=0.2, max_iter=500, momentum=0.3, n_iter_no_change=200, nesterovs_momentum=False, shuffle=True, solver=sgd, tol=0; total time=   0.2s\n"
          ]
        },
        {
          "output_type": "stream",
          "name": "stderr",
          "text": [
            "/usr/local/lib/python3.10/dist-packages/sklearn/neural_network/_multilayer_perceptron.py:686: ConvergenceWarning: Stochastic Optimizer: Maximum iterations (500) reached and the optimization hasn't converged yet.\n",
            "  warnings.warn(\n",
            "/usr/local/lib/python3.10/dist-packages/sklearn/neural_network/_multilayer_perceptron.py:686: ConvergenceWarning: Stochastic Optimizer: Maximum iterations (500) reached and the optimization hasn't converged yet.\n",
            "  warnings.warn(\n"
          ]
        },
        {
          "output_type": "stream",
          "name": "stdout",
          "text": [
            "[CV] END activation=tanh, alpha=0.5, hidden_layer_sizes=(2, 2), learning_rate_init=0.2, max_iter=500, momentum=0.3, n_iter_no_change=200, nesterovs_momentum=False, shuffle=True, solver=sgd, tol=0; total time=   0.2s\n",
            "[CV] END activation=tanh, alpha=0.5, hidden_layer_sizes=(2, 2), learning_rate_init=0.2, max_iter=500, momentum=0.3, n_iter_no_change=200, nesterovs_momentum=False, shuffle=True, solver=sgd, tol=0; total time=   0.2s\n"
          ]
        },
        {
          "output_type": "stream",
          "name": "stderr",
          "text": [
            "/usr/local/lib/python3.10/dist-packages/sklearn/neural_network/_multilayer_perceptron.py:686: ConvergenceWarning: Stochastic Optimizer: Maximum iterations (500) reached and the optimization hasn't converged yet.\n",
            "  warnings.warn(\n",
            "/usr/local/lib/python3.10/dist-packages/sklearn/neural_network/_multilayer_perceptron.py:686: ConvergenceWarning: Stochastic Optimizer: Maximum iterations (500) reached and the optimization hasn't converged yet.\n",
            "  warnings.warn(\n",
            "/usr/local/lib/python3.10/dist-packages/sklearn/model_selection/_search.py:305: UserWarning: The total space of parameters 3 is smaller than n_iter=10. Running 3 iterations. For exhaustive searches, use GridSearchCV.\n",
            "  warnings.warn(\n"
          ]
        },
        {
          "output_type": "stream",
          "name": "stdout",
          "text": [
            "Fitting 5 folds for each of 3 candidates, totalling 15 fits\n"
          ]
        },
        {
          "output_type": "stream",
          "name": "stderr",
          "text": [
            "/usr/local/lib/python3.10/dist-packages/sklearn/neural_network/_multilayer_perceptron.py:686: ConvergenceWarning: Stochastic Optimizer: Maximum iterations (500) reached and the optimization hasn't converged yet.\n",
            "  warnings.warn(\n"
          ]
        },
        {
          "output_type": "stream",
          "name": "stdout",
          "text": [
            "[CV] END activation=tanh, alpha=0.3, hidden_layer_sizes=(2, 2), learning_rate_init=0.2, max_iter=500, momentum=0.3, n_iter_no_change=200, nesterovs_momentum=False, shuffle=True, solver=sgd, tol=0; total time=   0.3s\n"
          ]
        },
        {
          "output_type": "stream",
          "name": "stderr",
          "text": [
            "/usr/local/lib/python3.10/dist-packages/sklearn/neural_network/_multilayer_perceptron.py:686: ConvergenceWarning: Stochastic Optimizer: Maximum iterations (500) reached and the optimization hasn't converged yet.\n",
            "  warnings.warn(\n"
          ]
        },
        {
          "output_type": "stream",
          "name": "stdout",
          "text": [
            "[CV] END activation=tanh, alpha=0.3, hidden_layer_sizes=(2, 2), learning_rate_init=0.2, max_iter=500, momentum=0.3, n_iter_no_change=200, nesterovs_momentum=False, shuffle=True, solver=sgd, tol=0; total time=   0.3s\n"
          ]
        },
        {
          "output_type": "stream",
          "name": "stderr",
          "text": [
            "/usr/local/lib/python3.10/dist-packages/sklearn/neural_network/_multilayer_perceptron.py:686: ConvergenceWarning: Stochastic Optimizer: Maximum iterations (500) reached and the optimization hasn't converged yet.\n",
            "  warnings.warn(\n"
          ]
        },
        {
          "output_type": "stream",
          "name": "stdout",
          "text": [
            "[CV] END activation=tanh, alpha=0.3, hidden_layer_sizes=(2, 2), learning_rate_init=0.2, max_iter=500, momentum=0.3, n_iter_no_change=200, nesterovs_momentum=False, shuffle=True, solver=sgd, tol=0; total time=   0.3s\n"
          ]
        },
        {
          "output_type": "stream",
          "name": "stderr",
          "text": [
            "/usr/local/lib/python3.10/dist-packages/sklearn/neural_network/_multilayer_perceptron.py:686: ConvergenceWarning: Stochastic Optimizer: Maximum iterations (500) reached and the optimization hasn't converged yet.\n",
            "  warnings.warn(\n"
          ]
        },
        {
          "output_type": "stream",
          "name": "stdout",
          "text": [
            "[CV] END activation=tanh, alpha=0.3, hidden_layer_sizes=(2, 2), learning_rate_init=0.2, max_iter=500, momentum=0.3, n_iter_no_change=200, nesterovs_momentum=False, shuffle=True, solver=sgd, tol=0; total time=   0.3s\n"
          ]
        },
        {
          "output_type": "stream",
          "name": "stderr",
          "text": [
            "/usr/local/lib/python3.10/dist-packages/sklearn/neural_network/_multilayer_perceptron.py:686: ConvergenceWarning: Stochastic Optimizer: Maximum iterations (500) reached and the optimization hasn't converged yet.\n",
            "  warnings.warn(\n"
          ]
        },
        {
          "output_type": "stream",
          "name": "stdout",
          "text": [
            "[CV] END activation=tanh, alpha=0.3, hidden_layer_sizes=(2, 2), learning_rate_init=0.2, max_iter=500, momentum=0.3, n_iter_no_change=200, nesterovs_momentum=False, shuffle=True, solver=sgd, tol=0; total time=   0.3s\n"
          ]
        },
        {
          "output_type": "stream",
          "name": "stderr",
          "text": [
            "/usr/local/lib/python3.10/dist-packages/sklearn/neural_network/_multilayer_perceptron.py:686: ConvergenceWarning: Stochastic Optimizer: Maximum iterations (500) reached and the optimization hasn't converged yet.\n",
            "  warnings.warn(\n"
          ]
        },
        {
          "output_type": "stream",
          "name": "stdout",
          "text": [
            "[CV] END activation=tanh, alpha=0.4, hidden_layer_sizes=(2, 2), learning_rate_init=0.2, max_iter=500, momentum=0.3, n_iter_no_change=200, nesterovs_momentum=False, shuffle=True, solver=sgd, tol=0; total time=   0.3s\n"
          ]
        },
        {
          "output_type": "stream",
          "name": "stderr",
          "text": [
            "/usr/local/lib/python3.10/dist-packages/sklearn/neural_network/_multilayer_perceptron.py:686: ConvergenceWarning: Stochastic Optimizer: Maximum iterations (500) reached and the optimization hasn't converged yet.\n",
            "  warnings.warn(\n",
            "/usr/local/lib/python3.10/dist-packages/sklearn/neural_network/_multilayer_perceptron.py:686: ConvergenceWarning: Stochastic Optimizer: Maximum iterations (500) reached and the optimization hasn't converged yet.\n",
            "  warnings.warn(\n"
          ]
        },
        {
          "output_type": "stream",
          "name": "stdout",
          "text": [
            "[CV] END activation=tanh, alpha=0.4, hidden_layer_sizes=(2, 2), learning_rate_init=0.2, max_iter=500, momentum=0.3, n_iter_no_change=200, nesterovs_momentum=False, shuffle=True, solver=sgd, tol=0; total time=   0.3s\n",
            "[CV] END activation=tanh, alpha=0.4, hidden_layer_sizes=(2, 2), learning_rate_init=0.2, max_iter=500, momentum=0.3, n_iter_no_change=200, nesterovs_momentum=False, shuffle=True, solver=sgd, tol=0; total time=   0.2s\n"
          ]
        },
        {
          "output_type": "stream",
          "name": "stderr",
          "text": [
            "/usr/local/lib/python3.10/dist-packages/sklearn/neural_network/_multilayer_perceptron.py:686: ConvergenceWarning: Stochastic Optimizer: Maximum iterations (500) reached and the optimization hasn't converged yet.\n",
            "  warnings.warn(\n",
            "/usr/local/lib/python3.10/dist-packages/sklearn/neural_network/_multilayer_perceptron.py:686: ConvergenceWarning: Stochastic Optimizer: Maximum iterations (500) reached and the optimization hasn't converged yet.\n",
            "  warnings.warn(\n"
          ]
        },
        {
          "output_type": "stream",
          "name": "stdout",
          "text": [
            "[CV] END activation=tanh, alpha=0.4, hidden_layer_sizes=(2, 2), learning_rate_init=0.2, max_iter=500, momentum=0.3, n_iter_no_change=200, nesterovs_momentum=False, shuffle=True, solver=sgd, tol=0; total time=   0.2s\n",
            "[CV] END activation=tanh, alpha=0.4, hidden_layer_sizes=(2, 2), learning_rate_init=0.2, max_iter=500, momentum=0.3, n_iter_no_change=200, nesterovs_momentum=False, shuffle=True, solver=sgd, tol=0; total time=   0.2s\n"
          ]
        },
        {
          "output_type": "stream",
          "name": "stderr",
          "text": [
            "/usr/local/lib/python3.10/dist-packages/sklearn/neural_network/_multilayer_perceptron.py:686: ConvergenceWarning: Stochastic Optimizer: Maximum iterations (500) reached and the optimization hasn't converged yet.\n",
            "  warnings.warn(\n",
            "/usr/local/lib/python3.10/dist-packages/sklearn/neural_network/_multilayer_perceptron.py:686: ConvergenceWarning: Stochastic Optimizer: Maximum iterations (500) reached and the optimization hasn't converged yet.\n",
            "  warnings.warn(\n"
          ]
        },
        {
          "output_type": "stream",
          "name": "stdout",
          "text": [
            "[CV] END activation=tanh, alpha=0.5, hidden_layer_sizes=(2, 2), learning_rate_init=0.2, max_iter=500, momentum=0.3, n_iter_no_change=200, nesterovs_momentum=False, shuffle=True, solver=sgd, tol=0; total time=   0.2s\n",
            "[CV] END activation=tanh, alpha=0.5, hidden_layer_sizes=(2, 2), learning_rate_init=0.2, max_iter=500, momentum=0.3, n_iter_no_change=200, nesterovs_momentum=False, shuffle=True, solver=sgd, tol=0; total time=   0.2s\n"
          ]
        },
        {
          "output_type": "stream",
          "name": "stderr",
          "text": [
            "/usr/local/lib/python3.10/dist-packages/sklearn/neural_network/_multilayer_perceptron.py:686: ConvergenceWarning: Stochastic Optimizer: Maximum iterations (500) reached and the optimization hasn't converged yet.\n",
            "  warnings.warn(\n",
            "/usr/local/lib/python3.10/dist-packages/sklearn/neural_network/_multilayer_perceptron.py:686: ConvergenceWarning: Stochastic Optimizer: Maximum iterations (500) reached and the optimization hasn't converged yet.\n",
            "  warnings.warn(\n"
          ]
        },
        {
          "output_type": "stream",
          "name": "stdout",
          "text": [
            "[CV] END activation=tanh, alpha=0.5, hidden_layer_sizes=(2, 2), learning_rate_init=0.2, max_iter=500, momentum=0.3, n_iter_no_change=200, nesterovs_momentum=False, shuffle=True, solver=sgd, tol=0; total time=   0.2s\n",
            "[CV] END activation=tanh, alpha=0.5, hidden_layer_sizes=(2, 2), learning_rate_init=0.2, max_iter=500, momentum=0.3, n_iter_no_change=200, nesterovs_momentum=False, shuffle=True, solver=sgd, tol=0; total time=   0.2s\n"
          ]
        },
        {
          "output_type": "stream",
          "name": "stderr",
          "text": [
            "/usr/local/lib/python3.10/dist-packages/sklearn/neural_network/_multilayer_perceptron.py:686: ConvergenceWarning: Stochastic Optimizer: Maximum iterations (500) reached and the optimization hasn't converged yet.\n",
            "  warnings.warn(\n",
            "/usr/local/lib/python3.10/dist-packages/sklearn/neural_network/_multilayer_perceptron.py:686: ConvergenceWarning: Stochastic Optimizer: Maximum iterations (500) reached and the optimization hasn't converged yet.\n",
            "  warnings.warn(\n"
          ]
        },
        {
          "output_type": "stream",
          "name": "stdout",
          "text": [
            "[CV] END activation=tanh, alpha=0.5, hidden_layer_sizes=(2, 2), learning_rate_init=0.2, max_iter=500, momentum=0.3, n_iter_no_change=200, nesterovs_momentum=False, shuffle=True, solver=sgd, tol=0; total time=   0.2s\n"
          ]
        },
        {
          "output_type": "stream",
          "name": "stderr",
          "text": [
            "/usr/local/lib/python3.10/dist-packages/sklearn/model_selection/_search.py:305: UserWarning: The total space of parameters 3 is smaller than n_iter=10. Running 3 iterations. For exhaustive searches, use GridSearchCV.\n",
            "  warnings.warn(\n",
            "/usr/local/lib/python3.10/dist-packages/sklearn/neural_network/_multilayer_perceptron.py:686: ConvergenceWarning: Stochastic Optimizer: Maximum iterations (500) reached and the optimization hasn't converged yet.\n",
            "  warnings.warn(\n"
          ]
        },
        {
          "output_type": "stream",
          "name": "stdout",
          "text": [
            "Fitting 5 folds for each of 3 candidates, totalling 15 fits\n",
            "[CV] END activation=tanh, alpha=0.3, hidden_layer_sizes=(2, 2), learning_rate_init=0.2, max_iter=500, momentum=0.3, n_iter_no_change=200, nesterovs_momentum=False, shuffle=True, solver=sgd, tol=0; total time=   0.2s\n"
          ]
        },
        {
          "output_type": "stream",
          "name": "stderr",
          "text": [
            "/usr/local/lib/python3.10/dist-packages/sklearn/neural_network/_multilayer_perceptron.py:686: ConvergenceWarning: Stochastic Optimizer: Maximum iterations (500) reached and the optimization hasn't converged yet.\n",
            "  warnings.warn(\n",
            "/usr/local/lib/python3.10/dist-packages/sklearn/neural_network/_multilayer_perceptron.py:686: ConvergenceWarning: Stochastic Optimizer: Maximum iterations (500) reached and the optimization hasn't converged yet.\n",
            "  warnings.warn(\n"
          ]
        },
        {
          "output_type": "stream",
          "name": "stdout",
          "text": [
            "[CV] END activation=tanh, alpha=0.3, hidden_layer_sizes=(2, 2), learning_rate_init=0.2, max_iter=500, momentum=0.3, n_iter_no_change=200, nesterovs_momentum=False, shuffle=True, solver=sgd, tol=0; total time=   0.2s\n",
            "[CV] END activation=tanh, alpha=0.3, hidden_layer_sizes=(2, 2), learning_rate_init=0.2, max_iter=500, momentum=0.3, n_iter_no_change=200, nesterovs_momentum=False, shuffle=True, solver=sgd, tol=0; total time=   0.2s\n"
          ]
        },
        {
          "output_type": "stream",
          "name": "stderr",
          "text": [
            "/usr/local/lib/python3.10/dist-packages/sklearn/neural_network/_multilayer_perceptron.py:686: ConvergenceWarning: Stochastic Optimizer: Maximum iterations (500) reached and the optimization hasn't converged yet.\n",
            "  warnings.warn(\n",
            "/usr/local/lib/python3.10/dist-packages/sklearn/neural_network/_multilayer_perceptron.py:686: ConvergenceWarning: Stochastic Optimizer: Maximum iterations (500) reached and the optimization hasn't converged yet.\n",
            "  warnings.warn(\n"
          ]
        },
        {
          "output_type": "stream",
          "name": "stdout",
          "text": [
            "[CV] END activation=tanh, alpha=0.3, hidden_layer_sizes=(2, 2), learning_rate_init=0.2, max_iter=500, momentum=0.3, n_iter_no_change=200, nesterovs_momentum=False, shuffle=True, solver=sgd, tol=0; total time=   0.2s\n",
            "[CV] END activation=tanh, alpha=0.3, hidden_layer_sizes=(2, 2), learning_rate_init=0.2, max_iter=500, momentum=0.3, n_iter_no_change=200, nesterovs_momentum=False, shuffle=True, solver=sgd, tol=0; total time=   0.2s\n"
          ]
        },
        {
          "output_type": "stream",
          "name": "stderr",
          "text": [
            "/usr/local/lib/python3.10/dist-packages/sklearn/neural_network/_multilayer_perceptron.py:686: ConvergenceWarning: Stochastic Optimizer: Maximum iterations (500) reached and the optimization hasn't converged yet.\n",
            "  warnings.warn(\n",
            "/usr/local/lib/python3.10/dist-packages/sklearn/neural_network/_multilayer_perceptron.py:686: ConvergenceWarning: Stochastic Optimizer: Maximum iterations (500) reached and the optimization hasn't converged yet.\n",
            "  warnings.warn(\n"
          ]
        },
        {
          "output_type": "stream",
          "name": "stdout",
          "text": [
            "[CV] END activation=tanh, alpha=0.4, hidden_layer_sizes=(2, 2), learning_rate_init=0.2, max_iter=500, momentum=0.3, n_iter_no_change=200, nesterovs_momentum=False, shuffle=True, solver=sgd, tol=0; total time=   0.2s\n",
            "[CV] END activation=tanh, alpha=0.4, hidden_layer_sizes=(2, 2), learning_rate_init=0.2, max_iter=500, momentum=0.3, n_iter_no_change=200, nesterovs_momentum=False, shuffle=True, solver=sgd, tol=0; total time=   0.2s\n"
          ]
        },
        {
          "output_type": "stream",
          "name": "stderr",
          "text": [
            "/usr/local/lib/python3.10/dist-packages/sklearn/neural_network/_multilayer_perceptron.py:686: ConvergenceWarning: Stochastic Optimizer: Maximum iterations (500) reached and the optimization hasn't converged yet.\n",
            "  warnings.warn(\n",
            "/usr/local/lib/python3.10/dist-packages/sklearn/neural_network/_multilayer_perceptron.py:686: ConvergenceWarning: Stochastic Optimizer: Maximum iterations (500) reached and the optimization hasn't converged yet.\n",
            "  warnings.warn(\n"
          ]
        },
        {
          "output_type": "stream",
          "name": "stdout",
          "text": [
            "[CV] END activation=tanh, alpha=0.4, hidden_layer_sizes=(2, 2), learning_rate_init=0.2, max_iter=500, momentum=0.3, n_iter_no_change=200, nesterovs_momentum=False, shuffle=True, solver=sgd, tol=0; total time=   0.2s\n",
            "[CV] END activation=tanh, alpha=0.4, hidden_layer_sizes=(2, 2), learning_rate_init=0.2, max_iter=500, momentum=0.3, n_iter_no_change=200, nesterovs_momentum=False, shuffle=True, solver=sgd, tol=0; total time=   0.2s\n"
          ]
        },
        {
          "output_type": "stream",
          "name": "stderr",
          "text": [
            "/usr/local/lib/python3.10/dist-packages/sklearn/neural_network/_multilayer_perceptron.py:686: ConvergenceWarning: Stochastic Optimizer: Maximum iterations (500) reached and the optimization hasn't converged yet.\n",
            "  warnings.warn(\n",
            "/usr/local/lib/python3.10/dist-packages/sklearn/neural_network/_multilayer_perceptron.py:686: ConvergenceWarning: Stochastic Optimizer: Maximum iterations (500) reached and the optimization hasn't converged yet.\n",
            "  warnings.warn(\n"
          ]
        },
        {
          "output_type": "stream",
          "name": "stdout",
          "text": [
            "[CV] END activation=tanh, alpha=0.4, hidden_layer_sizes=(2, 2), learning_rate_init=0.2, max_iter=500, momentum=0.3, n_iter_no_change=200, nesterovs_momentum=False, shuffle=True, solver=sgd, tol=0; total time=   0.2s\n",
            "[CV] END activation=tanh, alpha=0.5, hidden_layer_sizes=(2, 2), learning_rate_init=0.2, max_iter=500, momentum=0.3, n_iter_no_change=200, nesterovs_momentum=False, shuffle=True, solver=sgd, tol=0; total time=   0.2s\n"
          ]
        },
        {
          "output_type": "stream",
          "name": "stderr",
          "text": [
            "/usr/local/lib/python3.10/dist-packages/sklearn/neural_network/_multilayer_perceptron.py:686: ConvergenceWarning: Stochastic Optimizer: Maximum iterations (500) reached and the optimization hasn't converged yet.\n",
            "  warnings.warn(\n",
            "/usr/local/lib/python3.10/dist-packages/sklearn/neural_network/_multilayer_perceptron.py:686: ConvergenceWarning: Stochastic Optimizer: Maximum iterations (500) reached and the optimization hasn't converged yet.\n",
            "  warnings.warn(\n"
          ]
        },
        {
          "output_type": "stream",
          "name": "stdout",
          "text": [
            "[CV] END activation=tanh, alpha=0.5, hidden_layer_sizes=(2, 2), learning_rate_init=0.2, max_iter=500, momentum=0.3, n_iter_no_change=200, nesterovs_momentum=False, shuffle=True, solver=sgd, tol=0; total time=   0.2s\n",
            "[CV] END activation=tanh, alpha=0.5, hidden_layer_sizes=(2, 2), learning_rate_init=0.2, max_iter=500, momentum=0.3, n_iter_no_change=200, nesterovs_momentum=False, shuffle=True, solver=sgd, tol=0; total time=   0.2s\n"
          ]
        },
        {
          "output_type": "stream",
          "name": "stderr",
          "text": [
            "/usr/local/lib/python3.10/dist-packages/sklearn/neural_network/_multilayer_perceptron.py:686: ConvergenceWarning: Stochastic Optimizer: Maximum iterations (500) reached and the optimization hasn't converged yet.\n",
            "  warnings.warn(\n",
            "/usr/local/lib/python3.10/dist-packages/sklearn/neural_network/_multilayer_perceptron.py:686: ConvergenceWarning: Stochastic Optimizer: Maximum iterations (500) reached and the optimization hasn't converged yet.\n",
            "  warnings.warn(\n"
          ]
        },
        {
          "output_type": "stream",
          "name": "stdout",
          "text": [
            "[CV] END activation=tanh, alpha=0.5, hidden_layer_sizes=(2, 2), learning_rate_init=0.2, max_iter=500, momentum=0.3, n_iter_no_change=200, nesterovs_momentum=False, shuffle=True, solver=sgd, tol=0; total time=   0.2s\n",
            "[CV] END activation=tanh, alpha=0.5, hidden_layer_sizes=(2, 2), learning_rate_init=0.2, max_iter=500, momentum=0.3, n_iter_no_change=200, nesterovs_momentum=False, shuffle=True, solver=sgd, tol=0; total time=   0.2s\n"
          ]
        },
        {
          "output_type": "stream",
          "name": "stderr",
          "text": [
            "/usr/local/lib/python3.10/dist-packages/sklearn/neural_network/_multilayer_perceptron.py:686: ConvergenceWarning: Stochastic Optimizer: Maximum iterations (500) reached and the optimization hasn't converged yet.\n",
            "  warnings.warn(\n"
          ]
        },
        {
          "output_type": "stream",
          "name": "stdout",
          "text": [
            "\n",
            "Final Retraining Metrics:\n",
            "Mean Training Accuracy:  0.8506560562369279\n",
            "Mean Validation Accuracy:  0.7859705882352942\n",
            "Mean Training Loss:  0.14934394376307222\n",
            "Mean Validation Loss:  0.2140294117647059\n",
            "Standard deviation training accuracies:  0.04536168285827698\n",
            "Standard deviation Training losses:  0.04536168285827698\n",
            "Standard deviation Validation accuracies:  0.03355364932127084\n",
            "Standard deviation Validation losses:  0.033553649321270834\n",
            "Best parameters:  {'tol': 0, 'solver': 'sgd', 'shuffle': True, 'nesterovs_momentum': False, 'n_iter_no_change': 200, 'momentum': 0.3, 'max_iter': 500, 'learning_rate_init': 0.2, 'hidden_layer_sizes': (2, 2), 'alpha': 0.3, 'activation': 'tanh'}\n"
          ]
        },
        {
          "output_type": "execute_result",
          "data": {
            "text/plain": [
              "<function matplotlib.pyplot.plot(*args, scalex=True, scaley=True, data=None, **kwargs)>"
            ]
          },
          "metadata": {},
          "execution_count": 106
        },
        {
          "output_type": "display_data",
          "data": {
            "text/plain": [
              "<Figure size 1200x600 with 2 Axes>"
            ],
            "image/png": "[encoded data removed]"
          },
          "metadata": {}
        }
      ]
    },
    {
      "cell_type": "code",
      "source": [
        "from sklearn.model_selection import KFold, RandomizedSearchCV\n",
        "from sklearn.neural_network import MLPClassifier\n",
        "from sklearn.metrics import accuracy_score, mean_squared_error, make_scorer\n",
        "import numpy as np\n",
        "import matplotlib.pyplot as plt\n",
        "\n",
        "seed = 23\n",
        "np.random.seed(seed)\n",
        "\n",
        "# Define parameter grid for RandomizedSearchCV\n",
        "param_grid = {\n",
        "    'hidden_layer_sizes': [(2,), (3,), (4,), (5,)],\n",
        "    'activation': ['tanh'],\n",
        "    'alpha': [float(i/10) for i in range(3, 8)],\n",
        "    'learning_rate_init': [0.2],\n",
        "    'momentum': [float(i/10) for i in range(1, 3)],\n",
        "    'nesterovs_momentum': [False],\n",
        "    'solver': ['sgd'],\n",
        "    'tol': [0.1],\n",
        "    'max_iter': [500]  # Increase max_iter for more training epochs\n",
        "}\n",
        "\n",
        "# Create a KFold instance\n",
        "kfold = KFold(n_splits=5, shuffle=True, random_state=seed)\n",
        "\n",
        "# Iterate through each fold in the KFold cross-validation\n",
        "for train_index, val_index in kfold.split(x_train, y_train):\n",
        "    x_tr, x_val = x_train.iloc[train_index], x_train.iloc[val_index]\n",
        "    y_tr, y_val = y_train.iloc[train_index], y_train.iloc[val_index]\n",
        "\n",
        "    # Create MLPClassifier instance\n",
        "    mlp = MLPClassifier(random_state=seed)\n",
        "\n",
        "    # Create RandomizedSearchCV instance\n",
        "    grid_search = RandomizedSearchCV(estimator=mlp, param_distributions=param_grid, cv=5, verbose=2, scoring='accuracy', n_iter=10)\n",
        "\n",
        "    # Fit the MLPClassifier using the current training fold and hyperparameters\n",
        "    grid_search.fit(x_tr, y_tr)\n",
        "\n",
        "    # Get best hyperparameters and initialize MLPClassifier with them\n",
        "    best_params = grid_search.best_params_\n",
        "    mlp_best = MLPClassifier(**best_params, random_state=seed)\n",
        "\n",
        "    # Train the model\n",
        "    mlp_best.fit(x_tr, y_tr)\n",
        "\n",
        "    # Evaluate the model\n",
        "    train_accuracy = accuracy_score(y_tr, mlp_best.predict(x_tr))\n",
        "    val_accuracy = accuracy_score(y_val, mlp_best.predict(x_val))\n",
        "\n",
        "    # Print performance metrics\n",
        "    print(\"Train Accuracy:\", train_accuracy)\n",
        "    print(\"Validation Accuracy:\", val_accuracy)\n",
        "    print(\"Best Parameters:\", best_params)\n"
      ],
      "metadata": {
        "colab": {
          "base_uri": "https://localhost:8080/"
        },
        "id": "XwIv5cXepAza",
        "outputId": "0e3d58e7-ce2b-474f-ebcc-eb0b482f04bc"
      },
      "execution_count": 102,
      "outputs": [
        {
          "output_type": "stream",
          "name": "stdout",
          "text": [
            "Fitting 5 folds for each of 10 candidates, totalling 50 fits\n",
            "[CV] END activation=tanh, alpha=0.5, hidden_layer_sizes=(3,), learning_rate_init=0.2, max_iter=500, momentum=0.1, nesterovs_momentum=False, solver=sgd, tol=0.1; total time=   0.0s\n",
            "[CV] END activation=tanh, alpha=0.5, hidden_layer_sizes=(3,), learning_rate_init=0.2, max_iter=500, momentum=0.1, nesterovs_momentum=False, solver=sgd, tol=0.1; total time=   0.0s\n",
            "[CV] END activation=tanh, alpha=0.5, hidden_layer_sizes=(3,), learning_rate_init=0.2, max_iter=500, momentum=0.1, nesterovs_momentum=False, solver=sgd, tol=0.1; total time=   0.0s\n",
            "[CV] END activation=tanh, alpha=0.5, hidden_layer_sizes=(3,), learning_rate_init=0.2, max_iter=500, momentum=0.1, nesterovs_momentum=False, solver=sgd, tol=0.1; total time=   0.0s\n",
            "[CV] END activation=tanh, alpha=0.5, hidden_layer_sizes=(3,), learning_rate_init=0.2, max_iter=500, momentum=0.1, nesterovs_momentum=False, solver=sgd, tol=0.1; total time=   0.0s\n",
            "[CV] END activation=tanh, alpha=0.5, hidden_layer_sizes=(5,), learning_rate_init=0.2, max_iter=500, momentum=0.2, nesterovs_momentum=False, solver=sgd, tol=0.1; total time=   0.0s\n",
            "[CV] END activation=tanh, alpha=0.5, hidden_layer_sizes=(5,), learning_rate_init=0.2, max_iter=500, momentum=0.2, nesterovs_momentum=False, solver=sgd, tol=0.1; total time=   0.0s\n",
            "[CV] END activation=tanh, alpha=0.5, hidden_layer_sizes=(5,), learning_rate_init=0.2, max_iter=500, momentum=0.2, nesterovs_momentum=False, solver=sgd, tol=0.1; total time=   0.0s\n",
            "[CV] END activation=tanh, alpha=0.5, hidden_layer_sizes=(5,), learning_rate_init=0.2, max_iter=500, momentum=0.2, nesterovs_momentum=False, solver=sgd, tol=0.1; total time=   0.0s\n",
            "[CV] END activation=tanh, alpha=0.5, hidden_layer_sizes=(5,), learning_rate_init=0.2, max_iter=500, momentum=0.2, nesterovs_momentum=False, solver=sgd, tol=0.1; total time=   0.0s\n",
            "[CV] END activation=tanh, alpha=0.4, hidden_layer_sizes=(2,), learning_rate_init=0.2, max_iter=500, momentum=0.1, nesterovs_momentum=False, solver=sgd, tol=0.1; total time=   0.0s\n",
            "[CV] END activation=tanh, alpha=0.4, hidden_layer_sizes=(2,), learning_rate_init=0.2, max_iter=500, momentum=0.1, nesterovs_momentum=False, solver=sgd, tol=0.1; total time=   0.0s\n",
            "[CV] END activation=tanh, alpha=0.4, hidden_layer_sizes=(2,), learning_rate_init=0.2, max_iter=500, momentum=0.1, nesterovs_momentum=False, solver=sgd, tol=0.1; total time=   0.0s\n",
            "[CV] END activation=tanh, alpha=0.4, hidden_layer_sizes=(2,), learning_rate_init=0.2, max_iter=500, momentum=0.1, nesterovs_momentum=False, solver=sgd, tol=0.1; total time=   0.0s\n",
            "[CV] END activation=tanh, alpha=0.4, hidden_layer_sizes=(2,), learning_rate_init=0.2, max_iter=500, momentum=0.1, nesterovs_momentum=False, solver=sgd, tol=0.1; total time=   0.0s\n",
            "[CV] END activation=tanh, alpha=0.5, hidden_layer_sizes=(5,), learning_rate_init=0.2, max_iter=500, momentum=0.1, nesterovs_momentum=False, solver=sgd, tol=0.1; total time=   0.0s\n",
            "[CV] END activation=tanh, alpha=0.5, hidden_layer_sizes=(5,), learning_rate_init=0.2, max_iter=500, momentum=0.1, nesterovs_momentum=False, solver=sgd, tol=0.1; total time=   0.0s\n",
            "[CV] END activation=tanh, alpha=0.5, hidden_layer_sizes=(5,), learning_rate_init=0.2, max_iter=500, momentum=0.1, nesterovs_momentum=False, solver=sgd, tol=0.1; total time=   0.0s\n",
            "[CV] END activation=tanh, alpha=0.5, hidden_layer_sizes=(5,), learning_rate_init=0.2, max_iter=500, momentum=0.1, nesterovs_momentum=False, solver=sgd, tol=0.1; total time=   0.0s\n",
            "[CV] END activation=tanh, alpha=0.5, hidden_layer_sizes=(5,), learning_rate_init=0.2, max_iter=500, momentum=0.1, nesterovs_momentum=False, solver=sgd, tol=0.1; total time=   0.0s\n",
            "[CV] END activation=tanh, alpha=0.7, hidden_layer_sizes=(2,), learning_rate_init=0.2, max_iter=500, momentum=0.2, nesterovs_momentum=False, solver=sgd, tol=0.1; total time=   0.0s\n",
            "[CV] END activation=tanh, alpha=0.7, hidden_layer_sizes=(2,), learning_rate_init=0.2, max_iter=500, momentum=0.2, nesterovs_momentum=False, solver=sgd, tol=0.1; total time=   0.0s\n",
            "[CV] END activation=tanh, alpha=0.7, hidden_layer_sizes=(2,), learning_rate_init=0.2, max_iter=500, momentum=0.2, nesterovs_momentum=False, solver=sgd, tol=0.1; total time=   0.0s\n",
            "[CV] END activation=tanh, alpha=0.7, hidden_layer_sizes=(2,), learning_rate_init=0.2, max_iter=500, momentum=0.2, nesterovs_momentum=False, solver=sgd, tol=0.1; total time=   0.0s\n",
            "[CV] END activation=tanh, alpha=0.7, hidden_layer_sizes=(2,), learning_rate_init=0.2, max_iter=500, momentum=0.2, nesterovs_momentum=False, solver=sgd, tol=0.1; total time=   0.0s\n",
            "[CV] END activation=tanh, alpha=0.7, hidden_layer_sizes=(2,), learning_rate_init=0.2, max_iter=500, momentum=0.1, nesterovs_momentum=False, solver=sgd, tol=0.1; total time=   0.0s\n",
            "[CV] END activation=tanh, alpha=0.7, hidden_layer_sizes=(2,), learning_rate_init=0.2, max_iter=500, momentum=0.1, nesterovs_momentum=False, solver=sgd, tol=0.1; total time=   0.0s\n",
            "[CV] END activation=tanh, alpha=0.7, hidden_layer_sizes=(2,), learning_rate_init=0.2, max_iter=500, momentum=0.1, nesterovs_momentum=False, solver=sgd, tol=0.1; total time=   0.0s\n",
            "[CV] END activation=tanh, alpha=0.7, hidden_layer_sizes=(2,), learning_rate_init=0.2, max_iter=500, momentum=0.1, nesterovs_momentum=False, solver=sgd, tol=0.1; total time=   0.0s\n",
            "[CV] END activation=tanh, alpha=0.7, hidden_layer_sizes=(2,), learning_rate_init=0.2, max_iter=500, momentum=0.1, nesterovs_momentum=False, solver=sgd, tol=0.1; total time=   0.0s\n",
            "[CV] END activation=tanh, alpha=0.4, hidden_layer_sizes=(3,), learning_rate_init=0.2, max_iter=500, momentum=0.1, nesterovs_momentum=False, solver=sgd, tol=0.1; total time=   0.0s\n",
            "[CV] END activation=tanh, alpha=0.4, hidden_layer_sizes=(3,), learning_rate_init=0.2, max_iter=500, momentum=0.1, nesterovs_momentum=False, solver=sgd, tol=0.1; total time=   0.0s\n",
            "[CV] END activation=tanh, alpha=0.4, hidden_layer_sizes=(3,), learning_rate_init=0.2, max_iter=500, momentum=0.1, nesterovs_momentum=False, solver=sgd, tol=0.1; total time=   0.0s\n",
            "[CV] END activation=tanh, alpha=0.4, hidden_layer_sizes=(3,), learning_rate_init=0.2, max_iter=500, momentum=0.1, nesterovs_momentum=False, solver=sgd, tol=0.1; total time=   0.0s\n",
            "[CV] END activation=tanh, alpha=0.4, hidden_layer_sizes=(3,), learning_rate_init=0.2, max_iter=500, momentum=0.1, nesterovs_momentum=False, solver=sgd, tol=0.1; total time=   0.0s\n",
            "[CV] END activation=tanh, alpha=0.3, hidden_layer_sizes=(3,), learning_rate_init=0.2, max_iter=500, momentum=0.2, nesterovs_momentum=False, solver=sgd, tol=0.1; total time=   0.0s\n",
            "[CV] END activation=tanh, alpha=0.3, hidden_layer_sizes=(3,), learning_rate_init=0.2, max_iter=500, momentum=0.2, nesterovs_momentum=False, solver=sgd, tol=0.1; total time=   0.0s\n",
            "[CV] END activation=tanh, alpha=0.3, hidden_layer_sizes=(3,), learning_rate_init=0.2, max_iter=500, momentum=0.2, nesterovs_momentum=False, solver=sgd, tol=0.1; total time=   0.0s\n",
            "[CV] END activation=tanh, alpha=0.3, hidden_layer_sizes=(3,), learning_rate_init=0.2, max_iter=500, momentum=0.2, nesterovs_momentum=False, solver=sgd, tol=0.1; total time=   0.0s\n",
            "[CV] END activation=tanh, alpha=0.3, hidden_layer_sizes=(3,), learning_rate_init=0.2, max_iter=500, momentum=0.2, nesterovs_momentum=False, solver=sgd, tol=0.1; total time=   0.0s\n",
            "[CV] END activation=tanh, alpha=0.4, hidden_layer_sizes=(5,), learning_rate_init=0.2, max_iter=500, momentum=0.1, nesterovs_momentum=False, solver=sgd, tol=0.1; total time=   0.0s\n",
            "[CV] END activation=tanh, alpha=0.4, hidden_layer_sizes=(5,), learning_rate_init=0.2, max_iter=500, momentum=0.1, nesterovs_momentum=False, solver=sgd, tol=0.1; total time=   0.0s\n",
            "[CV] END activation=tanh, alpha=0.4, hidden_layer_sizes=(5,), learning_rate_init=0.2, max_iter=500, momentum=0.1, nesterovs_momentum=False, solver=sgd, tol=0.1; total time=   0.0s\n",
            "[CV] END activation=tanh, alpha=0.4, hidden_layer_sizes=(5,), learning_rate_init=0.2, max_iter=500, momentum=0.1, nesterovs_momentum=False, solver=sgd, tol=0.1; total time=   0.0s\n",
            "[CV] END activation=tanh, alpha=0.4, hidden_layer_sizes=(5,), learning_rate_init=0.2, max_iter=500, momentum=0.1, nesterovs_momentum=False, solver=sgd, tol=0.1; total time=   0.0s\n",
            "[CV] END activation=tanh, alpha=0.6, hidden_layer_sizes=(5,), learning_rate_init=0.2, max_iter=500, momentum=0.1, nesterovs_momentum=False, solver=sgd, tol=0.1; total time=   0.0s\n",
            "[CV] END activation=tanh, alpha=0.6, hidden_layer_sizes=(5,), learning_rate_init=0.2, max_iter=500, momentum=0.1, nesterovs_momentum=False, solver=sgd, tol=0.1; total time=   0.0s\n",
            "[CV] END activation=tanh, alpha=0.6, hidden_layer_sizes=(5,), learning_rate_init=0.2, max_iter=500, momentum=0.1, nesterovs_momentum=False, solver=sgd, tol=0.1; total time=   0.0s\n",
            "[CV] END activation=tanh, alpha=0.6, hidden_layer_sizes=(5,), learning_rate_init=0.2, max_iter=500, momentum=0.1, nesterovs_momentum=False, solver=sgd, tol=0.1; total time=   0.0s\n",
            "[CV] END activation=tanh, alpha=0.6, hidden_layer_sizes=(5,), learning_rate_init=0.2, max_iter=500, momentum=0.1, nesterovs_momentum=False, solver=sgd, tol=0.1; total time=   0.0s\n",
            "Train Accuracy: 0.7628865979381443\n",
            "Validation Accuracy: 0.76\n",
            "Best Parameters: {'tol': 0.1, 'solver': 'sgd', 'nesterovs_momentum': False, 'momentum': 0.2, 'max_iter': 500, 'learning_rate_init': 0.2, 'hidden_layer_sizes': (5,), 'alpha': 0.5, 'activation': 'tanh'}\n",
            "Fitting 5 folds for each of 10 candidates, totalling 50 fits\n",
            "[CV] END activation=tanh, alpha=0.5, hidden_layer_sizes=(2,), learning_rate_init=0.2, max_iter=500, momentum=0.2, nesterovs_momentum=False, solver=sgd, tol=0.1; total time=   0.0s\n",
            "[CV] END activation=tanh, alpha=0.5, hidden_layer_sizes=(2,), learning_rate_init=0.2, max_iter=500, momentum=0.2, nesterovs_momentum=False, solver=sgd, tol=0.1; total time=   0.0s\n",
            "[CV] END activation=tanh, alpha=0.5, hidden_layer_sizes=(2,), learning_rate_init=0.2, max_iter=500, momentum=0.2, nesterovs_momentum=False, solver=sgd, tol=0.1; total time=   0.0s\n",
            "[CV] END activation=tanh, alpha=0.5, hidden_layer_sizes=(2,), learning_rate_init=0.2, max_iter=500, momentum=0.2, nesterovs_momentum=False, solver=sgd, tol=0.1; total time=   0.0s\n",
            "[CV] END activation=tanh, alpha=0.5, hidden_layer_sizes=(2,), learning_rate_init=0.2, max_iter=500, momentum=0.2, nesterovs_momentum=False, solver=sgd, tol=0.1; total time=   0.0s\n",
            "[CV] END activation=tanh, alpha=0.7, hidden_layer_sizes=(5,), learning_rate_init=0.2, max_iter=500, momentum=0.2, nesterovs_momentum=False, solver=sgd, tol=0.1; total time=   0.0s\n",
            "[CV] END activation=tanh, alpha=0.7, hidden_layer_sizes=(5,), learning_rate_init=0.2, max_iter=500, momentum=0.2, nesterovs_momentum=False, solver=sgd, tol=0.1; total time=   0.0s\n",
            "[CV] END activation=tanh, alpha=0.7, hidden_layer_sizes=(5,), learning_rate_init=0.2, max_iter=500, momentum=0.2, nesterovs_momentum=False, solver=sgd, tol=0.1; total time=   0.0s\n",
            "[CV] END activation=tanh, alpha=0.7, hidden_layer_sizes=(5,), learning_rate_init=0.2, max_iter=500, momentum=0.2, nesterovs_momentum=False, solver=sgd, tol=0.1; total time=   0.0s\n",
            "[CV] END activation=tanh, alpha=0.7, hidden_layer_sizes=(5,), learning_rate_init=0.2, max_iter=500, momentum=0.2, nesterovs_momentum=False, solver=sgd, tol=0.1; total time=   0.0s\n",
            "[CV] END activation=tanh, alpha=0.3, hidden_layer_sizes=(2,), learning_rate_init=0.2, max_iter=500, momentum=0.2, nesterovs_momentum=False, solver=sgd, tol=0.1; total time=   0.0s\n",
            "[CV] END activation=tanh, alpha=0.3, hidden_layer_sizes=(2,), learning_rate_init=0.2, max_iter=500, momentum=0.2, nesterovs_momentum=False, solver=sgd, tol=0.1; total time=   0.0s\n",
            "[CV] END activation=tanh, alpha=0.3, hidden_layer_sizes=(2,), learning_rate_init=0.2, max_iter=500, momentum=0.2, nesterovs_momentum=False, solver=sgd, tol=0.1; total time=   0.0s\n",
            "[CV] END activation=tanh, alpha=0.3, hidden_layer_sizes=(2,), learning_rate_init=0.2, max_iter=500, momentum=0.2, nesterovs_momentum=False, solver=sgd, tol=0.1; total time=   0.0s\n",
            "[CV] END activation=tanh, alpha=0.3, hidden_layer_sizes=(2,), learning_rate_init=0.2, max_iter=500, momentum=0.2, nesterovs_momentum=False, solver=sgd, tol=0.1; total time=   0.0s\n",
            "[CV] END activation=tanh, alpha=0.4, hidden_layer_sizes=(5,), learning_rate_init=0.2, max_iter=500, momentum=0.2, nesterovs_momentum=False, solver=sgd, tol=0.1; total time=   0.0s\n",
            "[CV] END activation=tanh, alpha=0.4, hidden_layer_sizes=(5,), learning_rate_init=0.2, max_iter=500, momentum=0.2, nesterovs_momentum=False, solver=sgd, tol=0.1; total time=   0.0s\n",
            "[CV] END activation=tanh, alpha=0.4, hidden_layer_sizes=(5,), learning_rate_init=0.2, max_iter=500, momentum=0.2, nesterovs_momentum=False, solver=sgd, tol=0.1; total time=   0.0s\n",
            "[CV] END activation=tanh, alpha=0.4, hidden_layer_sizes=(5,), learning_rate_init=0.2, max_iter=500, momentum=0.2, nesterovs_momentum=False, solver=sgd, tol=0.1; total time=   0.0s\n",
            "[CV] END activation=tanh, alpha=0.4, hidden_layer_sizes=(5,), learning_rate_init=0.2, max_iter=500, momentum=0.2, nesterovs_momentum=False, solver=sgd, tol=0.1; total time=   0.0s\n",
            "[CV] END activation=tanh, alpha=0.4, hidden_layer_sizes=(2,), learning_rate_init=0.2, max_iter=500, momentum=0.2, nesterovs_momentum=False, solver=sgd, tol=0.1; total time=   0.0s\n",
            "[CV] END activation=tanh, alpha=0.4, hidden_layer_sizes=(2,), learning_rate_init=0.2, max_iter=500, momentum=0.2, nesterovs_momentum=False, solver=sgd, tol=0.1; total time=   0.0s\n",
            "[CV] END activation=tanh, alpha=0.4, hidden_layer_sizes=(2,), learning_rate_init=0.2, max_iter=500, momentum=0.2, nesterovs_momentum=False, solver=sgd, tol=0.1; total time=   0.0s\n",
            "[CV] END activation=tanh, alpha=0.4, hidden_layer_sizes=(2,), learning_rate_init=0.2, max_iter=500, momentum=0.2, nesterovs_momentum=False, solver=sgd, tol=0.1; total time=   0.0s\n",
            "[CV] END activation=tanh, alpha=0.4, hidden_layer_sizes=(2,), learning_rate_init=0.2, max_iter=500, momentum=0.2, nesterovs_momentum=False, solver=sgd, tol=0.1; total time=   0.0s\n",
            "[CV] END activation=tanh, alpha=0.6, hidden_layer_sizes=(2,), learning_rate_init=0.2, max_iter=500, momentum=0.1, nesterovs_momentum=False, solver=sgd, tol=0.1; total time=   0.0s\n",
            "[CV] END activation=tanh, alpha=0.6, hidden_layer_sizes=(2,), learning_rate_init=0.2, max_iter=500, momentum=0.1, nesterovs_momentum=False, solver=sgd, tol=0.1; total time=   0.0s\n",
            "[CV] END activation=tanh, alpha=0.6, hidden_layer_sizes=(2,), learning_rate_init=0.2, max_iter=500, momentum=0.1, nesterovs_momentum=False, solver=sgd, tol=0.1; total time=   0.0s\n",
            "[CV] END activation=tanh, alpha=0.6, hidden_layer_sizes=(2,), learning_rate_init=0.2, max_iter=500, momentum=0.1, nesterovs_momentum=False, solver=sgd, tol=0.1; total time=   0.0s\n",
            "[CV] END activation=tanh, alpha=0.6, hidden_layer_sizes=(2,), learning_rate_init=0.2, max_iter=500, momentum=0.1, nesterovs_momentum=False, solver=sgd, tol=0.1; total time=   0.0s\n",
            "[CV] END activation=tanh, alpha=0.6, hidden_layer_sizes=(3,), learning_rate_init=0.2, max_iter=500, momentum=0.2, nesterovs_momentum=False, solver=sgd, tol=0.1; total time=   0.0s\n",
            "[CV] END activation=tanh, alpha=0.6, hidden_layer_sizes=(3,), learning_rate_init=0.2, max_iter=500, momentum=0.2, nesterovs_momentum=False, solver=sgd, tol=0.1; total time=   0.0s\n",
            "[CV] END activation=tanh, alpha=0.6, hidden_layer_sizes=(3,), learning_rate_init=0.2, max_iter=500, momentum=0.2, nesterovs_momentum=False, solver=sgd, tol=0.1; total time=   0.0s\n",
            "[CV] END activation=tanh, alpha=0.6, hidden_layer_sizes=(3,), learning_rate_init=0.2, max_iter=500, momentum=0.2, nesterovs_momentum=False, solver=sgd, tol=0.1; total time=   0.0s\n",
            "[CV] END activation=tanh, alpha=0.6, hidden_layer_sizes=(3,), learning_rate_init=0.2, max_iter=500, momentum=0.2, nesterovs_momentum=False, solver=sgd, tol=0.1; total time=   0.0s\n",
            "[CV] END activation=tanh, alpha=0.5, hidden_layer_sizes=(5,), learning_rate_init=0.2, max_iter=500, momentum=0.2, nesterovs_momentum=False, solver=sgd, tol=0.1; total time=   0.0s\n",
            "[CV] END activation=tanh, alpha=0.5, hidden_layer_sizes=(5,), learning_rate_init=0.2, max_iter=500, momentum=0.2, nesterovs_momentum=False, solver=sgd, tol=0.1; total time=   0.0s\n",
            "[CV] END activation=tanh, alpha=0.5, hidden_layer_sizes=(5,), learning_rate_init=0.2, max_iter=500, momentum=0.2, nesterovs_momentum=False, solver=sgd, tol=0.1; total time=   0.0s\n",
            "[CV] END activation=tanh, alpha=0.5, hidden_layer_sizes=(5,), learning_rate_init=0.2, max_iter=500, momentum=0.2, nesterovs_momentum=False, solver=sgd, tol=0.1; total time=   0.0s\n",
            "[CV] END activation=tanh, alpha=0.5, hidden_layer_sizes=(5,), learning_rate_init=0.2, max_iter=500, momentum=0.2, nesterovs_momentum=False, solver=sgd, tol=0.1; total time=   0.0s\n",
            "[CV] END activation=tanh, alpha=0.7, hidden_layer_sizes=(4,), learning_rate_init=0.2, max_iter=500, momentum=0.2, nesterovs_momentum=False, solver=sgd, tol=0.1; total time=   0.0s\n",
            "[CV] END activation=tanh, alpha=0.7, hidden_layer_sizes=(4,), learning_rate_init=0.2, max_iter=500, momentum=0.2, nesterovs_momentum=False, solver=sgd, tol=0.1; total time=   0.0s\n",
            "[CV] END activation=tanh, alpha=0.7, hidden_layer_sizes=(4,), learning_rate_init=0.2, max_iter=500, momentum=0.2, nesterovs_momentum=False, solver=sgd, tol=0.1; total time=   0.0s\n",
            "[CV] END activation=tanh, alpha=0.7, hidden_layer_sizes=(4,), learning_rate_init=0.2, max_iter=500, momentum=0.2, nesterovs_momentum=False, solver=sgd, tol=0.1; total time=   0.0s\n",
            "[CV] END activation=tanh, alpha=0.7, hidden_layer_sizes=(4,), learning_rate_init=0.2, max_iter=500, momentum=0.2, nesterovs_momentum=False, solver=sgd, tol=0.1; total time=   0.0s\n",
            "[CV] END activation=tanh, alpha=0.4, hidden_layer_sizes=(2,), learning_rate_init=0.2, max_iter=500, momentum=0.1, nesterovs_momentum=False, solver=sgd, tol=0.1; total time=   0.0s\n",
            "[CV] END activation=tanh, alpha=0.4, hidden_layer_sizes=(2,), learning_rate_init=0.2, max_iter=500, momentum=0.1, nesterovs_momentum=False, solver=sgd, tol=0.1; total time=   0.0s\n",
            "[CV] END activation=tanh, alpha=0.4, hidden_layer_sizes=(2,), learning_rate_init=0.2, max_iter=500, momentum=0.1, nesterovs_momentum=False, solver=sgd, tol=0.1; total time=   0.0s\n",
            "[CV] END activation=tanh, alpha=0.4, hidden_layer_sizes=(2,), learning_rate_init=0.2, max_iter=500, momentum=0.1, nesterovs_momentum=False, solver=sgd, tol=0.1; total time=   0.0s\n",
            "[CV] END activation=tanh, alpha=0.4, hidden_layer_sizes=(2,), learning_rate_init=0.2, max_iter=500, momentum=0.1, nesterovs_momentum=False, solver=sgd, tol=0.1; total time=   0.0s\n",
            "Train Accuracy: 0.7731958762886598\n",
            "Validation Accuracy: 0.76\n",
            "Best Parameters: {'tol': 0.1, 'solver': 'sgd', 'nesterovs_momentum': False, 'momentum': 0.2, 'max_iter': 500, 'learning_rate_init': 0.2, 'hidden_layer_sizes': (5,), 'alpha': 0.7, 'activation': 'tanh'}\n",
            "Fitting 5 folds for each of 10 candidates, totalling 50 fits\n",
            "[CV] END activation=tanh, alpha=0.3, hidden_layer_sizes=(3,), learning_rate_init=0.2, max_iter=500, momentum=0.2, nesterovs_momentum=False, solver=sgd, tol=0.1; total time=   0.0s\n",
            "[CV] END activation=tanh, alpha=0.3, hidden_layer_sizes=(3,), learning_rate_init=0.2, max_iter=500, momentum=0.2, nesterovs_momentum=False, solver=sgd, tol=0.1; total time=   0.0s\n",
            "[CV] END activation=tanh, alpha=0.3, hidden_layer_sizes=(3,), learning_rate_init=0.2, max_iter=500, momentum=0.2, nesterovs_momentum=False, solver=sgd, tol=0.1; total time=   0.0s\n",
            "[CV] END activation=tanh, alpha=0.3, hidden_layer_sizes=(3,), learning_rate_init=0.2, max_iter=500, momentum=0.2, nesterovs_momentum=False, solver=sgd, tol=0.1; total time=   0.0s\n",
            "[CV] END activation=tanh, alpha=0.3, hidden_layer_sizes=(3,), learning_rate_init=0.2, max_iter=500, momentum=0.2, nesterovs_momentum=False, solver=sgd, tol=0.1; total time=   0.0s\n",
            "[CV] END activation=tanh, alpha=0.4, hidden_layer_sizes=(3,), learning_rate_init=0.2, max_iter=500, momentum=0.1, nesterovs_momentum=False, solver=sgd, tol=0.1; total time=   0.0s\n",
            "[CV] END activation=tanh, alpha=0.4, hidden_layer_sizes=(3,), learning_rate_init=0.2, max_iter=500, momentum=0.1, nesterovs_momentum=False, solver=sgd, tol=0.1; total time=   0.0s\n",
            "[CV] END activation=tanh, alpha=0.4, hidden_layer_sizes=(3,), learning_rate_init=0.2, max_iter=500, momentum=0.1, nesterovs_momentum=False, solver=sgd, tol=0.1; total time=   0.0s\n",
            "[CV] END activation=tanh, alpha=0.4, hidden_layer_sizes=(3,), learning_rate_init=0.2, max_iter=500, momentum=0.1, nesterovs_momentum=False, solver=sgd, tol=0.1; total time=   0.0s\n",
            "[CV] END activation=tanh, alpha=0.4, hidden_layer_sizes=(3,), learning_rate_init=0.2, max_iter=500, momentum=0.1, nesterovs_momentum=False, solver=sgd, tol=0.1; total time=   0.0s\n",
            "[CV] END activation=tanh, alpha=0.6, hidden_layer_sizes=(2,), learning_rate_init=0.2, max_iter=500, momentum=0.1, nesterovs_momentum=False, solver=sgd, tol=0.1; total time=   0.0s\n",
            "[CV] END activation=tanh, alpha=0.6, hidden_layer_sizes=(2,), learning_rate_init=0.2, max_iter=500, momentum=0.1, nesterovs_momentum=False, solver=sgd, tol=0.1; total time=   0.0s\n",
            "[CV] END activation=tanh, alpha=0.6, hidden_layer_sizes=(2,), learning_rate_init=0.2, max_iter=500, momentum=0.1, nesterovs_momentum=False, solver=sgd, tol=0.1; total time=   0.0s\n",
            "[CV] END activation=tanh, alpha=0.6, hidden_layer_sizes=(2,), learning_rate_init=0.2, max_iter=500, momentum=0.1, nesterovs_momentum=False, solver=sgd, tol=0.1; total time=   0.0s\n",
            "[CV] END activation=tanh, alpha=0.6, hidden_layer_sizes=(2,), learning_rate_init=0.2, max_iter=500, momentum=0.1, nesterovs_momentum=False, solver=sgd, tol=0.1; total time=   0.0s\n",
            "[CV] END activation=tanh, alpha=0.6, hidden_layer_sizes=(2,), learning_rate_init=0.2, max_iter=500, momentum=0.2, nesterovs_momentum=False, solver=sgd, tol=0.1; total time=   0.0s\n",
            "[CV] END activation=tanh, alpha=0.6, hidden_layer_sizes=(2,), learning_rate_init=0.2, max_iter=500, momentum=0.2, nesterovs_momentum=False, solver=sgd, tol=0.1; total time=   0.0s\n",
            "[CV] END activation=tanh, alpha=0.6, hidden_layer_sizes=(2,), learning_rate_init=0.2, max_iter=500, momentum=0.2, nesterovs_momentum=False, solver=sgd, tol=0.1; total time=   0.0s\n",
            "[CV] END activation=tanh, alpha=0.6, hidden_layer_sizes=(2,), learning_rate_init=0.2, max_iter=500, momentum=0.2, nesterovs_momentum=False, solver=sgd, tol=0.1; total time=   0.0s\n",
            "[CV] END activation=tanh, alpha=0.6, hidden_layer_sizes=(2,), learning_rate_init=0.2, max_iter=500, momentum=0.2, nesterovs_momentum=False, solver=sgd, tol=0.1; total time=   0.0s\n",
            "[CV] END activation=tanh, alpha=0.6, hidden_layer_sizes=(4,), learning_rate_init=0.2, max_iter=500, momentum=0.1, nesterovs_momentum=False, solver=sgd, tol=0.1; total time=   0.0s\n",
            "[CV] END activation=tanh, alpha=0.6, hidden_layer_sizes=(4,), learning_rate_init=0.2, max_iter=500, momentum=0.1, nesterovs_momentum=False, solver=sgd, tol=0.1; total time=   0.0s\n",
            "[CV] END activation=tanh, alpha=0.6, hidden_layer_sizes=(4,), learning_rate_init=0.2, max_iter=500, momentum=0.1, nesterovs_momentum=False, solver=sgd, tol=0.1; total time=   0.0s\n",
            "[CV] END activation=tanh, alpha=0.6, hidden_layer_sizes=(4,), learning_rate_init=0.2, max_iter=500, momentum=0.1, nesterovs_momentum=False, solver=sgd, tol=0.1; total time=   0.0s\n",
            "[CV] END activation=tanh, alpha=0.6, hidden_layer_sizes=(4,), learning_rate_init=0.2, max_iter=500, momentum=0.1, nesterovs_momentum=False, solver=sgd, tol=0.1; total time=   0.0s\n",
            "[CV] END activation=tanh, alpha=0.7, hidden_layer_sizes=(5,), learning_rate_init=0.2, max_iter=500, momentum=0.2, nesterovs_momentum=False, solver=sgd, tol=0.1; total time=   0.0s\n",
            "[CV] END activation=tanh, alpha=0.7, hidden_layer_sizes=(5,), learning_rate_init=0.2, max_iter=500, momentum=0.2, nesterovs_momentum=False, solver=sgd, tol=0.1; total time=   0.0s\n",
            "[CV] END activation=tanh, alpha=0.7, hidden_layer_sizes=(5,), learning_rate_init=0.2, max_iter=500, momentum=0.2, nesterovs_momentum=False, solver=sgd, tol=0.1; total time=   0.0s\n",
            "[CV] END activation=tanh, alpha=0.7, hidden_layer_sizes=(5,), learning_rate_init=0.2, max_iter=500, momentum=0.2, nesterovs_momentum=False, solver=sgd, tol=0.1; total time=   0.0s\n",
            "[CV] END activation=tanh, alpha=0.7, hidden_layer_sizes=(5,), learning_rate_init=0.2, max_iter=500, momentum=0.2, nesterovs_momentum=False, solver=sgd, tol=0.1; total time=   0.0s\n",
            "[CV] END activation=tanh, alpha=0.4, hidden_layer_sizes=(4,), learning_rate_init=0.2, max_iter=500, momentum=0.2, nesterovs_momentum=False, solver=sgd, tol=0.1; total time=   0.0s\n",
            "[CV] END activation=tanh, alpha=0.4, hidden_layer_sizes=(4,), learning_rate_init=0.2, max_iter=500, momentum=0.2, nesterovs_momentum=False, solver=sgd, tol=0.1; total time=   0.0s\n",
            "[CV] END activation=tanh, alpha=0.4, hidden_layer_sizes=(4,), learning_rate_init=0.2, max_iter=500, momentum=0.2, nesterovs_momentum=False, solver=sgd, tol=0.1; total time=   0.0s\n",
            "[CV] END activation=tanh, alpha=0.4, hidden_layer_sizes=(4,), learning_rate_init=0.2, max_iter=500, momentum=0.2, nesterovs_momentum=False, solver=sgd, tol=0.1; total time=   0.0s\n",
            "[CV] END activation=tanh, alpha=0.4, hidden_layer_sizes=(4,), learning_rate_init=0.2, max_iter=500, momentum=0.2, nesterovs_momentum=False, solver=sgd, tol=0.1; total time=   0.0s\n",
            "[CV] END activation=tanh, alpha=0.6, hidden_layer_sizes=(5,), learning_rate_init=0.2, max_iter=500, momentum=0.2, nesterovs_momentum=False, solver=sgd, tol=0.1; total time=   0.0s\n",
            "[CV] END activation=tanh, alpha=0.6, hidden_layer_sizes=(5,), learning_rate_init=0.2, max_iter=500, momentum=0.2, nesterovs_momentum=False, solver=sgd, tol=0.1; total time=   0.0s\n",
            "[CV] END activation=tanh, alpha=0.6, hidden_layer_sizes=(5,), learning_rate_init=0.2, max_iter=500, momentum=0.2, nesterovs_momentum=False, solver=sgd, tol=0.1; total time=   0.0s\n",
            "[CV] END activation=tanh, alpha=0.6, hidden_layer_sizes=(5,), learning_rate_init=0.2, max_iter=500, momentum=0.2, nesterovs_momentum=False, solver=sgd, tol=0.1; total time=   0.0s\n",
            "[CV] END activation=tanh, alpha=0.6, hidden_layer_sizes=(5,), learning_rate_init=0.2, max_iter=500, momentum=0.2, nesterovs_momentum=False, solver=sgd, tol=0.1; total time=   0.0s\n",
            "[CV] END activation=tanh, alpha=0.5, hidden_layer_sizes=(4,), learning_rate_init=0.2, max_iter=500, momentum=0.1, nesterovs_momentum=False, solver=sgd, tol=0.1; total time=   0.0s\n",
            "[CV] END activation=tanh, alpha=0.5, hidden_layer_sizes=(4,), learning_rate_init=0.2, max_iter=500, momentum=0.1, nesterovs_momentum=False, solver=sgd, tol=0.1; total time=   0.0s\n",
            "[CV] END activation=tanh, alpha=0.5, hidden_layer_sizes=(4,), learning_rate_init=0.2, max_iter=500, momentum=0.1, nesterovs_momentum=False, solver=sgd, tol=0.1; total time=   0.0s\n",
            "[CV] END activation=tanh, alpha=0.5, hidden_layer_sizes=(4,), learning_rate_init=0.2, max_iter=500, momentum=0.1, nesterovs_momentum=False, solver=sgd, tol=0.1; total time=   0.0s\n",
            "[CV] END activation=tanh, alpha=0.5, hidden_layer_sizes=(4,), learning_rate_init=0.2, max_iter=500, momentum=0.1, nesterovs_momentum=False, solver=sgd, tol=0.1; total time=   0.0s\n",
            "[CV] END activation=tanh, alpha=0.3, hidden_layer_sizes=(5,), learning_rate_init=0.2, max_iter=500, momentum=0.2, nesterovs_momentum=False, solver=sgd, tol=0.1; total time=   0.0s\n",
            "[CV] END activation=tanh, alpha=0.3, hidden_layer_sizes=(5,), learning_rate_init=0.2, max_iter=500, momentum=0.2, nesterovs_momentum=False, solver=sgd, tol=0.1; total time=   0.0s\n",
            "[CV] END activation=tanh, alpha=0.3, hidden_layer_sizes=(5,), learning_rate_init=0.2, max_iter=500, momentum=0.2, nesterovs_momentum=False, solver=sgd, tol=0.1; total time=   0.0s\n",
            "[CV] END activation=tanh, alpha=0.3, hidden_layer_sizes=(5,), learning_rate_init=0.2, max_iter=500, momentum=0.2, nesterovs_momentum=False, solver=sgd, tol=0.1; total time=   0.0s\n",
            "[CV] END activation=tanh, alpha=0.3, hidden_layer_sizes=(5,), learning_rate_init=0.2, max_iter=500, momentum=0.2, nesterovs_momentum=False, solver=sgd, tol=0.1; total time=   0.0s\n",
            "Train Accuracy: 0.7959183673469388\n",
            "Validation Accuracy: 0.625\n",
            "Best Parameters: {'tol': 0.1, 'solver': 'sgd', 'nesterovs_momentum': False, 'momentum': 0.2, 'max_iter': 500, 'learning_rate_init': 0.2, 'hidden_layer_sizes': (5,), 'alpha': 0.7, 'activation': 'tanh'}\n",
            "Fitting 5 folds for each of 10 candidates, totalling 50 fits\n",
            "[CV] END activation=tanh, alpha=0.6, hidden_layer_sizes=(2,), learning_rate_init=0.2, max_iter=500, momentum=0.1, nesterovs_momentum=False, solver=sgd, tol=0.1; total time=   0.0s\n",
            "[CV] END activation=tanh, alpha=0.6, hidden_layer_sizes=(2,), learning_rate_init=0.2, max_iter=500, momentum=0.1, nesterovs_momentum=False, solver=sgd, tol=0.1; total time=   0.0s\n",
            "[CV] END activation=tanh, alpha=0.6, hidden_layer_sizes=(2,), learning_rate_init=0.2, max_iter=500, momentum=0.1, nesterovs_momentum=False, solver=sgd, tol=0.1; total time=   0.0s\n",
            "[CV] END activation=tanh, alpha=0.6, hidden_layer_sizes=(2,), learning_rate_init=0.2, max_iter=500, momentum=0.1, nesterovs_momentum=False, solver=sgd, tol=0.1; total time=   0.0s\n",
            "[CV] END activation=tanh, alpha=0.6, hidden_layer_sizes=(2,), learning_rate_init=0.2, max_iter=500, momentum=0.1, nesterovs_momentum=False, solver=sgd, tol=0.1; total time=   0.0s\n",
            "[CV] END activation=tanh, alpha=0.5, hidden_layer_sizes=(3,), learning_rate_init=0.2, max_iter=500, momentum=0.1, nesterovs_momentum=False, solver=sgd, tol=0.1; total time=   0.0s\n",
            "[CV] END activation=tanh, alpha=0.5, hidden_layer_sizes=(3,), learning_rate_init=0.2, max_iter=500, momentum=0.1, nesterovs_momentum=False, solver=sgd, tol=0.1; total time=   0.0s\n",
            "[CV] END activation=tanh, alpha=0.5, hidden_layer_sizes=(3,), learning_rate_init=0.2, max_iter=500, momentum=0.1, nesterovs_momentum=False, solver=sgd, tol=0.1; total time=   0.0s\n",
            "[CV] END activation=tanh, alpha=0.5, hidden_layer_sizes=(3,), learning_rate_init=0.2, max_iter=500, momentum=0.1, nesterovs_momentum=False, solver=sgd, tol=0.1; total time=   0.0s\n",
            "[CV] END activation=tanh, alpha=0.5, hidden_layer_sizes=(3,), learning_rate_init=0.2, max_iter=500, momentum=0.1, nesterovs_momentum=False, solver=sgd, tol=0.1; total time=   0.0s\n",
            "[CV] END activation=tanh, alpha=0.3, hidden_layer_sizes=(4,), learning_rate_init=0.2, max_iter=500, momentum=0.1, nesterovs_momentum=False, solver=sgd, tol=0.1; total time=   0.0s\n",
            "[CV] END activation=tanh, alpha=0.3, hidden_layer_sizes=(4,), learning_rate_init=0.2, max_iter=500, momentum=0.1, nesterovs_momentum=False, solver=sgd, tol=0.1; total time=   0.0s\n",
            "[CV] END activation=tanh, alpha=0.3, hidden_layer_sizes=(4,), learning_rate_init=0.2, max_iter=500, momentum=0.1, nesterovs_momentum=False, solver=sgd, tol=0.1; total time=   0.0s\n",
            "[CV] END activation=tanh, alpha=0.3, hidden_layer_sizes=(4,), learning_rate_init=0.2, max_iter=500, momentum=0.1, nesterovs_momentum=False, solver=sgd, tol=0.1; total time=   0.0s\n",
            "[CV] END activation=tanh, alpha=0.3, hidden_layer_sizes=(4,), learning_rate_init=0.2, max_iter=500, momentum=0.1, nesterovs_momentum=False, solver=sgd, tol=0.1; total time=   0.0s\n",
            "[CV] END activation=tanh, alpha=0.7, hidden_layer_sizes=(4,), learning_rate_init=0.2, max_iter=500, momentum=0.1, nesterovs_momentum=False, solver=sgd, tol=0.1; total time=   0.0s\n",
            "[CV] END activation=tanh, alpha=0.7, hidden_layer_sizes=(4,), learning_rate_init=0.2, max_iter=500, momentum=0.1, nesterovs_momentum=False, solver=sgd, tol=0.1; total time=   0.0s\n",
            "[CV] END activation=tanh, alpha=0.7, hidden_layer_sizes=(4,), learning_rate_init=0.2, max_iter=500, momentum=0.1, nesterovs_momentum=False, solver=sgd, tol=0.1; total time=   0.0s\n",
            "[CV] END activation=tanh, alpha=0.7, hidden_layer_sizes=(4,), learning_rate_init=0.2, max_iter=500, momentum=0.1, nesterovs_momentum=False, solver=sgd, tol=0.1; total time=   0.0s\n",
            "[CV] END activation=tanh, alpha=0.7, hidden_layer_sizes=(4,), learning_rate_init=0.2, max_iter=500, momentum=0.1, nesterovs_momentum=False, solver=sgd, tol=0.1; total time=   0.0s\n",
            "[CV] END activation=tanh, alpha=0.5, hidden_layer_sizes=(2,), learning_rate_init=0.2, max_iter=500, momentum=0.2, nesterovs_momentum=False, solver=sgd, tol=0.1; total time=   0.0s\n",
            "[CV] END activation=tanh, alpha=0.5, hidden_layer_sizes=(2,), learning_rate_init=0.2, max_iter=500, momentum=0.2, nesterovs_momentum=False, solver=sgd, tol=0.1; total time=   0.0s\n",
            "[CV] END activation=tanh, alpha=0.5, hidden_layer_sizes=(2,), learning_rate_init=0.2, max_iter=500, momentum=0.2, nesterovs_momentum=False, solver=sgd, tol=0.1; total time=   0.0s\n",
            "[CV] END activation=tanh, alpha=0.5, hidden_layer_sizes=(2,), learning_rate_init=0.2, max_iter=500, momentum=0.2, nesterovs_momentum=False, solver=sgd, tol=0.1; total time=   0.0s\n",
            "[CV] END activation=tanh, alpha=0.5, hidden_layer_sizes=(2,), learning_rate_init=0.2, max_iter=500, momentum=0.2, nesterovs_momentum=False, solver=sgd, tol=0.1; total time=   0.0s\n",
            "[CV] END activation=tanh, alpha=0.4, hidden_layer_sizes=(3,), learning_rate_init=0.2, max_iter=500, momentum=0.2, nesterovs_momentum=False, solver=sgd, tol=0.1; total time=   0.0s\n",
            "[CV] END activation=tanh, alpha=0.4, hidden_layer_sizes=(3,), learning_rate_init=0.2, max_iter=500, momentum=0.2, nesterovs_momentum=False, solver=sgd, tol=0.1; total time=   0.0s\n",
            "[CV] END activation=tanh, alpha=0.4, hidden_layer_sizes=(3,), learning_rate_init=0.2, max_iter=500, momentum=0.2, nesterovs_momentum=False, solver=sgd, tol=0.1; total time=   0.0s\n",
            "[CV] END activation=tanh, alpha=0.4, hidden_layer_sizes=(3,), learning_rate_init=0.2, max_iter=500, momentum=0.2, nesterovs_momentum=False, solver=sgd, tol=0.1; total time=   0.0s\n",
            "[CV] END activation=tanh, alpha=0.4, hidden_layer_sizes=(3,), learning_rate_init=0.2, max_iter=500, momentum=0.2, nesterovs_momentum=False, solver=sgd, tol=0.1; total time=   0.0s\n",
            "[CV] END activation=tanh, alpha=0.4, hidden_layer_sizes=(2,), learning_rate_init=0.2, max_iter=500, momentum=0.2, nesterovs_momentum=False, solver=sgd, tol=0.1; total time=   0.0s\n",
            "[CV] END activation=tanh, alpha=0.4, hidden_layer_sizes=(2,), learning_rate_init=0.2, max_iter=500, momentum=0.2, nesterovs_momentum=False, solver=sgd, tol=0.1; total time=   0.0s\n",
            "[CV] END activation=tanh, alpha=0.4, hidden_layer_sizes=(2,), learning_rate_init=0.2, max_iter=500, momentum=0.2, nesterovs_momentum=False, solver=sgd, tol=0.1; total time=   0.0s\n",
            "[CV] END activation=tanh, alpha=0.4, hidden_layer_sizes=(2,), learning_rate_init=0.2, max_iter=500, momentum=0.2, nesterovs_momentum=False, solver=sgd, tol=0.1; total time=   0.0s\n",
            "[CV] END activation=tanh, alpha=0.4, hidden_layer_sizes=(2,), learning_rate_init=0.2, max_iter=500, momentum=0.2, nesterovs_momentum=False, solver=sgd, tol=0.1; total time=   0.0s\n",
            "[CV] END activation=tanh, alpha=0.6, hidden_layer_sizes=(3,), learning_rate_init=0.2, max_iter=500, momentum=0.1, nesterovs_momentum=False, solver=sgd, tol=0.1; total time=   0.0s\n",
            "[CV] END activation=tanh, alpha=0.6, hidden_layer_sizes=(3,), learning_rate_init=0.2, max_iter=500, momentum=0.1, nesterovs_momentum=False, solver=sgd, tol=0.1; total time=   0.0s\n",
            "[CV] END activation=tanh, alpha=0.6, hidden_layer_sizes=(3,), learning_rate_init=0.2, max_iter=500, momentum=0.1, nesterovs_momentum=False, solver=sgd, tol=0.1; total time=   0.0s\n",
            "[CV] END activation=tanh, alpha=0.6, hidden_layer_sizes=(3,), learning_rate_init=0.2, max_iter=500, momentum=0.1, nesterovs_momentum=False, solver=sgd, tol=0.1; total time=   0.0s\n",
            "[CV] END activation=tanh, alpha=0.6, hidden_layer_sizes=(3,), learning_rate_init=0.2, max_iter=500, momentum=0.1, nesterovs_momentum=False, solver=sgd, tol=0.1; total time=   0.0s\n",
            "[CV] END activation=tanh, alpha=0.4, hidden_layer_sizes=(4,), learning_rate_init=0.2, max_iter=500, momentum=0.1, nesterovs_momentum=False, solver=sgd, tol=0.1; total time=   0.0s\n",
            "[CV] END activation=tanh, alpha=0.4, hidden_layer_sizes=(4,), learning_rate_init=0.2, max_iter=500, momentum=0.1, nesterovs_momentum=False, solver=sgd, tol=0.1; total time=   0.0s\n",
            "[CV] END activation=tanh, alpha=0.4, hidden_layer_sizes=(4,), learning_rate_init=0.2, max_iter=500, momentum=0.1, nesterovs_momentum=False, solver=sgd, tol=0.1; total time=   0.0s\n",
            "[CV] END activation=tanh, alpha=0.4, hidden_layer_sizes=(4,), learning_rate_init=0.2, max_iter=500, momentum=0.1, nesterovs_momentum=False, solver=sgd, tol=0.1; total time=   0.0s\n",
            "[CV] END activation=tanh, alpha=0.4, hidden_layer_sizes=(4,), learning_rate_init=0.2, max_iter=500, momentum=0.1, nesterovs_momentum=False, solver=sgd, tol=0.1; total time=   0.0s\n",
            "[CV] END activation=tanh, alpha=0.6, hidden_layer_sizes=(5,), learning_rate_init=0.2, max_iter=500, momentum=0.1, nesterovs_momentum=False, solver=sgd, tol=0.1; total time=   0.0s\n",
            "[CV] END activation=tanh, alpha=0.6, hidden_layer_sizes=(5,), learning_rate_init=0.2, max_iter=500, momentum=0.1, nesterovs_momentum=False, solver=sgd, tol=0.1; total time=   0.0s\n",
            "[CV] END activation=tanh, alpha=0.6, hidden_layer_sizes=(5,), learning_rate_init=0.2, max_iter=500, momentum=0.1, nesterovs_momentum=False, solver=sgd, tol=0.1; total time=   0.0s\n",
            "[CV] END activation=tanh, alpha=0.6, hidden_layer_sizes=(5,), learning_rate_init=0.2, max_iter=500, momentum=0.1, nesterovs_momentum=False, solver=sgd, tol=0.1; total time=   0.0s\n",
            "[CV] END activation=tanh, alpha=0.6, hidden_layer_sizes=(5,), learning_rate_init=0.2, max_iter=500, momentum=0.1, nesterovs_momentum=False, solver=sgd, tol=0.1; total time=   0.0s\n",
            "Train Accuracy: 0.7551020408163265\n",
            "Validation Accuracy: 0.75\n",
            "Best Parameters: {'tol': 0.1, 'solver': 'sgd', 'nesterovs_momentum': False, 'momentum': 0.2, 'max_iter': 500, 'learning_rate_init': 0.2, 'hidden_layer_sizes': (3,), 'alpha': 0.4, 'activation': 'tanh'}\n",
            "Fitting 5 folds for each of 10 candidates, totalling 50 fits\n",
            "[CV] END activation=tanh, alpha=0.4, hidden_layer_sizes=(4,), learning_rate_init=0.2, max_iter=500, momentum=0.2, nesterovs_momentum=False, solver=sgd, tol=0.1; total time=   0.0s\n",
            "[CV] END activation=tanh, alpha=0.4, hidden_layer_sizes=(4,), learning_rate_init=0.2, max_iter=500, momentum=0.2, nesterovs_momentum=False, solver=sgd, tol=0.1; total time=   0.0s\n",
            "[CV] END activation=tanh, alpha=0.4, hidden_layer_sizes=(4,), learning_rate_init=0.2, max_iter=500, momentum=0.2, nesterovs_momentum=False, solver=sgd, tol=0.1; total time=   0.0s\n",
            "[CV] END activation=tanh, alpha=0.4, hidden_layer_sizes=(4,), learning_rate_init=0.2, max_iter=500, momentum=0.2, nesterovs_momentum=False, solver=sgd, tol=0.1; total time=   0.0s\n",
            "[CV] END activation=tanh, alpha=0.4, hidden_layer_sizes=(4,), learning_rate_init=0.2, max_iter=500, momentum=0.2, nesterovs_momentum=False, solver=sgd, tol=0.1; total time=   0.0s\n",
            "[CV] END activation=tanh, alpha=0.4, hidden_layer_sizes=(4,), learning_rate_init=0.2, max_iter=500, momentum=0.1, nesterovs_momentum=False, solver=sgd, tol=0.1; total time=   0.0s\n",
            "[CV] END activation=tanh, alpha=0.4, hidden_layer_sizes=(4,), learning_rate_init=0.2, max_iter=500, momentum=0.1, nesterovs_momentum=False, solver=sgd, tol=0.1; total time=   0.0s\n",
            "[CV] END activation=tanh, alpha=0.4, hidden_layer_sizes=(4,), learning_rate_init=0.2, max_iter=500, momentum=0.1, nesterovs_momentum=False, solver=sgd, tol=0.1; total time=   0.0s\n",
            "[CV] END activation=tanh, alpha=0.4, hidden_layer_sizes=(4,), learning_rate_init=0.2, max_iter=500, momentum=0.1, nesterovs_momentum=False, solver=sgd, tol=0.1; total time=   0.0s\n",
            "[CV] END activation=tanh, alpha=0.4, hidden_layer_sizes=(4,), learning_rate_init=0.2, max_iter=500, momentum=0.1, nesterovs_momentum=False, solver=sgd, tol=0.1; total time=   0.0s\n",
            "[CV] END activation=tanh, alpha=0.7, hidden_layer_sizes=(5,), learning_rate_init=0.2, max_iter=500, momentum=0.2, nesterovs_momentum=False, solver=sgd, tol=0.1; total time=   0.0s\n",
            "[CV] END activation=tanh, alpha=0.7, hidden_layer_sizes=(5,), learning_rate_init=0.2, max_iter=500, momentum=0.2, nesterovs_momentum=False, solver=sgd, tol=0.1; total time=   0.0s\n",
            "[CV] END activation=tanh, alpha=0.7, hidden_layer_sizes=(5,), learning_rate_init=0.2, max_iter=500, momentum=0.2, nesterovs_momentum=False, solver=sgd, tol=0.1; total time=   0.0s\n",
            "[CV] END activation=tanh, alpha=0.7, hidden_layer_sizes=(5,), learning_rate_init=0.2, max_iter=500, momentum=0.2, nesterovs_momentum=False, solver=sgd, tol=0.1; total time=   0.0s\n",
            "[CV] END activation=tanh, alpha=0.7, hidden_layer_sizes=(5,), learning_rate_init=0.2, max_iter=500, momentum=0.2, nesterovs_momentum=False, solver=sgd, tol=0.1; total time=   0.0s\n",
            "[CV] END activation=tanh, alpha=0.7, hidden_layer_sizes=(3,), learning_rate_init=0.2, max_iter=500, momentum=0.1, nesterovs_momentum=False, solver=sgd, tol=0.1; total time=   0.0s\n",
            "[CV] END activation=tanh, alpha=0.7, hidden_layer_sizes=(3,), learning_rate_init=0.2, max_iter=500, momentum=0.1, nesterovs_momentum=False, solver=sgd, tol=0.1; total time=   0.0s\n",
            "[CV] END activation=tanh, alpha=0.7, hidden_layer_sizes=(3,), learning_rate_init=0.2, max_iter=500, momentum=0.1, nesterovs_momentum=False, solver=sgd, tol=0.1; total time=   0.0s\n",
            "[CV] END activation=tanh, alpha=0.7, hidden_layer_sizes=(3,), learning_rate_init=0.2, max_iter=500, momentum=0.1, nesterovs_momentum=False, solver=sgd, tol=0.1; total time=   0.0s\n",
            "[CV] END activation=tanh, alpha=0.7, hidden_layer_sizes=(3,), learning_rate_init=0.2, max_iter=500, momentum=0.1, nesterovs_momentum=False, solver=sgd, tol=0.1; total time=   0.0s\n",
            "[CV] END activation=tanh, alpha=0.3, hidden_layer_sizes=(4,), learning_rate_init=0.2, max_iter=500, momentum=0.2, nesterovs_momentum=False, solver=sgd, tol=0.1; total time=   0.0s\n",
            "[CV] END activation=tanh, alpha=0.3, hidden_layer_sizes=(4,), learning_rate_init=0.2, max_iter=500, momentum=0.2, nesterovs_momentum=False, solver=sgd, tol=0.1; total time=   0.0s\n",
            "[CV] END activation=tanh, alpha=0.3, hidden_layer_sizes=(4,), learning_rate_init=0.2, max_iter=500, momentum=0.2, nesterovs_momentum=False, solver=sgd, tol=0.1; total time=   0.0s\n",
            "[CV] END activation=tanh, alpha=0.3, hidden_layer_sizes=(4,), learning_rate_init=0.2, max_iter=500, momentum=0.2, nesterovs_momentum=False, solver=sgd, tol=0.1; total time=   0.0s\n",
            "[CV] END activation=tanh, alpha=0.3, hidden_layer_sizes=(4,), learning_rate_init=0.2, max_iter=500, momentum=0.2, nesterovs_momentum=False, solver=sgd, tol=0.1; total time=   0.0s\n",
            "[CV] END activation=tanh, alpha=0.4, hidden_layer_sizes=(5,), learning_rate_init=0.2, max_iter=500, momentum=0.1, nesterovs_momentum=False, solver=sgd, tol=0.1; total time=   0.0s\n",
            "[CV] END activation=tanh, alpha=0.4, hidden_layer_sizes=(5,), learning_rate_init=0.2, max_iter=500, momentum=0.1, nesterovs_momentum=False, solver=sgd, tol=0.1; total time=   0.0s\n",
            "[CV] END activation=tanh, alpha=0.4, hidden_layer_sizes=(5,), learning_rate_init=0.2, max_iter=500, momentum=0.1, nesterovs_momentum=False, solver=sgd, tol=0.1; total time=   0.0s\n",
            "[CV] END activation=tanh, alpha=0.4, hidden_layer_sizes=(5,), learning_rate_init=0.2, max_iter=500, momentum=0.1, nesterovs_momentum=False, solver=sgd, tol=0.1; total time=   0.0s\n",
            "[CV] END activation=tanh, alpha=0.4, hidden_layer_sizes=(5,), learning_rate_init=0.2, max_iter=500, momentum=0.1, nesterovs_momentum=False, solver=sgd, tol=0.1; total time=   0.0s\n",
            "[CV] END activation=tanh, alpha=0.6, hidden_layer_sizes=(3,), learning_rate_init=0.2, max_iter=500, momentum=0.2, nesterovs_momentum=False, solver=sgd, tol=0.1; total time=   0.0s\n",
            "[CV] END activation=tanh, alpha=0.6, hidden_layer_sizes=(3,), learning_rate_init=0.2, max_iter=500, momentum=0.2, nesterovs_momentum=False, solver=sgd, tol=0.1; total time=   0.0s\n",
            "[CV] END activation=tanh, alpha=0.6, hidden_layer_sizes=(3,), learning_rate_init=0.2, max_iter=500, momentum=0.2, nesterovs_momentum=False, solver=sgd, tol=0.1; total time=   0.0s\n",
            "[CV] END activation=tanh, alpha=0.6, hidden_layer_sizes=(3,), learning_rate_init=0.2, max_iter=500, momentum=0.2, nesterovs_momentum=False, solver=sgd, tol=0.1; total time=   0.0s\n",
            "[CV] END activation=tanh, alpha=0.6, hidden_layer_sizes=(3,), learning_rate_init=0.2, max_iter=500, momentum=0.2, nesterovs_momentum=False, solver=sgd, tol=0.1; total time=   0.0s\n",
            "[CV] END activation=tanh, alpha=0.6, hidden_layer_sizes=(5,), learning_rate_init=0.2, max_iter=500, momentum=0.2, nesterovs_momentum=False, solver=sgd, tol=0.1; total time=   0.0s\n",
            "[CV] END activation=tanh, alpha=0.6, hidden_layer_sizes=(5,), learning_rate_init=0.2, max_iter=500, momentum=0.2, nesterovs_momentum=False, solver=sgd, tol=0.1; total time=   0.0s\n",
            "[CV] END activation=tanh, alpha=0.6, hidden_layer_sizes=(5,), learning_rate_init=0.2, max_iter=500, momentum=0.2, nesterovs_momentum=False, solver=sgd, tol=0.1; total time=   0.0s\n",
            "[CV] END activation=tanh, alpha=0.6, hidden_layer_sizes=(5,), learning_rate_init=0.2, max_iter=500, momentum=0.2, nesterovs_momentum=False, solver=sgd, tol=0.1; total time=   0.0s\n",
            "[CV] END activation=tanh, alpha=0.6, hidden_layer_sizes=(5,), learning_rate_init=0.2, max_iter=500, momentum=0.2, nesterovs_momentum=False, solver=sgd, tol=0.1; total time=   0.0s\n",
            "[CV] END activation=tanh, alpha=0.3, hidden_layer_sizes=(3,), learning_rate_init=0.2, max_iter=500, momentum=0.1, nesterovs_momentum=False, solver=sgd, tol=0.1; total time=   0.0s\n",
            "[CV] END activation=tanh, alpha=0.3, hidden_layer_sizes=(3,), learning_rate_init=0.2, max_iter=500, momentum=0.1, nesterovs_momentum=False, solver=sgd, tol=0.1; total time=   0.0s\n",
            "[CV] END activation=tanh, alpha=0.3, hidden_layer_sizes=(3,), learning_rate_init=0.2, max_iter=500, momentum=0.1, nesterovs_momentum=False, solver=sgd, tol=0.1; total time=   0.0s\n",
            "[CV] END activation=tanh, alpha=0.3, hidden_layer_sizes=(3,), learning_rate_init=0.2, max_iter=500, momentum=0.1, nesterovs_momentum=False, solver=sgd, tol=0.1; total time=   0.0s\n",
            "[CV] END activation=tanh, alpha=0.3, hidden_layer_sizes=(3,), learning_rate_init=0.2, max_iter=500, momentum=0.1, nesterovs_momentum=False, solver=sgd, tol=0.1; total time=   0.0s\n",
            "[CV] END activation=tanh, alpha=0.6, hidden_layer_sizes=(5,), learning_rate_init=0.2, max_iter=500, momentum=0.1, nesterovs_momentum=False, solver=sgd, tol=0.1; total time=   0.0s\n",
            "[CV] END activation=tanh, alpha=0.6, hidden_layer_sizes=(5,), learning_rate_init=0.2, max_iter=500, momentum=0.1, nesterovs_momentum=False, solver=sgd, tol=0.1; total time=   0.0s\n",
            "[CV] END activation=tanh, alpha=0.6, hidden_layer_sizes=(5,), learning_rate_init=0.2, max_iter=500, momentum=0.1, nesterovs_momentum=False, solver=sgd, tol=0.1; total time=   0.0s\n",
            "[CV] END activation=tanh, alpha=0.6, hidden_layer_sizes=(5,), learning_rate_init=0.2, max_iter=500, momentum=0.1, nesterovs_momentum=False, solver=sgd, tol=0.1; total time=   0.0s\n",
            "[CV] END activation=tanh, alpha=0.6, hidden_layer_sizes=(5,), learning_rate_init=0.2, max_iter=500, momentum=0.1, nesterovs_momentum=False, solver=sgd, tol=0.1; total time=   0.0s\n",
            "Train Accuracy: 0.7755102040816326\n",
            "Validation Accuracy: 0.6666666666666666\n",
            "Best Parameters: {'tol': 0.1, 'solver': 'sgd', 'nesterovs_momentum': False, 'momentum': 0.2, 'max_iter': 500, 'learning_rate_init': 0.2, 'hidden_layer_sizes': (5,), 'alpha': 0.7, 'activation': 'tanh'}\n"
          ]
        }
      ]
    },
    {
      "cell_type": "code",
      "source": [
        "x_train, x_valid, y_train, y_valid = train_test_split(x_train, y_train, test_size=0.1, random_state=42)\n",
        "\n",
        "mlp_best = MLPClassifier(**best_params, random_state=41)\n",
        "\n",
        "# Lists to store accuracies and losses for each epoch in this fold\n",
        "fold_train_accuracies = []\n",
        "fold_val_accuracies = []\n",
        "fold_train_losses = []\n",
        "fold_val_losses = []\n",
        "\n",
        "# Train the model for a fixed number of epochs\n",
        "epochs = 340\n",
        "for epoch in range(1, epochs + 1):\n",
        "    # Fit the model for one epoch\n",
        "    mlp_best.fit(x_train, y_train)\n",
        "\n",
        "    # Predictions on training and validation sets\n",
        "    y_train_pred = mlp_best.predict(x_train)\n",
        "    y_val_pred = mlp_best.predict(x_valid)\n",
        "\n",
        "    # Compute training and validation accuracy\n",
        "    train_accuracy = accuracy_score(y_train, y_train_pred)\n",
        "    val_accuracy = accuracy_score(y_valid, y_val_pred)\n",
        "\n",
        "    # Compute Mean Squared Error (MSE) for training and validation sets\n",
        "    train_error = mean_squared_error(y_train, y_train_pred)\n",
        "    val_error = mean_squared_error(y_valid, y_val_pred)\n",
        "\n",
        "    # Store accuracies and errors for each epoch\n",
        "    fold_train_accuracies.append(train_accuracy)\n",
        "    fold_val_accuracies.append(val_accuracy)\n",
        "    fold_train_losses.append(train_error)\n",
        "    fold_val_losses.append(val_error)\n",
        "\n",
        "# Store fold-wise accuracies and losses\n",
        "train_accuracies.append(fold_train_accuracies)\n",
        "val_accuracies.append(fold_val_accuracies)\n",
        "train_losses.append(fold_train_losses)\n",
        "val_losses.append(fold_val_losses)\n",
        "\n",
        "# Calculate mean and standard deviation for training and validation accuracies and losses\n",
        "mean_train_accuracies = np.mean(train_accuracies, axis=0)\n",
        "std_train_accuracies = np.std(train_accuracies, axis=0)\n",
        "mean_val_accuracies = np.mean(val_accuracies, axis=0)\n",
        "std_val_accuracies = np.std(val_accuracies, axis=0)\n",
        "\n",
        "mean_train_losses = np.mean(train_losses, axis=0)\n",
        "std_train_losses = np.std(train_losses, axis=0)\n",
        "mean_val_losses = np.mean(val_losses, axis=0)\n",
        "std_val_losses = np.std(val_losses, axis=0)\n",
        "\n",
        "# Plot learning curves\n",
        "plt.figure(figsize=(12, 6))\n",
        "\n",
        "# Plotting accuracies\n",
        "plt.subplot(1, 2, 1)\n",
        "plt.plot(range(1, epochs + 1), mean_train_accuracies, label='Training Accuracy')\n",
        "plt.fill_between(range(1, epochs + 1), mean_train_accuracies - std_train_accuracies,\n",
        "                 mean_train_accuracies + std_train_accuracies, alpha=0.1)\n",
        "plt.plot(range(1, epochs + 1), mean_val_accuracies, label='Validation Accuracy')\n",
        "plt.fill_between(range(1, epochs + 1), mean_val_accuracies - std_val_accuracies,\n",
        "                 mean_val_accuracies + std_val_accuracies, alpha=0.1)\n",
        "plt.title('Training and Validation Accuracies')\n",
        "plt.xlabel('Epochs')\n",
        "plt.ylabel('Accuracy')\n",
        "plt.legend()\n",
        "\n",
        "# Plotting losses\n",
        "plt.subplot(1, 2, 2)\n",
        "plt.plot(range(1, epochs + 1), mean_train_losses, label='Training Loss')\n",
        "plt.fill_between(range(1, epochs + 1), mean_train_losses - std_train_losses,\n",
        "                 mean_train_losses + std_train_losses, alpha=0.1)\n",
        "plt.plot(range(1, epochs + 1), mean_val_losses, label='Validation Loss')\n",
        "plt.fill_between(range(1, epochs + 1), mean_val_losses - std_val_losses,\n",
        "                 mean_val_losses + std_val_losses, alpha=0.1)\n",
        "plt.title('Training and Validation Losses')\n",
        "plt.xlabel('Epochs')\n",
        "plt.ylabel('Loss')\n",
        "plt.legend()\n",
        "plt.plot\n",
        "\n",
        "# Print final retraining metrics\n",
        "print(\"\\nFinal Retraining Metrics:\")\n",
        "print(\"Mean Training Accuracy: \", np.mean(mean_train_accuracies))\n",
        "print(\"Mean Validation Accuracy: \", np.mean(mean_val_accuracies))\n",
        "print(\"Mean Training Loss: \", np.mean(mean_train_losses))\n",
        "print(\"Mean Validation Loss: \", np.mean(mean_val_losses))\n"
      ],
      "metadata": {
        "colab": {
          "base_uri": "https://localhost:8080/",
          "height": 632
        },
        "id": "Hf0DzZxVct9f",
        "outputId": "fbbea8ef-643c-48c8-d91c-fa9264b79820"
      },
      "execution_count": null,
      "outputs": [
        {
          "output_type": "stream",
          "name": "stdout",
          "text": [
            "\n",
            "Final Retraining Metrics:\n",
            "Mean Training Accuracy:  0.9940015325302234\n",
            "Mean Validation Accuracy:  0.9932512844710076\n",
            "Mean Training Loss:  0.005998467469776581\n",
            "Mean Validation Loss:  0.006748715528992345\n"
          ]
        },
        {
          "output_type": "display_data",
          "data": {
            "text/plain": [
              "<Figure size 1200x600 with 2 Axes>"
            ],
            "image/png": "[encoded data removed]"
          },
          "metadata": {}
        }
      ]
    },
    {
      "cell_type": "code",
      "source": [
        "# Evaluate on the test set\n",
        "y_true, y_pred = y_test, mlp_best.predict(x_test)\n",
        "\n",
        "# Display results on the test set\n",
        "print('\\nResults on the test set:')\n",
        "print('Accuracy %s' % accuracy_score(y_test, y_pred))\n",
        "print('F1-score %s' % f1_score(y_test, y_pred, average=None))\n",
        "print(classification_report(y_true, y_pred))\n",
        "\n",
        "# Plot learning curves for accuracy and error on the test set\n",
        "test_accuracies = []\n",
        "test_errors = []\n",
        "\n",
        "# Compute accuracy and error on the entire test set\n",
        "test_accuracy = accuracy_score(y_test, y_pred)\n",
        "test_error = mean_squared_error(y_test, y_pred)\n",
        "\n",
        "# Store accuracy and error for the entire test set\n",
        "test_accuracies.append(test_accuracy)\n",
        "test_errors.append(test_error)\n"
      ],
      "metadata": {
        "colab": {
          "base_uri": "https://localhost:8080/"
        },
        "id": "UhW6a_DZzKzF",
        "outputId": "8b036a87-b47e-4d13-a8cb-6d18df31abb0"
      },
      "execution_count": null,
      "outputs": [
        {
          "output_type": "stream",
          "name": "stdout",
          "text": [
            "\n",
            "Results on the test set:\n",
            "Accuracy 1.0\n",
            "F1-score [1. 1.]\n",
            "              precision    recall  f1-score   support\n",
            "\n",
            "           0       1.00      1.00      1.00       290\n",
            "           1       1.00      1.00      1.00       142\n",
            "\n",
            "    accuracy                           1.00       432\n",
            "   macro avg       1.00      1.00      1.00       432\n",
            "weighted avg       1.00      1.00      1.00       432\n",
            "\n"
          ]
        }
      ]
    }
  ],
  "metadata": {
    "colab": {
      "provenance": [],
      "collapsed_sections": [
        "LYAXzZs0cECW",
        "t4-Bp8H5ZzkE"
      ]
    },
    "kernelspec": {
      "display_name": "Python 3",
      "name": "python3"
    },
    "language_info": {
      "name": "python"
    }
  },
  "nbformat": 4,
  "nbformat_minor": 0
}