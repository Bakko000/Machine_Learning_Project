{
  "nbformat": 4,
  "nbformat_minor": 0,
  "metadata": {
    "colab": {
      "provenance": []
    },
    "kernelspec": {
      "name": "python3",
      "display_name": "Python 3"
    },
    "language_info": {
      "name": "python"
    }
  },
  "cells": [
    {
      "cell_type": "code",
      "execution_count": 48,
      "metadata": {
        "id": "kB3ApQKz_xXO"
      },
      "outputs": [],
      "source": [
        "import numpy as np\n",
        "import pandas as pd\n",
        "import seaborn as sns\n",
        "import matplotlib.pyplot as plt\n",
        "from sklearn.preprocessing import StandardScaler\n",
        "from sklearn.metrics import r2_score, mean_squared_error, mean_absolute_error, make_scorer\n",
        "from sklearn.neighbors import KNeighborsRegressor\n",
        "from sklearn.utils import shuffle\n",
        "from sklearn.model_selection import train_test_split, cross_val_score, KFold, learning_curve, GridSearchCV, RandomizedSearchCV"
      ]
    },
    {
      "cell_type": "code",
      "source": [
        "# importing dataset\n",
        "from google.colab import files\n",
        "uploaded = files.upload()"
      ],
      "metadata": {
        "id": "_AakUqTqASiy",
        "colab": {
          "base_uri": "https://localhost:8080/",
          "height": 73
        },
        "outputId": "8396c304-6b23-4ce3-9d26-c358ea2ae64f"
      },
      "execution_count": 2,
      "outputs": [
        {
          "output_type": "display_data",
          "data": {
            "text/plain": [
              "<IPython.core.display.HTML object>"
            ],
            "text/html": [
              "\n",
              "     <input type=\"file\" id=\"files-adcd2d8e-9a27-448a-b839-0a313aa9cb24\" name=\"files[]\" multiple disabled\n",
              "        style=\"border:none\" />\n",
              "     <output id=\"result-adcd2d8e-9a27-448a-b839-0a313aa9cb24\">\n",
              "      Upload widget is only available when the cell has been executed in the\n",
              "      current browser session. Please rerun this cell to enable.\n",
              "      </output>\n",
              "      <script>// Copyright 2017 Google LLC\n",
              "//\n",
              "// Licensed under the Apache License, Version 2.0 (the \"License\");\n",
              "// you may not use this file except in compliance with the License.\n",
              "// You may obtain a copy of the License at\n",
              "//\n",
              "//      http://www.apache.org/licenses/LICENSE-2.0\n",
              "//\n",
              "// Unless required by applicable law or agreed to in writing, software\n",
              "// distributed under the License is distributed on an \"AS IS\" BASIS,\n",
              "// WITHOUT WARRANTIES OR CONDITIONS OF ANY KIND, either express or implied.\n",
              "// See the License for the specific language governing permissions and\n",
              "// limitations under the License.\n",
              "\n",
              "/**\n",
              " * @fileoverview Helpers for google.colab Python module.\n",
              " */\n",
              "(function(scope) {\n",
              "function span(text, styleAttributes = {}) {\n",
              "  const element = document.createElement('span');\n",
              "  element.textContent = text;\n",
              "  for (const key of Object.keys(styleAttributes)) {\n",
              "    element.style[key] = styleAttributes[key];\n",
              "  }\n",
              "  return element;\n",
              "}\n",
              "\n",
              "// Max number of bytes which will be uploaded at a time.\n",
              "const MAX_PAYLOAD_SIZE = 100 * 1024;\n",
              "\n",
              "function _uploadFiles(inputId, outputId) {\n",
              "  const steps = uploadFilesStep(inputId, outputId);\n",
              "  const outputElement = document.getElementById(outputId);\n",
              "  // Cache steps on the outputElement to make it available for the next call\n",
              "  // to uploadFilesContinue from Python.\n",
              "  outputElement.steps = steps;\n",
              "\n",
              "  return _uploadFilesContinue(outputId);\n",
              "}\n",
              "\n",
              "// This is roughly an async generator (not supported in the browser yet),\n",
              "// where there are multiple asynchronous steps and the Python side is going\n",
              "// to poll for completion of each step.\n",
              "// This uses a Promise to block the python side on completion of each step,\n",
              "// then passes the result of the previous step as the input to the next step.\n",
              "function _uploadFilesContinue(outputId) {\n",
              "  const outputElement = document.getElementById(outputId);\n",
              "  const steps = outputElement.steps;\n",
              "\n",
              "  const next = steps.next(outputElement.lastPromiseValue);\n",
              "  return Promise.resolve(next.value.promise).then((value) => {\n",
              "    // Cache the last promise value to make it available to the next\n",
              "    // step of the generator.\n",
              "    outputElement.lastPromiseValue = value;\n",
              "    return next.value.response;\n",
              "  });\n",
              "}\n",
              "\n",
              "/**\n",
              " * Generator function which is called between each async step of the upload\n",
              " * process.\n",
              " * @param {string} inputId Element ID of the input file picker element.\n",
              " * @param {string} outputId Element ID of the output display.\n",
              " * @return {!Iterable<!Object>} Iterable of next steps.\n",
              " */\n",
              "function* uploadFilesStep(inputId, outputId) {\n",
              "  const inputElement = document.getElementById(inputId);\n",
              "  inputElement.disabled = false;\n",
              "\n",
              "  const outputElement = document.getElementById(outputId);\n",
              "  outputElement.innerHTML = '';\n",
              "\n",
              "  const pickedPromise = new Promise((resolve) => {\n",
              "    inputElement.addEventListener('change', (e) => {\n",
              "      resolve(e.target.files);\n",
              "    });\n",
              "  });\n",
              "\n",
              "  const cancel = document.createElement('button');\n",
              "  inputElement.parentElement.appendChild(cancel);\n",
              "  cancel.textContent = 'Cancel upload';\n",
              "  const cancelPromise = new Promise((resolve) => {\n",
              "    cancel.onclick = () => {\n",
              "      resolve(null);\n",
              "    };\n",
              "  });\n",
              "\n",
              "  // Wait for the user to pick the files.\n",
              "  const files = yield {\n",
              "    promise: Promise.race([pickedPromise, cancelPromise]),\n",
              "    response: {\n",
              "      action: 'starting',\n",
              "    }\n",
              "  };\n",
              "\n",
              "  cancel.remove();\n",
              "\n",
              "  // Disable the input element since further picks are not allowed.\n",
              "  inputElement.disabled = true;\n",
              "\n",
              "  if (!files) {\n",
              "    return {\n",
              "      response: {\n",
              "        action: 'complete',\n",
              "      }\n",
              "    };\n",
              "  }\n",
              "\n",
              "  for (const file of files) {\n",
              "    const li = document.createElement('li');\n",
              "    li.append(span(file.name, {fontWeight: 'bold'}));\n",
              "    li.append(span(\n",
              "        `(${file.type || 'n/a'}) - ${file.size} bytes, ` +\n",
              "        `last modified: ${\n",
              "            file.lastModifiedDate ? file.lastModifiedDate.toLocaleDateString() :\n",
              "                                    'n/a'} - `));\n",
              "    const percent = span('0% done');\n",
              "    li.appendChild(percent);\n",
              "\n",
              "    outputElement.appendChild(li);\n",
              "\n",
              "    const fileDataPromise = new Promise((resolve) => {\n",
              "      const reader = new FileReader();\n",
              "      reader.onload = (e) => {\n",
              "        resolve(e.target.result);\n",
              "      };\n",
              "      reader.readAsArrayBuffer(file);\n",
              "    });\n",
              "    // Wait for the data to be ready.\n",
              "    let fileData = yield {\n",
              "      promise: fileDataPromise,\n",
              "      response: {\n",
              "        action: 'continue',\n",
              "      }\n",
              "    };\n",
              "\n",
              "    // Use a chunked sending to avoid message size limits. See b/62115660.\n",
              "    let position = 0;\n",
              "    do {\n",
              "      const length = Math.min(fileData.byteLength - position, MAX_PAYLOAD_SIZE);\n",
              "      const chunk = new Uint8Array(fileData, position, length);\n",
              "      position += length;\n",
              "\n",
              "      const base64 = btoa(String.fromCharCode.apply(null, chunk));\n",
              "      yield {\n",
              "        response: {\n",
              "          action: 'append',\n",
              "          file: file.name,\n",
              "          data: base64,\n",
              "        },\n",
              "      };\n",
              "\n",
              "      let percentDone = fileData.byteLength === 0 ?\n",
              "          100 :\n",
              "          Math.round((position / fileData.byteLength) * 100);\n",
              "      percent.textContent = `${percentDone}% done`;\n",
              "\n",
              "    } while (position < fileData.byteLength);\n",
              "  }\n",
              "\n",
              "  // All done.\n",
              "  yield {\n",
              "    response: {\n",
              "      action: 'complete',\n",
              "    }\n",
              "  };\n",
              "}\n",
              "\n",
              "scope.google = scope.google || {};\n",
              "scope.google.colab = scope.google.colab || {};\n",
              "scope.google.colab._files = {\n",
              "  _uploadFiles,\n",
              "  _uploadFilesContinue,\n",
              "};\n",
              "})(self);\n",
              "</script> "
            ]
          },
          "metadata": {}
        },
        {
          "output_type": "stream",
          "name": "stdout",
          "text": [
            "Saving ML-CUP23-TR.csv to ML-CUP23-TR.csv\n"
          ]
        }
      ]
    },
    {
      "cell_type": "code",
      "source": [
        "# importing dataset\n",
        "from google.colab import files\n",
        "uploaded1 = files.upload()"
      ],
      "metadata": {
        "id": "_Xzs3i-9AU_P",
        "colab": {
          "base_uri": "https://localhost:8080/",
          "height": 73
        },
        "outputId": "52909cbc-cd06-4b2a-f744-f3ccc8f1d021"
      },
      "execution_count": 3,
      "outputs": [
        {
          "output_type": "display_data",
          "data": {
            "text/plain": [
              "<IPython.core.display.HTML object>"
            ],
            "text/html": [
              "\n",
              "     <input type=\"file\" id=\"files-bc648490-b5f2-4921-8f12-baa20a93aaa8\" name=\"files[]\" multiple disabled\n",
              "        style=\"border:none\" />\n",
              "     <output id=\"result-bc648490-b5f2-4921-8f12-baa20a93aaa8\">\n",
              "      Upload widget is only available when the cell has been executed in the\n",
              "      current browser session. Please rerun this cell to enable.\n",
              "      </output>\n",
              "      <script>// Copyright 2017 Google LLC\n",
              "//\n",
              "// Licensed under the Apache License, Version 2.0 (the \"License\");\n",
              "// you may not use this file except in compliance with the License.\n",
              "// You may obtain a copy of the License at\n",
              "//\n",
              "//      http://www.apache.org/licenses/LICENSE-2.0\n",
              "//\n",
              "// Unless required by applicable law or agreed to in writing, software\n",
              "// distributed under the License is distributed on an \"AS IS\" BASIS,\n",
              "// WITHOUT WARRANTIES OR CONDITIONS OF ANY KIND, either express or implied.\n",
              "// See the License for the specific language governing permissions and\n",
              "// limitations under the License.\n",
              "\n",
              "/**\n",
              " * @fileoverview Helpers for google.colab Python module.\n",
              " */\n",
              "(function(scope) {\n",
              "function span(text, styleAttributes = {}) {\n",
              "  const element = document.createElement('span');\n",
              "  element.textContent = text;\n",
              "  for (const key of Object.keys(styleAttributes)) {\n",
              "    element.style[key] = styleAttributes[key];\n",
              "  }\n",
              "  return element;\n",
              "}\n",
              "\n",
              "// Max number of bytes which will be uploaded at a time.\n",
              "const MAX_PAYLOAD_SIZE = 100 * 1024;\n",
              "\n",
              "function _uploadFiles(inputId, outputId) {\n",
              "  const steps = uploadFilesStep(inputId, outputId);\n",
              "  const outputElement = document.getElementById(outputId);\n",
              "  // Cache steps on the outputElement to make it available for the next call\n",
              "  // to uploadFilesContinue from Python.\n",
              "  outputElement.steps = steps;\n",
              "\n",
              "  return _uploadFilesContinue(outputId);\n",
              "}\n",
              "\n",
              "// This is roughly an async generator (not supported in the browser yet),\n",
              "// where there are multiple asynchronous steps and the Python side is going\n",
              "// to poll for completion of each step.\n",
              "// This uses a Promise to block the python side on completion of each step,\n",
              "// then passes the result of the previous step as the input to the next step.\n",
              "function _uploadFilesContinue(outputId) {\n",
              "  const outputElement = document.getElementById(outputId);\n",
              "  const steps = outputElement.steps;\n",
              "\n",
              "  const next = steps.next(outputElement.lastPromiseValue);\n",
              "  return Promise.resolve(next.value.promise).then((value) => {\n",
              "    // Cache the last promise value to make it available to the next\n",
              "    // step of the generator.\n",
              "    outputElement.lastPromiseValue = value;\n",
              "    return next.value.response;\n",
              "  });\n",
              "}\n",
              "\n",
              "/**\n",
              " * Generator function which is called between each async step of the upload\n",
              " * process.\n",
              " * @param {string} inputId Element ID of the input file picker element.\n",
              " * @param {string} outputId Element ID of the output display.\n",
              " * @return {!Iterable<!Object>} Iterable of next steps.\n",
              " */\n",
              "function* uploadFilesStep(inputId, outputId) {\n",
              "  const inputElement = document.getElementById(inputId);\n",
              "  inputElement.disabled = false;\n",
              "\n",
              "  const outputElement = document.getElementById(outputId);\n",
              "  outputElement.innerHTML = '';\n",
              "\n",
              "  const pickedPromise = new Promise((resolve) => {\n",
              "    inputElement.addEventListener('change', (e) => {\n",
              "      resolve(e.target.files);\n",
              "    });\n",
              "  });\n",
              "\n",
              "  const cancel = document.createElement('button');\n",
              "  inputElement.parentElement.appendChild(cancel);\n",
              "  cancel.textContent = 'Cancel upload';\n",
              "  const cancelPromise = new Promise((resolve) => {\n",
              "    cancel.onclick = () => {\n",
              "      resolve(null);\n",
              "    };\n",
              "  });\n",
              "\n",
              "  // Wait for the user to pick the files.\n",
              "  const files = yield {\n",
              "    promise: Promise.race([pickedPromise, cancelPromise]),\n",
              "    response: {\n",
              "      action: 'starting',\n",
              "    }\n",
              "  };\n",
              "\n",
              "  cancel.remove();\n",
              "\n",
              "  // Disable the input element since further picks are not allowed.\n",
              "  inputElement.disabled = true;\n",
              "\n",
              "  if (!files) {\n",
              "    return {\n",
              "      response: {\n",
              "        action: 'complete',\n",
              "      }\n",
              "    };\n",
              "  }\n",
              "\n",
              "  for (const file of files) {\n",
              "    const li = document.createElement('li');\n",
              "    li.append(span(file.name, {fontWeight: 'bold'}));\n",
              "    li.append(span(\n",
              "        `(${file.type || 'n/a'}) - ${file.size} bytes, ` +\n",
              "        `last modified: ${\n",
              "            file.lastModifiedDate ? file.lastModifiedDate.toLocaleDateString() :\n",
              "                                    'n/a'} - `));\n",
              "    const percent = span('0% done');\n",
              "    li.appendChild(percent);\n",
              "\n",
              "    outputElement.appendChild(li);\n",
              "\n",
              "    const fileDataPromise = new Promise((resolve) => {\n",
              "      const reader = new FileReader();\n",
              "      reader.onload = (e) => {\n",
              "        resolve(e.target.result);\n",
              "      };\n",
              "      reader.readAsArrayBuffer(file);\n",
              "    });\n",
              "    // Wait for the data to be ready.\n",
              "    let fileData = yield {\n",
              "      promise: fileDataPromise,\n",
              "      response: {\n",
              "        action: 'continue',\n",
              "      }\n",
              "    };\n",
              "\n",
              "    // Use a chunked sending to avoid message size limits. See b/62115660.\n",
              "    let position = 0;\n",
              "    do {\n",
              "      const length = Math.min(fileData.byteLength - position, MAX_PAYLOAD_SIZE);\n",
              "      const chunk = new Uint8Array(fileData, position, length);\n",
              "      position += length;\n",
              "\n",
              "      const base64 = btoa(String.fromCharCode.apply(null, chunk));\n",
              "      yield {\n",
              "        response: {\n",
              "          action: 'append',\n",
              "          file: file.name,\n",
              "          data: base64,\n",
              "        },\n",
              "      };\n",
              "\n",
              "      let percentDone = fileData.byteLength === 0 ?\n",
              "          100 :\n",
              "          Math.round((position / fileData.byteLength) * 100);\n",
              "      percent.textContent = `${percentDone}% done`;\n",
              "\n",
              "    } while (position < fileData.byteLength);\n",
              "  }\n",
              "\n",
              "  // All done.\n",
              "  yield {\n",
              "    response: {\n",
              "      action: 'complete',\n",
              "    }\n",
              "  };\n",
              "}\n",
              "\n",
              "scope.google = scope.google || {};\n",
              "scope.google.colab = scope.google.colab || {};\n",
              "scope.google.colab._files = {\n",
              "  _uploadFiles,\n",
              "  _uploadFilesContinue,\n",
              "};\n",
              "})(self);\n",
              "</script> "
            ]
          },
          "metadata": {}
        },
        {
          "output_type": "stream",
          "name": "stdout",
          "text": [
            "Saving ML-CUP23-TS.csv to ML-CUP23-TS.csv\n"
          ]
        }
      ]
    },
    {
      "cell_type": "code",
      "source": [
        "import io\n",
        "df_traincup = pd.read_csv(io.BytesIO(uploaded['ML-CUP23-TR.csv']), names=['id', 'col1', 'col2', 'col3', 'col4', 'col5', 'col6', 'col7', 'col8', 'col9', 'col10', 'target_x', 'target_y', 'target_z'], delimiter=',')"
      ],
      "metadata": {
        "id": "-nNWOw7HAVWI"
      },
      "execution_count": 23,
      "outputs": []
    },
    {
      "cell_type": "code",
      "source": [
        "import io\n",
        "df_testcup = pd.read_csv(io.BytesIO(uploaded1['ML-CUP23-TS.csv']), names=['id', 'col1', 'col2', 'col3', 'col4', 'col5', 'col6', 'col7', 'col8', 'col9', 'col10', 'target_x', 'target_y', 'target_z'], delimiter=',')"
      ],
      "metadata": {
        "id": "xKzce91xAWrT"
      },
      "execution_count": 24,
      "outputs": []
    },
    {
      "cell_type": "code",
      "source": [
        "def split_data(data: pd.DataFrame, cols_name_split: list, rows_split_perc=1):\n",
        "  '''\n",
        "      It makes the split of the columns passed in \\\"cols_name_split\\\" and the split of the rows based on the \\\n",
        "      percentage \\\"rows_split_perc\\\".\\n\n",
        "      If \\\"cols_name_split\\\" = [] -> the method returns: (data, None).\\n\n",
        "      else -> (data_splitted_x, data_splitted_y) with rows_split_perc=1 \\\n",
        "          or (data_splitted_x_train, data_splitted_y_train, data_splitted_x_val, data_splitted_y_val) with rows_split_perc!=1.\\n\n",
        "      So this method makes split on columns or on rows (or both).\\n\\n\n",
        "      Returns a tuple of two new DataFrames: (x,y).\\n\n",
        "      - x: is like \\\"df\\\" without the columns specified in the list \\\"cols_name_split\\\".\\n\n",
        "      - y: are the columns indentified by the list \\\"cols_name_split\\\".\\n\n",
        "      or a tuple of this format (x_train, y_train, x_val, y_val) with:\n",
        "      - x_train: is like \\\"df\\\" without the columns specified in the list \\\"cols_name_split\\\".\\n\n",
        "      - y_train: are the columns indentified by the list \\\"cols_name_split\\\" used for Training.\\n\n",
        "      - x_val: is like \\\"df\\\" without the columns specified in the list \\\"cols_name_split\\\".\\n\n",
        "      - y_val: are the columns indentified by the list \\\"cols_name_split\\\" used for Validation.\\n\\n\n",
        "      The parameters are:\\n\n",
        "      - df: the input DataFrame.\\n\n",
        "      - cols_name_split: list of names of target columns.\\n\n",
        "      - rows_split_perc: percentage of the data to split for Training, and so the 1-rows_split_perc percentage for Validation.\n",
        "  '''\n",
        "  # Case of no columns split\n",
        "  if cols_name_split == []:\n",
        "      # Case of rows split\n",
        "      if rows_split_perc != 1:\n",
        "          return np.split(data, [int(data.shape[0] * rows_split_perc)], axis=0)\n",
        "      # Case of no rows and no columns split\n",
        "      else:\n",
        "          raise ValueError\n",
        "\n",
        "  # Columns split\n",
        "  y = data[cols_name_split].copy(deep=True)\n",
        "  x = data.drop(columns=cols_name_split,axis=1).copy(deep=True)\n",
        "\n",
        "  # Case of only columns split\n",
        "  if rows_split_perc == 1:\n",
        "      return x, y\n",
        "\n",
        "  # Case of both splits (rows split and columns split)\n",
        "  else:\n",
        "      #x_train = x[:int(x.shape[0] * rows_split_perc), :]\n",
        "      #x_val = x[int(x.shape[0] * rows_split_perc):, :]\n",
        "      x_train, x_val = np.split(x, [int(x.shape[0] * rows_split_perc)], axis=0)\n",
        "      #y_train = y[:int(x.shape[0] * rows_split_perc), :]\n",
        "      #y_val = y[int(x.shape[0] * rows_split_perc):, :]\n",
        "      y_train, y_val = np.split(y, [int(y.shape[0] * rows_split_perc)], axis=0)\n",
        "      return x_train, y_train, x_val, y_val"
      ],
      "metadata": {
        "id": "k8zsx6q7Abbb"
      },
      "execution_count": 25,
      "outputs": []
    },
    {
      "cell_type": "code",
      "source": [
        "# Saving the ID columns\n",
        "df_id_train: pd.DataFrame = df_traincup['id']\n",
        "df_id_test: pd.DataFrame = df_testcup['id']\n",
        "\n",
        "# Drop the ID columns\n",
        "df_train = df_traincup.drop(columns=['id'],axis=1).copy(deep=True)\n",
        "df_test = df_testcup.drop(columns=['id'],axis=1).copy(deep=True)\n",
        "\n",
        "# Split of columns and rows (0.8/0.2) into: TR set and Internal TS set\n",
        "x_train, y_train, x_internal_test, y_internal_test = split_data(\n",
        "    data=df_train,\n",
        "    cols_name_split=['target_x','target_y','target_z'],\n",
        "    rows_split_perc=0.8\n",
        ")\n",
        "\n",
        "# Split on columns\n",
        "x_test, y_test = split_data(data=df_test, cols_name_split=['target_x','target_y','target_z'])\n",
        "\n",
        "# Print of the shapes\n",
        "print(f\"[IDs TR SET]: \" + str(df_id_train.shape))\n",
        "print(f\"[IDs TS SET]: \" + str(df_id_test.shape))\n",
        "print(f\"[TR SET - x]: \" + str(x_train.shape))\n",
        "print(f\"[TR SET - y]: \" + str(y_train.shape))\n",
        "print(f\"[Internal TS SET - x]: \" + str(x_internal_test.shape))\n",
        "print(f\"[Internal TS SET - y]: \" + str(y_internal_test.shape))\n",
        "print(f\"[TS SET - x]: \" + str(x_test.shape))\n",
        "print(f\"[TS SET - y]: \" + str(y_test.shape))"
      ],
      "metadata": {
        "id": "l9vBZ1MGAd9c",
        "colab": {
          "base_uri": "https://localhost:8080/"
        },
        "outputId": "2504aaa7-f657-4a82-a43b-4182e15f36da"
      },
      "execution_count": 26,
      "outputs": [
        {
          "output_type": "stream",
          "name": "stdout",
          "text": [
            "[IDs TR SET]: (1000,)\n",
            "[IDs TS SET]: (900,)\n",
            "[TR SET - x]: (800, 10)\n",
            "[TR SET - y]: (800, 3)\n",
            "[Internal TS SET - x]: (200, 10)\n",
            "[Internal TS SET - y]: (200, 3)\n",
            "[TS SET - x]: (900, 10)\n",
            "[TS SET - y]: (900, 3)\n"
          ]
        }
      ]
    },
    {
      "cell_type": "code",
      "source": [],
      "metadata": {
        "id": "o2vmgcjy6MWA"
      },
      "execution_count": null,
      "outputs": []
    },
    {
      "cell_type": "code",
      "source": [
        "# Define custom loss function\n",
        "def euclidean_distance_loss(y_true, y_pred):\n",
        "    return np.sqrt(np.sum(np.square(y_pred - y_true)))\n",
        "\n",
        "# Define a custom scorer based on the custom loss function\n",
        "def MEE(y_true, y_pred):\n",
        "    return np.mean(euclidean_distance_loss(y_true, y_pred))\n",
        "\n",
        "# Use make_scorer to create a scorer suitable for RandomizedSearchCV\n",
        "scorer = make_scorer(MEE, greater_is_better=False)"
      ],
      "metadata": {
        "id": "AiPSg0AJAgsp"
      },
      "execution_count": 27,
      "outputs": []
    },
    {
      "cell_type": "code",
      "source": [
        "scaler = StandardScaler()\n",
        "scaler.fit(x_train)\n",
        "X_train = scaler.transform(x_train)\n",
        "X_internal_test = scaler.transform(x_internal_test)"
      ],
      "metadata": {
        "id": "oC2rF94RAlzb"
      },
      "execution_count": 30,
      "outputs": []
    },
    {
      "cell_type": "code",
      "source": [
        "k_values = [i for i in range (1,50)]\n",
        "scores = []\n",
        "X_train, y_train = shuffle(X_train, y_train, random_state=37)\n",
        "\n",
        "for k in k_values:\n",
        "  knn = KNeighborsRegressor(n_neighbors=k)\n",
        "  score = cross_val_score(knn, X_train, y_train, cv=5, scoring=make_scorer(MEE, greater_is_better=False))\n",
        "  scores.append(-np.mean(score))\n",
        "\n",
        "sns.lineplot (x= k_values, y= scores, marker= \"o\")\n",
        "plt.xlabel(\"k values\")\n",
        "plt.ylabel(\"MEE score\")"
      ],
      "metadata": {
        "id": "RHiP-JXpAnNn",
        "colab": {
          "base_uri": "https://localhost:8080/",
          "height": 466
        },
        "outputId": "79ee04b7-a1d5-43ea-b920-4b60178c7e27"
      },
      "execution_count": 108,
      "outputs": [
        {
          "output_type": "execute_result",
          "data": {
            "text/plain": [
              "Text(0, 0.5, 'MEE score')"
            ]
          },
          "metadata": {},
          "execution_count": 108
        },
        {
          "output_type": "display_data",
          "data": {
            "text/plain": [
              "<Figure size 640x480 with 1 Axes>"
            ],
            "image/png": "[encoded data removed]"
          },
          "metadata": {}
        }
      ]
    },
    {
      "cell_type": "markdown",
      "source": [
        "\"greater is better= False\", in scoring, suggeriche al cross_val_score che l'obbiettivo è minimizzare lo score dato da MEE\n",
        ""
      ],
      "metadata": {
        "id": "OY1O8dOkG6mS"
      }
    },
    {
      "cell_type": "code",
      "source": [
        "params = {\n",
        "    'n_neighbors': [2],\n",
        "    'algorithm': [\"kd_tree\"],\n",
        "    'leaf_size': np.arange(0,101,10),\n",
        "    'p': [2],\n",
        "    'metric':['minkowski']\n",
        "}"
      ],
      "metadata": {
        "id": "cuUZDvqeG6RF"
      },
      "execution_count": 109,
      "outputs": []
    },
    {
      "cell_type": "code",
      "source": [
        "#hyperparameter tuning with GridSearchCV\n",
        "\n",
        "knn_search = KNeighborsRegressor()\n",
        "knr_cv = GridSearchCV(estimator=knn_search, param_grid=params, scoring=make_scorer(MEE, greater_is_better=False), cv=5, verbose=4)\n",
        "knr_cv.fit(X_train, y_train)\n"
      ],
      "metadata": {
        "colab": {
          "base_uri": "https://localhost:8080/",
          "height": 1000
        },
        "id": "dzTs9oq0Pchb",
        "outputId": "02462fde-dbea-4e0b-c24d-8243de2a44b1"
      },
      "execution_count": 110,
      "outputs": [
        {
          "output_type": "stream",
          "name": "stdout",
          "text": [
            "Fitting 5 folds for each of 11 candidates, totalling 55 fits\n",
            "[CV 1/5] END algorithm=kd_tree, leaf_size=0, metric=minkowski, n_neighbors=2, p=2;, score=nan total time=   0.0s\n",
            "[CV 2/5] END algorithm=kd_tree, leaf_size=0, metric=minkowski, n_neighbors=2, p=2;, score=nan total time=   0.0s\n",
            "[CV 3/5] END algorithm=kd_tree, leaf_size=0, metric=minkowski, n_neighbors=2, p=2;, score=nan total time=   0.0s\n",
            "[CV 4/5] END algorithm=kd_tree, leaf_size=0, metric=minkowski, n_neighbors=2, p=2;, score=nan total time=   0.0s\n",
            "[CV 5/5] END algorithm=kd_tree, leaf_size=0, metric=minkowski, n_neighbors=2, p=2;, score=nan total time=   0.0s\n",
            "[CV 1/5] END algorithm=kd_tree, leaf_size=10, metric=minkowski, n_neighbors=2, p=2;, score=-24.662 total time=   0.0s\n",
            "[CV 2/5] END algorithm=kd_tree, leaf_size=10, metric=minkowski, n_neighbors=2, p=2;, score=-28.839 total time=   0.0s\n",
            "[CV 3/5] END algorithm=kd_tree, leaf_size=10, metric=minkowski, n_neighbors=2, p=2;, score=-31.462 total time=   0.0s\n",
            "[CV 4/5] END algorithm=kd_tree, leaf_size=10, metric=minkowski, n_neighbors=2, p=2;, score=-27.908 total time=   0.0s\n",
            "[CV 5/5] END algorithm=kd_tree, leaf_size=10, metric=minkowski, n_neighbors=2, p=2;, score=-29.742 total time=   0.0s\n",
            "[CV 1/5] END algorithm=kd_tree, leaf_size=20, metric=minkowski, n_neighbors=2, p=2;, score=-24.662 total time=   0.0s\n",
            "[CV 2/5] END algorithm=kd_tree, leaf_size=20, metric=minkowski, n_neighbors=2, p=2;, score=-28.839 total time=   0.0s\n",
            "[CV 3/5] END algorithm=kd_tree, leaf_size=20, metric=minkowski, n_neighbors=2, p=2;, score=-31.462 total time=   0.0s\n",
            "[CV 4/5] END algorithm=kd_tree, leaf_size=20, metric=minkowski, n_neighbors=2, p=2;, score=-27.908 total time=   0.0s\n",
            "[CV 5/5] END algorithm=kd_tree, leaf_size=20, metric=minkowski, n_neighbors=2, p=2;, score=-29.742 total time=   0.0s\n",
            "[CV 1/5] END algorithm=kd_tree, leaf_size=30, metric=minkowski, n_neighbors=2, p=2;, score=-24.662 total time=   0.0s\n",
            "[CV 2/5] END algorithm=kd_tree, leaf_size=30, metric=minkowski, n_neighbors=2, p=2;, score=-28.839 total time=   0.0s\n",
            "[CV 3/5] END algorithm=kd_tree, leaf_size=30, metric=minkowski, n_neighbors=2, p=2;, score=-31.462 total time=   0.0s\n",
            "[CV 4/5] END algorithm=kd_tree, leaf_size=30, metric=minkowski, n_neighbors=2, p=2;, score=-27.908 total time=   0.0s\n",
            "[CV 5/5] END algorithm=kd_tree, leaf_size=30, metric=minkowski, n_neighbors=2, p=2;, score=-29.742 total time=   0.0s\n",
            "[CV 1/5] END algorithm=kd_tree, leaf_size=40, metric=minkowski, n_neighbors=2, p=2;, score=-24.662 total time=   0.0s\n",
            "[CV 2/5] END algorithm=kd_tree, leaf_size=40, metric=minkowski, n_neighbors=2, p=2;, score=-28.839 total time=   0.0s\n",
            "[CV 3/5] END algorithm=kd_tree, leaf_size=40, metric=minkowski, n_neighbors=2, p=2;, score=-31.462 total time=   0.0s\n",
            "[CV 4/5] END algorithm=kd_tree, leaf_size=40, metric=minkowski, n_neighbors=2, p=2;, score=-27.908 total time=   0.0s\n",
            "[CV 5/5] END algorithm=kd_tree, leaf_size=40, metric=minkowski, n_neighbors=2, p=2;, score=-29.742 total time=   0.0s\n",
            "[CV 1/5] END algorithm=kd_tree, leaf_size=50, metric=minkowski, n_neighbors=2, p=2;, score=-24.662 total time=   0.0s\n",
            "[CV 2/5] END algorithm=kd_tree, leaf_size=50, metric=minkowski, n_neighbors=2, p=2;, score=-28.839 total time=   0.0s\n",
            "[CV 3/5] END algorithm=kd_tree, leaf_size=50, metric=minkowski, n_neighbors=2, p=2;, score=-31.462 total time=   0.0s\n",
            "[CV 4/5] END algorithm=kd_tree, leaf_size=50, metric=minkowski, n_neighbors=2, p=2;, score=-27.908 total time=   0.0s\n",
            "[CV 5/5] END algorithm=kd_tree, leaf_size=50, metric=minkowski, n_neighbors=2, p=2;, score=-29.742 total time=   0.0s\n",
            "[CV 1/5] END algorithm=kd_tree, leaf_size=60, metric=minkowski, n_neighbors=2, p=2;, score=-24.662 total time=   0.0s\n",
            "[CV 2/5] END algorithm=kd_tree, leaf_size=60, metric=minkowski, n_neighbors=2, p=2;, score=-28.839 total time=   0.0s\n",
            "[CV 3/5] END algorithm=kd_tree, leaf_size=60, metric=minkowski, n_neighbors=2, p=2;, score=-31.462 total time=   0.0s\n",
            "[CV 4/5] END algorithm=kd_tree, leaf_size=60, metric=minkowski, n_neighbors=2, p=2;, score=-27.908 total time=   0.0s\n",
            "[CV 5/5] END algorithm=kd_tree, leaf_size=60, metric=minkowski, n_neighbors=2, p=2;, score=-29.742 total time=   0.0s\n",
            "[CV 1/5] END algorithm=kd_tree, leaf_size=70, metric=minkowski, n_neighbors=2, p=2;, score=-24.662 total time=   0.0s\n",
            "[CV 2/5] END algorithm=kd_tree, leaf_size=70, metric=minkowski, n_neighbors=2, p=2;, score=-28.839 total time=   0.0s\n",
            "[CV 3/5] END algorithm=kd_tree, leaf_size=70, metric=minkowski, n_neighbors=2, p=2;, score=-31.462 total time=   0.0s\n",
            "[CV 4/5] END algorithm=kd_tree, leaf_size=70, metric=minkowski, n_neighbors=2, p=2;, score=-27.908 total time=   0.0s\n",
            "[CV 5/5] END algorithm=kd_tree, leaf_size=70, metric=minkowski, n_neighbors=2, p=2;, score=-29.742 total time=   0.0s\n",
            "[CV 1/5] END algorithm=kd_tree, leaf_size=80, metric=minkowski, n_neighbors=2, p=2;, score=-24.662 total time=   0.0s\n",
            "[CV 2/5] END algorithm=kd_tree, leaf_size=80, metric=minkowski, n_neighbors=2, p=2;, score=-28.839 total time=   0.0s\n",
            "[CV 3/5] END algorithm=kd_tree, leaf_size=80, metric=minkowski, n_neighbors=2, p=2;, score=-31.462 total time=   0.0s\n",
            "[CV 4/5] END algorithm=kd_tree, leaf_size=80, metric=minkowski, n_neighbors=2, p=2;, score=-27.908 total time=   0.0s\n",
            "[CV 5/5] END algorithm=kd_tree, leaf_size=80, metric=minkowski, n_neighbors=2, p=2;, score=-29.742 total time=   0.0s\n",
            "[CV 1/5] END algorithm=kd_tree, leaf_size=90, metric=minkowski, n_neighbors=2, p=2;, score=-24.662 total time=   0.0s\n",
            "[CV 2/5] END algorithm=kd_tree, leaf_size=90, metric=minkowski, n_neighbors=2, p=2;, score=-28.839 total time=   0.0s\n",
            "[CV 3/5] END algorithm=kd_tree, leaf_size=90, metric=minkowski, n_neighbors=2, p=2;, score=-31.462 total time=   0.0s\n",
            "[CV 4/5] END algorithm=kd_tree, leaf_size=90, metric=minkowski, n_neighbors=2, p=2;, score=-27.908 total time=   0.0s\n",
            "[CV 5/5] END algorithm=kd_tree, leaf_size=90, metric=minkowski, n_neighbors=2, p=2;, score=-29.742 total time=   0.0s\n",
            "[CV 1/5] END algorithm=kd_tree, leaf_size=100, metric=minkowski, n_neighbors=2, p=2;, score=-24.662 total time=   0.0s\n",
            "[CV 2/5] END algorithm=kd_tree, leaf_size=100, metric=minkowski, n_neighbors=2, p=2;, score=-28.839 total time=   0.0s\n",
            "[CV 3/5] END algorithm=kd_tree, leaf_size=100, metric=minkowski, n_neighbors=2, p=2;, score=-31.462 total time=   0.0s\n",
            "[CV 4/5] END algorithm=kd_tree, leaf_size=100, metric=minkowski, n_neighbors=2, p=2;, score=-27.908 total time=   0.0s\n",
            "[CV 5/5] END algorithm=kd_tree, leaf_size=100, metric=minkowski, n_neighbors=2, p=2;, score=-29.742 total time=   0.0s\n"
          ]
        },
        {
          "output_type": "stream",
          "name": "stderr",
          "text": [
            "/usr/local/lib/python3.10/dist-packages/sklearn/model_selection/_validation.py:378: FitFailedWarning: \n",
            "5 fits failed out of a total of 55.\n",
            "The score on these train-test partitions for these parameters will be set to nan.\n",
            "If these failures are not expected, you can try to debug them by setting error_score='raise'.\n",
            "\n",
            "Below are more details about the failures:\n",
            "--------------------------------------------------------------------------------\n",
            "5 fits failed with the following error:\n",
            "Traceback (most recent call last):\n",
            "  File \"/usr/local/lib/python3.10/dist-packages/sklearn/model_selection/_validation.py\", line 686, in _fit_and_score\n",
            "    estimator.fit(X_train, y_train, **fit_params)\n",
            "  File \"/usr/local/lib/python3.10/dist-packages/sklearn/neighbors/_regression.py\", line 215, in fit\n",
            "    self._validate_params()\n",
            "  File \"/usr/local/lib/python3.10/dist-packages/sklearn/base.py\", line 600, in _validate_params\n",
            "    validate_parameter_constraints(\n",
            "  File \"/usr/local/lib/python3.10/dist-packages/sklearn/utils/_param_validation.py\", line 97, in validate_parameter_constraints\n",
            "    raise InvalidParameterError(\n",
            "sklearn.utils._param_validation.InvalidParameterError: The 'leaf_size' parameter of KNeighborsRegressor must be an int in the range [1, inf). Got 0 instead.\n",
            "\n",
            "  warnings.warn(some_fits_failed_message, FitFailedWarning)\n",
            "/usr/local/lib/python3.10/dist-packages/sklearn/model_selection/_search.py:952: UserWarning: One or more of the test scores are non-finite: [         nan -28.52271514 -28.52271514 -28.52271514 -28.52271514\n",
            " -28.52271514 -28.52271514 -28.52271514 -28.52271514 -28.52271514\n",
            " -28.52271514]\n",
            "  warnings.warn(\n"
          ]
        },
        {
          "output_type": "execute_result",
          "data": {
            "text/plain": [
              "GridSearchCV(cv=5, estimator=KNeighborsRegressor(),\n",
              "             param_grid={'algorithm': ['kd_tree'],\n",
              "                         'leaf_size': array([  0,  10,  20,  30,  40,  50,  60,  70,  80,  90, 100]),\n",
              "                         'metric': ['minkowski'], 'n_neighbors': [2],\n",
              "                         'p': [2]},\n",
              "             scoring=make_scorer(MEE, greater_is_better=False), verbose=4)"
            ],
            "text/html": [
              "<style>#sk-container-id-10 {color: black;background-color: white;}#sk-container-id-10 pre{padding: 0;}#sk-container-id-10 div.sk-toggleable {background-color: white;}#sk-container-id-10 label.sk-toggleable__label {cursor: pointer;display: block;width: 100%;margin-bottom: 0;padding: 0.3em;box-sizing: border-box;text-align: center;}#sk-container-id-10 label.sk-toggleable__label-arrow:before {content: \"▸\";float: left;margin-right: 0.25em;color: #696969;}#sk-container-id-10 label.sk-toggleable__label-arrow:hover:before {color: black;}#sk-container-id-10 div.sk-estimator:hover label.sk-toggleable__label-arrow:before {color: black;}#sk-container-id-10 div.sk-toggleable__content {max-height: 0;max-width: 0;overflow: hidden;text-align: left;background-color: #f0f8ff;}#sk-container-id-10 div.sk-toggleable__content pre {margin: 0.2em;color: black;border-radius: 0.25em;background-color: #f0f8ff;}#sk-container-id-10 input.sk-toggleable__control:checked~div.sk-toggleable__content {max-height: 200px;max-width: 100%;overflow: auto;}#sk-container-id-10 input.sk-toggleable__control:checked~label.sk-toggleable__label-arrow:before {content: \"▾\";}#sk-container-id-10 div.sk-estimator input.sk-toggleable__control:checked~label.sk-toggleable__label {background-color: #d4ebff;}#sk-container-id-10 div.sk-label input.sk-toggleable__control:checked~label.sk-toggleable__label {background-color: #d4ebff;}#sk-container-id-10 input.sk-hidden--visually {border: 0;clip: rect(1px 1px 1px 1px);clip: rect(1px, 1px, 1px, 1px);height: 1px;margin: -1px;overflow: hidden;padding: 0;position: absolute;width: 1px;}#sk-container-id-10 div.sk-estimator {font-family: monospace;background-color: #f0f8ff;border: 1px dotted black;border-radius: 0.25em;box-sizing: border-box;margin-bottom: 0.5em;}#sk-container-id-10 div.sk-estimator:hover {background-color: #d4ebff;}#sk-container-id-10 div.sk-parallel-item::after {content: \"\";width: 100%;border-bottom: 1px solid gray;flex-grow: 1;}#sk-container-id-10 div.sk-label:hover label.sk-toggleable__label {background-color: #d4ebff;}#sk-container-id-10 div.sk-serial::before {content: \"\";position: absolute;border-left: 1px solid gray;box-sizing: border-box;top: 0;bottom: 0;left: 50%;z-index: 0;}#sk-container-id-10 div.sk-serial {display: flex;flex-direction: column;align-items: center;background-color: white;padding-right: 0.2em;padding-left: 0.2em;position: relative;}#sk-container-id-10 div.sk-item {position: relative;z-index: 1;}#sk-container-id-10 div.sk-parallel {display: flex;align-items: stretch;justify-content: center;background-color: white;position: relative;}#sk-container-id-10 div.sk-item::before, #sk-container-id-10 div.sk-parallel-item::before {content: \"\";position: absolute;border-left: 1px solid gray;box-sizing: border-box;top: 0;bottom: 0;left: 50%;z-index: -1;}#sk-container-id-10 div.sk-parallel-item {display: flex;flex-direction: column;z-index: 1;position: relative;background-color: white;}#sk-container-id-10 div.sk-parallel-item:first-child::after {align-self: flex-end;width: 50%;}#sk-container-id-10 div.sk-parallel-item:last-child::after {align-self: flex-start;width: 50%;}#sk-container-id-10 div.sk-parallel-item:only-child::after {width: 0;}#sk-container-id-10 div.sk-dashed-wrapped {border: 1px dashed gray;margin: 0 0.4em 0.5em 0.4em;box-sizing: border-box;padding-bottom: 0.4em;background-color: white;}#sk-container-id-10 div.sk-label label {font-family: monospace;font-weight: bold;display: inline-block;line-height: 1.2em;}#sk-container-id-10 div.sk-label-container {text-align: center;}#sk-container-id-10 div.sk-container {/* jupyter's `normalize.less` sets `[hidden] { display: none; }` but bootstrap.min.css set `[hidden] { display: none !important; }` so we also need the `!important` here to be able to override the default hidden behavior on the sphinx rendered scikit-learn.org. See: https://github.com/scikit-learn/scikit-learn/issues/21755 */display: inline-block !important;position: relative;}#sk-container-id-10 div.sk-text-repr-fallback {display: none;}</style><div id=\"sk-container-id-10\" class=\"sk-top-container\"><div class=\"sk-text-repr-fallback\"><pre>GridSearchCV(cv=5, estimator=KNeighborsRegressor(),\n",
              "             param_grid={&#x27;algorithm&#x27;: [&#x27;kd_tree&#x27;],\n",
              "                         &#x27;leaf_size&#x27;: array([  0,  10,  20,  30,  40,  50,  60,  70,  80,  90, 100]),\n",
              "                         &#x27;metric&#x27;: [&#x27;minkowski&#x27;], &#x27;n_neighbors&#x27;: [2],\n",
              "                         &#x27;p&#x27;: [2]},\n",
              "             scoring=make_scorer(MEE, greater_is_better=False), verbose=4)</pre><b>In a Jupyter environment, please rerun this cell to show the HTML representation or trust the notebook. <br />On GitHub, the HTML representation is unable to render, please try loading this page with nbviewer.org.</b></div><div class=\"sk-container\" hidden><div class=\"sk-item sk-dashed-wrapped\"><div class=\"sk-label-container\"><div class=\"sk-label sk-toggleable\"><input class=\"sk-toggleable__control sk-hidden--visually\" id=\"sk-estimator-id-28\" type=\"checkbox\" ><label for=\"sk-estimator-id-28\" class=\"sk-toggleable__label sk-toggleable__label-arrow\">GridSearchCV</label><div class=\"sk-toggleable__content\"><pre>GridSearchCV(cv=5, estimator=KNeighborsRegressor(),\n",
              "             param_grid={&#x27;algorithm&#x27;: [&#x27;kd_tree&#x27;],\n",
              "                         &#x27;leaf_size&#x27;: array([  0,  10,  20,  30,  40,  50,  60,  70,  80,  90, 100]),\n",
              "                         &#x27;metric&#x27;: [&#x27;minkowski&#x27;], &#x27;n_neighbors&#x27;: [2],\n",
              "                         &#x27;p&#x27;: [2]},\n",
              "             scoring=make_scorer(MEE, greater_is_better=False), verbose=4)</pre></div></div></div><div class=\"sk-parallel\"><div class=\"sk-parallel-item\"><div class=\"sk-item\"><div class=\"sk-label-container\"><div class=\"sk-label sk-toggleable\"><input class=\"sk-toggleable__control sk-hidden--visually\" id=\"sk-estimator-id-29\" type=\"checkbox\" ><label for=\"sk-estimator-id-29\" class=\"sk-toggleable__label sk-toggleable__label-arrow\">estimator: KNeighborsRegressor</label><div class=\"sk-toggleable__content\"><pre>KNeighborsRegressor()</pre></div></div></div><div class=\"sk-serial\"><div class=\"sk-item\"><div class=\"sk-estimator sk-toggleable\"><input class=\"sk-toggleable__control sk-hidden--visually\" id=\"sk-estimator-id-30\" type=\"checkbox\" ><label for=\"sk-estimator-id-30\" class=\"sk-toggleable__label sk-toggleable__label-arrow\">KNeighborsRegressor</label><div class=\"sk-toggleable__content\"><pre>KNeighborsRegressor()</pre></div></div></div></div></div></div></div></div></div></div>"
            ]
          },
          "metadata": {},
          "execution_count": 110
        }
      ]
    },
    {
      "cell_type": "code",
      "source": [
        "knr_cv.best_params_"
      ],
      "metadata": {
        "colab": {
          "base_uri": "https://localhost:8080/"
        },
        "id": "6BVrkttORgPN",
        "outputId": "6678ab4d-549d-4a66-ffa3-95b0836da262"
      },
      "execution_count": 111,
      "outputs": [
        {
          "output_type": "execute_result",
          "data": {
            "text/plain": [
              "{'algorithm': 'kd_tree',\n",
              " 'leaf_size': 10,\n",
              " 'metric': 'minkowski',\n",
              " 'n_neighbors': 2,\n",
              " 'p': 2}"
            ]
          },
          "metadata": {},
          "execution_count": 111
        }
      ]
    },
    {
      "cell_type": "code",
      "source": [
        "#validation\n",
        "knr_cv.best_score_"
      ],
      "metadata": {
        "colab": {
          "base_uri": "https://localhost:8080/"
        },
        "id": "Cu0jTG6VRkf3",
        "outputId": "878e6d97-29a5-4364-8f6f-72df906afde3"
      },
      "execution_count": 112,
      "outputs": [
        {
          "output_type": "execute_result",
          "data": {
            "text/plain": [
              "-28.522715140223234"
            ]
          },
          "metadata": {},
          "execution_count": 112
        }
      ]
    },
    {
      "cell_type": "code",
      "source": [
        "knr = knr_cv.best_estimator_\n",
        "train_pred_knr = knr.predict(X_train)\n",
        "print('MEE train set: ', MEE(y_train, train_pred_knr))"
      ],
      "metadata": {
        "colab": {
          "base_uri": "https://localhost:8080/"
        },
        "id": "o87PE_GvRpEh",
        "outputId": "3525717d-0c8d-4f10-b23a-d6bc7aca9065"
      },
      "execution_count": 113,
      "outputs": [
        {
          "output_type": "stream",
          "name": "stdout",
          "text": [
            "MEE train set:  31.70367361032021\n"
          ]
        }
      ]
    },
    {
      "cell_type": "code",
      "source": [
        "int_test_pred_knr = knr.predict(X_internal_test)\n",
        "print ('MEE internal test set: ', MEE(y_internal_test, int_test_pred_knr))"
      ],
      "metadata": {
        "colab": {
          "base_uri": "https://localhost:8080/"
        },
        "id": "q1SQ9eukT1NR",
        "outputId": "56710c03-3ec2-47b9-c8ff-7dcdab5a3e0f"
      },
      "execution_count": 114,
      "outputs": [
        {
          "output_type": "stream",
          "name": "stdout",
          "text": [
            "MEE internal test set:  33.29739348594146\n"
          ]
        }
      ]
    }
  ]
}